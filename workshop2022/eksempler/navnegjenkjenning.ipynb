{
 "cells": [
  {
   "cell_type": "code",
   "execution_count": 1,
   "metadata": {},
   "outputs": [],
   "source": [
    "from dhlab.module_update import update, css\n",
    "import dhlab.nbtext as nb\n",
    "from dhlab.nbtext import get_urn, make_graph, get_urn, relaterte_ord, navn, totals\n",
    "import dhlab.graph_networkx_louvain as gnl\n",
    "import dhlab.token_map as tm\n",
    "\n",
    "%matplotlib inline\n",
    "\n",
    "plot = lambda x,  lw=3, alpha= 0.7: x.plot(figsize=(15,6), lw=lw, alpha=alpha)\n"
   ]
  },
  {
   "cell_type": "code",
   "execution_count": 37,
   "metadata": {},
   "outputs": [
    {
     "data": {
      "text/plain": [
       "'2.7.1.dev2+ge1d4667'"
      ]
     },
     "execution_count": 37,
     "metadata": {},
     "output_type": "execute_result"
    }
   ],
   "source": [
    "from typing import Iterable\n",
    "import pandas as pd \n",
    "import dhlab as dh\n",
    "from dhlab import Corpus, NER, Models\n",
    "from dhlab.text.corpus import urnlist\n",
    "from datetime import datetime\n",
    "from importlib.metadata import version\n",
    "\n",
    "version(\"dhlab\")"
   ]
  },
  {
   "cell_type": "markdown",
   "metadata": {},
   "source": [
    "# Persongalleri i forfatterskap\n",
    "\n",
    "## 1. Bygg korpus\n",
    "Først bygger vi et korpus over forfatterskapet til f.eks. Sigrid Undset\n",
    "\n",
    "For å få et jevnt utvalg fra tidsperioden forfatteren har utgitt bøker i, henter vi et mindre antall fra hvert tiår og slår sammen korporaene til slutt. "
   ]
  },
  {
   "cell_type": "code",
   "execution_count": 42,
   "metadata": {},
   "outputs": [
    {
     "name": "stdout",
     "output_type": "stream",
     "text": [
      "Antall publikasjoner i søksresultatet: \n",
      "1900-1910: 3\n",
      "1910-1920: 8\n",
      "1920-1930: 10\n",
      "1930-1940: 10\n",
      "1940-1950: 10\n",
      "1950-1960: 10\n",
      "1960-1970: 10\n",
      "1970-1980: 10\n",
      "1980-1990: 10\n",
      "Totalt antall unike publikasjoner i korpuset: 81\n"
     ]
    }
   ],
   "source": [
    "author = \"Sigrid Undset\"                                                    # Velg f.eks. forfatter\n",
    "timestep = 10                                                               # intervall mellom perdiodene vi søker i \n",
    "first_publication = 1900                                                    # forsøksvis anslag av første tiår\n",
    "last_publication = 1990\n",
    "partial_limit = 10                                                          # Begrenset antall verk per tiår\n",
    "\n",
    "corpus = dh.EmptyCorpus()                                                   # Start med tomt korpus som vi kan bygge opp\n",
    "\n",
    "\n",
    "print(\"Antall publikasjoner i søksresultatet: \")\n",
    "\n",
    "for decade in range(first_publication, last_publication, timestep):\n",
    "    partial_corpus = dh.Corpus(\n",
    "        author=author, \n",
    "        from_year=decade, \n",
    "        to_year=decade + timestep,\n",
    "        limit=partial_limit\n",
    "    )\n",
    "    print(f\"{decade}-{decade+timestep}: {partial_corpus.size}\")\n",
    "    if partial_corpus.size > 0:\n",
    "        corpus.add(partial_corpus)                                      # Legg tiårets publikasjoner til korpuset bare dersom det er noen\n",
    "\n",
    "print(f\"Totalt antall unike publikasjoner i korpuset: {corpus.size}\")\n"
   ]
  },
  {
   "cell_type": "code",
   "execution_count": 43,
   "metadata": {},
   "outputs": [
    {
     "data": {
      "text/html": [
       "<div>\n",
       "<style scoped>\n",
       "    .dataframe tbody tr th:only-of-type {\n",
       "        vertical-align: middle;\n",
       "    }\n",
       "\n",
       "    .dataframe tbody tr th {\n",
       "        vertical-align: top;\n",
       "    }\n",
       "\n",
       "    .dataframe thead th {\n",
       "        text-align: right;\n",
       "    }\n",
       "</style>\n",
       "<table border=\"1\" class=\"dataframe\">\n",
       "  <thead>\n",
       "    <tr style=\"text-align: right;\">\n",
       "      <th></th>\n",
       "      <th>dhlabid</th>\n",
       "      <th>urn</th>\n",
       "      <th>title</th>\n",
       "      <th>authors</th>\n",
       "      <th>oaiid</th>\n",
       "      <th>sesamid</th>\n",
       "      <th>isbn10</th>\n",
       "      <th>city</th>\n",
       "      <th>timestamp</th>\n",
       "      <th>year</th>\n",
       "      <th>publisher</th>\n",
       "      <th>langs</th>\n",
       "      <th>subjects</th>\n",
       "      <th>ddc</th>\n",
       "      <th>genres</th>\n",
       "      <th>literaryform</th>\n",
       "      <th>doctype</th>\n",
       "    </tr>\n",
       "  </thead>\n",
       "  <tbody>\n",
       "    <tr>\n",
       "      <th>0</th>\n",
       "      <td>100577723</td>\n",
       "      <td>URN:NBN:no-nb_digibok_2008040204017</td>\n",
       "      <td>Fru Marta Oulie</td>\n",
       "      <td>Undset , Sigrid</td>\n",
       "      <td>oai:nb.bibsys.no:998901868204702202</td>\n",
       "      <td>f968e130774818bc763ff7298fb70cab</td>\n",
       "      <td></td>\n",
       "      <td>Kristiania</td>\n",
       "      <td>19070101</td>\n",
       "      <td>1907</td>\n",
       "      <td>Aschehoug</td>\n",
       "      <td>nob</td>\n",
       "      <td></td>\n",
       "      <td></td>\n",
       "      <td></td>\n",
       "      <td>Uklassifisert</td>\n",
       "      <td>digibok</td>\n",
       "    </tr>\n",
       "    <tr>\n",
       "      <th>1</th>\n",
       "      <td>100505641</td>\n",
       "      <td>URN:NBN:no-nb_digibok_2007050912002</td>\n",
       "      <td>Den lykkelige alder</td>\n",
       "      <td>Undset , Sigrid</td>\n",
       "      <td>oai:nb.bibsys.no:999612430584702202</td>\n",
       "      <td>b1068517b9d46ebb5e09ae61e0aa64ef</td>\n",
       "      <td></td>\n",
       "      <td>Kristiania</td>\n",
       "      <td>19080101</td>\n",
       "      <td>1908</td>\n",
       "      <td>Aschehoug</td>\n",
       "      <td>nob</td>\n",
       "      <td></td>\n",
       "      <td></td>\n",
       "      <td>short story</td>\n",
       "      <td>Skjønnlitteratur</td>\n",
       "      <td>digibok</td>\n",
       "    </tr>\n",
       "    <tr>\n",
       "      <th>2</th>\n",
       "      <td>100505639</td>\n",
       "      <td>URN:NBN:no-nb_digibok_2007050812003</td>\n",
       "      <td>Fortællingen om Viga-Ljot og Vigdis</td>\n",
       "      <td>Undset , Sigrid</td>\n",
       "      <td>oai:nb.bibsys.no:999110884824702202</td>\n",
       "      <td>bc57ad39def59311af88a6bdae325f47</td>\n",
       "      <td></td>\n",
       "      <td>Kristiania</td>\n",
       "      <td>19090101</td>\n",
       "      <td>1909</td>\n",
       "      <td>Aschehoug</td>\n",
       "      <td>nob</td>\n",
       "      <td></td>\n",
       "      <td></td>\n",
       "      <td></td>\n",
       "      <td>Uklassifisert</td>\n",
       "      <td>digibok</td>\n",
       "    </tr>\n",
       "    <tr>\n",
       "      <th>3</th>\n",
       "      <td>100505645</td>\n",
       "      <td>URN:NBN:no-nb_digibok_2007051012004</td>\n",
       "      <td>Fattige skjæbner</td>\n",
       "      <td>Undset , Sigrid</td>\n",
       "      <td>oai:nb.bibsys.no:998900878734702202</td>\n",
       "      <td>77f9ab062592f0a0ba2bdc8beb6d8874</td>\n",
       "      <td></td>\n",
       "      <td>Kristiania</td>\n",
       "      <td>19120101</td>\n",
       "      <td>1912</td>\n",
       "      <td>Aschehoug</td>\n",
       "      <td>nob</td>\n",
       "      <td></td>\n",
       "      <td></td>\n",
       "      <td></td>\n",
       "      <td>Uklassifisert</td>\n",
       "      <td>digibok</td>\n",
       "    </tr>\n",
       "    <tr>\n",
       "      <th>4</th>\n",
       "      <td>100004162</td>\n",
       "      <td>URN:NBN:no-nb_digibok_2007042412001</td>\n",
       "      <td>Splinten av troldspeilet</td>\n",
       "      <td>Undset , Sigrid</td>\n",
       "      <td>oai:nb.bibsys.no:990101760124702202</td>\n",
       "      <td>43552b3dbb4813dd34b810bf5494c997</td>\n",
       "      <td></td>\n",
       "      <td>Kristiania</td>\n",
       "      <td>19170101</td>\n",
       "      <td>1917</td>\n",
       "      <td>Aschehoug</td>\n",
       "      <td>nob</td>\n",
       "      <td></td>\n",
       "      <td></td>\n",
       "      <td>fiction</td>\n",
       "      <td>Skjønnlitteratur</td>\n",
       "      <td>digibok</td>\n",
       "    </tr>\n",
       "  </tbody>\n",
       "</table>\n",
       "</div>"
      ],
      "text/plain": [
       "     dhlabid                                  urn  \\\n",
       "0  100577723  URN:NBN:no-nb_digibok_2008040204017   \n",
       "1  100505641  URN:NBN:no-nb_digibok_2007050912002   \n",
       "2  100505639  URN:NBN:no-nb_digibok_2007050812003   \n",
       "3  100505645  URN:NBN:no-nb_digibok_2007051012004   \n",
       "4  100004162  URN:NBN:no-nb_digibok_2007042412001   \n",
       "\n",
       "                                 title          authors  \\\n",
       "0                      Fru Marta Oulie  Undset , Sigrid   \n",
       "1                  Den lykkelige alder  Undset , Sigrid   \n",
       "2  Fortællingen om Viga-Ljot og Vigdis  Undset , Sigrid   \n",
       "3                     Fattige skjæbner  Undset , Sigrid   \n",
       "4             Splinten av troldspeilet  Undset , Sigrid   \n",
       "\n",
       "                                 oaiid                           sesamid  \\\n",
       "0  oai:nb.bibsys.no:998901868204702202  f968e130774818bc763ff7298fb70cab   \n",
       "1  oai:nb.bibsys.no:999612430584702202  b1068517b9d46ebb5e09ae61e0aa64ef   \n",
       "2  oai:nb.bibsys.no:999110884824702202  bc57ad39def59311af88a6bdae325f47   \n",
       "3  oai:nb.bibsys.no:998900878734702202  77f9ab062592f0a0ba2bdc8beb6d8874   \n",
       "4  oai:nb.bibsys.no:990101760124702202  43552b3dbb4813dd34b810bf5494c997   \n",
       "\n",
       "  isbn10        city  timestamp  year  publisher langs subjects ddc  \\\n",
       "0         Kristiania   19070101  1907  Aschehoug   nob                \n",
       "1         Kristiania   19080101  1908  Aschehoug   nob                \n",
       "2         Kristiania   19090101  1909  Aschehoug   nob                \n",
       "3         Kristiania   19120101  1912  Aschehoug   nob                \n",
       "4         Kristiania   19170101  1917  Aschehoug   nob                \n",
       "\n",
       "        genres      literaryform  doctype  \n",
       "0                  Uklassifisert  digibok  \n",
       "1  short story  Skjønnlitteratur  digibok  \n",
       "2                  Uklassifisert  digibok  \n",
       "3                  Uklassifisert  digibok  \n",
       "4      fiction  Skjønnlitteratur  digibok  "
      ]
     },
     "execution_count": 43,
     "metadata": {},
     "output_type": "execute_result"
    }
   ],
   "source": [
    "df = corpus.corpus\n",
    "df.head()              # Kikk på de første linjene i korpuset"
   ]
  },
  {
   "cell_type": "markdown",
   "metadata": {},
   "source": [
    "## 2. Navnegjenkjenning\n",
    "\n",
    "Vi kan bruke heuristikk og regler eller statistisk trente modeller for å hente ut egennavn fra tekstene. \n",
    "Først ser vi hvilket utvalg av modeller vi har, før vi kjører en analyse per publikasjon. "
   ]
  },
  {
   "cell_type": "code",
   "execution_count": 46,
   "metadata": {
    "scrolled": true
   },
   "outputs": [
    {
     "name": "stdout",
     "output_type": "stream",
     "text": [
      "['nb_core_news_lg', 'da_core_news_lg', 'nb_core_news_sm', 'dhlab']\n"
     ]
    }
   ],
   "source": [
    "# 2. Kjør Navnegjenkjenning (eng: Named Entity Recognition / NER) på korpuset\n",
    "\n",
    "# Velg modell \n",
    "ner_models = Models()\n",
    "print(ner_models.models)   # utdata:  ['nb_core_news_lg', 'da_core_news_lg', 'nb_core_news_sm', 'dhlab']\n",
    "model=\"dhlab\"\n",
    "\n",
    "# Hent URN fra korpuset\n",
    "document_urns= urnlist(corpus) \n",
    "\n",
    "navneliste = []\n",
    "for urn in document_urns: \n",
    "    navneliste.append(NER(urn, model))         # Hent ut navn\n",
    "\n",
    "navn = pd.concat(navneliste, ignore_index=True)\n"
   ]
  },
  {
   "cell_type": "code",
   "execution_count": null,
   "metadata": {},
   "outputs": [],
   "source": [
    "navn"
   ]
  },
  {
   "cell_type": "code",
   "execution_count": null,
   "metadata": {},
   "outputs": [],
   "source": []
  }
 ],
 "metadata": {
  "hide_input": false,
  "kernelspec": {
   "display_name": "Python 3.10.2 64-bit ('dh_env')",
   "language": "python",
   "name": "python3"
  },
  "language_info": {
   "codemirror_mode": {
    "name": "ipython",
    "version": 3
   },
   "file_extension": ".py",
   "mimetype": "text/x-python",
   "name": "python",
   "nbconvert_exporter": "python",
   "pygments_lexer": "ipython3",
   "version": "3.10.2"
  },
  "varInspector": {
   "cols": {
    "lenName": 16,
    "lenType": 16,
    "lenVar": 40
   },
   "kernels_config": {
    "python": {
     "delete_cmd_postfix": "",
     "delete_cmd_prefix": "del ",
     "library": "var_list.py",
     "varRefreshCmd": "print(var_dic_list())"
    },
    "r": {
     "delete_cmd_postfix": ") ",
     "delete_cmd_prefix": "rm(",
     "library": "var_list.r",
     "varRefreshCmd": "cat(var_dic_list()) "
    }
   },
   "types_to_exclude": [
    "module",
    "function",
    "builtin_function_or_method",
    "instance",
    "_Feature"
   ],
   "window_display": false
  },
  "vscode": {
   "interpreter": {
    "hash": "7a63a4e122b0b589caa32af6db49fcd8e5361a626ec0ddee5f4e2bb1bb123ec8"
   }
  }
 },
 "nbformat": 4,
 "nbformat_minor": 4
}
