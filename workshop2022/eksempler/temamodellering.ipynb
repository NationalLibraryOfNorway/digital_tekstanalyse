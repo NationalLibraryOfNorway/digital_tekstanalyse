{
 "cells": [
  {
   "cell_type": "markdown",
   "metadata": {},
   "source": [
    "# Analyser bøker med en familie ordsekker\n",
    "Denne kan du bruke hvis du allerede har noen temaer ('topics')."
   ]
  },
  {
   "cell_type": "code",
   "execution_count": 1,
   "metadata": {},
   "outputs": [
    {
     "data": {
      "text/markdown": [
       "Updated file `/home/larsm/my_projects/dhlab_hackaton_test/mods_meta.py`"
      ],
      "text/plain": [
       "<IPython.core.display.Markdown object>"
      ]
     },
     "metadata": {},
     "output_type": "display_data"
    },
    {
     "data": {
      "text/markdown": [
       "Updated file `/home/larsm/my_projects/dhlab_hackaton_test/wordbank.py`"
      ],
      "text/plain": [
       "<IPython.core.display.Markdown object>"
      ]
     },
     "metadata": {},
     "output_type": "display_data"
    }
   ],
   "source": [
    "import json\n",
    "import sqlite3\n",
    "import pandas as pd\n",
    "\n",
    "import dhlab.nbtext as nb\n",
    "import matplotlib.pyplot as plt\n",
    "\n",
    "import dhlab.module_update as mu\n",
    "mu.update('mods_meta')\n",
    "mu.update('wordbank')\n",
    "import mods_meta as mm\n",
    "\n",
    "from dhlab.nbtokenizer import tokenize\n",
    "from wordbank import word_paradigm_many"
   ]
  },
  {
   "cell_type": "code",
   "execution_count": 2,
   "metadata": {},
   "outputs": [],
   "source": [
    "def declensions(wordbagfamily, pos = None):\n",
    "    \"\"\"Set pos to subst, verb or adj for limiting the inflectional forms\"\"\"\n",
    "    if isinstance(pos, list):\n",
    "        res = {key: list(set([w for infl_set in word_paradigm_many(wordbagfamily[key]) for w in infl_set[2] if infl_set [1] in pos])) for key in wordbagfamily}\n",
    "    elif isinstance( pos, str):\n",
    "        res = {key: list(set([w for infl_set in word_paradigm_many(wordbagfamily[key]) for w in infl_set[2] if infl_set [1] == pos])) for key in wordbagfamily}\n",
    "    else:\n",
    "        res = {key: list(set([w for infl_set in word_paradigm_many(wordbagfamily[key]) for w in infl_set[2]])) for key in wordbagfamily}\n",
    "    return res"
   ]
  },
  {
   "cell_type": "markdown",
   "metadata": {},
   "source": [
    "# Lag temafamilien "
   ]
  },
  {
   "cell_type": "markdown",
   "metadata": {},
   "source": [
    "Her legger du inn temaene dine (\"familier\" med ordsekker), først tittel du gir dem (\"label\"), deretter temaordene. "
   ]
  },
  {
   "cell_type": "code",
   "execution_count": 3,
   "metadata": {},
   "outputs": [],
   "source": [
    "topics = {\n",
    "    'vehicles_': \"kjøretøy biler bil moped motorsykkel\".split(),\n",
    "    'collective_': \"fly tog buss trikk kollektivtransport lastebiler\".split(),\n",
    "    'roads_': \"vei gate motorvei grusvei fortau\".split(),\n",
    "    'traffic_': \"trafikk rushtid trafikk-kaos påsketrafikk\".split(),\n",
    "    'soft_': \"fotgjengere gående sykkel sykling\".split(),\n",
    "}"
   ]
  },
  {
   "cell_type": "markdown",
   "metadata": {},
   "source": [
    "Fyll opp med bøyde former, for vi er interesserte i å få treff på forskjellige bøyninger av ordene også. \n",
    "\n",
    "Hvis du får feilmelding når du kjører denne, prøv simpelthen å kjøre den på nytt. "
   ]
  },
  {
   "cell_type": "code",
   "execution_count": 4,
   "metadata": {},
   "outputs": [],
   "source": [
    "fullform_topics = declensions(topics, pos=['subs','verb'])"
   ]
  },
  {
   "cell_type": "code",
   "execution_count": 13,
   "metadata": {},
   "outputs": [
    {
     "data": {
      "text/plain": [
       "{'vehicles_': ['biler',\n",
       "  'motorsykler',\n",
       "  'kjøretøyer',\n",
       "  'bilene',\n",
       "  'mopeder',\n",
       "  'bilt',\n",
       "  'bilte',\n",
       "  'motorsykkel',\n",
       "  'moped',\n",
       "  'bile',\n",
       "  'kjøretøy',\n",
       "  'bila',\n",
       "  'biles',\n",
       "  'bilen',\n",
       "  'motorsykkelen',\n",
       "  'kjøretøyene',\n",
       "  'mopedene',\n",
       "  'kjøretøya',\n",
       "  'mopeden',\n",
       "  'motorsyklene',\n",
       "  'kjøretøyet',\n",
       "  'bil'],\n",
       " 'collective_': ['trikkene',\n",
       "  'trikken',\n",
       "  'toget',\n",
       "  'busser',\n",
       "  'fly',\n",
       "  'busse',\n",
       "  'flyene',\n",
       "  'flyr',\n",
       "  'lastebil',\n",
       "  'busses',\n",
       "  'fløyet',\n",
       "  'lastebilene',\n",
       "  'togene',\n",
       "  'fløy',\n",
       "  'lastebiler',\n",
       "  'trikke',\n",
       "  'buss',\n",
       "  'flaug',\n",
       "  'bussene',\n",
       "  'bussen',\n",
       "  'flya',\n",
       "  'toga',\n",
       "  'trikka',\n",
       "  'flydd',\n",
       "  'tog',\n",
       "  'flys',\n",
       "  'trikk',\n",
       "  'flyen',\n",
       "  'trikker',\n",
       "  'flyer',\n",
       "  'bussa',\n",
       "  'toges',\n",
       "  'trikket',\n",
       "  'flyet',\n",
       "  'trikkes',\n",
       "  'toge',\n",
       "  'toger',\n",
       "  'lastebilen',\n",
       "  'busset'],\n",
       " 'roads_': ['vei',\n",
       "  'veiet',\n",
       "  'gatene',\n",
       "  'motorveiene',\n",
       "  'gaten',\n",
       "  'gater',\n",
       "  'grusveien',\n",
       "  'grusveiene',\n",
       "  'veid',\n",
       "  'grusveier',\n",
       "  'veide',\n",
       "  'veiene',\n",
       "  'veies',\n",
       "  'fortauer',\n",
       "  'fortaua',\n",
       "  'veie',\n",
       "  'gate',\n",
       "  'grusvei',\n",
       "  'fortau',\n",
       "  'fortauet',\n",
       "  'motorveier',\n",
       "  'veier',\n",
       "  'veien',\n",
       "  'motorveien',\n",
       "  'fortauene',\n",
       "  'motorvei',\n",
       "  'gata'],\n",
       " 'traffic_': ['trafikk-kaoset',\n",
       "  'trafikker',\n",
       "  'rushtiden',\n",
       "  'trafikk-kaos',\n",
       "  'trafikk-kaosene',\n",
       "  'trafikk-kaoser',\n",
       "  'trafikken',\n",
       "  'trafikkene',\n",
       "  'rushtidene',\n",
       "  'rushtid',\n",
       "  'rushtider',\n",
       "  'rushtida',\n",
       "  'trafikk',\n",
       "  'trafikk-kaosa'],\n",
       " 'soft_': ['fotgjenger',\n",
       "  'fotgjengerne',\n",
       "  'gjekk',\n",
       "  'sykkelen',\n",
       "  'fotgjengeren',\n",
       "  'går',\n",
       "  'gått',\n",
       "  'gikk',\n",
       "  'syklene',\n",
       "  'sykler',\n",
       "  'sykkel',\n",
       "  'fotgjengere',\n",
       "  'gå',\n",
       "  'fotgjengerer',\n",
       "  'gås',\n",
       "  'gåes']}"
      ]
     },
     "execution_count": 13,
     "metadata": {},
     "output_type": "execute_result"
    }
   ],
   "source": [
    "fullform_topics"
   ]
  },
  {
   "cell_type": "markdown",
   "metadata": {},
   "source": [
    "# Definer et korpus ved å sample bøker med metadata"
   ]
  },
  {
   "cell_type": "markdown",
   "metadata": {},
   "source": [
    "### Her finner du Dewey-koder: https://deweysearchno.pansoft.de/webdeweysearch/mainClasses.html"
   ]
  },
  {
   "cell_type": "code",
   "execution_count": 5,
   "metadata": {},
   "outputs": [],
   "source": [
    "korpus = {yearstart: nb.book_corpus(ddk = '839%', limit = 10000, period = (yearstart, yearstart + 10)) for yearstart in range(1960, 2010, 10)}"
   ]
  },
  {
   "cell_type": "markdown",
   "metadata": {},
   "source": [
    "# Ta en titt på korpus"
   ]
  },
  {
   "cell_type": "code",
   "execution_count": 12,
   "metadata": {},
   "outputs": [
    {
     "data": {
      "text/html": [
       "<div>\n",
       "<style scoped>\n",
       "    .dataframe tbody tr th:only-of-type {\n",
       "        vertical-align: middle;\n",
       "    }\n",
       "\n",
       "    .dataframe tbody tr th {\n",
       "        vertical-align: top;\n",
       "    }\n",
       "\n",
       "    .dataframe thead th {\n",
       "        text-align: right;\n",
       "    }\n",
       "</style>\n",
       "<table border=\"1\" class=\"dataframe\">\n",
       "  <thead>\n",
       "    <tr style=\"text-align: right;\">\n",
       "      <th></th>\n",
       "      <th>urn</th>\n",
       "      <th>author</th>\n",
       "      <th>title</th>\n",
       "      <th>year</th>\n",
       "    </tr>\n",
       "  </thead>\n",
       "  <tbody>\n",
       "    <tr>\n",
       "      <th>0</th>\n",
       "      <td>2013041805068</td>\n",
       "      <td>Sundby, Dag</td>\n",
       "      <td>Sensommer</td>\n",
       "      <td>1976</td>\n",
       "    </tr>\n",
       "    <tr>\n",
       "      <th>1</th>\n",
       "      <td>2015042008070</td>\n",
       "      <td></td>\n",
       "      <td>Ord om Aasmund Brynildsen til hans minne</td>\n",
       "      <td>1975</td>\n",
       "    </tr>\n",
       "    <tr>\n",
       "      <th>2</th>\n",
       "      <td>2014051907013</td>\n",
       "      <td>Vesaas, Tarjei</td>\n",
       "      <td>Noveller i samling</td>\n",
       "      <td>1977</td>\n",
       "    </tr>\n",
       "    <tr>\n",
       "      <th>3</th>\n",
       "      <td>2016061508016</td>\n",
       "      <td></td>\n",
       "      <td>Modern Nordic plays</td>\n",
       "      <td>1974</td>\n",
       "    </tr>\n",
       "    <tr>\n",
       "      <th>4</th>\n",
       "      <td>2013041105073</td>\n",
       "      <td>Lindgren, Barbro</td>\n",
       "      <td>Bladene brenner</td>\n",
       "      <td>1976</td>\n",
       "    </tr>\n",
       "  </tbody>\n",
       "</table>\n",
       "</div>"
      ],
      "text/plain": [
       "             urn            author                                     title  \\\n",
       "0  2013041805068       Sundby, Dag                                 Sensommer   \n",
       "1  2015042008070                    Ord om Aasmund Brynildsen til hans minne   \n",
       "2  2014051907013    Vesaas, Tarjei                        Noveller i samling   \n",
       "3  2016061508016                                         Modern Nordic plays   \n",
       "4  2013041105073  Lindgren, Barbro                           Bladene brenner   \n",
       "\n",
       "   year  \n",
       "0  1976  \n",
       "1  1975  \n",
       "2  1977  \n",
       "3  1974  \n",
       "4  1976  "
      ]
     },
     "execution_count": 12,
     "metadata": {},
     "output_type": "execute_result"
    }
   ],
   "source": [
    "korpus[1970].head(5)"
   ]
  },
  {
   "cell_type": "markdown",
   "metadata": {},
   "source": [
    "# Forberedelser for å analysere distribusjonen av temaene i korpuset"
   ]
  },
  {
   "cell_type": "code",
   "execution_count": 7,
   "metadata": {},
   "outputs": [
    {
     "name": "stderr",
     "output_type": "stream",
     "text": [
      "/home/larsm/my_projects/dhlab_hackaton_test/.venv/lib/python3.9/site-packages/dhlab/legacy/nbtext.py:34: FutureWarning: The frame.append method is deprecated and will be removed from pandas in a future version. Use pandas.concat instead.\n",
      "  res = res.append(s)\n",
      "/home/larsm/my_projects/dhlab_hackaton_test/.venv/lib/python3.9/site-packages/dhlab/legacy/nbtext.py:34: FutureWarning: The frame.append method is deprecated and will be removed from pandas in a future version. Use pandas.concat instead.\n",
      "  res = res.append(s)\n",
      "/home/larsm/my_projects/dhlab_hackaton_test/.venv/lib/python3.9/site-packages/dhlab/legacy/nbtext.py:34: FutureWarning: The frame.append method is deprecated and will be removed from pandas in a future version. Use pandas.concat instead.\n",
      "  res = res.append(s)\n",
      "/home/larsm/my_projects/dhlab_hackaton_test/.venv/lib/python3.9/site-packages/dhlab/legacy/nbtext.py:34: FutureWarning: The frame.append method is deprecated and will be removed from pandas in a future version. Use pandas.concat instead.\n",
      "  res = res.append(s)\n",
      "/home/larsm/my_projects/dhlab_hackaton_test/.venv/lib/python3.9/site-packages/dhlab/legacy/nbtext.py:34: FutureWarning: The frame.append method is deprecated and will be removed from pandas in a future version. Use pandas.concat instead.\n",
      "  res = res.append(s)\n"
     ]
    }
   ],
   "source": [
    "korpus_eval = {year: nb.wordbag_eval(fullform_topics, list(korpus[year].urn)) for year in korpus}"
   ]
  },
  {
   "cell_type": "code",
   "execution_count": 18,
   "metadata": {},
   "outputs": [
    {
     "data": {
      "text/plain": [
       "0       2013041805068\n",
       "1       2015042008070\n",
       "2       2014051907013\n",
       "3       2016061508016\n",
       "4       2013041105073\n",
       "            ...      \n",
       "5364    2015021108135\n",
       "5365    2014072206096\n",
       "5366    2016031148052\n",
       "5367    2014020306016\n",
       "5368    2013012907115\n",
       "Name: urn, Length: 5369, dtype: int64"
      ]
     },
     "execution_count": 18,
     "metadata": {},
     "output_type": "execute_result"
    }
   ],
   "source": [
    "korpus[1970].urn"
   ]
  },
  {
   "cell_type": "code",
   "execution_count": 8,
   "metadata": {},
   "outputs": [],
   "source": [
    "def plotfig(a_plot, font_size=18):\n",
    "    fsize = plt.rcParams[\"font.size\"]\n",
    "    plt.rcParams[\"font.size\"] = font_size\n",
    "    \n",
    "    ax = a_plot\n",
    "    ax.spines[\"top\"].set_visible(False)\n",
    "    ax.spines[\"right\"].set_visible(False)\n",
    "    ax.spines[\"bottom\"].set_color(\"grey\")\n",
    "    ax.spines[\"left\"].set_color(\"grey\")\n",
    "    ax.spines[\"bottom\"].set_linewidth(1)\n",
    "    ax.spines[\"left\"].set_linewidth(1)\n",
    "    \n",
    "    return"
   ]
  },
  {
   "cell_type": "code",
   "execution_count": 9,
   "metadata": {},
   "outputs": [
    {
     "ename": "OptionError",
     "evalue": "'Pattern matched multiple keys'",
     "output_type": "error",
     "traceback": [
      "\u001b[0;31m---------------------------------------------------------------------------\u001b[0m",
      "\u001b[0;31mOptionError\u001b[0m                               Traceback (most recent call last)",
      "\u001b[1;32m/home/larsm/my_projects/dhlab_hackaton_test/temamodellering.ipynb Cell 17\u001b[0m in \u001b[0;36m<cell line: 1>\u001b[0;34m()\u001b[0m\n\u001b[0;32m----> <a href='vscode-notebook-cell:/home/larsm/my_projects/dhlab_hackaton_test/temamodellering.ipynb#X22sZmlsZQ%3D%3D?line=0'>1</a>\u001b[0m pd\u001b[39m.\u001b[39;49mset_option(\u001b[39m'\u001b[39;49m\u001b[39mmax_rows\u001b[39;49m\u001b[39m'\u001b[39;49m, \u001b[39mNone\u001b[39;49;00m)\n",
      "File \u001b[0;32m~/my_projects/dhlab_hackaton_test/.venv/lib/python3.9/site-packages/pandas/_config/config.py:256\u001b[0m, in \u001b[0;36mCallableDynamicDoc.__call__\u001b[0;34m(self, *args, **kwds)\u001b[0m\n\u001b[1;32m    255\u001b[0m \u001b[39mdef\u001b[39;00m \u001b[39m__call__\u001b[39m(\u001b[39mself\u001b[39m, \u001b[39m*\u001b[39margs, \u001b[39m*\u001b[39m\u001b[39m*\u001b[39mkwds):\n\u001b[0;32m--> 256\u001b[0m     \u001b[39mreturn\u001b[39;00m \u001b[39mself\u001b[39;49m\u001b[39m.\u001b[39;49m\u001b[39m__func__\u001b[39;49m(\u001b[39m*\u001b[39;49margs, \u001b[39m*\u001b[39;49m\u001b[39m*\u001b[39;49mkwds)\n",
      "File \u001b[0;32m~/my_projects/dhlab_hackaton_test/.venv/lib/python3.9/site-packages/pandas/_config/config.py:149\u001b[0m, in \u001b[0;36m_set_option\u001b[0;34m(*args, **kwargs)\u001b[0m\n\u001b[1;32m    146\u001b[0m     \u001b[39mraise\u001b[39;00m \u001b[39mTypeError\u001b[39;00m(\u001b[39mf\u001b[39m\u001b[39m'\u001b[39m\u001b[39m_set_option() got an unexpected keyword argument \u001b[39m\u001b[39m\"\u001b[39m\u001b[39m{\u001b[39;00mkwarg\u001b[39m}\u001b[39;00m\u001b[39m\"\u001b[39m\u001b[39m'\u001b[39m)\n\u001b[1;32m    148\u001b[0m \u001b[39mfor\u001b[39;00m k, v \u001b[39min\u001b[39;00m \u001b[39mzip\u001b[39m(args[::\u001b[39m2\u001b[39m], args[\u001b[39m1\u001b[39m::\u001b[39m2\u001b[39m]):\n\u001b[0;32m--> 149\u001b[0m     key \u001b[39m=\u001b[39m _get_single_key(k, silent)\n\u001b[1;32m    151\u001b[0m     o \u001b[39m=\u001b[39m _get_registered_option(key)\n\u001b[1;32m    152\u001b[0m     \u001b[39mif\u001b[39;00m o \u001b[39mand\u001b[39;00m o\u001b[39m.\u001b[39mvalidator:\n",
      "File \u001b[0;32m~/my_projects/dhlab_hackaton_test/.venv/lib/python3.9/site-packages/pandas/_config/config.py:116\u001b[0m, in \u001b[0;36m_get_single_key\u001b[0;34m(pat, silent)\u001b[0m\n\u001b[1;32m    114\u001b[0m     \u001b[39mraise\u001b[39;00m OptionError(\u001b[39mf\u001b[39m\u001b[39m\"\u001b[39m\u001b[39mNo such keys(s): \u001b[39m\u001b[39m{\u001b[39;00m\u001b[39mrepr\u001b[39m(pat)\u001b[39m}\u001b[39;00m\u001b[39m\"\u001b[39m)\n\u001b[1;32m    115\u001b[0m \u001b[39mif\u001b[39;00m \u001b[39mlen\u001b[39m(keys) \u001b[39m>\u001b[39m \u001b[39m1\u001b[39m:\n\u001b[0;32m--> 116\u001b[0m     \u001b[39mraise\u001b[39;00m OptionError(\u001b[39m\"\u001b[39m\u001b[39mPattern matched multiple keys\u001b[39m\u001b[39m\"\u001b[39m)\n\u001b[1;32m    117\u001b[0m key \u001b[39m=\u001b[39m keys[\u001b[39m0\u001b[39m]\n\u001b[1;32m    119\u001b[0m \u001b[39mif\u001b[39;00m \u001b[39mnot\u001b[39;00m silent:\n",
      "\u001b[0;31mOptionError\u001b[0m: 'Pattern matched multiple keys'"
     ]
    }
   ],
   "source": [
    "pd.set_option('max_rows', None)"
   ]
  },
  {
   "cell_type": "code",
   "execution_count": 10,
   "metadata": {},
   "outputs": [
    {
     "data": {
      "text/html": [
       "<style type=\"text/css\">\n",
       "</style>\n",
       "<table id=\"T_026ef\">\n",
       "  <thead>\n",
       "    <tr>\n",
       "      <th class=\"blank level0\" >&nbsp;</th>\n",
       "      <th id=\"T_026ef_level0_col0\" class=\"col_heading level0 col0\" >collective_</th>\n",
       "      <th id=\"T_026ef_level0_col1\" class=\"col_heading level0 col1\" >roads_</th>\n",
       "      <th id=\"T_026ef_level0_col2\" class=\"col_heading level0 col2\" >soft_</th>\n",
       "      <th id=\"T_026ef_level0_col3\" class=\"col_heading level0 col3\" >vehicles_</th>\n",
       "      <th id=\"T_026ef_level0_col4\" class=\"col_heading level0 col4\" >traffic_</th>\n",
       "      <th id=\"T_026ef_level0_col5\" class=\"col_heading level0 col5\" >snitt</th>\n",
       "      <th id=\"T_026ef_level0_col6\" class=\"col_heading level0 col6\" >url</th>\n",
       "    </tr>\n",
       "  </thead>\n",
       "  <tbody>\n",
       "    <tr>\n",
       "      <th id=\"T_026ef_level0_row0\" class=\"row_heading level0 row0\" >2010081920002</th>\n",
       "      <td id=\"T_026ef_row0_col0\" class=\"data row0 col0\" >15.000000</td>\n",
       "      <td id=\"T_026ef_row0_col1\" class=\"data row0 col1\" >213.000000</td>\n",
       "      <td id=\"T_026ef_row0_col2\" class=\"data row0 col2\" >1893.000000</td>\n",
       "      <td id=\"T_026ef_row0_col3\" class=\"data row0 col3\" >15.000000</td>\n",
       "      <td id=\"T_026ef_row0_col4\" class=\"data row0 col4\" >2.000000</td>\n",
       "      <td id=\"T_026ef_row0_col5\" class=\"data row0 col5\" >427.600000</td>\n",
       "      <td id=\"T_026ef_row0_col6\" class=\"data row0 col6\" ><a href =https://urn.nb.no/URN:NBN:no-nb_digibok_2010081920002>2010081920002</a></td>\n",
       "    </tr>\n",
       "    <tr>\n",
       "      <th id=\"T_026ef_level0_row1\" class=\"row_heading level0 row1\" >2013040507082</th>\n",
       "      <td id=\"T_026ef_row1_col0\" class=\"data row1 col0\" >137.000000</td>\n",
       "      <td id=\"T_026ef_row1_col1\" class=\"data row1 col1\" >472.000000</td>\n",
       "      <td id=\"T_026ef_row1_col2\" class=\"data row1 col2\" >1386.000000</td>\n",
       "      <td id=\"T_026ef_row1_col3\" class=\"data row1 col3\" >87.000000</td>\n",
       "      <td id=\"T_026ef_row1_col4\" class=\"data row1 col4\" >3.000000</td>\n",
       "      <td id=\"T_026ef_row1_col5\" class=\"data row1 col5\" >417.000000</td>\n",
       "      <td id=\"T_026ef_row1_col6\" class=\"data row1 col6\" ><a href =https://urn.nb.no/URN:NBN:no-nb_digibok_2013040507082>2013040507082</a></td>\n",
       "    </tr>\n",
       "    <tr>\n",
       "      <th id=\"T_026ef_level0_row2\" class=\"row_heading level0 row2\" >2013041806043</th>\n",
       "      <td id=\"T_026ef_row2_col0\" class=\"data row2 col0\" >201.000000</td>\n",
       "      <td id=\"T_026ef_row2_col1\" class=\"data row2 col1\" >273.000000</td>\n",
       "      <td id=\"T_026ef_row2_col2\" class=\"data row2 col2\" >1232.000000</td>\n",
       "      <td id=\"T_026ef_row2_col3\" class=\"data row2 col3\" >151.000000</td>\n",
       "      <td id=\"T_026ef_row2_col4\" class=\"data row2 col4\" >5.000000</td>\n",
       "      <td id=\"T_026ef_row2_col5\" class=\"data row2 col5\" >372.400000</td>\n",
       "      <td id=\"T_026ef_row2_col6\" class=\"data row2 col6\" ><a href =https://urn.nb.no/URN:NBN:no-nb_digibok_2013041806043>2013041806043</a></td>\n",
       "    </tr>\n",
       "    <tr>\n",
       "      <th id=\"T_026ef_level0_row3\" class=\"row_heading level0 row3\" >2014030506077</th>\n",
       "      <td id=\"T_026ef_row3_col0\" class=\"data row3 col0\" >39.000000</td>\n",
       "      <td id=\"T_026ef_row3_col1\" class=\"data row3 col1\" >294.000000</td>\n",
       "      <td id=\"T_026ef_row3_col2\" class=\"data row3 col2\" >993.000000</td>\n",
       "      <td id=\"T_026ef_row3_col3\" class=\"data row3 col3\" >43.000000</td>\n",
       "      <td id=\"T_026ef_row3_col4\" class=\"data row3 col4\" >14.000000</td>\n",
       "      <td id=\"T_026ef_row3_col5\" class=\"data row3 col5\" >276.600000</td>\n",
       "      <td id=\"T_026ef_row3_col6\" class=\"data row3 col6\" ><a href =https://urn.nb.no/URN:NBN:no-nb_digibok_2014030506077>2014030506077</a></td>\n",
       "    </tr>\n",
       "    <tr>\n",
       "      <th id=\"T_026ef_level0_row4\" class=\"row_heading level0 row4\" >2012111406225</th>\n",
       "      <td id=\"T_026ef_row4_col0\" class=\"data row4 col0\" >44.000000</td>\n",
       "      <td id=\"T_026ef_row4_col1\" class=\"data row4 col1\" >266.000000</td>\n",
       "      <td id=\"T_026ef_row4_col2\" class=\"data row4 col2\" >990.000000</td>\n",
       "      <td id=\"T_026ef_row4_col3\" class=\"data row4 col3\" >59.000000</td>\n",
       "      <td id=\"T_026ef_row4_col4\" class=\"data row4 col4\" >1.000000</td>\n",
       "      <td id=\"T_026ef_row4_col5\" class=\"data row4 col5\" >272.000000</td>\n",
       "      <td id=\"T_026ef_row4_col6\" class=\"data row4 col6\" ><a href =https://urn.nb.no/URN:NBN:no-nb_digibok_2012111406225>2012111406225</a></td>\n",
       "    </tr>\n",
       "    <tr>\n",
       "      <th id=\"T_026ef_level0_row5\" class=\"row_heading level0 row5\" >2013102407127</th>\n",
       "      <td id=\"T_026ef_row5_col0\" class=\"data row5 col0\" >19.000000</td>\n",
       "      <td id=\"T_026ef_row5_col1\" class=\"data row5 col1\" >13.000000</td>\n",
       "      <td id=\"T_026ef_row5_col2\" class=\"data row5 col2\" >982.000000</td>\n",
       "      <td id=\"T_026ef_row5_col3\" class=\"data row5 col3\" >0.000000</td>\n",
       "      <td id=\"T_026ef_row5_col4\" class=\"data row5 col4\" >0.000000</td>\n",
       "      <td id=\"T_026ef_row5_col5\" class=\"data row5 col5\" >202.800000</td>\n",
       "      <td id=\"T_026ef_row5_col6\" class=\"data row5 col6\" ><a href =https://urn.nb.no/URN:NBN:no-nb_digibok_2013102407127>2013102407127</a></td>\n",
       "    </tr>\n",
       "    <tr>\n",
       "      <th id=\"T_026ef_level0_row6\" class=\"row_heading level0 row6\" >2012022908046</th>\n",
       "      <td id=\"T_026ef_row6_col0\" class=\"data row6 col0\" >48.000000</td>\n",
       "      <td id=\"T_026ef_row6_col1\" class=\"data row6 col1\" >215.000000</td>\n",
       "      <td id=\"T_026ef_row6_col2\" class=\"data row6 col2\" >963.000000</td>\n",
       "      <td id=\"T_026ef_row6_col3\" class=\"data row6 col3\" >110.000000</td>\n",
       "      <td id=\"T_026ef_row6_col4\" class=\"data row6 col4\" >2.000000</td>\n",
       "      <td id=\"T_026ef_row6_col5\" class=\"data row6 col5\" >267.600000</td>\n",
       "      <td id=\"T_026ef_row6_col6\" class=\"data row6 col6\" ><a href =https://urn.nb.no/URN:NBN:no-nb_digibok_2012022908046>2012022908046</a></td>\n",
       "    </tr>\n",
       "    <tr>\n",
       "      <th id=\"T_026ef_level0_row7\" class=\"row_heading level0 row7\" >2013082605099</th>\n",
       "      <td id=\"T_026ef_row7_col0\" class=\"data row7 col0\" >18.000000</td>\n",
       "      <td id=\"T_026ef_row7_col1\" class=\"data row7 col1\" >190.000000</td>\n",
       "      <td id=\"T_026ef_row7_col2\" class=\"data row7 col2\" >960.000000</td>\n",
       "      <td id=\"T_026ef_row7_col3\" class=\"data row7 col3\" >3.000000</td>\n",
       "      <td id=\"T_026ef_row7_col4\" class=\"data row7 col4\" >0.000000</td>\n",
       "      <td id=\"T_026ef_row7_col5\" class=\"data row7 col5\" >234.200000</td>\n",
       "      <td id=\"T_026ef_row7_col6\" class=\"data row7 col6\" ><a href =https://urn.nb.no/URN:NBN:no-nb_digibok_2013082605099>2013082605099</a></td>\n",
       "    </tr>\n",
       "    <tr>\n",
       "      <th id=\"T_026ef_level0_row8\" class=\"row_heading level0 row8\" >2012092108115</th>\n",
       "      <td id=\"T_026ef_row8_col0\" class=\"data row8 col0\" >10.000000</td>\n",
       "      <td id=\"T_026ef_row8_col1\" class=\"data row8 col1\" >199.000000</td>\n",
       "      <td id=\"T_026ef_row8_col2\" class=\"data row8 col2\" >948.000000</td>\n",
       "      <td id=\"T_026ef_row8_col3\" class=\"data row8 col3\" >15.000000</td>\n",
       "      <td id=\"T_026ef_row8_col4\" class=\"data row8 col4\" >0.000000</td>\n",
       "      <td id=\"T_026ef_row8_col5\" class=\"data row8 col5\" >234.400000</td>\n",
       "      <td id=\"T_026ef_row8_col6\" class=\"data row8 col6\" ><a href =https://urn.nb.no/URN:NBN:no-nb_digibok_2012092108115>2012092108115</a></td>\n",
       "    </tr>\n",
       "    <tr>\n",
       "      <th id=\"T_026ef_level0_row9\" class=\"row_heading level0 row9\" >2016091648060</th>\n",
       "      <td id=\"T_026ef_row9_col0\" class=\"data row9 col0\" >47.000000</td>\n",
       "      <td id=\"T_026ef_row9_col1\" class=\"data row9 col1\" >139.000000</td>\n",
       "      <td id=\"T_026ef_row9_col2\" class=\"data row9 col2\" >917.000000</td>\n",
       "      <td id=\"T_026ef_row9_col3\" class=\"data row9 col3\" >13.000000</td>\n",
       "      <td id=\"T_026ef_row9_col4\" class=\"data row9 col4\" >3.000000</td>\n",
       "      <td id=\"T_026ef_row9_col5\" class=\"data row9 col5\" >223.800000</td>\n",
       "      <td id=\"T_026ef_row9_col6\" class=\"data row9 col6\" ><a href =https://urn.nb.no/URN:NBN:no-nb_digibok_2016091648060>2016091648060</a></td>\n",
       "    </tr>\n",
       "    <tr>\n",
       "      <th id=\"T_026ef_level0_row10\" class=\"row_heading level0 row10\" >2013093038093</th>\n",
       "      <td id=\"T_026ef_row10_col0\" class=\"data row10 col0\" >39.000000</td>\n",
       "      <td id=\"T_026ef_row10_col1\" class=\"data row10 col1\" >170.000000</td>\n",
       "      <td id=\"T_026ef_row10_col2\" class=\"data row10 col2\" >901.000000</td>\n",
       "      <td id=\"T_026ef_row10_col3\" class=\"data row10 col3\" >21.000000</td>\n",
       "      <td id=\"T_026ef_row10_col4\" class=\"data row10 col4\" >3.000000</td>\n",
       "      <td id=\"T_026ef_row10_col5\" class=\"data row10 col5\" >226.800000</td>\n",
       "      <td id=\"T_026ef_row10_col6\" class=\"data row10 col6\" ><a href =https://urn.nb.no/URN:NBN:no-nb_digibok_2013093038093>2013093038093</a></td>\n",
       "    </tr>\n",
       "    <tr>\n",
       "      <th id=\"T_026ef_level0_row11\" class=\"row_heading level0 row11\" >2013041807189</th>\n",
       "      <td id=\"T_026ef_row11_col0\" class=\"data row11 col0\" >120.000000</td>\n",
       "      <td id=\"T_026ef_row11_col1\" class=\"data row11 col1\" >226.000000</td>\n",
       "      <td id=\"T_026ef_row11_col2\" class=\"data row11 col2\" >893.000000</td>\n",
       "      <td id=\"T_026ef_row11_col3\" class=\"data row11 col3\" >2.000000</td>\n",
       "      <td id=\"T_026ef_row11_col4\" class=\"data row11 col4\" >1.000000</td>\n",
       "      <td id=\"T_026ef_row11_col5\" class=\"data row11 col5\" >248.400000</td>\n",
       "      <td id=\"T_026ef_row11_col6\" class=\"data row11 col6\" ><a href =https://urn.nb.no/URN:NBN:no-nb_digibok_2013041807189>2013041807189</a></td>\n",
       "    </tr>\n",
       "    <tr>\n",
       "      <th id=\"T_026ef_level0_row12\" class=\"row_heading level0 row12\" >2012012308043</th>\n",
       "      <td id=\"T_026ef_row12_col0\" class=\"data row12 col0\" >128.000000</td>\n",
       "      <td id=\"T_026ef_row12_col1\" class=\"data row12 col1\" >208.000000</td>\n",
       "      <td id=\"T_026ef_row12_col2\" class=\"data row12 col2\" >891.000000</td>\n",
       "      <td id=\"T_026ef_row12_col3\" class=\"data row12 col3\" >89.000000</td>\n",
       "      <td id=\"T_026ef_row12_col4\" class=\"data row12 col4\" >7.000000</td>\n",
       "      <td id=\"T_026ef_row12_col5\" class=\"data row12 col5\" >264.600000</td>\n",
       "      <td id=\"T_026ef_row12_col6\" class=\"data row12 col6\" ><a href =https://urn.nb.no/URN:NBN:no-nb_digibok_2012012308043>2012012308043</a></td>\n",
       "    </tr>\n",
       "    <tr>\n",
       "      <th id=\"T_026ef_level0_row13\" class=\"row_heading level0 row13\" >2012102208048</th>\n",
       "      <td id=\"T_026ef_row13_col0\" class=\"data row13 col0\" >12.000000</td>\n",
       "      <td id=\"T_026ef_row13_col1\" class=\"data row13 col1\" >203.000000</td>\n",
       "      <td id=\"T_026ef_row13_col2\" class=\"data row13 col2\" >879.000000</td>\n",
       "      <td id=\"T_026ef_row13_col3\" class=\"data row13 col3\" >4.000000</td>\n",
       "      <td id=\"T_026ef_row13_col4\" class=\"data row13 col4\" >0.000000</td>\n",
       "      <td id=\"T_026ef_row13_col5\" class=\"data row13 col5\" >219.600000</td>\n",
       "      <td id=\"T_026ef_row13_col6\" class=\"data row13 col6\" ><a href =https://urn.nb.no/URN:NBN:no-nb_digibok_2012102208048>2012102208048</a></td>\n",
       "    </tr>\n",
       "    <tr>\n",
       "      <th id=\"T_026ef_level0_row14\" class=\"row_heading level0 row14\" >2011050508081</th>\n",
       "      <td id=\"T_026ef_row14_col0\" class=\"data row14 col0\" >14.000000</td>\n",
       "      <td id=\"T_026ef_row14_col1\" class=\"data row14 col1\" >14.000000</td>\n",
       "      <td id=\"T_026ef_row14_col2\" class=\"data row14 col2\" >873.000000</td>\n",
       "      <td id=\"T_026ef_row14_col3\" class=\"data row14 col3\" >0.000000</td>\n",
       "      <td id=\"T_026ef_row14_col4\" class=\"data row14 col4\" >0.000000</td>\n",
       "      <td id=\"T_026ef_row14_col5\" class=\"data row14 col5\" >180.200000</td>\n",
       "      <td id=\"T_026ef_row14_col6\" class=\"data row14 col6\" ><a href =https://urn.nb.no/URN:NBN:no-nb_digibok_2011050508081>2011050508081</a></td>\n",
       "    </tr>\n",
       "    <tr>\n",
       "      <th id=\"T_026ef_level0_row15\" class=\"row_heading level0 row15\" >2014062307003</th>\n",
       "      <td id=\"T_026ef_row15_col0\" class=\"data row15 col0\" >8.000000</td>\n",
       "      <td id=\"T_026ef_row15_col1\" class=\"data row15 col1\" >152.000000</td>\n",
       "      <td id=\"T_026ef_row15_col2\" class=\"data row15 col2\" >855.000000</td>\n",
       "      <td id=\"T_026ef_row15_col3\" class=\"data row15 col3\" >2.000000</td>\n",
       "      <td id=\"T_026ef_row15_col4\" class=\"data row15 col4\" >0.000000</td>\n",
       "      <td id=\"T_026ef_row15_col5\" class=\"data row15 col5\" >203.400000</td>\n",
       "      <td id=\"T_026ef_row15_col6\" class=\"data row15 col6\" ><a href =https://urn.nb.no/URN:NBN:no-nb_digibok_2014062307003>2014062307003</a></td>\n",
       "    </tr>\n",
       "    <tr>\n",
       "      <th id=\"T_026ef_level0_row16\" class=\"row_heading level0 row16\" >2014010708304</th>\n",
       "      <td id=\"T_026ef_row16_col0\" class=\"data row16 col0\" >7.000000</td>\n",
       "      <td id=\"T_026ef_row16_col1\" class=\"data row16 col1\" >137.000000</td>\n",
       "      <td id=\"T_026ef_row16_col2\" class=\"data row16 col2\" >852.000000</td>\n",
       "      <td id=\"T_026ef_row16_col3\" class=\"data row16 col3\" >4.000000</td>\n",
       "      <td id=\"T_026ef_row16_col4\" class=\"data row16 col4\" >0.000000</td>\n",
       "      <td id=\"T_026ef_row16_col5\" class=\"data row16 col5\" >200.000000</td>\n",
       "      <td id=\"T_026ef_row16_col6\" class=\"data row16 col6\" ><a href =https://urn.nb.no/URN:NBN:no-nb_digibok_2014010708304>2014010708304</a></td>\n",
       "    </tr>\n",
       "    <tr>\n",
       "      <th id=\"T_026ef_level0_row17\" class=\"row_heading level0 row17\" >2014062307064</th>\n",
       "      <td id=\"T_026ef_row17_col0\" class=\"data row17 col0\" >45.000000</td>\n",
       "      <td id=\"T_026ef_row17_col1\" class=\"data row17 col1\" >185.000000</td>\n",
       "      <td id=\"T_026ef_row17_col2\" class=\"data row17 col2\" >836.000000</td>\n",
       "      <td id=\"T_026ef_row17_col3\" class=\"data row17 col3\" >58.000000</td>\n",
       "      <td id=\"T_026ef_row17_col4\" class=\"data row17 col4\" >2.000000</td>\n",
       "      <td id=\"T_026ef_row17_col5\" class=\"data row17 col5\" >225.200000</td>\n",
       "      <td id=\"T_026ef_row17_col6\" class=\"data row17 col6\" ><a href =https://urn.nb.no/URN:NBN:no-nb_digibok_2014062307064>2014062307064</a></td>\n",
       "    </tr>\n",
       "    <tr>\n",
       "      <th id=\"T_026ef_level0_row18\" class=\"row_heading level0 row18\" >2011012105048</th>\n",
       "      <td id=\"T_026ef_row18_col0\" class=\"data row18 col0\" >45.000000</td>\n",
       "      <td id=\"T_026ef_row18_col1\" class=\"data row18 col1\" >133.000000</td>\n",
       "      <td id=\"T_026ef_row18_col2\" class=\"data row18 col2\" >818.000000</td>\n",
       "      <td id=\"T_026ef_row18_col3\" class=\"data row18 col3\" >103.000000</td>\n",
       "      <td id=\"T_026ef_row18_col4\" class=\"data row18 col4\" >2.000000</td>\n",
       "      <td id=\"T_026ef_row18_col5\" class=\"data row18 col5\" >220.200000</td>\n",
       "      <td id=\"T_026ef_row18_col6\" class=\"data row18 col6\" ><a href =https://urn.nb.no/URN:NBN:no-nb_digibok_2011012105048>2011012105048</a></td>\n",
       "    </tr>\n",
       "    <tr>\n",
       "      <th id=\"T_026ef_level0_row19\" class=\"row_heading level0 row19\" >2011060308019</th>\n",
       "      <td id=\"T_026ef_row19_col0\" class=\"data row19 col0\" >12.000000</td>\n",
       "      <td id=\"T_026ef_row19_col1\" class=\"data row19 col1\" >14.000000</td>\n",
       "      <td id=\"T_026ef_row19_col2\" class=\"data row19 col2\" >808.000000</td>\n",
       "      <td id=\"T_026ef_row19_col3\" class=\"data row19 col3\" >0.000000</td>\n",
       "      <td id=\"T_026ef_row19_col4\" class=\"data row19 col4\" >0.000000</td>\n",
       "      <td id=\"T_026ef_row19_col5\" class=\"data row19 col5\" >166.800000</td>\n",
       "      <td id=\"T_026ef_row19_col6\" class=\"data row19 col6\" ><a href =https://urn.nb.no/URN:NBN:no-nb_digibok_2011060308019>2011060308019</a></td>\n",
       "    </tr>\n",
       "  </tbody>\n",
       "</table>\n"
      ],
      "text/plain": [
       "<pandas.io.formats.style.Styler at 0x7fa22d8f4fd0>"
      ]
     },
     "execution_count": 10,
     "metadata": {},
     "output_type": "execute_result"
    }
   ],
   "source": [
    "df = nb.frame_sort(korpus_eval[1970],'soft_').head(20)\n",
    "prefix = 'https://urn.nb.no/URN:NBN:no-nb_digibok_'\n",
    "df['url'] = '<a href ='+ prefix + df.index + '>' + df.index + '</a>'\n",
    "df.style"
   ]
  },
  {
   "cell_type": "markdown",
   "metadata": {},
   "source": [
    "# Visualiser fordelingen tiår for tiår"
   ]
  },
  {
   "cell_type": "code",
   "execution_count": 11,
   "metadata": {},
   "outputs": [
    {
     "data": {
      "image/png": "[encoded data removed]",
      "text/plain": [
       "<Figure size 1296x576 with 5 Axes>"
      ]
     },
     "metadata": {
      "needs_background": "light"
     },
     "output_type": "display_data"
    }
   ],
   "source": [
    "for i,y in enumerate(korpus_eval):\n",
    "    num = 321 + i\n",
    "    plt.subplot(num)\n",
    "    plotfig(korpus_eval[y].mean()[list(topics.keys())].sort_values(ascending=False).plot(kind='bar', rot=30, figsize=(18,8), title=str(y)), font_size = 20) \n",
    "plt.subplots_adjust(top=1.90, bottom=0.08, left=0.10, right=0.95, hspace=0.75, wspace=0.35)"
   ]
  },
  {
   "cell_type": "code",
   "execution_count": null,
   "metadata": {},
   "outputs": [],
   "source": []
  }
 ],
 "metadata": {
  "kernelspec": {
   "display_name": "Python 3.9.7 ('.venv': venv)",
   "language": "python",
   "name": "python3"
  },
  "language_info": {
   "codemirror_mode": {
    "name": "ipython",
    "version": 3
   },
   "file_extension": ".py",
   "mimetype": "text/x-python",
   "name": "python",
   "nbconvert_exporter": "python",
   "pygments_lexer": "ipython3",
   "version": "3.9.7"
  },
  "vscode": {
   "interpreter": {
    "hash": "c1362e79ee5d8e830211a5b818ec5112ed04d75c98a0118446091e2afe40a0f0"
   }
  }
 },
 "nbformat": 4,
 "nbformat_minor": 4
}
