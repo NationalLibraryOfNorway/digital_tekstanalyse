{
 "cells": [
  {
   "cell_type": "code",
   "execution_count": 1,
   "metadata": {},
   "outputs": [],
   "source": [
    "import dhlab"
   ]
  },
  {
   "cell_type": "markdown",
   "metadata": {},
   "source": [
    "# Hackathon\n",
    "\n",
    "DHLAB intern workshop 25.august 2022\n",
    "\n",
    "---------------------------------------\n",
    "*Sluttoppgave:* Bruk pythonpakken `dhlab`ens kjernefunksjoner på et utvalgt case, til å definere og analysere et korpus fra Nasjonalbibliotekets digitale samling. Vis fremgangsmåten i en jupyter notebook. \n"
   ]
  },
  {
   "cell_type": "markdown",
   "metadata": {},
   "source": [
    "## Deloppgaver\n",
    "\n",
    "1. [Bygg korpus](#bygg-korpus)\n",
    "2. [Frekvensanalyse](#frekvensanalyse)\n",
    "3. [Navnegjenkjenning](#navnegjenkjenning)\n",
    "4. [Tema-modellering](#tema-modellering)\n",
    "5. [Ordgrupper](#ordgrupper)\n",
    "\n",
    "\n",
    "Hver oppgave har to koblinger til [dokumentasjonssidene](https://dhlab.readthedocs.io/en/latest/index.html) til `dhlaben`: \n",
    "* [Gammel tutorial](https://dhlab.readthedocs.io/en/latest/docs_notebooks.html): Jupyter notebooks med eksempler på fremgangsmåter, med forbehold om at funksjoner har endret navn og parametere siden de ble skrevet. OBS! Ikke alle kodeblokkene fra disse notebookene fungerer lenger. \n",
    "* [Kodedokumentasjon](https://dhlab.readthedocs.io/en/latest/package_summary.html): Oversikt over moduler og deres funksjoner, klasser og metoder som er relevante for oppgavene. Dokumentasjonen speiler den nyeste versjonen av kodebasen, med riktige funksjonsnavn og parameterlister.\n",
    "\n",
    "\n",
    "---\n"
   ]
  },
  {
   "cell_type": "markdown",
   "metadata": {},
   "source": [
    "\n",
    "1\n",
    "## Bygg korpus\n",
    "\n",
    "Et korpus kan være et utvalg bøker, eller et utvalg aviser.\n",
    "Avgrensningen kan være metadata eller innhold i selve teksten: \n",
    "- Type dokument\n",
    "- Årsperiode\n",
    "- Tittel: OBS! Titler på aviser er normaliserte. Bruk små bokstaver, ingen mellomrom, Æ=AE, Ø=O, Å=AA. \n",
    "- Språk\n",
    "- Stikkord\n",
    "- Fulltekst\n",
    "- Forfatter\n",
    "\n",
    "### Oppgave \n",
    "Bygg et korpus med `dhlab.Corpus`-klassen og de gitte parameterne over. \n",
    "\n",
    "Forslag til korpusdefinisjon: \n",
    "- Partipresse: Se listen i eksempel-modulen. \n",
    "- Krimforfattere: Jørn Lier Horst, Jo Nesbø, Anne Holt, Unni Lindell \n",
    "- Egendefinert korpus \n",
    "\n",
    "\n",
    "\n",
    "Referanser:\n",
    "* [1_Bygg_korpus]( https://dhlab.readthedocs.io/en/latest/notebooks/1_Bygg_korpus.html)  \n",
    "* [`dhlab.text.corpus`](https://dhlab.readthedocs.io/en/latest/generated/text.corpus.html)\n",
    "\n"
   ]
  },
  {
   "cell_type": "code",
   "execution_count": 2,
   "metadata": {},
   "outputs": [
    {
     "ename": "JSONDecodeError",
     "evalue": "Expecting value: line 1 column 1 (char 0)",
     "output_type": "error",
     "traceback": [
      "\u001b[0;31m---------------------------------------------------------------------------\u001b[0m",
      "\u001b[0;31mJSONDecodeError\u001b[0m                           Traceback (most recent call last)",
      "File \u001b[0;32m~/.pyenv/versions/3.10.2/envs/dh_env/lib/python3.10/site-packages/requests/models.py:971\u001b[0m, in \u001b[0;36mResponse.json\u001b[0;34m(self, **kwargs)\u001b[0m\n\u001b[1;32m    970\u001b[0m \u001b[39mtry\u001b[39;00m:\n\u001b[0;32m--> 971\u001b[0m     \u001b[39mreturn\u001b[39;00m complexjson\u001b[39m.\u001b[39;49mloads(\u001b[39mself\u001b[39;49m\u001b[39m.\u001b[39;49mtext, \u001b[39m*\u001b[39;49m\u001b[39m*\u001b[39;49mkwargs)\n\u001b[1;32m    972\u001b[0m \u001b[39mexcept\u001b[39;00m JSONDecodeError \u001b[39mas\u001b[39;00m e:\n\u001b[1;32m    973\u001b[0m     \u001b[39m# Catch JSON-related errors and raise as requests.JSONDecodeError\u001b[39;00m\n\u001b[1;32m    974\u001b[0m     \u001b[39m# This aliases json.JSONDecodeError and simplejson.JSONDecodeError\u001b[39;00m\n",
      "File \u001b[0;32m~/.pyenv/versions/3.10.2/lib/python3.10/json/__init__.py:346\u001b[0m, in \u001b[0;36mloads\u001b[0;34m(s, cls, object_hook, parse_float, parse_int, parse_constant, object_pairs_hook, **kw)\u001b[0m\n\u001b[1;32m    343\u001b[0m \u001b[39mif\u001b[39;00m (\u001b[39mcls\u001b[39m \u001b[39mis\u001b[39;00m \u001b[39mNone\u001b[39;00m \u001b[39mand\u001b[39;00m object_hook \u001b[39mis\u001b[39;00m \u001b[39mNone\u001b[39;00m \u001b[39mand\u001b[39;00m\n\u001b[1;32m    344\u001b[0m         parse_int \u001b[39mis\u001b[39;00m \u001b[39mNone\u001b[39;00m \u001b[39mand\u001b[39;00m parse_float \u001b[39mis\u001b[39;00m \u001b[39mNone\u001b[39;00m \u001b[39mand\u001b[39;00m\n\u001b[1;32m    345\u001b[0m         parse_constant \u001b[39mis\u001b[39;00m \u001b[39mNone\u001b[39;00m \u001b[39mand\u001b[39;00m object_pairs_hook \u001b[39mis\u001b[39;00m \u001b[39mNone\u001b[39;00m \u001b[39mand\u001b[39;00m \u001b[39mnot\u001b[39;00m kw):\n\u001b[0;32m--> 346\u001b[0m     \u001b[39mreturn\u001b[39;00m _default_decoder\u001b[39m.\u001b[39;49mdecode(s)\n\u001b[1;32m    347\u001b[0m \u001b[39mif\u001b[39;00m \u001b[39mcls\u001b[39m \u001b[39mis\u001b[39;00m \u001b[39mNone\u001b[39;00m:\n",
      "File \u001b[0;32m~/.pyenv/versions/3.10.2/lib/python3.10/json/decoder.py:337\u001b[0m, in \u001b[0;36mJSONDecoder.decode\u001b[0;34m(self, s, _w)\u001b[0m\n\u001b[1;32m    333\u001b[0m \u001b[39m\"\"\"Return the Python representation of ``s`` (a ``str`` instance\u001b[39;00m\n\u001b[1;32m    334\u001b[0m \u001b[39mcontaining a JSON document).\u001b[39;00m\n\u001b[1;32m    335\u001b[0m \n\u001b[1;32m    336\u001b[0m \u001b[39m\"\"\"\u001b[39;00m\n\u001b[0;32m--> 337\u001b[0m obj, end \u001b[39m=\u001b[39m \u001b[39mself\u001b[39;49m\u001b[39m.\u001b[39;49mraw_decode(s, idx\u001b[39m=\u001b[39;49m_w(s, \u001b[39m0\u001b[39;49m)\u001b[39m.\u001b[39;49mend())\n\u001b[1;32m    338\u001b[0m end \u001b[39m=\u001b[39m _w(s, end)\u001b[39m.\u001b[39mend()\n",
      "File \u001b[0;32m~/.pyenv/versions/3.10.2/lib/python3.10/json/decoder.py:355\u001b[0m, in \u001b[0;36mJSONDecoder.raw_decode\u001b[0;34m(self, s, idx)\u001b[0m\n\u001b[1;32m    354\u001b[0m \u001b[39mexcept\u001b[39;00m \u001b[39mStopIteration\u001b[39;00m \u001b[39mas\u001b[39;00m err:\n\u001b[0;32m--> 355\u001b[0m     \u001b[39mraise\u001b[39;00m JSONDecodeError(\u001b[39m\"\u001b[39m\u001b[39mExpecting value\u001b[39m\u001b[39m\"\u001b[39m, s, err\u001b[39m.\u001b[39mvalue) \u001b[39mfrom\u001b[39;00m \u001b[39mNone\u001b[39m\n\u001b[1;32m    356\u001b[0m \u001b[39mreturn\u001b[39;00m obj, end\n",
      "\u001b[0;31mJSONDecodeError\u001b[0m: Expecting value: line 1 column 1 (char 0)",
      "\nDuring handling of the above exception, another exception occurred:\n",
      "\u001b[0;31mJSONDecodeError\u001b[0m                           Traceback (most recent call last)",
      "\u001b[1;32m/home/ingeridd/Prosjekter/digital_humaniora/digital_tekstanalyse/workshop2022/DHLAB_deloppgaver.ipynb Cell 5\u001b[0m in \u001b[0;36m<cell line: 3>\u001b[0;34m()\u001b[0m\n\u001b[1;32m      <a href='vscode-notebook-cell:/home/ingeridd/Prosjekter/digital_humaniora/digital_tekstanalyse/workshop2022/DHLAB_deloppgaver.ipynb#W4sZmlsZQ%3D%3D?line=0'>1</a>\u001b[0m \u001b[39mfrom\u001b[39;00m \u001b[39mdhlab\u001b[39;00m\u001b[39m.\u001b[39;00m\u001b[39mtext\u001b[39;00m \u001b[39mimport\u001b[39;00m Corpus\n\u001b[0;32m----> <a href='vscode-notebook-cell:/home/ingeridd/Prosjekter/digital_humaniora/digital_tekstanalyse/workshop2022/DHLAB_deloppgaver.ipynb#W4sZmlsZQ%3D%3D?line=2'>3</a>\u001b[0m corpus \u001b[39m=\u001b[39m Corpus()\n",
      "File \u001b[0;32m~/.pyenv/versions/3.10.2/envs/dh_env/lib/python3.10/site-packages/dhlab/text/corpus.py:24\u001b[0m, in \u001b[0;36mCorpus.__init__\u001b[0;34m(self, doctype, author, freetext, fulltext, from_year, to_year, from_timestamp, to_timestamp, title, ddk, subject, lang, limit)\u001b[0m\n\u001b[1;32m      8\u001b[0m \u001b[39mdef\u001b[39;00m \u001b[39m__init__\u001b[39m(\n\u001b[1;32m      9\u001b[0m         \u001b[39mself\u001b[39m,\n\u001b[1;32m     10\u001b[0m         doctype\u001b[39m=\u001b[39m\u001b[39mNone\u001b[39;00m,\n\u001b[0;32m   (...)\u001b[0m\n\u001b[1;32m     21\u001b[0m         lang\u001b[39m=\u001b[39m\u001b[39mNone\u001b[39;00m,\n\u001b[1;32m     22\u001b[0m         limit\u001b[39m=\u001b[39m\u001b[39m10\u001b[39m):\n\u001b[0;32m---> 24\u001b[0m     \u001b[39mself\u001b[39m\u001b[39m.\u001b[39mcorpus \u001b[39m=\u001b[39m document_corpus(\n\u001b[1;32m     25\u001b[0m         doctype,\n\u001b[1;32m     26\u001b[0m         author,\n\u001b[1;32m     27\u001b[0m         freetext,\n\u001b[1;32m     28\u001b[0m         fulltext,\n\u001b[1;32m     29\u001b[0m         from_year,\n\u001b[1;32m     30\u001b[0m         to_year,\n\u001b[1;32m     31\u001b[0m         from_timestamp,\n\u001b[1;32m     32\u001b[0m         to_timestamp,\n\u001b[1;32m     33\u001b[0m         title,\n\u001b[1;32m     34\u001b[0m         ddk,\n\u001b[1;32m     35\u001b[0m         subject,\n\u001b[1;32m     36\u001b[0m         lang,\n\u001b[1;32m     37\u001b[0m         limit\n\u001b[1;32m     38\u001b[0m     )\n\u001b[1;32m     40\u001b[0m     \u001b[39mself\u001b[39m\u001b[39m.\u001b[39msize \u001b[39m=\u001b[39m \u001b[39mlen\u001b[39m(\u001b[39mself\u001b[39m\u001b[39m.\u001b[39mcorpus)\n",
      "File \u001b[0;32m~/.pyenv/versions/3.10.2/envs/dh_env/lib/python3.10/site-packages/dhlab/api/dhlab_api.py:299\u001b[0m, in \u001b[0;36mdocument_corpus\u001b[0;34m(doctype, author, freetext, fulltext, from_year, to_year, from_timestamp, to_timestamp, title, ddk, subject, lang, limit)\u001b[0m\n\u001b[1;32m    295\u001b[0m     params[\u001b[39m\"\u001b[39m\u001b[39mddk\u001b[39m\u001b[39m\"\u001b[39m] \u001b[39m=\u001b[39m \u001b[39m\"\u001b[39m\u001b[39m^\u001b[39m\u001b[39m\"\u001b[39m \u001b[39m+\u001b[39m params[\u001b[39m'\u001b[39m\u001b[39mddk\u001b[39m\u001b[39m'\u001b[39m]\u001b[39m.\u001b[39mreplace(\u001b[39m'\u001b[39m\u001b[39m.\u001b[39m\u001b[39m'\u001b[39m, \u001b[39m'\u001b[39m\u001b[39m\"\u001b[39m\u001b[39m.\u001b[39m\u001b[39m\"\u001b[39m\u001b[39m'\u001b[39m)\n\u001b[1;32m    297\u001b[0m r \u001b[39m=\u001b[39m requests\u001b[39m.\u001b[39mpost(BASE_URL \u001b[39m+\u001b[39m \u001b[39m\"\u001b[39m\u001b[39m/build_corpus\u001b[39m\u001b[39m\"\u001b[39m, json\u001b[39m=\u001b[39mparams)\n\u001b[0;32m--> 299\u001b[0m \u001b[39mreturn\u001b[39;00m pd\u001b[39m.\u001b[39mDataFrame(r\u001b[39m.\u001b[39;49mjson())\n",
      "File \u001b[0;32m~/.pyenv/versions/3.10.2/envs/dh_env/lib/python3.10/site-packages/requests/models.py:975\u001b[0m, in \u001b[0;36mResponse.json\u001b[0;34m(self, **kwargs)\u001b[0m\n\u001b[1;32m    971\u001b[0m     \u001b[39mreturn\u001b[39;00m complexjson\u001b[39m.\u001b[39mloads(\u001b[39mself\u001b[39m\u001b[39m.\u001b[39mtext, \u001b[39m*\u001b[39m\u001b[39m*\u001b[39mkwargs)\n\u001b[1;32m    972\u001b[0m \u001b[39mexcept\u001b[39;00m JSONDecodeError \u001b[39mas\u001b[39;00m e:\n\u001b[1;32m    973\u001b[0m     \u001b[39m# Catch JSON-related errors and raise as requests.JSONDecodeError\u001b[39;00m\n\u001b[1;32m    974\u001b[0m     \u001b[39m# This aliases json.JSONDecodeError and simplejson.JSONDecodeError\u001b[39;00m\n\u001b[0;32m--> 975\u001b[0m     \u001b[39mraise\u001b[39;00m RequestsJSONDecodeError(e\u001b[39m.\u001b[39mmsg, e\u001b[39m.\u001b[39mdoc, e\u001b[39m.\u001b[39mpos)\n",
      "\u001b[0;31mJSONDecodeError\u001b[0m: Expecting value: line 1 column 1 (char 0)"
     ]
    }
   ],
   "source": [
    "from dhlab.text import Corpus\n",
    "\n",
    "corpus = Corpus()  # fyll inn parametere\n"
   ]
  },
  {
   "cell_type": "markdown",
   "metadata": {},
   "source": [
    "2\n",
    "## Frekvensanalyse\n",
    "\n",
    "Korpuset består av flere dokumenter, som består av flere setninger, som består av flere ord eller tokener. \n",
    "Vi kjører frekvensanalyser på forekomstene av ulike ordformer og kontekster for å se tendenser i språkbruken. \n",
    "\n",
    "\n",
    "### Oppgaver\n",
    "* Ordfrekvens\n",
    "    - Hvilke ord forekommer oftest i korpuset?  \n",
    "* Konkordanser\n",
    "    - Gitt et ord (eller flere) av interesse, hvilke andre ord omslutter ordet i de lokale kontekstene der det forekommer?\n",
    "* Kollokasjoner\n",
    "    - Hvilke andre ord forekommer oftest sammen med et gitt ord?  \n",
    "    - Hvilke dokument-spesifikke ord forekommer oftest?\n",
    "\n",
    "Referanser: \n",
    "* [2_Konkordans](https://dhlab.readthedocs.io/en/latest/notebooks/2_Konkordans.html)\n",
    "* [3_Kollokasjoner](https://dhlab.readthedocs.io/en/latest/notebooks/3_Kollokasjoner.html) \n",
    "* [10_Frekvenslister](https://dhlab.readthedocs.io/en/latest/notebooks/10_Frekvenslister.html) \n",
    "* [`dhlab.text.conc_coll`](https://dhlab.readthedocs.io/en/latest/generated/text.conc_coll.html)"
   ]
  },
  {
   "cell_type": "code",
   "execution_count": null,
   "metadata": {},
   "outputs": [],
   "source": [
    "from dhlab import Concordance, Collocations, Counts\n",
    "\n",
    "\n",
    "word_freqs = Counts(corpus)\n",
    "\n",
    "concordances = Concordance(corpus, query=\"fyll inn noe her\")\n",
    "\n",
    "collocations = Collocations(corpus, words=\"fyll,inn,noe,her\")"
   ]
  },
  {
   "cell_type": "markdown",
   "metadata": {},
   "source": [
    "3\n",
    "## Navnegjenkjenning\n",
    "\n",
    "Hvilke navn forekommer oftest i korpuset? \n",
    "\n",
    "Gammel tutorial | [5_Navnegrafer](https://dhlab.readthedocs.io/en/latest/notebooks/5_Navnegrafer.html)\n",
    "---|---\n",
    "Referanse | [text.parse](https://dhlab.readthedocs.io/en/latest/generated/text.parse.html)"
   ]
  },
  {
   "cell_type": "code",
   "execution_count": 3,
   "metadata": {},
   "outputs": [],
   "source": [
    "from dhlab.text.parse import NER, Models\n",
    "\n",
    "\n",
    "# Fyll inn parametere for å kjøre navnegjenkjenning på tekstutvalget\n",
    "\n",
    "models = Models()\n",
    "\n"
   ]
  },
  {
   "cell_type": "code",
   "execution_count": 4,
   "metadata": {},
   "outputs": [
    {
     "name": "stdout",
     "output_type": "stream",
     "text": [
      "['nb_core_news_lg', 'da_core_news_lg', 'nb_core_news_sm', 'dhlab']\n"
     ]
    }
   ],
   "source": [
    "print(models.models)"
   ]
  },
  {
   "cell_type": "markdown",
   "metadata": {},
   "source": [
    "5\n",
    "## Tema-modellering\n",
    "\n",
    "- Hvilke temaer forekommer i de ulike avisene i korpuset? \n",
    "- Hvilke temaer kjennetegner hver avis, om noen? \n",
    "\n",
    "Referanser: \n",
    "* Se på eksempelmodulen"
   ]
  },
  {
   "cell_type": "code",
   "execution_count": null,
   "metadata": {},
   "outputs": [],
   "source": []
  },
  {
   "cell_type": "markdown",
   "metadata": {},
   "source": [
    "6\n",
    "## Ordgrupper \n",
    "\n",
    "Galakser, ordskyer, ordklynger: Med dhlaben kan man gruppere ord og visualisere relasjonene mellom dem på ulike måter. \n",
    "\n",
    "* Sammenlign forfatterskapenes mest fremtredende grupper av ord \n",
    "* Sammenlign partiavisenes mest fremtredende relasjoner mellom temaene \n",
    "\n",
    "Modulen `dhlab.graph_networkx_louvain` inneholder funksjoner for å lage grafer av ord og hente ut klikker basert på frekvens og posisjon i teksten. \n",
    "\n",
    "Referanser: \n",
    "* Eksempel på galakser: [4_N-gram_og_galakser](https://dhlab.readthedocs.io/en/latest/notebooks/4_N-gram_og_galakser.html#4.a.2.-Galakser)\n",
    "* Ny modul for å lage grafer: [api.nb_ngram_api](https://dhlab.readthedocs.io/en/latest/generated/api.nb_ngram_api.html)\n"
   ]
  },
  {
   "cell_type": "code",
   "execution_count": 5,
   "metadata": {},
   "outputs": [],
   "source": [
    "from dhlab.api.nb_ngram_api import make_word_graph\n"
   ]
  }
 ],
 "metadata": {
  "kernelspec": {
   "display_name": "Python 3.10.2 64-bit ('dh_env')",
   "language": "python",
   "name": "python3"
  },
  "language_info": {
   "codemirror_mode": {
    "name": "ipython",
    "version": 3
   },
   "file_extension": ".py",
   "mimetype": "text/x-python",
   "name": "python",
   "nbconvert_exporter": "python",
   "pygments_lexer": "ipython3",
   "version": "3.10.2"
  },
  "orig_nbformat": 4,
  "vscode": {
   "interpreter": {
    "hash": "7a63a4e122b0b589caa32af6db49fcd8e5361a626ec0ddee5f4e2bb1bb123ec8"
   }
  }
 },
 "nbformat": 4,
 "nbformat_minor": 2
}
