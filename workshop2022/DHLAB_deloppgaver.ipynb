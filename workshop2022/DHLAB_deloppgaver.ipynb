{
 "cells": [
  {
   "cell_type": "code",
   "execution_count": 1,
   "metadata": {},
   "outputs": [],
   "source": [
    "import dhlab"
   ]
  },
  {
   "cell_type": "markdown",
   "metadata": {},
   "source": [
    "# Hackathon\n",
    "\n",
    "DHLAB intern workshop 25.august 2022\n",
    "\n",
    "---------------------------------------\n",
    "*Sluttoppgave:* Bruk pythonpakken `dhlab`ens kjernefunksjoner på et utvalgt case, til å definere og analysere et korpus fra Nasjonalbibliotekets digitale samling. Vis fremgangsmåten i en jupyter notebook. \n"
   ]
  },
  {
   "cell_type": "markdown",
   "metadata": {},
   "source": [
    "## Deloppgaver\n",
    "\n",
    "1. [Bygg korpus](#bygg-korpus)\n",
    "2. [Frekvensanalyse](#frekvensanalyse)\n",
    "3. [Navnegjenkjenning](#navnegjenkjenning)\n",
    "4. [Tema-modellering](#tema-modellering)\n",
    "5. [Ordgrupper](#ordgrupper)\n",
    "\n",
    "\n",
    "Hver oppgave har to koblinger til [dokumentasjonssidene](https://dhlab.readthedocs.io/en/latest/index.html) til `dhlaben`: \n",
    "* [Gammel tutorial](https://dhlab.readthedocs.io/en/latest/docs_notebooks.html): Jupyter notebooks med eksempler på fremgangsmåter, med forbehold om at funksjoner har endret navn og parametere siden de ble skrevet. OBS! Ikke alle kodeblokkene fra disse notebookene fungerer lenger. \n",
    "* [Kodedokumentasjon](https://dhlab.readthedocs.io/en/latest/package_summary.html): Oversikt over moduler og deres funksjoner, klasser og metoder som er relevante for oppgavene. Dokumentasjonen speiler den nyeste versjonen av kodebasen, med riktige funksjonsnavn og parameterlister.\n",
    "\n",
    "\n",
    "---\n"
   ]
  },
  {
   "cell_type": "markdown",
   "metadata": {},
   "source": [
    "\n",
    "1\n",
    "## Bygg korpus\n",
    "\n",
    "Et korpus kan være et utvalg bøker, eller et utvalg aviser.\n",
    "Avgrensningen kan være metadata eller innhold i selve teksten: \n",
    "- Type dokument\n",
    "- Årsperiode\n",
    "- Tittel: OBS! Titler på aviser er normaliserte. Bruk små bokstaver, ingen mellomrom, Æ=AE, Ø=O, Å=AA. \n",
    "- Språk\n",
    "- Stikkord\n",
    "- Fulltekst\n",
    "- Forfatter\n",
    "\n",
    "### Oppgave \n",
    "Bygg et korpus med `dhlab.Corpus`-klassen og de gitte parameterne over. \n",
    "\n",
    "Forslag til korpusdefinisjon: \n",
    "- Partipresse: Se listen i eksempel-modulen. \n",
    "- Krimforfattere: Jørn Lier Horst, Jo Nesbø, Anne Holt, Unni Lindell \n",
    "- Egendefinert korpus \n",
    "\n",
    "\n",
    "\n",
    "Referanser:\n",
    "* [1_Bygg_korpus]( https://dhlab.readthedocs.io/en/latest/notebooks/1_Bygg_korpus.html)  \n",
    "* [`dhlab.text.corpus`](https://dhlab.readthedocs.io/en/latest/generated/text.corpus.html)\n",
    "\n"
   ]
  },
  {
   "cell_type": "code",
   "execution_count": 2,
   "metadata": {},
   "outputs": [],
   "source": [
    "from dhlab.text import Corpus\n",
    "\n",
    "corpus = Corpus()  # fyll inn parametere\n"
   ]
  },
  {
   "cell_type": "markdown",
   "metadata": {},
   "source": [
    "2\n",
    "## Frekvensanalyse\n",
    "\n",
    "Korpuset består av flere dokumenter, som består av flere setninger, som består av flere ord eller tokener. \n",
    "Vi kjører frekvensanalyser på forekomstene av ulike ordformer og kontekster for å se tendenser i språkbruken. \n",
    "\n",
    "\n",
    "### Oppgaver\n",
    "* Ordfrekvens\n",
    "    - Hvilke ord forekommer oftest i korpuset?  \n",
    "* Konkordanser\n",
    "    - Gitt et ord (eller flere) av interesse, hvilke andre ord omslutter ordet i de lokale kontekstene der det forekommer?\n",
    "* Kollokasjoner\n",
    "    - Hvilke andre ord forekommer oftest sammen med et gitt ord?  \n",
    "    - Hvilke dokument-spesifikke ord forekommer oftest?\n",
    "\n",
    "Referanser: \n",
    "* [2_Konkordans](https://dhlab.readthedocs.io/en/latest/notebooks/2_Konkordans.html)\n",
    "* [3_Kollokasjoner](https://dhlab.readthedocs.io/en/latest/notebooks/3_Kollokasjoner.html) \n",
    "* [10_Frekvenslister](https://dhlab.readthedocs.io/en/latest/notebooks/10_Frekvenslister.html) \n",
    "* [`dhlab.text.conc_coll`](https://dhlab.readthedocs.io/en/latest/generated/text.conc_coll.html)"
   ]
  },
  {
   "cell_type": "code",
   "execution_count": 34,
   "metadata": {},
   "outputs": [],
   "source": [
    "from dhlab import Concordance, Collocations, Counts\n",
    "\n",
    "\n",
    "word_freqs = Counts(corpus)\n",
    "\n",
    "concordances = Concordance(corpus, query=\"fyll inn noe her\")\n",
    "\n",
    "collocations = Collocations(corpus, words=\"fyll,inn,noe,her\")"
   ]
  },
  {
   "cell_type": "markdown",
   "metadata": {},
   "source": [
    "3\n",
    "## Navnegjenkjenning\n",
    "\n",
    "Hvilke navn forekommer oftest i korpuset? \n",
    "\n",
    "Gammel tutorial | [5_Navnegrafer](https://dhlab.readthedocs.io/en/latest/notebooks/5_Navnegrafer.html)\n",
    "---|---\n",
    "Referanse | [text.parse](https://dhlab.readthedocs.io/en/latest/generated/text.parse.html)"
   ]
  },
  {
   "cell_type": "code",
   "execution_count": 36,
   "metadata": {},
   "outputs": [],
   "source": [
    "from dhlab.text.parse import NER, Models\n",
    "\n",
    "\n",
    "# Fyll inn parametere for å kjøre navnegjenkjenning på tekstutvalget\n",
    "\n",
    "models = Models()\n",
    "\n"
   ]
  },
  {
   "cell_type": "code",
   "execution_count": 39,
   "metadata": {},
   "outputs": [
    {
     "name": "stdout",
     "output_type": "stream",
     "text": [
      "['nb_core_news_lg', 'da_core_news_lg', 'nb_core_news_sm', 'dhlab']\n"
     ]
    }
   ],
   "source": [
    "print(models.models)"
   ]
  },
  {
   "cell_type": "markdown",
   "metadata": {},
   "source": [
    "5\n",
    "## Tema-modellering\n",
    "\n",
    "- Hvilke temaer forekommer i de ulike avisene i korpuset? \n",
    "- Hvilke temaer kjennetegner hver avis, om noen? \n",
    "\n",
    "Referanser: \n",
    "* Se på eksempelmodulen"
   ]
  },
  {
   "cell_type": "code",
   "execution_count": null,
   "metadata": {},
   "outputs": [],
   "source": []
  },
  {
   "cell_type": "markdown",
   "metadata": {},
   "source": [
    "6\n",
    "## Ordgrupper \n",
    "\n",
    "Galakser, ordskyer, ordklynger: Med dhlaben kan man gruppere ord og visualisere relasjonene mellom dem på ulike måter. \n",
    "\n",
    "* Sammenlign forfatterskapenes mest fremtredende grupper av ord \n",
    "* Sammenlign partiavisenes mest fremtredende relasjoner mellom temaene \n",
    "\n",
    "Modulen `dhlab.graph_networkx_louvain` inneholder funksjoner for å lage grafer av ord og hente ut klikker basert på frekvens og posisjon i teksten. \n",
    "\n",
    "Referanser: \n",
    "* Eksempel på galakser: [4_N-gram_og_galakser](https://dhlab.readthedocs.io/en/latest/notebooks/4_N-gram_og_galakser.html#4.a.2.-Galakser)\n",
    "* Ny modul for å lage grafer: [api.nb_ngram_api](https://dhlab.readthedocs.io/en/latest/generated/api.nb_ngram_api.html)\n"
   ]
  },
  {
   "cell_type": "code",
   "execution_count": 23,
   "metadata": {},
   "outputs": [],
   "source": [
    "from dhlab.api.nb_ngram_api import make_word_graph\n"
   ]
  }
 ],
 "metadata": {
  "kernelspec": {
   "display_name": "Python 3.10.2 64-bit ('dh_env')",
   "language": "python",
   "name": "python3"
  },
  "language_info": {
   "codemirror_mode": {
    "name": "ipython",
    "version": 3
   },
   "file_extension": ".py",
   "mimetype": "text/x-python",
   "name": "python",
   "nbconvert_exporter": "python",
   "pygments_lexer": "ipython3",
   "version": "3.10.2"
  },
  "orig_nbformat": 4,
  "vscode": {
   "interpreter": {
    "hash": "7a63a4e122b0b589caa32af6db49fcd8e5361a626ec0ddee5f4e2bb1bb123ec8"
   }
  }
 },
 "nbformat": 4,
 "nbformat_minor": 2
}
