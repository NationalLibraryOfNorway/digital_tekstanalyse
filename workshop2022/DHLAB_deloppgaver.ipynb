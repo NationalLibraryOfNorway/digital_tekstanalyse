{
 "cells": [
  {
   "cell_type": "markdown",
   "metadata": {},
   "source": [
    "DHLAB intern workshop 25.august 2022\n",
    "\n",
    "---------------------------------------\n",
    "\n",
    "# Hackathon\n",
    "\n",
    "*Sluttoppgave:* lage ny tutorial/eksempel-kode notebooks for alle kjernefunksjonene, med et utvalgt case.  \n",
    "\n",
    "- Korpus 01: Partipresse\n",
    "- Korpus 02: Krimforfattere: Jørn Lier Horst, Jo Nesbø, Anne Holt, Unni Lindell  \n",
    "\n",
    "*Deloppgaver:*\n",
    "\n",
    "1. Bygge korpus\n",
    "    - Type dokument\n",
    "    - Årsperiode\n",
    "    - Tittel\n",
    "    - Språk\n",
    "    - Stikkord\n",
    "    - Fulltekst\n",
    "    - Forfatter\n",
    "2. Frekvensanalyse / tf-idf / kollokasjon / konkordans\n",
    "    - Hvilke sammenhengde fraser/slagord/dokument-spesifikke ord forekommer oftest?\n",
    "3. Navnegjenkjenning\n",
    "    - Hvilke navn forekommer oftest i korpuset? \n",
    "4. Narrative buer\n",
    "    *Per verk:* \n",
    "    - Hvor i verkene forekommer de ulike navnene hyppigst? \n",
    "    - Hvor i verkene forekommer nøkkelord (f.eks. fra TF-IDF), og hva er frekvensen deres? \n",
    "    - Hva kan sies om karakterenes utvikling i fortellingen, basert på frekvensen av navnene deres i kombinasjon med nøkkelordene? \n",
    "    *Per forfatter:*\n",
    "    - Hvilke navn forekommer oftest på tvers av verk i forfatterskapet, sett over tid? \n",
    "    - Hvilke nøkkelord kjennetegner forfatterskapet over tid?\n",
    "    *Per avis*\n",
    "    - Hvilke nøkkelord/temaer er mest fremtredende over tid? \n",
    "5. Tema-modellering\n",
    "    - Hvilke temaer forekommer i de ulike avisene i korpuset? \n",
    "    - Hvilke temaer kjennetegner hver avis, om noen? \n",
    "6. Galakser/Ordskyer\n",
    "    - Sammenligne aviser basert på ordskyer \n",
    "    - Sammenligne forfatterskap basert på ordskyer\n"
   ]
  },
  {
   "cell_type": "markdown",
   "metadata": {},
   "source": [
    "# Deloppgaver\n",
    "Bruk pythonpakken `dhlab` til å definere og analysere et korpus fra Nasjonalbibliotekets digitale samling.\n",
    "\n",
    "1. [Bygg korpus](#bygg-korpus)\n",
    "2. [Frekvensanalyse](#frekvensanalyse)\n",
    "3. [Navnegjenkjenning](#navnegjenkjenning)\n",
    "4. [Narrative buer](#narrative-buer)\n",
    "5. [Tema-modellering](#tema-modellering)\n",
    "6. [Ordskyer](#ordskyer)\n",
    "\n",
    "\n",
    "Hver oppgave har to koblinger til [dokumentasjonssidene](https://dhlab.readthedocs.io/en/latest/index.html) til `dhlaben`: \n",
    "* \"[Gammel tutorial](https://dhlab.readthedocs.io/en/latest/docs_notebooks.html)\": Jupyter notebooks med eksempler på fremgangsmåter, med forbehold om at funksjoner har endret navn og parametere siden de ble skrevet. OBS! Ikke alle kodeblokkene fra disse notebookene fungerer lenger. \n",
    "* \"[Referanse](https://dhlab.readthedocs.io/en/latest/package_summary.html)\": Kodedokumentasjon av moduler som er relevante for oppgavene. Dokumentasjonen speiler den nyeste versjonen av kodebasen, med riktige funksjonsnavn og parameterlister.\n",
    "\n",
    "\n",
    "---\n"
   ]
  },
  {
   "cell_type": "markdown",
   "metadata": {},
   "source": [
    "\n",
    "1\n",
    "## Bygg korpus\n",
    "\n",
    "Et korpus kan være et utvalg bøker, eller et utvalg aviser.\n",
    "\n",
    "Avgrensningen kan være metadata eller innhold i selve teksten: \n",
    "- Type dokument\n",
    "- Årsperiode\n",
    "- Tittel: OBS! Titler på aviser er normaliserte. Bruk små bokstaver, ingen mellomrom, Æ=AE, Ø=O, Å=AA. \n",
    "- Språk\n",
    "- Stikkord\n",
    "- Fulltekst\n",
    "- Forfatter\n",
    "\n",
    "Gammel tutorial: [1_Bygg_korpus]( https://dhlab.readthedocs.io/en/latest/notebooks/1_Bygg_korpus.html)\n",
    "\n",
    "Dokumentasjon: [`dhlab.text.corpus`](https://dhlab.readthedocs.io/en/latest/generated/text.corpus.html)\n",
    "\n"
   ]
  },
  {
   "cell_type": "code",
   "execution_count": null,
   "metadata": {},
   "outputs": [],
   "source": [
    "from dh.text import Corpus\n",
    "\n",
    "\n",
    "korpus = Corpus()\n"
   ]
  },
  {
   "cell_type": "code",
   "execution_count": null,
   "metadata": {},
   "outputs": [],
   "source": []
  },
  {
   "cell_type": "markdown",
   "metadata": {},
   "source": [
    "2\n",
    "## Frekvensanalyse \n",
    "\n",
    "* *Ordfrekvens*: Hvilke ord forekommer oftest i korpuset? \n",
    "* *Tf-idf* ([term frequency-inverse document frequency](https://no.wikipedia.org/wiki/Tf-idf)): Hvilke dokument-spesifikke ord forekommer oftest? \n",
    " - Gammel tutorial: [3_Kollokasjoner](https://dhlab.readthedocs.io/en/latest/notebooks/3_Kollokasjoner.html)\n",
    " - Dokumentasjon: [`dhlab.text.conc_coll`](https://dhlab.readthedocs.io/en/latest/generated/text.conc_coll.html)\n",
    "\n",
    "* *konkordans*: Gitt et ord (eller flere) av interesse, hvilke andre ord omslutter ordet i de lokale kontekstene der det forekommer? \n",
    " - Gammel tutorial: [2_Konkordans](https://dhlab.readthedocs.io/en/latest/notebooks/2_Konkordans.html)\n",
    " - Dokumentasjon: [`dhlab.text.conc_coll`](https://dhlab.readthedocs.io/en/latest/generated/text.conc_coll.html)\n",
    "\n",
    "* *kollokasjon*: Hvilke andre ord forekommer oftest sammen med et gitt ord? \n",
    " - Gammel tutorial: [3_Kollokasjoner](https://dhlab.readthedocs.io/en/latest/notebooks/3_Kollokasjoner.html)\n",
    " - Dokumentasjon: [`dhlab.text.conc_coll`](https://dhlab.readthedocs.io/en/latest/generated/text.conc_coll.html)\n"
   ]
  },
  {
   "cell_type": "code",
   "execution_count": null,
   "metadata": {},
   "outputs": [],
   "source": []
  },
  {
   "cell_type": "markdown",
   "metadata": {},
   "source": [
    "3\n",
    "## Navnegjenkjenning\n",
    "\n",
    "Hvilke navn forekommer oftest i korpuset? "
   ]
  },
  {
   "cell_type": "code",
   "execution_count": null,
   "metadata": {},
   "outputs": [],
   "source": []
  },
  {
   "cell_type": "markdown",
   "metadata": {},
   "source": [
    "4\n",
    "## Narrative buer\n",
    "\n",
    "*Per verk:* \n",
    "- Hvor i verkene forekommer de ulike navnene hyppigst? \n",
    "- Hvor i verkene forekommer nøkkelord (f.eks. fra TF-IDF), og hva er frekvensen deres? \n",
    "- Hva kan sies om karakterenes utvikling i fortellingen, basert på frekvensen av navnene deres i kombinasjon med nøkkelordene? \n",
    "\n",
    "*Per forfatter:*\n",
    "- Hvilke navn forekommer oftest på tvers av verk i forfatterskapet, sett over tid? \n",
    "- Hvilke nøkkelord kjennetegner forfatterskapet over tid?\n",
    "\n",
    "*Per avis*\n",
    "- Hvilke nøkkelord/temaer er mest fremtredende over tid? "
   ]
  },
  {
   "cell_type": "code",
   "execution_count": null,
   "metadata": {},
   "outputs": [],
   "source": []
  },
  {
   "cell_type": "markdown",
   "metadata": {},
   "source": [
    "5\n",
    "## Tema-modellering\n",
    "\n",
    "- Hvilke temaer forekommer i de ulike avisene i korpuset? \n",
    "- Hvilke temaer kjennetegner hver avis, om noen? "
   ]
  },
  {
   "cell_type": "code",
   "execution_count": null,
   "metadata": {},
   "outputs": [],
   "source": []
  },
  {
   "cell_type": "markdown",
   "metadata": {},
   "source": [
    "6\n",
    "## Ordgrupper \n",
    "\n",
    "Galakser, ordskyer, ordklynger: Med dhlaben kan man gruppere ord og visualisere relasjonene mellom dem på ulike måter. \n",
    "\n",
    "Modulen `dhlab.graph_networkx_louvain` inneholder funksjoner for å lage grafer av ord og hente ut klikker basert på frekvens og posisjon i teksten. \n",
    "\n",
    "* Referanse: [api.nb_ngram_api](https://dhlab.readthedocs.io/en/latest/generated/api.nb_ngram_api.html)\n"
   ]
  },
  {
   "cell_type": "code",
   "execution_count": 9,
   "metadata": {},
   "outputs": [],
   "source": [
    "import dhlab as dh"
   ]
  },
  {
   "cell_type": "code",
   "execution_count": 8,
   "metadata": {},
   "outputs": [
    {
     "ename": "ValueError",
     "evalue": "not enough values to unpack (expected 3, got 1)",
     "output_type": "error",
     "traceback": [
      "\u001b[0;31m---------------------------------------------------------------------------\u001b[0m",
      "\u001b[0;31mValueError\u001b[0m                                Traceback (most recent call last)",
      "\u001b[1;32m/home/ingeridd/Prosjekter/digital_humaniora/digital_tekstanalyse/workshop2022/DHLAB_deloppgaver.ipynb Cell 15\u001b[0m in \u001b[0;36m<cell line: 1>\u001b[0;34m()\u001b[0m\n\u001b[0;32m----> <a href='vscode-notebook-cell:/home/ingeridd/Prosjekter/digital_humaniora/digital_tekstanalyse/workshop2022/DHLAB_deloppgaver.ipynb#X21sZmlsZQ%3D%3D?line=0'>1</a>\u001b[0m dh\u001b[39m.\u001b[39;49mgraph_networkx_louvain\u001b[39m.\u001b[39;49mmake_w_graph(\u001b[39m\"\u001b[39;49m\u001b[39mlangrenn\u001b[39;49m\u001b[39m\"\u001b[39;49m)\n",
      "File \u001b[0;32m~/.pyenv/versions/3.10.2/envs/dh_env/lib/python3.10/site-packages/dhlab/legacy/graph_networkx_louvain.py:238\u001b[0m, in \u001b[0;36mmake_w_graph\u001b[0;34m(weight_matrix)\u001b[0m\n\u001b[1;32m    235\u001b[0m \u001b[39m\"\"\"weight_matrix a list on the form [((x,y,weight), ...]\"\"\"\u001b[39;00m\n\u001b[1;32m    237\u001b[0m G \u001b[39m=\u001b[39m nx\u001b[39m.\u001b[39mGraph()\n\u001b[0;32m--> 238\u001b[0m G\u001b[39m.\u001b[39;49madd_weighted_edges_from(weight_matrix)\n\u001b[1;32m    239\u001b[0m \u001b[39mreturn\u001b[39;00m G\n",
      "File \u001b[0;32m~/.pyenv/versions/3.10.2/envs/dh_env/lib/python3.10/site-packages/networkx/classes/graph.py:1001\u001b[0m, in \u001b[0;36mGraph.add_weighted_edges_from\u001b[0;34m(self, ebunch_to_add, weight, **attr)\u001b[0m\n\u001b[1;32m    971\u001b[0m \u001b[39mdef\u001b[39;00m \u001b[39madd_weighted_edges_from\u001b[39m(\u001b[39mself\u001b[39m, ebunch_to_add, weight\u001b[39m=\u001b[39m\u001b[39m\"\u001b[39m\u001b[39mweight\u001b[39m\u001b[39m\"\u001b[39m, \u001b[39m*\u001b[39m\u001b[39m*\u001b[39mattr):\n\u001b[1;32m    972\u001b[0m     \u001b[39m\"\"\"Add weighted edges in `ebunch_to_add` with specified weight attr\u001b[39;00m\n\u001b[1;32m    973\u001b[0m \n\u001b[1;32m    974\u001b[0m \u001b[39m    Parameters\u001b[39;00m\n\u001b[0;32m   (...)\u001b[0m\n\u001b[1;32m    999\u001b[0m \u001b[39m    >>> G.add_weighted_edges_from([(0, 1, 3.0), (1, 2, 7.5)])\u001b[39;00m\n\u001b[1;32m   1000\u001b[0m \u001b[39m    \"\"\"\u001b[39;00m\n\u001b[0;32m-> 1001\u001b[0m     \u001b[39mself\u001b[39;49m\u001b[39m.\u001b[39;49madd_edges_from(((u, v, {weight: d}) \u001b[39mfor\u001b[39;49;00m u, v, d \u001b[39min\u001b[39;49;00m ebunch_to_add), \u001b[39m*\u001b[39;49m\u001b[39m*\u001b[39;49mattr)\n",
      "File \u001b[0;32m~/.pyenv/versions/3.10.2/envs/dh_env/lib/python3.10/site-packages/networkx/classes/graph.py:946\u001b[0m, in \u001b[0;36mGraph.add_edges_from\u001b[0;34m(self, ebunch_to_add, **attr)\u001b[0m\n\u001b[1;32m    908\u001b[0m \u001b[39mdef\u001b[39;00m \u001b[39madd_edges_from\u001b[39m(\u001b[39mself\u001b[39m, ebunch_to_add, \u001b[39m*\u001b[39m\u001b[39m*\u001b[39mattr):\n\u001b[1;32m    909\u001b[0m     \u001b[39m\"\"\"Add all the edges in ebunch_to_add.\u001b[39;00m\n\u001b[1;32m    910\u001b[0m \n\u001b[1;32m    911\u001b[0m \u001b[39m    Parameters\u001b[39;00m\n\u001b[0;32m   (...)\u001b[0m\n\u001b[1;32m    944\u001b[0m \u001b[39m    >>> G.add_edges_from([(3, 4), (1, 4)], label=\"WN2898\")\u001b[39;00m\n\u001b[1;32m    945\u001b[0m \u001b[39m    \"\"\"\u001b[39;00m\n\u001b[0;32m--> 946\u001b[0m     \u001b[39mfor\u001b[39;00m e \u001b[39min\u001b[39;00m ebunch_to_add:\n\u001b[1;32m    947\u001b[0m         ne \u001b[39m=\u001b[39m \u001b[39mlen\u001b[39m(e)\n\u001b[1;32m    948\u001b[0m         \u001b[39mif\u001b[39;00m ne \u001b[39m==\u001b[39m \u001b[39m3\u001b[39m:\n",
      "File \u001b[0;32m~/.pyenv/versions/3.10.2/envs/dh_env/lib/python3.10/site-packages/networkx/classes/graph.py:1001\u001b[0m, in \u001b[0;36m<genexpr>\u001b[0;34m(.0)\u001b[0m\n\u001b[1;32m    971\u001b[0m \u001b[39mdef\u001b[39;00m \u001b[39madd_weighted_edges_from\u001b[39m(\u001b[39mself\u001b[39m, ebunch_to_add, weight\u001b[39m=\u001b[39m\u001b[39m\"\u001b[39m\u001b[39mweight\u001b[39m\u001b[39m\"\u001b[39m, \u001b[39m*\u001b[39m\u001b[39m*\u001b[39mattr):\n\u001b[1;32m    972\u001b[0m     \u001b[39m\"\"\"Add weighted edges in `ebunch_to_add` with specified weight attr\u001b[39;00m\n\u001b[1;32m    973\u001b[0m \n\u001b[1;32m    974\u001b[0m \u001b[39m    Parameters\u001b[39;00m\n\u001b[0;32m   (...)\u001b[0m\n\u001b[1;32m    999\u001b[0m \u001b[39m    >>> G.add_weighted_edges_from([(0, 1, 3.0), (1, 2, 7.5)])\u001b[39;00m\n\u001b[1;32m   1000\u001b[0m \u001b[39m    \"\"\"\u001b[39;00m\n\u001b[0;32m-> 1001\u001b[0m     \u001b[39mself\u001b[39m\u001b[39m.\u001b[39madd_edges_from(((u, v, {weight: d}) \u001b[39mfor\u001b[39;00m u, v, d \u001b[39min\u001b[39;00m ebunch_to_add), \u001b[39m*\u001b[39m\u001b[39m*\u001b[39mattr)\n",
      "\u001b[0;31mValueError\u001b[0m: not enough values to unpack (expected 3, got 1)"
     ]
    }
   ],
   "source": [
    "\n",
    "dh.graph_networkx_louvain\n"
   ]
  },
  {
   "cell_type": "code",
   "execution_count": null,
   "metadata": {},
   "outputs": [],
   "source": []
  }
 ],
 "metadata": {
  "kernelspec": {
   "display_name": "Python 3.10.2 64-bit ('dh_env')",
   "language": "python",
   "name": "python3"
  },
  "language_info": {
   "codemirror_mode": {
    "name": "ipython",
    "version": 3
   },
   "file_extension": ".py",
   "mimetype": "text/x-python",
   "name": "python",
   "nbconvert_exporter": "python",
   "pygments_lexer": "ipython3",
   "version": "3.10.2"
  },
  "orig_nbformat": 4,
  "vscode": {
   "interpreter": {
    "hash": "7a63a4e122b0b589caa32af6db49fcd8e5361a626ec0ddee5f4e2bb1bb123ec8"
   }
  }
 },
 "nbformat": 4,
 "nbformat_minor": 2
}
