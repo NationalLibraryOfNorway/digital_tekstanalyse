{
 "cells": [
  {
   "cell_type": "code",
   "execution_count": 3,
   "metadata": {},
   "outputs": [],
   "source": [
    "import dhlab\n"
   ]
  },
  {
   "cell_type": "markdown",
   "metadata": {},
   "source": [
    "DHLAB intern workshop 25.august 2022\n",
    "\n",
    "---------------------------------------\n",
    "\n",
    "# Hackathon\n",
    "\n",
    "*Sluttoppgave:* lage ny tutorial/eksempel-kode notebooks for alle kjernefunksjonene, med et utvalgt case.  \n",
    "\n",
    "- Korpus 01: Partipresse\n",
    "- Korpus 02: Krimforfattere: Jørn Lier Horst, Jo Nesbø, Anne Holt, Unni Lindell  \n",
    "\n",
    "*Deloppgaver:*\n",
    "\n",
    "1. Bygge korpus\n",
    "    - Type dokument\n",
    "    - Årsperiode\n",
    "    - Tittel\n",
    "    - Språk\n",
    "    - Stikkord\n",
    "    - Fulltekst\n",
    "    - Forfatter\n",
    "2. Frekvensanalyse / tf-idf / kollokasjon / konkordans\n",
    "    - Hvilke sammenhengde fraser/slagord/dokument-spesifikke ord forekommer oftest?\n",
    "3. Navnegjenkjenning\n",
    "    - Hvilke navn forekommer oftest i korpuset? \n",
    "4. Narrative buer\n",
    "    *Per verk:* \n",
    "    - Hvor i verkene forekommer de ulike navnene hyppigst? \n",
    "    - Hvor i verkene forekommer nøkkelord (f.eks. fra TF-IDF), og hva er frekvensen deres? \n",
    "    - Hva kan sies om karakterenes utvikling i fortellingen, basert på frekvensen av navnene deres i kombinasjon med nøkkelordene? \n",
    "    *Per forfatter:*\n",
    "    - Hvilke navn forekommer oftest på tvers av verk i forfatterskapet, sett over tid? \n",
    "    - Hvilke nøkkelord kjennetegner forfatterskapet over tid?\n",
    "    *Per avis*\n",
    "    - Hvilke nøkkelord/temaer er mest fremtredende over tid? \n",
    "5. Tema-modellering\n",
    "    - Hvilke temaer forekommer i de ulike avisene i korpuset? \n",
    "    - Hvilke temaer kjennetegner hver avis, om noen? \n",
    "6. Galakser/Ordskyer\n",
    "    - Sammenligne aviser basert på ordskyer \n",
    "    - Sammenligne forfatterskap basert på ordskyer\n"
   ]
  },
  {
   "cell_type": "markdown",
   "metadata": {},
   "source": [
    "# Deloppgaver\n",
    "Bruk pythonpakken `dhlab` til å definere og analysere et korpus fra Nasjonalbibliotekets digitale samling.\n",
    "\n",
    "1. [Bygg korpus](#bygg-korpus)\n",
    "2. [Frekvensanalyse](#frekvensanalyse)\n",
    "3. [Navnegjenkjenning](#navnegjenkjenning)\n",
    "4. [Narrative buer](#narrative-buer)\n",
    "5. [Tema-modellering](#tema-modellering)\n",
    "6. [Ordskyer](#ordskyer)\n",
    "\n",
    "\n",
    "Hver oppgave har to koblinger til [dokumentasjonssidene](https://dhlab.readthedocs.io/en/latest/index.html) til `dhlaben`: \n",
    "* \"[Gammel tutorial](https://dhlab.readthedocs.io/en/latest/docs_notebooks.html)\": Jupyter notebooks med eksempler på fremgangsmåter, med forbehold om at funksjoner har endret navn og parametere siden de ble skrevet. OBS! Ikke alle kodeblokkene fra disse notebookene fungerer lenger. \n",
    "* \"[Referanse](https://dhlab.readthedocs.io/en/latest/package_summary.html)\": Kodedokumentasjon av moduler som er relevante for oppgavene. Dokumentasjonen speiler den nyeste versjonen av kodebasen, med riktige funksjonsnavn og parameterlister.\n",
    "\n",
    "\n",
    "---\n"
   ]
  },
  {
   "cell_type": "markdown",
   "metadata": {},
   "source": [
    "\n",
    "1\n",
    "## Bygg korpus\n",
    "\n",
    "Et korpus kan være et utvalg bøker, eller et utvalg aviser.\n",
    "\n",
    "Avgrensningen kan være metadata eller innhold i selve teksten: \n",
    "- Type dokument\n",
    "- Årsperiode\n",
    "- Tittel: OBS! Titler på aviser er normaliserte. Bruk små bokstaver, ingen mellomrom, Æ=AE, Ø=O, Å=AA. \n",
    "- Språk\n",
    "- Stikkord\n",
    "- Fulltekst\n",
    "- Forfatter\n",
    "\n",
    "Gammel tutorial | [1_Bygg_korpus]( https://dhlab.readthedocs.io/en/latest/notebooks/1_Bygg_korpus.html)\n",
    "---|---\n",
    "Referanse   |[`dhlab.text.corpus`](https://dhlab.readthedocs.io/en/latest/generated/text.corpus.html)\n",
    "\n"
   ]
  },
  {
   "cell_type": "code",
   "execution_count": null,
   "metadata": {},
   "outputs": [],
   "source": [
    "from dhlab.text import Corpus\n",
    "\n",
    "\n",
    "korpus = Corpus()\n"
   ]
  },
  {
   "cell_type": "code",
   "execution_count": null,
   "metadata": {},
   "outputs": [],
   "source": []
  },
  {
   "cell_type": "markdown",
   "metadata": {},
   "source": [
    "2\n",
    "## Frekvensanalyse \n",
    "\n",
    "Type analyse | Oppgave | Gammel tutorial \n",
    "---|---|---\n",
    "Ordfrekvens | Hvilke ord forekommer oftest i korpuset?  | [10_Frekvenslister](https://dhlab.readthedocs.io/en/latest/notebooks/10_Frekvenslister.html) \n",
    "konkordans | Gitt et ord (eller flere) av interesse, hvilke andre ord omslutter ordet i de lokale kontekstene der det forekommer? | [2_Konkordans](https://dhlab.readthedocs.io/en/latest/notebooks/2_Konkordans.html)\n",
    "kollokasjon | Hvilke andre ord forekommer oftest sammen med et gitt ord?  Hvilke dokument-spesifikke ord forekommer oftest?| [3_Kollokasjoner](https://dhlab.readthedocs.io/en/latest/notebooks/3_Kollokasjoner.html) \n",
    "\n",
    "\n",
    "Referanse: [`dhlab.text.conc_coll`](https://dhlab.readthedocs.io/en/latest/generated/text.conc_coll.html)"
   ]
  },
  {
   "cell_type": "code",
   "execution_count": 2,
   "metadata": {},
   "outputs": [],
   "source": [
    "from dhlab.text.conc_coll import Concordance, Collocations, Counts\n"
   ]
  },
  {
   "cell_type": "markdown",
   "metadata": {},
   "source": [
    "3\n",
    "## Navnegjenkjenning\n",
    "\n",
    "Hvilke navn forekommer oftest i korpuset? \n",
    "\n",
    "Gammel tutorial | [5_Navnegrafer](https://dhlab.readthedocs.io/en/latest/notebooks/5_Navnegrafer.html)\n",
    "---|---\n",
    "Referanse | [text.parse](https://dhlab.readthedocs.io/en/latest/generated/text.parse.html)"
   ]
  },
  {
   "cell_type": "code",
   "execution_count": 22,
   "metadata": {},
   "outputs": [],
   "source": [
    "from dhlab.text.parse import NER\n",
    "\n",
    "# Fyll inn parametere for å kjøre navnegjenkjenning på tekstutvalget\n",
    "names =  NER()"
   ]
  },
  {
   "cell_type": "markdown",
   "metadata": {},
   "source": [
    "4\n",
    "## Narrative buer\n",
    "\n",
    "Type datautvalg  | Oppgave | Gammel tutorial \n",
    "---|---|---\n",
    "1 verk / 1 bok / 1 dokument | Hvor i verket forekommer de ulike navnene hyppigst? Hvor i verket forekommer gitte nøkkelord, og hva er frekvensen deres? Hva kan sies om karakterenes utvikling i fortellingen, basert på frekvensen av navnene deres i kombinasjon med nøkkelordene? | [5_Navnegrafer](https://dhlab.readthedocs.io/en/latest/notebooks/5_Navnegrafer.html?highlight=narrative#Studer-hvordan-navnene-henger-sammen)\n",
    "Verker av 1 forfatter | Hvilke navn forekommer oftest på tvers av verk i forfatterskapet, sett over tid? Hvilke nøkkelord kjennetegner forfatterskapet over tid? | [10_Frekvenslister](https://dhlab.readthedocs.io/en/latest/notebooks/10_Frekvenslister.html#10.3.-Frekvens-for-spesifikke-termer)\n",
    "1 helt korpus, med tidsangivelse | Hvilke nøkkelord/temaer er mest fremtredende over tid? | [4_N-gram_og_galakser](https://dhlab.readthedocs.io/en/latest/notebooks/4_N-gram_og_galakser.html)\n",
    "\n",
    "\n",
    "Referanser: [N-gram](https://dhlab.readthedocs.io/en/latest/generated/ngram.ngram.html#module-ngram.ngram), [Dispersion](https://dhlab.readthedocs.io/en/latest/generated/text.dispersion.html#module-text.dispersion)\n"
   ]
  },
  {
   "cell_type": "code",
   "execution_count": 20,
   "metadata": {},
   "outputs": [],
   "source": [
    "from dhlab.text import Dispersion\n",
    "from dhlab.ngram import Ngram\n",
    "\n",
    "# Fyll inn parametere for å instansiere Dispersion-objektet\n",
    "disp = Dispersion()\n",
    "\n",
    "# ...\n"
   ]
  },
  {
   "cell_type": "markdown",
   "metadata": {},
   "source": [
    "5\n",
    "## Tema-modellering\n",
    "\n",
    "- Hvilke temaer forekommer i de ulike avisene i korpuset? \n",
    "- Hvilke temaer kjennetegner hver avis, om noen? \n",
    "\n"
   ]
  },
  {
   "cell_type": "code",
   "execution_count": null,
   "metadata": {},
   "outputs": [],
   "source": []
  },
  {
   "cell_type": "markdown",
   "metadata": {},
   "source": [
    "6\n",
    "## Ordgrupper \n",
    "\n",
    "Galakser, ordskyer, ordklynger: Med dhlaben kan man gruppere ord og visualisere relasjonene mellom dem på ulike måter. \n",
    "\n",
    "Modulen `dhlab.graph_networkx_louvain` inneholder funksjoner for å lage grafer av ord og hente ut klikker basert på frekvens og posisjon i teksten. \n",
    "\n",
    "* Referanse: [api.nb_ngram_api](https://dhlab.readthedocs.io/en/latest/generated/api.nb_ngram_api.html)\n"
   ]
  },
  {
   "cell_type": "code",
   "execution_count": 23,
   "metadata": {},
   "outputs": [],
   "source": [
    "from dhlab.api.nb_ngram_api import make_word_graph\n"
   ]
  }
 ],
 "metadata": {
  "kernelspec": {
   "display_name": "Python 3.10.2 64-bit ('dh_env')",
   "language": "python",
   "name": "python3"
  },
  "language_info": {
   "codemirror_mode": {
    "name": "ipython",
    "version": 3
   },
   "file_extension": ".py",
   "mimetype": "text/x-python",
   "name": "python",
   "nbconvert_exporter": "python",
   "pygments_lexer": "ipython3",
   "version": "3.10.2"
  },
  "orig_nbformat": 4,
  "vscode": {
   "interpreter": {
    "hash": "7a63a4e122b0b589caa32af6db49fcd8e5361a626ec0ddee5f4e2bb1bb123ec8"
   }
  }
 },
 "nbformat": 4,
 "nbformat_minor": 2
}
