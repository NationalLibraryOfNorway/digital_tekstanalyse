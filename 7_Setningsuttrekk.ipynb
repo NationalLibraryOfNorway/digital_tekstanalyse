{
 "cells": [
  {
   "attachments": {
    "DHlab_logo_web_no_red.png": {
     "image/png": "[encoded data removed]"
    }
   },
   "cell_type": "markdown",
   "metadata": {},
   "source": [
    "![DHlab_logo_web_no_red.png](attachment:DHlab_logo_web_no_red.png)"
   ]
  },
  {
   "cell_type": "markdown",
   "metadata": {},
   "source": [
    "Funksjonen `nb.sentence()`kan brukes til å hente setninger fra et korpus. \n",
    "\n",
    "Korpuset må bestå av minimum 5 unike urn'er. \n",
    "\n",
    "Nedenfor er eksempler på uttrekk av setninger fra bestemte forfattere. Se eksempelfil om [Korpusbygging](https://nbviewer.jupyter.org/github/DH-LAB-NB/DHLAB/blob/master/1_Bygg_korpus.ipynb) for andre måter å definere korpus."
   ]
  },
  {
   "cell_type": "code",
   "execution_count": 1,
   "metadata": {},
   "outputs": [],
   "source": [
    "import dhlab.nbtext as nb"
   ]
  },
  {
   "cell_type": "code",
   "execution_count": 15,
   "metadata": {},
   "outputs": [
    {
     "data": {
      "text/html": [
       "<div>\n",
       "<style scoped>\n",
       "    .dataframe tbody tr th:only-of-type {\n",
       "        vertical-align: middle;\n",
       "    }\n",
       "\n",
       "    .dataframe tbody tr th {\n",
       "        vertical-align: top;\n",
       "    }\n",
       "\n",
       "    .dataframe thead th {\n",
       "        text-align: right;\n",
       "    }\n",
       "</style>\n",
       "<table border=\"1\" class=\"dataframe\">\n",
       "  <thead>\n",
       "    <tr style=\"text-align: right;\">\n",
       "      <th></th>\n",
       "      <th>urn</th>\n",
       "      <th>author</th>\n",
       "      <th>title</th>\n",
       "      <th>year</th>\n",
       "    </tr>\n",
       "  </thead>\n",
       "  <tbody>\n",
       "    <tr>\n",
       "      <th>0</th>\n",
       "      <td>2008012304077</td>\n",
       "      <td>Mykle, Agnar</td>\n",
       "      <td>Samlede verker</td>\n",
       "      <td>1994</td>\n",
       "    </tr>\n",
       "    <tr>\n",
       "      <th>1</th>\n",
       "      <td>2015090129001</td>\n",
       "      <td>Mykle, Agnar</td>\n",
       "      <td>Sangen om den røde rubin</td>\n",
       "      <td>1956</td>\n",
       "    </tr>\n",
       "    <tr>\n",
       "      <th>2</th>\n",
       "      <td>2008012801029</td>\n",
       "      <td>Mykle, Agnar</td>\n",
       "      <td>Samlede verker</td>\n",
       "      <td>1994</td>\n",
       "    </tr>\n",
       "    <tr>\n",
       "      <th>3</th>\n",
       "      <td>2008020701019</td>\n",
       "      <td>Mykle, Agnar</td>\n",
       "      <td>Samlede verker</td>\n",
       "      <td>1994</td>\n",
       "    </tr>\n",
       "    <tr>\n",
       "      <th>4</th>\n",
       "      <td>2008033104009</td>\n",
       "      <td>Mykle, Agnar</td>\n",
       "      <td>Rubicon</td>\n",
       "      <td>1996</td>\n",
       "    </tr>\n",
       "    <tr>\n",
       "      <th>5</th>\n",
       "      <td>2014021807242</td>\n",
       "      <td>Mykle, Agnar</td>\n",
       "      <td>Rubicon</td>\n",
       "      <td>1975</td>\n",
       "    </tr>\n",
       "    <tr>\n",
       "      <th>6</th>\n",
       "      <td>2014051408203</td>\n",
       "      <td>Mykle, Agnar</td>\n",
       "      <td>Lasso rundt fru Luna</td>\n",
       "      <td>1996</td>\n",
       "    </tr>\n",
       "    <tr>\n",
       "      <th>7</th>\n",
       "      <td>2014111108298</td>\n",
       "      <td>Mykle, Agnar</td>\n",
       "      <td>Lasso rundt fru Luna</td>\n",
       "      <td>2007</td>\n",
       "    </tr>\n",
       "    <tr>\n",
       "      <th>8</th>\n",
       "      <td>2012020208192</td>\n",
       "      <td>Mykle, Agnar</td>\n",
       "      <td>Kors på halsen</td>\n",
       "      <td>1958</td>\n",
       "    </tr>\n",
       "    <tr>\n",
       "      <th>9</th>\n",
       "      <td>2014010308002</td>\n",
       "      <td>Mykle, Agnar</td>\n",
       "      <td>Morgen i appelsingult</td>\n",
       "      <td>1951</td>\n",
       "    </tr>\n",
       "  </tbody>\n",
       "</table>\n",
       "</div>"
      ],
      "text/plain": [
       "             urn        author                     title  year\n",
       "0  2008012304077  Mykle, Agnar            Samlede verker  1994\n",
       "1  2015090129001  Mykle, Agnar  Sangen om den røde rubin  1956\n",
       "2  2008012801029  Mykle, Agnar            Samlede verker  1994\n",
       "3  2008020701019  Mykle, Agnar            Samlede verker  1994\n",
       "4  2008033104009  Mykle, Agnar                   Rubicon  1996\n",
       "5  2014021807242  Mykle, Agnar                   Rubicon  1975\n",
       "6  2014051408203  Mykle, Agnar      Lasso rundt fru Luna  1996\n",
       "7  2014111108298  Mykle, Agnar      Lasso rundt fru Luna  2007\n",
       "8  2012020208192  Mykle, Agnar            Kors på halsen  1958\n",
       "9  2014010308002  Mykle, Agnar     Morgen i appelsingult  1951"
      ]
     },
     "execution_count": 15,
     "metadata": {},
     "output_type": "execute_result"
    }
   ],
   "source": [
    "mykle = nb.book_corpus(author='%Mykle%Agnar%', limit=10, lang='nob')\n",
    "mykle"
   ]
  },
  {
   "cell_type": "code",
   "execution_count": 16,
   "metadata": {},
   "outputs": [
    {
     "data": {
      "text/plain": [
       "['Men det har én mangel : en ensom mann får det aldri overstått',\n",
       " 'Han er nemlig ikke en vanlig dødelig , han hører til de utvalgte , han er en av de få',\n",
       " 'Han vil tordne , spytte , tale ; men alt han har kraft til , er å trekke på skuldrene',\n",
       " 'Han reiste seg langsomt , og la merke til den lille porselensvasken i hjørnet , med beholderen av flytende såpe på veggen',\n",
       " 'Også her er veggene brunbeiset , også her er rommet stort , også her er det sperrer i taket , også her er det rare vinduer i blyinnfatning',\n",
       " 'Han visste ikke om det var fryd eller angst',\n",
       " 'Han stod alene under den enorme kveldshimlen',\n",
       " 'FØRSTE DEL',\n",
       " 'Og om jeg seiv aldri så meget har vært tilsidesatt og baktalt , så håpet jeg jo at min tid ville komme',\n",
       " 'SAMNEMNDA FOR AMATØRTEATERARBEID',\n",
       " 'Han må gripe seg rundt strupen , for den tykke , deformerte foten har ingen lilletå , det er bare en liten stump av en hvirvel igjen , det er den opererte foten hun har forfulgt ham med siden han kom hjem , den foten hun har insistert på å vise ham for at han skulle se hennes lidelser , den foten han har nektet å ville se ; nu ser han den , nu fikk hun vist den , han snur og går lydløst over gul v',\n",
       " 'Jo stod fjetret ved skrivebordet og så på henne',\n",
       " 'Ask hadde bemerket , en passant , at han syntes Villsvinsens sønn og datter var meget forskjellige , som natt og dag',\n",
       " 'Ingen mann bærer lenger en blomst i knapphullet',\n",
       " 'Hvis han holdt femti kilometer i timen',\n",
       " 'En liten dirring i huden hadde det vært hos begge to , ihvertfall hos ham ; denne lubne kontordamen med de små fregnene i ansiktets sunne hud og med den usigelig norske oppstoppernesen denne lubne litt inntilbense Synnøve med den firkantede munnen og de hvite norske tennene ; hun var som et modent eple på en gren ; eplet spurte smilende : « Plukker du meg',\n",
       " 'Et sted så han navnet Metz på et skilt',\n",
       " 'Meg , moderen',\n",
       " 'Hadde jeg ikke visst det før , så visste jeg det nu : - jeg er en av dem som øyeblikkelig ville skille seg ut , en av dem som nudiststyret omgående ville få fjernet',\n",
       " 'Hun hadde satt seg på sofaen']"
      ]
     },
     "execution_count": 16,
     "metadata": {},
     "output_type": "execute_result"
    }
   ],
   "source": [
    "nb.sentences(nb.pure_urn(mykle), num=20)"
   ]
  },
  {
   "cell_type": "code",
   "execution_count": 24,
   "metadata": {},
   "outputs": [
    {
     "data": {
      "text/html": [
       "<div>\n",
       "<style scoped>\n",
       "    .dataframe tbody tr th:only-of-type {\n",
       "        vertical-align: middle;\n",
       "    }\n",
       "\n",
       "    .dataframe tbody tr th {\n",
       "        vertical-align: top;\n",
       "    }\n",
       "\n",
       "    .dataframe thead th {\n",
       "        text-align: right;\n",
       "    }\n",
       "</style>\n",
       "<table border=\"1\" class=\"dataframe\">\n",
       "  <thead>\n",
       "    <tr style=\"text-align: right;\">\n",
       "      <th></th>\n",
       "      <th>urn</th>\n",
       "      <th>author</th>\n",
       "      <th>title</th>\n",
       "      <th>year</th>\n",
       "    </tr>\n",
       "  </thead>\n",
       "  <tbody>\n",
       "    <tr>\n",
       "      <th>0</th>\n",
       "      <td>2013102905001</td>\n",
       "      <td>Sandel, Cora</td>\n",
       "      <td>Alberte-trilogien</td>\n",
       "      <td>2009</td>\n",
       "    </tr>\n",
       "    <tr>\n",
       "      <th>1</th>\n",
       "      <td>2007052101053</td>\n",
       "      <td>Sandel, Cora</td>\n",
       "      <td>Alberte og friheten</td>\n",
       "      <td>1965</td>\n",
       "    </tr>\n",
       "    <tr>\n",
       "      <th>2</th>\n",
       "      <td>2007081004062</td>\n",
       "      <td>Sandel, Cora</td>\n",
       "      <td>Kranes konditori</td>\n",
       "      <td>1990</td>\n",
       "    </tr>\n",
       "    <tr>\n",
       "      <th>3</th>\n",
       "      <td>2008051500038</td>\n",
       "      <td>Sandel, Cora</td>\n",
       "      <td>Alberte og Jakob</td>\n",
       "      <td>1953</td>\n",
       "    </tr>\n",
       "    <tr>\n",
       "      <th>4</th>\n",
       "      <td>2012052905120</td>\n",
       "      <td>Sandel, Cora</td>\n",
       "      <td>Sandels beste</td>\n",
       "      <td>2006</td>\n",
       "    </tr>\n",
       "  </tbody>\n",
       "</table>\n",
       "</div>"
      ],
      "text/plain": [
       "             urn        author                title  year\n",
       "0  2013102905001  Sandel, Cora    Alberte-trilogien  2009\n",
       "1  2007052101053  Sandel, Cora  Alberte og friheten  1965\n",
       "2  2007081004062  Sandel, Cora     Kranes konditori  1990\n",
       "3  2008051500038  Sandel, Cora     Alberte og Jakob  1953\n",
       "4  2012052905120  Sandel, Cora        Sandels beste  2006"
      ]
     },
     "execution_count": 24,
     "metadata": {},
     "output_type": "execute_result"
    }
   ],
   "source": [
    "sandel = nb.book_corpus(author='Sandel%Cora%', limit=5)\n",
    "sandel"
   ]
  },
  {
   "cell_type": "code",
   "execution_count": 25,
   "metadata": {},
   "outputs": [
    {
     "data": {
      "text/plain": [
       "['Som om hun hadde noen grunn til å være bitter',\n",
       " 'Alberte rer op , slår vaskevannet ut av vinduet , så det klasker i bakken , setter et par sko på plass ved veggen og henger bort noen plagg',\n",
       " 'En hører at han skal ka vært hos den og den , siden hører en kanskje ingenting på lenge',\n",
       " 'Ett efter ett lægger Alberte vedtrærne på og kjender en vild og stærk glæde ved at se flammen slå op omkring dem',\n",
       " 'Han er hva man kaller en pen mann , korrekt , tillitvekkende , velpleiet , i sine beste år',\n",
       " 'Også Albertes går fulle , stundens høytidelighet griper henne sterkt',\n",
       " 'Men fru Selmer erklærer , at Lydia er blitt virkelig udmærket pen , og at hun ser så ladylike ut',\n",
       " 'Det kommer intet',\n",
       " 'For nå ramler',\n",
       " 'Det vil gå opp øst i Elvekroken og dreie langsomt mot syd',\n",
       " 'Få være en av dem en stund da for pokker',\n",
       " 'Jeg vil ikke mer , roper hun , jeg vil ut av dette , vi',\n",
       " 'Til hvad nytte',\n",
       " 'Itun sprinter lanFB med alle de andre , tigrer av o ^ til rop elter Big : vVlderte « takkar — lr ^ ken Belnier — kull , la nenne ikke kornine lrein , tenk oni — kan ikke noen —',\n",
       " 'Jeg har , som sagt , talt endel med Bremer , han finder —',\n",
       " 'Du skal bare ikke vør at gjøre deg naivere enn du er',\n",
       " 'Et rykte på Montparnasse vil vite at han på et tidlig stadium blev avsløret som Tysklands spion og skutt , et annet at han simpelthen er forsvunnet som mange andre',\n",
       " 'Det er som var han ikke bare vennlig stemt mot Gjør ,',\n",
       " 'Så går nun sin vei med uret , styrter avsted langs våte , glinsende fortau , vel vitende at hun er ute i siste øyeblikk',\n",
       " 'Stordal får plutselig den hårde stemmen sin']"
      ]
     },
     "execution_count": 25,
     "metadata": {},
     "output_type": "execute_result"
    }
   ],
   "source": [
    "# Her legger vi setningene i en variabel som vi kan arbeide videre med\n",
    "\n",
    "sandel_setn = nb.sentences(nb.pure_urn(sandel), num=20)\n",
    "sandel_setn"
   ]
  },
  {
   "cell_type": "code",
   "execution_count": 28,
   "metadata": {},
   "outputs": [],
   "source": [
    "# Skriv setningene ut til en .txt-fil\n",
    "\n",
    "with open('setninger.txt', 'w', encoding='utf-8') as f:\n",
    "    for setning in sandel_setn:\n",
    "        f.write(setning)\n",
    "        f.write('\\n')\n"
   ]
  }
 ],
 "metadata": {
  "kernelspec": {
   "display_name": "Python 3",
   "language": "python",
   "name": "python3"
  },
  "language_info": {
   "codemirror_mode": {
    "name": "ipython",
    "version": 3
   },
   "file_extension": ".py",
   "mimetype": "text/x-python",
   "name": "python",
   "nbconvert_exporter": "python",
   "pygments_lexer": "ipython3",
   "version": "3.7.3"
  },
  "varInspector": {
   "cols": {
    "lenName": 16,
    "lenType": 16,
    "lenVar": 40
   },
   "kernels_config": {
    "python": {
     "delete_cmd_postfix": "",
     "delete_cmd_prefix": "del ",
     "library": "var_list.py",
     "varRefreshCmd": "print(var_dic_list())"
    },
    "r": {
     "delete_cmd_postfix": ") ",
     "delete_cmd_prefix": "rm(",
     "library": "var_list.r",
     "varRefreshCmd": "cat(var_dic_list()) "
    }
   },
   "types_to_exclude": [
    "module",
    "function",
    "builtin_function_or_method",
    "instance",
    "_Feature"
   ],
   "window_display": false
  }
 },
 "nbformat": 4,
 "nbformat_minor": 2
}
