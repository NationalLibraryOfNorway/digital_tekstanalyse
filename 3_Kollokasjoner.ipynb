{
 "cells": [
  {
   "attachments": {
    "DHlab_logo_web_no_red.png": {
     "image/png": "[encoded data removed]"
    }
   },
   "cell_type": "markdown",
   "metadata": {},
   "source": [
    "![DHlab_logo_web_no_red.png](attachment:DHlab_logo_web_no_red.png)"
   ]
  },
  {
   "cell_type": "code",
   "execution_count": 1,
   "metadata": {},
   "outputs": [
    {
     "name": "stdout",
     "output_type": "stream",
     "text": [
      "wordcloud er ikke installert, kan ikke lage ordskyer\n"
     ]
    }
   ],
   "source": [
    "import dhlab as dh\n",
    "from dhlab.api.dhlab_api import totals\n",
    "import dhlab.legacy.nbtext as nb"
   ]
  },
  {
   "cell_type": "markdown",
   "metadata": {},
   "source": [
    "# 3. Kollokasjoner eller assosiasjoner\n",
    "\n",
    "I denne notebooken viser vi eksempler på undersøkelser man kan gjøre for å finne ord som opptrer påfallende ofte sammen med et bestemt målord, og som derfor har en sterk assosiasjon med målordet i et gitt korpus.\n"
   ]
  },
  {
   "cell_type": "markdown",
   "metadata": {},
   "source": [
    "## 3.1. Konstruer et korpus \n",
    "\n",
    "Først må vi ha et tekstutvalg. Vi bygger et korpus med en gitt dewey-kategori. For å finne relevant dewey-klassifikasjon kan [Webdewey](http://deweysearchno.pansoft.de/webdeweysearch/index.html) være til god hjelp.\n",
    "\n",
    "Se eksempelfil om [Korpusbygging](https://nbviewer.org/github/NationalLibraryOfNorway/digital_tekstanalyse/blob/main/1_Bygg_korpus.ipynb) for andre måter å definere korpus."
   ]
  },
  {
   "cell_type": "code",
   "execution_count": 2,
   "metadata": {},
   "outputs": [],
   "source": [
    "# korpus med inntil 200 bøker fra dewey 641.2 (drikkevarer) utgitt mellom 1960 og 2020\n",
    "\n",
    "korpus = dh.Corpus(doctype=\"digibok\", ddk=\"641.2%\", from_year=1960, to_year=2020, limit=200)"
   ]
  },
  {
   "cell_type": "markdown",
   "metadata": {},
   "source": [
    "For å se metadata fra korpuset som dataramme brukes `.corpus`-attributtet fra `Corpus`-instansen. Man kan bruke `.head(n)` for å begrense antall `n` rader som vises."
   ]
  },
  {
   "cell_type": "code",
   "execution_count": 3,
   "metadata": {},
   "outputs": [
    {
     "data": {
      "text/html": [
       "<div>\n",
       "<style scoped>\n",
       "    .dataframe tbody tr th:only-of-type {\n",
       "        vertical-align: middle;\n",
       "    }\n",
       "\n",
       "    .dataframe tbody tr th {\n",
       "        vertical-align: top;\n",
       "    }\n",
       "\n",
       "    .dataframe thead th {\n",
       "        text-align: right;\n",
       "    }\n",
       "</style>\n",
       "<table border=\"1\" class=\"dataframe\">\n",
       "  <thead>\n",
       "    <tr style=\"text-align: right;\">\n",
       "      <th></th>\n",
       "      <th>dhlabid</th>\n",
       "      <th>urn</th>\n",
       "      <th>title</th>\n",
       "      <th>authors</th>\n",
       "      <th>oaiid</th>\n",
       "      <th>sesamid</th>\n",
       "      <th>isbn10</th>\n",
       "      <th>city</th>\n",
       "      <th>timestamp</th>\n",
       "      <th>year</th>\n",
       "      <th>publisher</th>\n",
       "      <th>langs</th>\n",
       "      <th>subjects</th>\n",
       "      <th>ddc</th>\n",
       "      <th>genres</th>\n",
       "      <th>literaryform</th>\n",
       "      <th>doctype</th>\n",
       "    </tr>\n",
       "  </thead>\n",
       "  <tbody>\n",
       "    <tr>\n",
       "      <th>0</th>\n",
       "      <td>100417937</td>\n",
       "      <td>URN:NBN:no-nb_digibok_2020040107002</td>\n",
       "      <td>Espens ølsafari : de beste ølturene og den bes...</td>\n",
       "      <td>Smith , Espen / Lello , Niklas</td>\n",
       "      <td>oai:nb.bibsys.no:991321172074702202</td>\n",
       "      <td>8bb5f0a1ae77eb084b5bbc75cca7db51</td>\n",
       "      <td></td>\n",
       "      <td></td>\n",
       "      <td>20130101</td>\n",
       "      <td>2013</td>\n",
       "      <td>Gursli Berg</td>\n",
       "      <td>nob</td>\n",
       "      <td></td>\n",
       "      <td>641.23094 / 641.23</td>\n",
       "      <td></td>\n",
       "      <td>Faglitteratur</td>\n",
       "      <td>digibok</td>\n",
       "    </tr>\n",
       "    <tr>\n",
       "      <th>1</th>\n",
       "      <td>100392431</td>\n",
       "      <td>URN:NBN:no-nb_digibok_2018103007366</td>\n",
       "      <td>Ølsmaking : finn dine favorittøl</td>\n",
       "      <td>Foseid , Gustav</td>\n",
       "      <td>oai:nb.bibsys.no:991511439864702202</td>\n",
       "      <td>f702b24b9f1f2375cd9f43ca97959925</td>\n",
       "      <td></td>\n",
       "      <td>Oslo</td>\n",
       "      <td>20150101</td>\n",
       "      <td>2015</td>\n",
       "      <td>Kagge</td>\n",
       "      <td>nob</td>\n",
       "      <td></td>\n",
       "      <td>641.23 / 641.23</td>\n",
       "      <td></td>\n",
       "      <td>Faglitteratur</td>\n",
       "      <td>digibok</td>\n",
       "    </tr>\n",
       "  </tbody>\n",
       "</table>\n",
       "</div>"
      ],
      "text/plain": [
       "     dhlabid                                  urn  \\\n",
       "0  100417937  URN:NBN:no-nb_digibok_2020040107002   \n",
       "1  100392431  URN:NBN:no-nb_digibok_2018103007366   \n",
       "\n",
       "                                               title  \\\n",
       "0  Espens ølsafari : de beste ølturene og den bes...   \n",
       "1                   Ølsmaking : finn dine favorittøl   \n",
       "\n",
       "                          authors                                oaiid  \\\n",
       "0  Smith , Espen / Lello , Niklas  oai:nb.bibsys.no:991321172074702202   \n",
       "1                 Foseid , Gustav  oai:nb.bibsys.no:991511439864702202   \n",
       "\n",
       "                            sesamid isbn10  city  timestamp  year  \\\n",
       "0  8bb5f0a1ae77eb084b5bbc75cca7db51                20130101  2013   \n",
       "1  f702b24b9f1f2375cd9f43ca97959925         Oslo   20150101  2015   \n",
       "\n",
       "     publisher langs subjects                 ddc genres   literaryform  \\\n",
       "0  Gursli Berg   nob           641.23094 / 641.23         Faglitteratur   \n",
       "1        Kagge   nob              641.23 / 641.23         Faglitteratur   \n",
       "\n",
       "   doctype  \n",
       "0  digibok  \n",
       "1  digibok  "
      ]
     },
     "execution_count": 3,
     "metadata": {},
     "output_type": "execute_result"
    }
   ],
   "source": [
    "korpus.corpus.head(2)"
   ]
  },
  {
   "cell_type": "markdown",
   "metadata": {},
   "source": [
    "## 3.2. Lag kollokasjoner fra korpuset\n",
    "\n",
    "Steg for steg: \n",
    "\n",
    "1. [Bygg kollokasjon](#321-bygg-kollokasjon)    \n",
    "2. [Finn en referanse](#322-finn-referanse)\n",
    "3. [Sammenlign kollokasjon med referanse](#323-sammenlign-kollokasjon-med-referanse)"
   ]
  },
  {
   "cell_type": "markdown",
   "metadata": {},
   "source": [
    "### 3.2.1. Bygg kollokasjon\n",
    "\n",
    "Hent ut kollokasjoner fra korpuset med `dh.Collocations`."
   ]
  },
  {
   "cell_type": "markdown",
   "metadata": {},
   "source": [
    "Vi søker etter konkordanser med `dh.Concordance` for å sjekke at analysene funker med korpuset vårt. "
   ]
  },
  {
   "cell_type": "code",
   "execution_count": 4,
   "metadata": {},
   "outputs": [
    {
     "data": {
      "text/html": [
       "<style type=\"text/css\">\n",
       "</style>\n",
       "<table id=\"T_2148e\">\n",
       "  <thead>\n",
       "    <tr>\n",
       "      <th class=\"blank level0\" >&nbsp;</th>\n",
       "      <th id=\"T_2148e_level0_col0\" class=\"col_heading level0 col0\" >link</th>\n",
       "      <th id=\"T_2148e_level0_col1\" class=\"col_heading level0 col1\" >concordance</th>\n",
       "    </tr>\n",
       "  </thead>\n",
       "  <tbody>\n",
       "    <tr>\n",
       "      <th id=\"T_2148e_level0_row0\" class=\"row_heading level0 row0\" >6</th>\n",
       "      <td id=\"T_2148e_row0_col0\" class=\"data row0 col0\" ><a target='_blank' href = 'https://urn.nb.no/URN:NBN:no-nb_digibok_2020112407621'>URN:NBN:no-nb_digibok_2020112407621</a></td>\n",
       "      <td id=\"T_2148e_row0_col1\" class=\"data row0 col1\" >... Ved Bull Run gik de reint gæli . \" \" Men <b>sei</b> me no du Jørn , håfør ha med denna krigen... </td>\n",
       "    </tr>\n",
       "    <tr>\n",
       "      <th id=\"T_2148e_level0_row1\" class=\"row_heading level0 row1\" >2</th>\n",
       "      <td id=\"T_2148e_row1_col0\" class=\"data row1 col0\" ><a target='_blank' href = 'https://urn.nb.no/URN:NBN:no-nb_digibok_2018031548126'>URN:NBN:no-nb_digibok_2018031548126</a></td>\n",
       "      <td id=\"T_2148e_row1_col1\" class=\"data row1 col1\" >... den enkelte råvare og tilberedningsmetoden det handler om . <b>Sei</b> har en litt tyngre smak , ser litt gråere ut... </td>\n",
       "    </tr>\n",
       "    <tr>\n",
       "      <th id=\"T_2148e_level0_row2\" class=\"row_heading level0 row2\" >7</th>\n",
       "      <td id=\"T_2148e_row2_col0\" class=\"data row2 col0\" ><a target='_blank' href = 'https://urn.nb.no/URN:NBN:no-nb_digibok_2020120907530'>URN:NBN:no-nb_digibok_2020120907530</a></td>\n",
       "      <td id=\"T_2148e_row2_col1\" class=\"data row2 col1\" >Bedales of Borough Market 5 Bedale St , London <b>SEI</b> 9 AL</td>\n",
       "    </tr>\n",
       "    <tr>\n",
       "      <th id=\"T_2148e_level0_row3\" class=\"row_heading level0 row3\" >1</th>\n",
       "      <td id=\"T_2148e_row3_col0\" class=\"data row3 col0\" ><a target='_blank' href = 'https://urn.nb.no/URN:NBN:no-nb_digibok_2018031548126'>URN:NBN:no-nb_digibok_2018031548126</a></td>\n",
       "      <td id=\"T_2148e_row3_col1\" class=\"data row3 col1\" >Det er ikke uten grunn at melstekt <b>sei</b> går under betegnelsen seibiff . For seiv om seien er en hvit... </td>\n",
       "    </tr>\n",
       "    <tr>\n",
       "      <th id=\"T_2148e_level0_row4\" class=\"row_heading level0 row4\" >0</th>\n",
       "      <td id=\"T_2148e_row4_col0\" class=\"data row4 col0\" ><a target='_blank' href = 'https://urn.nb.no/URN:NBN:no-nb_digibok_2018031548126'>URN:NBN:no-nb_digibok_2018031548126</a></td>\n",
       "      <td id=\"T_2148e_row4_col1\" class=\"data row4 col1\" >vin til melstekt <b>sei</b></td>\n",
       "    </tr>\n",
       "    <tr>\n",
       "      <th id=\"T_2148e_level0_row5\" class=\"row_heading level0 row5\" >3</th>\n",
       "      <td id=\"T_2148e_row5_col0\" class=\"data row5 col0\" ><a target='_blank' href = 'https://urn.nb.no/URN:NBN:no-nb_digibok_2018042548149'>URN:NBN:no-nb_digibok_2018042548149</a></td>\n",
       "      <td id=\"T_2148e_row5_col1\" class=\"data row5 col1\" >... men O HVIT FISK , nesten alt går . <b>Sei</b> , hyse , kolje , kveite , hva som helst... </td>\n",
       "    </tr>\n",
       "    <tr>\n",
       "      <th id=\"T_2148e_level0_row6\" class=\"row_heading level0 row6\" >5</th>\n",
       "      <td id=\"T_2148e_row6_col0\" class=\"data row6 col0\" ><a target='_blank' href = 'https://urn.nb.no/URN:NBN:no-nb_digibok_2020112407621'>URN:NBN:no-nb_digibok_2020112407621</a></td>\n",
       "      <td id=\"T_2148e_row6_col1\" class=\"data row6 col1\" >Sjå Løksli de ligg no so fint fram mæ li , no <b>sei</b> dei at Knut vil te Mæland å... </td>\n",
       "    </tr>\n",
       "    <tr>\n",
       "      <th id=\"T_2148e_level0_row7\" class=\"row_heading level0 row7\" >4</th>\n",
       "      <td id=\"T_2148e_row7_col0\" class=\"data row7 col0\" ><a target='_blank' href = 'https://urn.nb.no/URN:NBN:no-nb_digibok_2020112407621'>URN:NBN:no-nb_digibok_2020112407621</a></td>\n",
       "      <td id=\"T_2148e_row7_col1\" class=\"data row7 col1\" >... Så skulle ølet \" skakast ned \" , det vil <b>sei</b> fyllast over på tunna . Då smaka dei gjerne på ølet... </td>\n",
       "    </tr>\n",
       "  </tbody>\n",
       "</table>\n"
      ],
      "text/plain": [
       "<pandas.io.formats.style.Styler at 0x7f26afe6e850>"
      ]
     },
     "execution_count": 4,
     "metadata": {},
     "output_type": "execute_result"
    }
   ],
   "source": [
    "dh.Concordance(corpus=korpus, query=\"sei\").show()"
   ]
  },
  {
   "cell_type": "markdown",
   "metadata": {},
   "source": [
    "Vi definerer først en variabel med et bestemt målord som vi ønsker å hente ut kollokasjoner for.\n",
    "\n",
    "Det gjør det lettere å kjøre hele notebooken i flere omganger for ulike målord, man trenger bare bytte ut ordet i denne kodecellen."
   ]
  },
  {
   "cell_type": "code",
   "execution_count": 5,
   "metadata": {},
   "outputs": [],
   "source": [
    "collword = 'rødvin'"
   ]
  },
  {
   "cell_type": "markdown",
   "metadata": {},
   "source": [
    "Så kan vi hente ut selve kollokasjonen, dvs. ord som står innenfor en viss avstand fra målordet. \n",
    "\n",
    "Antall ord før og etter målordet kan endres ut fra konteksten man vil undersøke."
   ]
  },
  {
   "cell_type": "code",
   "execution_count": 6,
   "metadata": {},
   "outputs": [],
   "source": [
    "# Vi legger inn variablen collword som søkeord, med 5 ord før og etter. \n",
    "coll = dh.Collocations(corpus=korpus, words=collword, after=5, before=5, samplesize=1000)"
   ]
  },
  {
   "cell_type": "markdown",
   "metadata": {},
   "source": [
    "Kollokasjonen ligger i en [`pandas DataFrame`](https://pandas.pydata.org/pandas-docs/stable/reference/api/pandas.DataFrame.html) som kan sorteres på frekvens med `.sort()`, og undersøkes med `.head()`."
   ]
  },
  {
   "cell_type": "code",
   "execution_count": 7,
   "metadata": {},
   "outputs": [
    {
     "data": {
      "text/html": [
       "<div>\n",
       "<style scoped>\n",
       "    .dataframe tbody tr th:only-of-type {\n",
       "        vertical-align: middle;\n",
       "    }\n",
       "\n",
       "    .dataframe tbody tr th {\n",
       "        vertical-align: top;\n",
       "    }\n",
       "\n",
       "    .dataframe thead th {\n",
       "        text-align: right;\n",
       "    }\n",
       "</style>\n",
       "<table border=\"1\" class=\"dataframe\">\n",
       "  <thead>\n",
       "    <tr style=\"text-align: right;\">\n",
       "      <th></th>\n",
       "      <th>counts</th>\n",
       "    </tr>\n",
       "  </thead>\n",
       "  <tbody>\n",
       "    <tr>\n",
       "      <th>.</th>\n",
       "      <td>371</td>\n",
       "    </tr>\n",
       "    <tr>\n",
       "      <th>,</th>\n",
       "      <td>364</td>\n",
       "    </tr>\n",
       "    <tr>\n",
       "      <th>og</th>\n",
       "      <td>247</td>\n",
       "    </tr>\n",
       "    <tr>\n",
       "      <th>en</th>\n",
       "      <td>224</td>\n",
       "    </tr>\n",
       "    <tr>\n",
       "      <th>med</th>\n",
       "      <td>158</td>\n",
       "    </tr>\n",
       "    <tr>\n",
       "      <th>er</th>\n",
       "      <td>123</td>\n",
       "    </tr>\n",
       "    <tr>\n",
       "      <th>som</th>\n",
       "      <td>110</td>\n",
       "    </tr>\n",
       "    <tr>\n",
       "      <th>i</th>\n",
       "      <td>100</td>\n",
       "    </tr>\n",
       "    <tr>\n",
       "      <th>til</th>\n",
       "      <td>98</td>\n",
       "    </tr>\n",
       "    <tr>\n",
       "      <th>av</th>\n",
       "      <td>83</td>\n",
       "    </tr>\n",
       "  </tbody>\n",
       "</table>\n",
       "</div>"
      ],
      "text/plain": [
       "     counts\n",
       ".       371\n",
       ",       364\n",
       "og      247\n",
       "en      224\n",
       "med     158\n",
       "er      123\n",
       "som     110\n",
       "i       100\n",
       "til      98\n",
       "av       83"
      ]
     },
     "execution_count": 7,
     "metadata": {},
     "output_type": "execute_result"
    }
   ],
   "source": [
    "# Sorter fra høyest til lavest frekvens med .sort(), og lagre en kopi av den sorterte frekvenstabellen i en ny variabel\n",
    "coll_df = coll.sort().frame.copy()\n",
    "# Bruk .head(n) for å vise topp n treff \n",
    "coll_df.head(10)"
   ]
  },
  {
   "cell_type": "markdown",
   "metadata": {},
   "source": [
    "\n",
    "### 3.2.2. Finn referanse\n",
    "\n",
    "Vi kan måle assosiasjonsstyrken til kollokasjonen på flere måter. \n",
    "En er å bruke hele tekstsamlingen i Nasjonalbibliotekets digitale bokhylle  (NB Digital) som referansekorpus. \n",
    "\n",
    "For å hente ut ord fra bokhylla brukes funksjonen `totals(n)` der `n` er antall ord. Korpuset selv kan også benyttes, for eksempel med funksjonen `aggregate_urns()`.\n",
    "\n"
   ]
  },
  {
   "cell_type": "markdown",
   "metadata": {},
   "source": [
    "#### NB Digital (\"Bokhylla\") \n",
    "\n",
    "`totals` inneholder råfrekvenser fra Nasjonalbibliotekets katalog."
   ]
  },
  {
   "cell_type": "code",
   "execution_count": 8,
   "metadata": {},
   "outputs": [],
   "source": [
    "tot = totals(50000)"
   ]
  },
  {
   "cell_type": "code",
   "execution_count": 9,
   "metadata": {},
   "outputs": [
    {
     "data": {
      "text/html": [
       "<div>\n",
       "<style scoped>\n",
       "    .dataframe tbody tr th:only-of-type {\n",
       "        vertical-align: middle;\n",
       "    }\n",
       "\n",
       "    .dataframe tbody tr th {\n",
       "        vertical-align: top;\n",
       "    }\n",
       "\n",
       "    .dataframe thead th {\n",
       "        text-align: right;\n",
       "    }\n",
       "</style>\n",
       "<table border=\"1\" class=\"dataframe\">\n",
       "  <thead>\n",
       "    <tr style=\"text-align: right;\">\n",
       "      <th></th>\n",
       "      <th>freq</th>\n",
       "    </tr>\n",
       "  </thead>\n",
       "  <tbody>\n",
       "    <tr>\n",
       "      <th>.</th>\n",
       "      <td>7655423257</td>\n",
       "    </tr>\n",
       "    <tr>\n",
       "      <th>,</th>\n",
       "      <td>5052171514</td>\n",
       "    </tr>\n",
       "    <tr>\n",
       "      <th>i</th>\n",
       "      <td>2531262027</td>\n",
       "    </tr>\n",
       "    <tr>\n",
       "      <th>og</th>\n",
       "      <td>2520268056</td>\n",
       "    </tr>\n",
       "    <tr>\n",
       "      <th>-</th>\n",
       "      <td>1314451583</td>\n",
       "    </tr>\n",
       "  </tbody>\n",
       "</table>\n",
       "</div>"
      ],
      "text/plain": [
       "          freq\n",
       ".   7655423257\n",
       ",   5052171514\n",
       "i   2531262027\n",
       "og  2520268056\n",
       "-   1314451583"
      ]
     },
     "execution_count": 9,
     "metadata": {},
     "output_type": "execute_result"
    }
   ],
   "source": [
    "tot.head()"
   ]
  },
  {
   "cell_type": "markdown",
   "metadata": {},
   "source": [
    "#### Aggregert korpus\n",
    "\n",
    "Vi kan også aggregere korpuset med `dh.Counts`.\n"
   ]
  },
  {
   "cell_type": "code",
   "execution_count": 10,
   "metadata": {},
   "outputs": [],
   "source": [
    "# dh.Counts Teller tokens i hver tekst i korpuset\n",
    "dokumenter_aggregert = dh.Counts(korpus)"
   ]
  },
  {
   "cell_type": "code",
   "execution_count": 11,
   "metadata": {},
   "outputs": [],
   "source": [
    "# Summerer slik at vi får totalt antall tokens i korpuset\n",
    "korpus_agg = dokumenter_aggregert.counts.sum(axis=1)"
   ]
  },
  {
   "cell_type": "markdown",
   "metadata": {},
   "source": [
    "Vi gjør de aggregerte summene om til en dataramme, sorterer den, og ser på resultatet \n",
    "1. Dataramme med kommando `nb.frame()`\n",
    "2. Sortering med `nb.frame_sort()`"
   ]
  },
  {
   "cell_type": "code",
   "execution_count": 12,
   "metadata": {},
   "outputs": [],
   "source": [
    "korpus_agg = nb.frame_sort(nb.frame(korpus_agg))\n"
   ]
  },
  {
   "cell_type": "code",
   "execution_count": 13,
   "metadata": {},
   "outputs": [
    {
     "data": {
      "text/html": [
       "<div>\n",
       "<style scoped>\n",
       "    .dataframe tbody tr th:only-of-type {\n",
       "        vertical-align: middle;\n",
       "    }\n",
       "\n",
       "    .dataframe tbody tr th {\n",
       "        vertical-align: top;\n",
       "    }\n",
       "\n",
       "    .dataframe thead th {\n",
       "        text-align: right;\n",
       "    }\n",
       "</style>\n",
       "<table border=\"1\" class=\"dataframe\">\n",
       "  <thead>\n",
       "    <tr style=\"text-align: right;\">\n",
       "      <th></th>\n",
       "      <th>0</th>\n",
       "    </tr>\n",
       "  </thead>\n",
       "  <tbody>\n",
       "    <tr>\n",
       "      <th>,</th>\n",
       "      <td>101992.0</td>\n",
       "    </tr>\n",
       "    <tr>\n",
       "      <th>.</th>\n",
       "      <td>100198.0</td>\n",
       "    </tr>\n",
       "    <tr>\n",
       "      <th>og</th>\n",
       "      <td>57767.0</td>\n",
       "    </tr>\n",
       "    <tr>\n",
       "      <th>i</th>\n",
       "      <td>46178.0</td>\n",
       "    </tr>\n",
       "    <tr>\n",
       "      <th>er</th>\n",
       "      <td>36294.0</td>\n",
       "    </tr>\n",
       "    <tr>\n",
       "      <th>som</th>\n",
       "      <td>28769.0</td>\n",
       "    </tr>\n",
       "    <tr>\n",
       "      <th>en</th>\n",
       "      <td>26301.0</td>\n",
       "    </tr>\n",
       "    <tr>\n",
       "      <th>av</th>\n",
       "      <td>26272.0</td>\n",
       "    </tr>\n",
       "    <tr>\n",
       "      <th>det</th>\n",
       "      <td>23581.0</td>\n",
       "    </tr>\n",
       "    <tr>\n",
       "      <th>med</th>\n",
       "      <td>23076.0</td>\n",
       "    </tr>\n",
       "  </tbody>\n",
       "</table>\n",
       "</div>"
      ],
      "text/plain": [
       "            0\n",
       ",    101992.0\n",
       ".    100198.0\n",
       "og    57767.0\n",
       "i     46178.0\n",
       "er    36294.0\n",
       "som   28769.0\n",
       "en    26301.0\n",
       "av    26272.0\n",
       "det   23581.0\n",
       "med   23076.0"
      ]
     },
     "execution_count": 13,
     "metadata": {},
     "output_type": "execute_result"
    }
   ],
   "source": [
    "korpus_agg.head(10)"
   ]
  },
  {
   "cell_type": "markdown",
   "metadata": {},
   "source": [
    "### 3.2.3. Sammenlign kollokasjon med referanser"
   ]
  },
  {
   "cell_type": "markdown",
   "metadata": {},
   "source": [
    "Vi har nå tre sorterte frekvenslister som kan sammenlignes med hverandre. For å gjøre sammenligningen lettere, normaliserer vi dem med `normalize_corpus_dataframe()`."
   ]
  },
  {
   "cell_type": "code",
   "execution_count": 14,
   "metadata": {},
   "outputs": [
    {
     "data": {
      "text/plain": [
       "True"
      ]
     },
     "execution_count": 14,
     "metadata": {},
     "output_type": "execute_result"
    }
   ],
   "source": [
    "nb.normalize_corpus_dataframe(korpus_agg)\n",
    "nb.normalize_corpus_dataframe(tot)\n",
    "nb.normalize_corpus_dataframe(coll_df)"
   ]
  },
  {
   "cell_type": "markdown",
   "metadata": {},
   "source": [
    "#### Inspiser dataene etter normalisering\n",
    "\n",
    "Fyll in `n` > 5 i  `.head(n)` for å se mer av datarammen. "
   ]
  },
  {
   "cell_type": "markdown",
   "metadata": {},
   "source": [
    "#### Det aggregerte korpuset\n"
   ]
  },
  {
   "cell_type": "code",
   "execution_count": 15,
   "metadata": {},
   "outputs": [
    {
     "data": {
      "text/html": [
       "<div>\n",
       "<style scoped>\n",
       "    .dataframe tbody tr th:only-of-type {\n",
       "        vertical-align: middle;\n",
       "    }\n",
       "\n",
       "    .dataframe tbody tr th {\n",
       "        vertical-align: top;\n",
       "    }\n",
       "\n",
       "    .dataframe thead th {\n",
       "        text-align: right;\n",
       "    }\n",
       "</style>\n",
       "<table border=\"1\" class=\"dataframe\">\n",
       "  <thead>\n",
       "    <tr style=\"text-align: right;\">\n",
       "      <th></th>\n",
       "      <th>0</th>\n",
       "    </tr>\n",
       "  </thead>\n",
       "  <tbody>\n",
       "    <tr>\n",
       "      <th>,</th>\n",
       "      <td>0.048208</td>\n",
       "    </tr>\n",
       "    <tr>\n",
       "      <th>.</th>\n",
       "      <td>0.047361</td>\n",
       "    </tr>\n",
       "    <tr>\n",
       "      <th>og</th>\n",
       "      <td>0.027305</td>\n",
       "    </tr>\n",
       "    <tr>\n",
       "      <th>i</th>\n",
       "      <td>0.021827</td>\n",
       "    </tr>\n",
       "    <tr>\n",
       "      <th>er</th>\n",
       "      <td>0.017155</td>\n",
       "    </tr>\n",
       "  </tbody>\n",
       "</table>\n",
       "</div>"
      ],
      "text/plain": [
       "           0\n",
       ",   0.048208\n",
       ".   0.047361\n",
       "og  0.027305\n",
       "i   0.021827\n",
       "er  0.017155"
      ]
     },
     "execution_count": 15,
     "metadata": {},
     "output_type": "execute_result"
    }
   ],
   "source": [
    "korpus_agg.head()"
   ]
  },
  {
   "cell_type": "markdown",
   "metadata": {},
   "source": [
    "#### Referansekorpuset: NB digital\n"
   ]
  },
  {
   "cell_type": "code",
   "execution_count": 16,
   "metadata": {},
   "outputs": [
    {
     "data": {
      "text/html": [
       "<div>\n",
       "<style scoped>\n",
       "    .dataframe tbody tr th:only-of-type {\n",
       "        vertical-align: middle;\n",
       "    }\n",
       "\n",
       "    .dataframe tbody tr th {\n",
       "        vertical-align: top;\n",
       "    }\n",
       "\n",
       "    .dataframe thead th {\n",
       "        text-align: right;\n",
       "    }\n",
       "</style>\n",
       "<table border=\"1\" class=\"dataframe\">\n",
       "  <thead>\n",
       "    <tr style=\"text-align: right;\">\n",
       "      <th></th>\n",
       "      <th>freq</th>\n",
       "    </tr>\n",
       "  </thead>\n",
       "  <tbody>\n",
       "    <tr>\n",
       "      <th>.</th>\n",
       "      <td>0.070908</td>\n",
       "    </tr>\n",
       "    <tr>\n",
       "      <th>,</th>\n",
       "      <td>0.046796</td>\n",
       "    </tr>\n",
       "    <tr>\n",
       "      <th>i</th>\n",
       "      <td>0.023446</td>\n",
       "    </tr>\n",
       "    <tr>\n",
       "      <th>og</th>\n",
       "      <td>0.023344</td>\n",
       "    </tr>\n",
       "    <tr>\n",
       "      <th>-</th>\n",
       "      <td>0.012175</td>\n",
       "    </tr>\n",
       "  </tbody>\n",
       "</table>\n",
       "</div>"
      ],
      "text/plain": [
       "        freq\n",
       ".   0.070908\n",
       ",   0.046796\n",
       "i   0.023446\n",
       "og  0.023344\n",
       "-   0.012175"
      ]
     },
     "execution_count": 16,
     "metadata": {},
     "output_type": "execute_result"
    }
   ],
   "source": [
    "tot.head()"
   ]
  },
  {
   "cell_type": "markdown",
   "metadata": {},
   "source": [
    "#### Kollokasjonen\n",
    "<!-- Kollokasjonen *coll* har gjennomgående høyere verdier, noe som sannsynligvis skyldes at det er færre ord. -->"
   ]
  },
  {
   "cell_type": "code",
   "execution_count": 17,
   "metadata": {},
   "outputs": [
    {
     "data": {
      "text/html": [
       "<div>\n",
       "<style scoped>\n",
       "    .dataframe tbody tr th:only-of-type {\n",
       "        vertical-align: middle;\n",
       "    }\n",
       "\n",
       "    .dataframe tbody tr th {\n",
       "        vertical-align: top;\n",
       "    }\n",
       "\n",
       "    .dataframe thead th {\n",
       "        text-align: right;\n",
       "    }\n",
       "</style>\n",
       "<table border=\"1\" class=\"dataframe\">\n",
       "  <thead>\n",
       "    <tr style=\"text-align: right;\">\n",
       "      <th></th>\n",
       "      <th>counts</th>\n",
       "    </tr>\n",
       "  </thead>\n",
       "  <tbody>\n",
       "    <tr>\n",
       "      <th>.</th>\n",
       "      <td>0.057788</td>\n",
       "    </tr>\n",
       "    <tr>\n",
       "      <th>,</th>\n",
       "      <td>0.056698</td>\n",
       "    </tr>\n",
       "    <tr>\n",
       "      <th>og</th>\n",
       "      <td>0.038474</td>\n",
       "    </tr>\n",
       "    <tr>\n",
       "      <th>en</th>\n",
       "      <td>0.034891</td>\n",
       "    </tr>\n",
       "    <tr>\n",
       "      <th>med</th>\n",
       "      <td>0.024611</td>\n",
       "    </tr>\n",
       "  </tbody>\n",
       "</table>\n",
       "</div>"
      ],
      "text/plain": [
       "       counts\n",
       ".    0.057788\n",
       ",    0.056698\n",
       "og   0.038474\n",
       "en   0.034891\n",
       "med  0.024611"
      ]
     },
     "execution_count": 17,
     "metadata": {},
     "output_type": "execute_result"
    }
   ],
   "source": [
    "coll_df.head()"
   ]
  },
  {
   "cell_type": "markdown",
   "metadata": {},
   "source": [
    "#### Sammenligning: utregning\n",
    "\n",
    "For sammenligningen måles forskjellen på `coll_df` med referansen. Forskjellen måles ved å dividere hvert ords frekvens ikollokasjonen på frekvensen ordet har i referansen.\n",
    "\n",
    "$$\\textrm{assosiasjons-styrke}(w) = \\frac{\\textrm{coll}(w)}{\\textrm{referanse}(w)}$$\n",
    "\n",
    "Divisjonen pr.ord gjøres av Python - resultat sorteres og legges i variabelen `coll_assoc`"
   ]
  },
  {
   "cell_type": "code",
   "execution_count": 18,
   "metadata": {},
   "outputs": [],
   "source": [
    "coll_assoc = (coll_df.counts**1.0/tot.freq).sort_values().to_frame()"
   ]
  },
  {
   "cell_type": "code",
   "execution_count": 19,
   "metadata": {},
   "outputs": [
    {
     "data": {
      "text/html": [
       "<div>\n",
       "<style scoped>\n",
       "    .dataframe tbody tr th:only-of-type {\n",
       "        vertical-align: middle;\n",
       "    }\n",
       "\n",
       "    .dataframe tbody tr th {\n",
       "        vertical-align: top;\n",
       "    }\n",
       "\n",
       "    .dataframe thead th {\n",
       "        text-align: right;\n",
       "    }\n",
       "</style>\n",
       "<table border=\"1\" class=\"dataframe\">\n",
       "  <thead>\n",
       "    <tr style=\"text-align: right;\">\n",
       "      <th></th>\n",
       "      <th>0</th>\n",
       "    </tr>\n",
       "  </thead>\n",
       "  <tbody>\n",
       "    <tr>\n",
       "      <th>han</th>\n",
       "      <td>0.047733</td>\n",
       "    </tr>\n",
       "    <tr>\n",
       "      <th>r</th>\n",
       "      <td>0.066077</td>\n",
       "    </tr>\n",
       "    <tr>\n",
       "      <th>'</th>\n",
       "      <td>0.069777</td>\n",
       "    </tr>\n",
       "    <tr>\n",
       "      <th>a</th>\n",
       "      <td>0.097654</td>\n",
       "    </tr>\n",
       "    <tr>\n",
       "      <th>m</th>\n",
       "      <td>0.118410</td>\n",
       "    </tr>\n",
       "    <tr>\n",
       "      <th>&gt;</th>\n",
       "      <td>0.121947</td>\n",
       "    </tr>\n",
       "    <tr>\n",
       "      <th>alle</th>\n",
       "      <td>0.126860</td>\n",
       "    </tr>\n",
       "    <tr>\n",
       "      <th>6</th>\n",
       "      <td>0.130331</td>\n",
       "    </tr>\n",
       "    <tr>\n",
       "      <th>e</th>\n",
       "      <td>0.155172</td>\n",
       "    </tr>\n",
       "    <tr>\n",
       "      <th>7</th>\n",
       "      <td>0.160745</td>\n",
       "    </tr>\n",
       "    <tr>\n",
       "      <th>9</th>\n",
       "      <td>0.170787</td>\n",
       "    </tr>\n",
       "    <tr>\n",
       "      <th>nå</th>\n",
       "      <td>0.182008</td>\n",
       "    </tr>\n",
       "    <tr>\n",
       "      <th>år</th>\n",
       "      <td>0.183651</td>\n",
       "    </tr>\n",
       "    <tr>\n",
       "      <th>kunne</th>\n",
       "      <td>0.186461</td>\n",
       "    </tr>\n",
       "    <tr>\n",
       "      <th>\"</th>\n",
       "      <td>0.192506</td>\n",
       "    </tr>\n",
       "    <tr>\n",
       "      <th>»</th>\n",
       "      <td>0.206628</td>\n",
       "    </tr>\n",
       "    <tr>\n",
       "      <th>kom</th>\n",
       "      <td>0.209637</td>\n",
       "    </tr>\n",
       "    <tr>\n",
       "      <th>©</th>\n",
       "      <td>0.226078</td>\n",
       "    </tr>\n",
       "    <tr>\n",
       "      <th>får</th>\n",
       "      <td>0.226907</td>\n",
       "    </tr>\n",
       "    <tr>\n",
       "      <th>11</th>\n",
       "      <td>0.230753</td>\n",
       "    </tr>\n",
       "  </tbody>\n",
       "</table>\n",
       "</div>"
      ],
      "text/plain": [
       "              0\n",
       "han    0.047733\n",
       "r      0.066077\n",
       "'      0.069777\n",
       "a      0.097654\n",
       "m      0.118410\n",
       ">      0.121947\n",
       "alle   0.126860\n",
       "6      0.130331\n",
       "e      0.155172\n",
       "7      0.160745\n",
       "9      0.170787\n",
       "nå     0.182008\n",
       "år     0.183651\n",
       "kunne  0.186461\n",
       "\"      0.192506\n",
       "»      0.206628\n",
       "kom    0.209637\n",
       "©      0.226078\n",
       "får    0.226907\n",
       "11     0.230753"
      ]
     },
     "execution_count": 19,
     "metadata": {},
     "output_type": "execute_result"
    }
   ],
   "source": [
    "coll_assoc.head(20)"
   ]
  },
  {
   "cell_type": "markdown",
   "metadata": {},
   "source": [
    "#### 3.2.3.2. Sammenlign med korpus\n",
    "\n",
    "Her kan det være nyttig å bruke en eksponent for å dempe effekten av lavfrekvente ord."
   ]
  },
  {
   "cell_type": "code",
   "execution_count": 20,
   "metadata": {},
   "outputs": [],
   "source": [
    "coll_assoc_korp = (coll_df.counts**1.2/korpus_agg.iloc[:, 0]).sort_values().to_frame()"
   ]
  },
  {
   "cell_type": "code",
   "execution_count": 21,
   "metadata": {},
   "outputs": [
    {
     "data": {
      "text/html": [
       "<div>\n",
       "<style scoped>\n",
       "    .dataframe tbody tr th:only-of-type {\n",
       "        vertical-align: middle;\n",
       "    }\n",
       "\n",
       "    .dataframe tbody tr th {\n",
       "        vertical-align: top;\n",
       "    }\n",
       "\n",
       "    .dataframe thead th {\n",
       "        text-align: right;\n",
       "    }\n",
       "</style>\n",
       "<table border=\"1\" class=\"dataframe\">\n",
       "  <thead>\n",
       "    <tr style=\"text-align: right;\">\n",
       "      <th></th>\n",
       "      <th>0</th>\n",
       "    </tr>\n",
       "  </thead>\n",
       "  <tbody>\n",
       "    <tr>\n",
       "      <th>100</th>\n",
       "      <td>0.017447</td>\n",
       "    </tr>\n",
       "    <tr>\n",
       "      <th>%</th>\n",
       "      <td>0.021806</td>\n",
       "    </tr>\n",
       "    <tr>\n",
       "      <th>han</th>\n",
       "      <td>0.024867</td>\n",
       "    </tr>\n",
       "    <tr>\n",
       "      <th>'</th>\n",
       "      <td>0.025543</td>\n",
       "    </tr>\n",
       "    <tr>\n",
       "      <th>alle</th>\n",
       "      <td>0.029087</td>\n",
       "    </tr>\n",
       "    <tr>\n",
       "      <th>30</th>\n",
       "      <td>0.033393</td>\n",
       "    </tr>\n",
       "    <tr>\n",
       "      <th>40</th>\n",
       "      <td>0.034091</td>\n",
       "    </tr>\n",
       "    <tr>\n",
       "      <th>g</th>\n",
       "      <td>0.035513</td>\n",
       "    </tr>\n",
       "    <tr>\n",
       "      <th>store</th>\n",
       "      <td>0.036165</td>\n",
       "    </tr>\n",
       "    <tr>\n",
       "      <th>hvor</th>\n",
       "      <td>0.037447</td>\n",
       "    </tr>\n",
       "    <tr>\n",
       "      <th>OG</th>\n",
       "      <td>0.039604</td>\n",
       "    </tr>\n",
       "    <tr>\n",
       "      <th>får</th>\n",
       "      <td>0.039936</td>\n",
       "    </tr>\n",
       "    <tr>\n",
       "      <th>’</th>\n",
       "      <td>0.040303</td>\n",
       "    </tr>\n",
       "    <tr>\n",
       "      <th>deg</th>\n",
       "      <td>0.042399</td>\n",
       "    </tr>\n",
       "    <tr>\n",
       "      <th>nå</th>\n",
       "      <td>0.043664</td>\n",
       "    </tr>\n",
       "    <tr>\n",
       "      <th>°</th>\n",
       "      <td>0.043933</td>\n",
       "    </tr>\n",
       "    <tr>\n",
       "      <th>kunne</th>\n",
       "      <td>0.044690</td>\n",
       "    </tr>\n",
       "    <tr>\n",
       "      <th>noen</th>\n",
       "      <td>0.046052</td>\n",
       "    </tr>\n",
       "    <tr>\n",
       "      <th>C</th>\n",
       "      <td>0.046701</td>\n",
       "    </tr>\n",
       "    <tr>\n",
       "      <th>år</th>\n",
       "      <td>0.049013</td>\n",
       "    </tr>\n",
       "  </tbody>\n",
       "</table>\n",
       "</div>"
      ],
      "text/plain": [
       "              0\n",
       "100    0.017447\n",
       "%      0.021806\n",
       "han    0.024867\n",
       "'      0.025543\n",
       "alle   0.029087\n",
       "30     0.033393\n",
       "40     0.034091\n",
       "g      0.035513\n",
       "store  0.036165\n",
       "hvor   0.037447\n",
       "OG     0.039604\n",
       "får    0.039936\n",
       "’      0.040303\n",
       "deg    0.042399\n",
       "nå     0.043664\n",
       "°      0.043933\n",
       "kunne  0.044690\n",
       "noen   0.046052\n",
       "C      0.046701\n",
       "år     0.049013"
      ]
     },
     "execution_count": 21,
     "metadata": {},
     "output_type": "execute_result"
    }
   ],
   "source": [
    "coll_assoc_korp.head(20)"
   ]
  },
  {
   "cell_type": "markdown",
   "metadata": {},
   "source": [
    "## 3.3. Visualiser med en ordsky\n",
    "\n",
    "\n",
    "Visualiseringen trives best med tall mellom 0 og 1, så assosiasjonene divideres på summen av dem for å få til det. Ordskyene lages med kommonandoen `cloud()`. Pass på å ikke ta med alt for mange; det kan gi feilsituasjoner."
   ]
  },
  {
   "cell_type": "code",
   "execution_count": 22,
   "metadata": {},
   "outputs": [
    {
     "ename": "NameError",
     "evalue": "name 'WordCloud' is not defined",
     "output_type": "error",
     "traceback": [
      "\u001b[0;31m---------------------------------------------------------------------------\u001b[0m",
      "\u001b[0;31mNameError\u001b[0m                                 Traceback (most recent call last)",
      "Cell \u001b[0;32mIn [22], line 3\u001b[0m\n\u001b[1;32m      1\u001b[0m \u001b[39m# Her viser vi de 50 viktigste ordene som er assosiert med rødvin i korpuset vårt, målt mot alle bøker i nb.no \u001b[39;00m\n\u001b[0;32m----> 3\u001b[0m nb\u001b[39m.\u001b[39;49mcloud(coll_assoc\u001b[39m.\u001b[39;49mhead(\u001b[39m50\u001b[39;49m)\u001b[39m/\u001b[39;49mcoll_assoc\u001b[39m.\u001b[39;49msum())\n",
      "File \u001b[0;32m~/.pyenv/versions/3.11.0/envs/dh_env/lib/python3.11/site-packages/dhlab/legacy/nbtext.py:1331\u001b[0m, in \u001b[0;36mcloud\u001b[0;34m(df, column, top, width, height, background, file, stretch, font_path)\u001b[0m\n\u001b[1;32m   1329\u001b[0m     column \u001b[39m=\u001b[39m df\u001b[39m.\u001b[39mcolumns[\u001b[39m0\u001b[39m]\n\u001b[1;32m   1330\u001b[0m data \u001b[39m=\u001b[39m json\u001b[39m.\u001b[39mloads(df[column]\u001b[39m.\u001b[39mto_json())\n\u001b[0;32m-> 1331\u001b[0m a_cloud \u001b[39m=\u001b[39m make_cloud(data, top\u001b[39m=\u001b[39;49mtop,\n\u001b[1;32m   1332\u001b[0m                      background\u001b[39m=\u001b[39;49mbackground, font_path\u001b[39m=\u001b[39;49mfont_path,\n\u001b[1;32m   1333\u001b[0m                      stretch\u001b[39m=\u001b[39;49m\u001b[39mlambda\u001b[39;49;00m x: \u001b[39m2\u001b[39;49m \u001b[39m*\u001b[39;49m\u001b[39m*\u001b[39;49m (stretch \u001b[39m*\u001b[39;49m x), width\u001b[39m=\u001b[39;49mwidth,\n\u001b[1;32m   1334\u001b[0m                      height\u001b[39m=\u001b[39;49mheight)\n\u001b[1;32m   1335\u001b[0m draw_cloud(a_cloud, fil\u001b[39m=\u001b[39mfile)\n",
      "File \u001b[0;32m~/.pyenv/versions/3.11.0/envs/dh_env/lib/python3.11/site-packages/dhlab/legacy/nbtext.py:1305\u001b[0m, in \u001b[0;36mmake_cloud\u001b[0;34m(json_text, top, background, stretch, width, height, font_path)\u001b[0m\n\u001b[1;32m   1303\u001b[0m pairs0 \u001b[39m=\u001b[39m Counter(json_text)\u001b[39m.\u001b[39mmost_common(top)\n\u001b[1;32m   1304\u001b[0m pairs \u001b[39m=\u001b[39m {x[\u001b[39m0\u001b[39m]: stretch(x[\u001b[39m1\u001b[39m]) \u001b[39mfor\u001b[39;00m x \u001b[39min\u001b[39;00m pairs0}\n\u001b[0;32m-> 1305\u001b[0m wc \u001b[39m=\u001b[39m WordCloud(\n\u001b[1;32m   1306\u001b[0m     font_path\u001b[39m=\u001b[39mfont_path,\n\u001b[1;32m   1307\u001b[0m     background_color\u001b[39m=\u001b[39mbackground,\n\u001b[1;32m   1308\u001b[0m     width\u001b[39m=\u001b[39mwidth,\n\u001b[1;32m   1309\u001b[0m     \u001b[39m# color_func=my_colorfunc,\u001b[39;00m\n\u001b[1;32m   1310\u001b[0m     ranks_only\u001b[39m=\u001b[39m\u001b[39mTrue\u001b[39;00m,\n\u001b[1;32m   1311\u001b[0m     height\u001b[39m=\u001b[39mheight)\u001b[39m.\u001b[39mgenerate_from_frequencies(pairs)\n\u001b[1;32m   1312\u001b[0m \u001b[39mreturn\u001b[39;00m wc\n",
      "\u001b[0;31mNameError\u001b[0m: name 'WordCloud' is not defined"
     ]
    }
   ],
   "source": [
    "# Her viser vi de 50 viktigste ordene som er assosiert med rødvin i korpuset vårt, målt mot alle bøker i nb.no \n",
    "\n",
    "nb.cloud(coll_assoc.head(50)/coll_assoc.sum())"
   ]
  },
  {
   "cell_type": "code",
   "execution_count": null,
   "metadata": {},
   "outputs": [],
   "source": [
    "# Her viser vi de 50 viktigste ordene som er assosiert med rødvin, målt mot hele \"Drikkevare\"-korpuset\n",
    "\n",
    "nb.cloud(coll_assoc_korp.head(50)/coll_assoc_korp.sum())"
   ]
  },
  {
   "cell_type": "markdown",
   "metadata": {},
   "source": [
    "## 3.4. Gjenbruk med andre ord og korpus"
   ]
  },
  {
   "cell_type": "markdown",
   "metadata": {},
   "source": [
    "1. Bytt ut parametrene i cellen der `korpus` blir definert.\n",
    "2. Bytt ut ordet som er angitt som `collword`.\n",
    "3. Gå til `Cell` i menyen og velg `Run All`.\n",
    "\n",
    "Det er også mulig å først velge `File` og `Make a Copy`, slik at man oppretter en ny notebook før man starter."
   ]
  },
  {
   "cell_type": "markdown",
   "metadata": {},
   "source": [
    "Tilbake til [DHLAB ved Nasjonalbiblioteket](https://nbviewer.org/github/NationalLibraryOfNorway/digital_tekstanalyse/blob/main/DHLAB_ved_Nasjonalbiblioteket.ipynb)"
   ]
  }
 ],
 "metadata": {
  "hide_input": false,
  "kernelspec": {
   "display_name": "Python 3.11.0 64-bit ('dh_env')",
   "language": "python",
   "name": "python3"
  },
  "language_info": {
   "codemirror_mode": {
    "name": "ipython",
    "version": 3
   },
   "file_extension": ".py",
   "mimetype": "text/x-python",
   "name": "python",
   "nbconvert_exporter": "python",
   "pygments_lexer": "ipython3",
   "version": "3.11.0"
  },
  "varInspector": {
   "cols": {
    "lenName": 16,
    "lenType": 16,
    "lenVar": 40
   },
   "kernels_config": {
    "python": {
     "delete_cmd_postfix": "",
     "delete_cmd_prefix": "del ",
     "library": "var_list.py",
     "varRefreshCmd": "print(var_dic_list())"
    },
    "r": {
     "delete_cmd_postfix": ") ",
     "delete_cmd_prefix": "rm(",
     "library": "var_list.r",
     "varRefreshCmd": "cat(var_dic_list()) "
    }
   },
   "types_to_exclude": [
    "module",
    "function",
    "builtin_function_or_method",
    "instance",
    "_Feature"
   ],
   "window_display": false
  },
  "vscode": {
   "interpreter": {
    "hash": "f2755d8ce3ccdb267e1a10f38109441e1493c17b0c49ae1fd6e138edd029bf7b"
   }
  }
 },
 "nbformat": 4,
 "nbformat_minor": 4
}
