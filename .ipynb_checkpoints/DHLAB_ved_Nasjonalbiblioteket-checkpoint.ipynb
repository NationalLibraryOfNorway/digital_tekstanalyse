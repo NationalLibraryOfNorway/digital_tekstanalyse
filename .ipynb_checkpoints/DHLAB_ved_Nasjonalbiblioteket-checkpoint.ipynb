{
 "cells": [
  {
   "attachments": {
    "DHlab_logo_web_no_red.png": {
     "image/png": "[encoded data removed]"
    }
   },
   "cell_type": "markdown",
   "metadata": {},
   "source": [
    "![DHlab_logo_web_no_red.png](attachment:DHlab_logo_web_no_red.png)"
   ]
  },
  {
   "cell_type": "markdown",
   "metadata": {},
   "source": [
    "## Velkommen til Nasjonalbibliotekets DH-LAB \n",
    "\n",
    "Formålet med disse sidene er å gjøre forskere istand til å utføre tekstanalyser i Nasjonalbibliotekets digitaliserte samlinger av aviser og bøker. \n",
    "\n",
    "Alt materiale er tilrettelagt for python-kode i Jupyter Notebook. Hver enkelt notebook kan lastes ned ved å trykke på ikonet øverst i høyre hjørne. For å kunne kjøre koden må fila lagres som .ipynb\n",
    "\n",
    "Alle eksemplene kan også utføres i [Binder](http://mybinder.org \"Binder\"). Klikk på symbolet med de tre ringene som å komme til Binder-versjonen. \n",
    "\n",
    "Filformatet er .ipynb og kan åpnes i Jupyter Notebook. Jupyter Notebook lastes ned fra [Anaconda Distribution](https://www.anaconda.com/distribution/#download-section \"Anaconda Distribution\"). Velg nyeste versjon av Python for ditt operativsystem. \n",
    "\n",
    "For en innføring i Python og Jupyter Notebook, se for eksempel [Jupyter Notebook: An Introduction](https://realpython.com/jupyter-notebook-introduction/ \"Jupyter Notebook: An Introduction\")\n",
    "\n"
   ]
  },
  {
   "cell_type": "markdown",
   "metadata": {},
   "source": [
    "### Importer modulen _dhlab_ fra PyPi\n",
    "[dhlab](https://pypi.org/project/dhlab/ \"API for Nasjonalbiblioteket\") inneholder de pythonmodulene som trengs for å undersøke tekstene i Nasjonalbibliotekets samling. Modulen installeres med _!pip install dhlab_"
   ]
  },
  {
   "cell_type": "code",
   "execution_count": null,
   "metadata": {},
   "outputs": [],
   "source": [
    "!pip install dhlab"
   ]
  },
  {
   "cell_type": "markdown",
   "metadata": {},
   "source": [
    "Nå er dhlab installert på maskinen din, og du trenger ikke å gjøre det flere ganger. Alle pythonmoduler oppdateres fra tid til annen, skriv _!pip install --upgrade dhlab_ for å oppdatere."
   ]
  },
  {
   "cell_type": "markdown",
   "metadata": {},
   "source": [
    "### Innholdet i dhlab\n",
    "\n",
    "dhlab inneholder ulike moduler som må installeres i hver enkelt notebook for at koden skal fungere. \n",
    "\n",
    "skriv `import dhlab.`+`tab` for visning og valg av modulene"
   ]
  },
  {
   "cell_type": "code",
   "execution_count": 3,
   "metadata": {},
   "outputs": [
    {
     "data": {
      "text/html": [
       "<style>@import url(\n",
       "http://fonts.googleapis.com/css?family=Lato|Philosopher|Montserrat|Source+Code+Pro|Istok+Web|Philosopher|Assistant:200,400,700);\n",
       "\n",
       "/*\n",
       "#notebook-container {\n",
       "\t-webkit-box-shadow: none;\n",
       "\tbox-shadow: none;\n",
       "}\n",
       "*/\n",
       "\n",
       "h1, h2, h3, h4, h5, h6 {\n",
       "\tfont-family: 'Montserrat', sans-serif;\n",
       "\tline-height: 2em;\n",
       "    color: #004f99;\n",
       "    font-weight: 600;\n",
       "}\n",
       "\n",
       "h1 { font-size: 4.5em; }\n",
       "h2 { font-size: 4em; }\n",
       "h3 { font-size: 3.5em; }\n",
       "h4 { font-size: 3em; }\n",
       "h5 { font-size: 2.5em; color:DarkSlateGray; }\n",
       "h6 { font-size: 2em; }\n",
       "\n",
       "p {\n",
       "\tfont-family: 'Assistant', sans-serif; \n",
       "\tfont-size: 1.2em;\n",
       "\tline-height: 1.4em;\n",
       "\tcolor: black;\n",
       "}\n",
       "p code {\n",
       "\tfont-size:0.9em;\n",
       "}\n",
       "div.input_area {\n",
       "\tborder:none !important;\n",
       "\tborder-left:1px solid #ff851b !important\n",
       "}\n",
       "\n",
       "span.cm-keyword {\n",
       "\tcolor:#339966 !important;\n",
       "}\n",
       "span.nn {  /*span.cm-variable, span.cm-property*/\n",
       "\tcolor: #3399ff !important;\n",
       "}\n",
       "div.CodeMirror {\n",
       "\tfont-family: 'Inconsolata', monospace;\n",
       "\tfont-size: 1.1em;\n",
       "\t\n",
       "}\n",
       "</style>"
      ],
      "text/plain": [
       "<IPython.core.display.HTML object>"
      ]
     },
     "execution_count": 3,
     "metadata": {},
     "output_type": "execute_result"
    }
   ],
   "source": [
    "import dhlab.nbtext as nb\n",
    "from dhlab.module_update import css\n",
    "css()"
   ]
  },
  {
   "cell_type": "markdown",
   "metadata": {},
   "source": [
    "### Eksempelfiler"
   ]
  },
  {
   "cell_type": "markdown",
   "metadata": {},
   "source": [
    "Nedenfor er en rekke eksempler på analyser som kan gjøres i Nasjonalbibliotekets tekster. "
   ]
  },
  {
   "cell_type": "markdown",
   "metadata": {},
   "source": [
    "[0. Oppstart dhlab](https://nbviewer.jupyter.org/github/DH-LAB-NB/DHLAB/blob/master/Oppstart.ipynb)\n",
    "\n",
    "[1. Bygg korpus](https://nbviewer.jupyter.org/github/DH-LAB-NB/DHLAB/blob/master/1_Bygg_korpus.ipynb)\n",
    "\n",
    "[2. Konkordans](https://nbviewer.jupyter.org/github/DH-LAB-NB/DHLAB/blob/master/2_Konkordans.ipynb)\n",
    "\n",
    "[3. Kollokasjoner](https://nbviewer.jupyter.org/github/DH-LAB-NB/DHLAB/blob/master/3_Kollokasjoner.ipynb)\n",
    "\n",
    "[4. N-gram og galakser](https://nbviewer.jupyter.org/github/DH-LAB-NB/DHLAB/blob/master/4_N-gram_og_galakser.ipynb)\n",
    "\n",
    "[5. Navnegrafer](https://nbviewer.jupyter.org/github/DH-LAB-NB/DHLAB/blob/master/5_Navnegrafer.ipynb)\n",
    "\n",
    "[6. Søk med trunkering](https://nbviewer.jupyter.org/github/DH-LAB-NB/DHLAB/blob/master/6_Søk_med_trunkering.ipynb)\n",
    "\n",
    "[7. Setningsuttrekk](https://nbviewer.jupyter.org/github/DH-LAB-NB/DHLAB/blob/master/7_Setningsuttrekk.ipynb)\n",
    "\n",
    "[8. Sammenlign metadata](https://nbviewer.jupyter.org/github/DH-LAB-NB/DHLAB/blob/master/8_Sammenlign_metadata.ipynb)\n",
    "\n",
    "[9. Ordparadigmer](https://nbviewer.jupyter.org/github/DH-LAB-NB/DHLAB/blob/master/9_Ordparadigmer.ipynb)\n",
    "\n",
    "[10. Søk i aviser](https://nbviewer.jupyter.org/github/DH-LAB-NB/DHLAB/blob/master/10_S%C3%B8k_i_aviser.ipynb)"
   ]
  },
  {
   "cell_type": "markdown",
   "metadata": {},
   "source": [
    "## Forskningsartikler"
   ]
  },
  {
   "cell_type": "markdown",
   "metadata": {},
   "source": [
    "[Forskningsartikler og anbefalt lesning](https://nbviewer.jupyter.org/github/DH-LAB-NB/DHLAB/blob/master/Anbefalt_lesning.ipynb)"
   ]
  },
  {
   "cell_type": "markdown",
   "metadata": {},
   "source": [
    "### Hjelp!"
   ]
  },
  {
   "cell_type": "markdown",
   "metadata": {},
   "source": [
    "[Spør Nasjonalbiblioteket](https://sporbiblioteket.nb.no/index.php?)"
   ]
  }
 ],
 "metadata": {
  "kernelspec": {
   "display_name": "Python 3",
   "language": "python",
   "name": "python3"
  },
  "language_info": {
   "codemirror_mode": {
    "name": "ipython",
    "version": 3
   },
   "file_extension": ".py",
   "mimetype": "text/x-python",
   "name": "python",
   "nbconvert_exporter": "python",
   "pygments_lexer": "ipython3",
   "version": "3.7.1"
  },
  "varInspector": {
   "cols": {
    "lenName": 16,
    "lenType": 16,
    "lenVar": 40
   },
   "kernels_config": {
    "python": {
     "delete_cmd_postfix": "",
     "delete_cmd_prefix": "del ",
     "library": "var_list.py",
     "varRefreshCmd": "print(var_dic_list())"
    },
    "r": {
     "delete_cmd_postfix": ") ",
     "delete_cmd_prefix": "rm(",
     "library": "var_list.r",
     "varRefreshCmd": "cat(var_dic_list()) "
    }
   },
   "types_to_exclude": [
    "module",
    "function",
    "builtin_function_or_method",
    "instance",
    "_Feature"
   ],
   "window_display": false
  }
 },
 "nbformat": 4,
 "nbformat_minor": 2
}
