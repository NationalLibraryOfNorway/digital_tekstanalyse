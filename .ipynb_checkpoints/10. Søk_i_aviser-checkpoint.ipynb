{
 "cells": [
  {
   "cell_type": "markdown",
   "metadata": {},
   "source": [
    "# Aviser\n",
    "\n",
    "Aviser skiller seg litt fra bøker ved at de utkommer daglig, sånn at datoer er en viktig del i konkordanser og kollokasjoner."
   ]
  },
  {
   "cell_type": "code",
   "execution_count": 5,
   "metadata": {},
   "outputs": [
    {
     "data": {
      "text/html": [
       "<style>@import url(\n",
       "http://fonts.googleapis.com/css?family=Lato|Philosopher|Montserrat|Source+Code+Pro|Istok+Web|Philosopher|Assistant:200,400,700);\n",
       "\n",
       "/*\n",
       "#notebook-container {\n",
       "\t-webkit-box-shadow: none;\n",
       "\tbox-shadow: none;\n",
       "}\n",
       "*/\n",
       "\n",
       "h1, h2, h3, h4, h5, h6 {\n",
       "\tfont-family: 'Montserrat', sans-serif;\n",
       "\tline-height: 2em;\n",
       "    color: #004f99;\n",
       "    font-weight: 600;\n",
       "}\n",
       "\n",
       "h1 { font-size: 4.5em; }\n",
       "h2 { font-size: 4em; }\n",
       "h3 { font-size: 3.5em; }\n",
       "h4 { font-size: 3em; }\n",
       "h5 { font-size: 2.5em; color:DarkSlateGray; }\n",
       "h6 { font-size: 2em; }\n",
       "\n",
       "p {\n",
       "\tfont-family: 'Assistant', sans-serif; \n",
       "\tfont-size: 1.2em;\n",
       "\tline-height: 1.4em;\n",
       "\tcolor: black;\n",
       "}\n",
       "p code {\n",
       "\tfont-size:0.9em;\n",
       "}\n",
       "div.input_area {\n",
       "\tborder:none !important;\n",
       "\tborder-left:1px solid #ff851b !important\n",
       "}\n",
       "\n",
       "span.cm-keyword {\n",
       "\tcolor:#339966 !important;\n",
       "}\n",
       "span.nn {  /*span.cm-variable, span.cm-property*/\n",
       "\tcolor: #3399ff !important;\n",
       "}\n",
       "div.CodeMirror {\n",
       "\tfont-family: 'Inconsolata', monospace;\n",
       "\tfont-size: 1.1em;\n",
       "\t\n",
       "}\n",
       "</style>"
      ],
      "text/plain": [
       "<IPython.core.display.HTML object>"
      ]
     },
     "execution_count": 5,
     "metadata": {},
     "output_type": "execute_result"
    }
   ],
   "source": [
    "import dhlab.nbtext as nb\n",
    "import dhlab.module_update as mu\n",
    "mu.update('collocations', overwrite=True)\n",
    "import collocations as col\n",
    "import dhlab.graph_networkx_louvain as gnl\n",
    "from IPython.display import HTML\n",
    "mu.css()"
   ]
  },
  {
   "cell_type": "markdown",
   "metadata": {},
   "source": [
    "## Referansedata\n",
    "\n",
    "frekvenslisten for de 50000 meste frekvente i Bokhylla bøker."
   ]
  },
  {
   "cell_type": "code",
   "execution_count": 2,
   "metadata": {},
   "outputs": [
    {
     "data": {
      "text/plain": [
       "True"
      ]
     },
     "execution_count": 2,
     "metadata": {},
     "output_type": "execute_result"
    }
   ],
   "source": [
    "tot = nb.frame(nb.totals(50000), 'tot')\n",
    "nb.normalize_corpus_dataframe(tot)"
   ]
  },
  {
   "cell_type": "markdown",
   "metadata": {},
   "source": [
    "# Konkordanser"
   ]
  },
  {
   "cell_type": "code",
   "execution_count": 3,
   "metadata": {},
   "outputs": [],
   "source": [
    "col.conc_avis('langrenn', title='aftenposten',  datefrom=\"1994-01-01\", dateto = \"1994-03-01\", size=20)\n"
   ]
  },
  {
   "cell_type": "markdown",
   "metadata": {},
   "source": [
    "## Kollokasjon"
   ]
  },
  {
   "cell_type": "code",
   "execution_count": 4,
   "metadata": {},
   "outputs": [],
   "source": [
    "kollokasjon = col.coll_avis('langrenn', datefrom=\"1994-01-01\", dateto = \"1994-03-01\")\n"
   ]
  },
  {
   "cell_type": "code",
   "execution_count": 5,
   "metadata": {},
   "outputs": [
    {
     "data": {
      "text/plain": [
       "True"
      ]
     },
     "execution_count": 5,
     "metadata": {},
     "output_type": "execute_result"
    }
   ],
   "source": [
    "nb.normalize_corpus_dataframe(kollokasjon)"
   ]
  },
  {
   "cell_type": "markdown",
   "metadata": {},
   "source": [
    "## Sammenlign med referanse"
   ]
  },
  {
   "cell_type": "code",
   "execution_count": 6,
   "metadata": {},
   "outputs": [
    {
     "data": {
      "text/html": [
       "<div>\n",
       "<style scoped>\n",
       "    .dataframe tbody tr th:only-of-type {\n",
       "        vertical-align: middle;\n",
       "    }\n",
       "\n",
       "    .dataframe tbody tr th {\n",
       "        vertical-align: top;\n",
       "    }\n",
       "\n",
       "    .dataframe thead th {\n",
       "        text-align: right;\n",
       "    }\n",
       "</style>\n",
       "<table border=\"1\" class=\"dataframe\">\n",
       "  <thead>\n",
       "    <tr style=\"text-align: right;\">\n",
       "      <th></th>\n",
       "      <th>0</th>\n",
       "    </tr>\n",
       "  </thead>\n",
       "  <tbody>\n",
       "    <tr>\n",
       "      <td>Kombinert</td>\n",
       "      <td>2725.956353</td>\n",
       "    </tr>\n",
       "    <tr>\n",
       "      <td>Holmenkollen</td>\n",
       "      <td>1791.435377</td>\n",
       "    </tr>\n",
       "    <tr>\n",
       "      <td>11.00</td>\n",
       "      <td>1573.801391</td>\n",
       "    </tr>\n",
       "    <tr>\n",
       "      <td>stafett</td>\n",
       "      <td>1189.964327</td>\n",
       "    </tr>\n",
       "    <tr>\n",
       "      <td>slalåm</td>\n",
       "      <td>935.950978</td>\n",
       "    </tr>\n",
       "    <tr>\n",
       "      <td>skøyter</td>\n",
       "      <td>885.762306</td>\n",
       "    </tr>\n",
       "    <tr>\n",
       "      <td>langrenn</td>\n",
       "      <td>867.696930</td>\n",
       "    </tr>\n",
       "    <tr>\n",
       "      <td>kv.</td>\n",
       "      <td>749.552977</td>\n",
       "    </tr>\n",
       "    <tr>\n",
       "      <td>NRKs</td>\n",
       "      <td>748.166886</td>\n",
       "    </tr>\n",
       "    <tr>\n",
       "      <td>13.00</td>\n",
       "      <td>641.903378</td>\n",
       "    </tr>\n",
       "    <tr>\n",
       "      <td>hopp</td>\n",
       "      <td>626.196152</td>\n",
       "    </tr>\n",
       "    <tr>\n",
       "      <td>OL</td>\n",
       "      <td>620.507021</td>\n",
       "    </tr>\n",
       "    <tr>\n",
       "      <td>14.00</td>\n",
       "      <td>598.829666</td>\n",
       "    </tr>\n",
       "    <tr>\n",
       "      <td>komb</td>\n",
       "      <td>573.118273</td>\n",
       "    </tr>\n",
       "    <tr>\n",
       "      <td>12.00</td>\n",
       "      <td>528.110277</td>\n",
       "    </tr>\n",
       "    <tr>\n",
       "      <td>NTB</td>\n",
       "      <td>520.519294</td>\n",
       "    </tr>\n",
       "    <tr>\n",
       "      <td>Gull</td>\n",
       "      <td>501.357902</td>\n",
       "    </tr>\n",
       "    <tr>\n",
       "      <td>Vegard</td>\n",
       "      <td>454.330939</td>\n",
       "    </tr>\n",
       "    <tr>\n",
       "      <td>15.00</td>\n",
       "      <td>439.169204</td>\n",
       "    </tr>\n",
       "    <tr>\n",
       "      <td>klassisk</td>\n",
       "      <td>429.777678</td>\n",
       "    </tr>\n",
       "  </tbody>\n",
       "</table>\n",
       "</div>"
      ],
      "text/plain": [
       "                        0\n",
       "Kombinert     2725.956353\n",
       "Holmenkollen  1791.435377\n",
       "11.00         1573.801391\n",
       "stafett       1189.964327\n",
       "slalåm         935.950978\n",
       "skøyter        885.762306\n",
       "langrenn       867.696930\n",
       "kv.            749.552977\n",
       "NRKs           748.166886\n",
       "13.00          641.903378\n",
       "hopp           626.196152\n",
       "OL             620.507021\n",
       "14.00          598.829666\n",
       "komb           573.118273\n",
       "12.00          528.110277\n",
       "NTB            520.519294\n",
       "Gull           501.357902\n",
       "Vegard         454.330939\n",
       "15.00          439.169204\n",
       "klassisk       429.777678"
      ]
     },
     "execution_count": 6,
     "metadata": {},
     "output_type": "execute_result"
    }
   ],
   "source": [
    "nb.frame_sort(nb.frame(kollokasjon[0]/tot.tot)).head(20)"
   ]
  },
  {
   "cell_type": "markdown",
   "metadata": {},
   "source": [
    "# Unigram \n",
    "\n",
    "Litt mer data enn på nb ngram"
   ]
  },
  {
   "cell_type": "code",
   "execution_count": 7,
   "metadata": {},
   "outputs": [],
   "source": [
    "at = col.unigram('likestilling', name='aftenposten', period=(1980, 2000), media='avis')"
   ]
  },
  {
   "cell_type": "code",
   "execution_count": 8,
   "metadata": {},
   "outputs": [],
   "source": [
    "bt = col.unigram('likestilling', name='bergenstidende', period=(1980, 2000), media='avis')"
   ]
  },
  {
   "cell_type": "code",
   "execution_count": 9,
   "metadata": {},
   "outputs": [
    {
     "data": {
      "text/plain": [
       "<matplotlib.axes._subplots.AxesSubplot at 0x21381e77c48>"
      ]
     },
     "execution_count": 9,
     "metadata": {},
     "output_type": "execute_result"
    },
    {
     "data": {
      "image/png": "[encoded data removed]",
      "text/plain": [
       "<Figure size 432x288 with 1 Axes>"
      ]
     },
     "metadata": {
      "needs_background": "light"
     },
     "output_type": "display_data"
    }
   ],
   "source": [
    "(at/bt).plot()"
   ]
  },
  {
   "cell_type": "code",
   "execution_count": null,
   "metadata": {},
   "outputs": [],
   "source": []
  }
 ],
 "metadata": {
  "kernelspec": {
   "display_name": "Python 3",
   "language": "python",
   "name": "python3"
  },
  "language_info": {
   "codemirror_mode": {
    "name": "ipython",
    "version": 3
   },
   "file_extension": ".py",
   "mimetype": "text/x-python",
   "name": "python",
   "nbconvert_exporter": "python",
   "pygments_lexer": "ipython3",
   "version": "3.7.1"
  }
 },
 "nbformat": 4,
 "nbformat_minor": 2
}
