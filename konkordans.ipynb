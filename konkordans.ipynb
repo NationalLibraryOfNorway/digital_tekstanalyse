{
 "cells": [
  {
   "attachments": {
    "DHlab_logo_web_no_red.png": {
     "image/png": "[encoded data removed]"
    }
   },
   "cell_type": "markdown",
   "metadata": {},
   "source": [
    "![DHlab_logo_web_no_red.png](attachment:DHlab_logo_web_no_red.png)"
   ]
  },
  {
   "cell_type": "markdown",
   "metadata": {},
   "source": [
    "## Oppstartceller"
   ]
  },
  {
   "cell_type": "code",
   "execution_count": 1,
   "metadata": {},
   "outputs": [],
   "source": [
    "import dhlab as dh"
   ]
  },
  {
   "cell_type": "markdown",
   "metadata": {
    "slideshow": {
     "slide_type": "slide"
    }
   },
   "source": [
    "## 1. Konkordans med og uten korpus\n",
    "\n",
    "For å sjekke konkordanser i bøker og aviser benyttes kommandoen `concordance()`\n"
   ]
  },
  {
   "cell_type": "markdown",
   "metadata": {},
   "source": [
    "### 1.1. Konkordans fra aviser"
   ]
  },
  {
   "cell_type": "code",
   "execution_count": 2,
   "metadata": {},
   "outputs": [
    {
     "data": {
      "text/html": [
       "<style type=\"text/css\">\n",
       "</style>\n",
       "<table id=\"T_f5e2c\">\n",
       "  <thead>\n",
       "    <tr>\n",
       "      <th class=\"blank level0\" >&nbsp;</th>\n",
       "      <th id=\"T_f5e2c_level0_col0\" class=\"col_heading level0 col0\" >link</th>\n",
       "      <th id=\"T_f5e2c_level0_col1\" class=\"col_heading level0 col1\" >concordance</th>\n",
       "    </tr>\n",
       "  </thead>\n",
       "  <tbody>\n",
       "    <tr>\n",
       "      <th id=\"T_f5e2c_level0_row0\" class=\"row_heading level0 row0\" >10</th>\n",
       "      <td id=\"T_f5e2c_row0_col0\" class=\"data row0 col0\" ><a target='_blank' href = 'https://urn.nb.no/URN:NBN:no-nb_digavis_stavangeraftenblad_null_null_19980402_106_78_1'>URN:NBN:no-nb_digavis_stavangeraftenblad_null_null_19980402_106_78_1</a></td>\n",
       "      <td id=\"T_f5e2c_row0_col1\" class=\"data row0 col1\" >... ne myter 15.03 Musikkmosaikk 16.03 WOK ■ Kulturkanalens kulørte 17.30 <b>Demokrati</b> på lokalpla net i den serbisk-bosniske republikken 18.03 Værmelding 18.10... </td>\n",
       "    </tr>\n",
       "    <tr>\n",
       "      <th id=\"T_f5e2c_level0_row1\" class=\"row_heading level0 row1\" >14</th>\n",
       "      <td id=\"T_f5e2c_row1_col0\" class=\"data row1 col0\" ><a target='_blank' href = 'https://urn.nb.no/URN:NBN:no-nb_digavis_stavangeraftenblad_null_null_20060421_114_92_1'>URN:NBN:no-nb_digavis_stavangeraftenblad_null_null_20060421_114_92_1</a></td>\n",
       "      <td id=\"T_f5e2c_row1_col1\" class=\"data row1 col1\" >... Det er som å reise til Hviterussland - Europas siste diktatur - for å studere <b>demokrati</b> .</td>\n",
       "    </tr>\n",
       "    <tr>\n",
       "      <th id=\"T_f5e2c_level0_row2\" class=\"row_heading level0 row2\" >8</th>\n",
       "      <td id=\"T_f5e2c_row2_col0\" class=\"data row2 col0\" ><a target='_blank' href = 'https://urn.nb.no/URN:NBN:no-nb_digavis_stavangeraftenblad_null_null_19940518_102_111_1'>URN:NBN:no-nb_digavis_stavangeraftenblad_null_null_19940518_102_111_1</a></td>\n",
       "      <td id=\"T_f5e2c_row2_col1\" class=\"data row2 col1\" >... staten , og folkestyret som grunnlaget for vårt levende <b>demokrati</b> . Men vi må aldri tro at vår frihet og... </td>\n",
       "    </tr>\n",
       "    <tr>\n",
       "      <th id=\"T_f5e2c_level0_row3\" class=\"row_heading level0 row3\" >4</th>\n",
       "      <td id=\"T_f5e2c_row3_col0\" class=\"data row3 col0\" ><a target='_blank' href = 'https://urn.nb.no/URN:NBN:no-nb_digavis_stavangeraftenblad_null_null_19610815_69_187_1'>URN:NBN:no-nb_digavis_stavangeraftenblad_null_null_19610815_69_187_1</a></td>\n",
       "      <td id=\"T_f5e2c_row3_col1\" class=\"data row3 col1\" >... Dette vil ogsa gjore det enklere a finne fram til effektive former for et industrielt <b>demokrati</b> i de bedrifter der... </td>\n",
       "    </tr>\n",
       "    <tr>\n",
       "      <th id=\"T_f5e2c_level0_row4\" class=\"row_heading level0 row4\" >9</th>\n",
       "      <td id=\"T_f5e2c_row4_col0\" class=\"data row4 col0\" ><a target='_blank' href = 'https://urn.nb.no/URN:NBN:no-nb_digavis_stavangeraftenblad_null_null_19940518_102_111_1'>URN:NBN:no-nb_digavis_stavangeraftenblad_null_null_19940518_102_111_1</a></td>\n",
       "      <td id=\"T_f5e2c_row4_col1\" class=\"data row4 col1\" >... Snakk om sjølvråderett og <b>demokrati</b> . Kor er det når EU krev såkalla reinare vatn enn det me har hatt... </td>\n",
       "    </tr>\n",
       "    <tr>\n",
       "      <th id=\"T_f5e2c_level0_row5\" class=\"row_heading level0 row5\" >1</th>\n",
       "      <td id=\"T_f5e2c_row5_col0\" class=\"data row5 col0\" ><a target='_blank' href = 'https://urn.nb.no/URN:NBN:no-nb_digavis_stavangeraftenblad_null_null_20110304_119_53_1'>URN:NBN:no-nb_digavis_stavangeraftenblad_null_null_20110304_119_53_1</a></td>\n",
       "      <td id=\"T_f5e2c_row5_col1\" class=\"data row5 col1\" >... Maktkamper som snarere vil føre landet i retning av somaliske tilstander enn <b>demokrati</b> . Like utenfor EUs</td>\n",
       "    </tr>\n",
       "    <tr>\n",
       "      <th id=\"T_f5e2c_level0_row6\" class=\"row_heading level0 row6\" >5</th>\n",
       "      <td id=\"T_f5e2c_row6_col0\" class=\"data row6 col0\" ><a target='_blank' href = 'https://urn.nb.no/URN:NBN:no-nb_digavis_stavangeraftenblad_null_null_19810127_89_22_1'>URN:NBN:no-nb_digavis_stavangeraftenblad_null_null_19810127_89_22_1</a></td>\n",
       "      <td id=\"T_f5e2c_row6_col1\" class=\"data row6 col1\" >... - Det blir vanskelig å praktisere et <b>demokrati</b> når en ikke skal kunne ta opp til fri diskusjon de sporsmål... </td>\n",
       "    </tr>\n",
       "    <tr>\n",
       "      <th id=\"T_f5e2c_level0_row7\" class=\"row_heading level0 row7\" >0</th>\n",
       "      <td id=\"T_f5e2c_row7_col0\" class=\"data row7 col0\" ><a target='_blank' href = 'https://urn.nb.no/URN:NBN:no-nb_digavis_stavangeraftenblad_null_null_20110304_119_53_1'>URN:NBN:no-nb_digavis_stavangeraftenblad_null_null_20110304_119_53_1</a></td>\n",
       "      <td id=\"T_f5e2c_row7_col1\" class=\"data row7 col1\" >Formelt treffes alle lokale beslutninger av såkalte folkekongresser i noe som kunne ligne et direkte <b>demokrati</b> . Men reelt ,... </td>\n",
       "    </tr>\n",
       "    <tr>\n",
       "      <th id=\"T_f5e2c_level0_row8\" class=\"row_heading level0 row8\" >12</th>\n",
       "      <td id=\"T_f5e2c_row8_col0\" class=\"data row8 col0\" ><a target='_blank' href = 'https://urn.nb.no/URN:NBN:no-nb_digavis_stavangeraftenblad_null_null_20000124_108_19_1'>URN:NBN:no-nb_digavis_stavangeraftenblad_null_null_20000124_108_19_1</a></td>\n",
       "      <td id=\"T_f5e2c_row8_col1\" class=\"data row8 col1\" >Kildevernet er en viktig del av vårt <b>demokrati</b> . At overvakingspolitiet enten ikke er klar over dette , eller også... </td>\n",
       "    </tr>\n",
       "    <tr>\n",
       "      <th id=\"T_f5e2c_level0_row9\" class=\"row_heading level0 row9\" >6</th>\n",
       "      <td id=\"T_f5e2c_row9_col0\" class=\"data row9 col0\" ><a target='_blank' href = 'https://urn.nb.no/URN:NBN:no-nb_digavis_stavangeraftenblad_null_null_19811015_89_239_1'>URN:NBN:no-nb_digavis_stavangeraftenblad_null_null_19811015_89_239_1</a></td>\n",
       "      <td id=\"T_f5e2c_row9_col1\" class=\"data row9 col1\" >Arbeidet med å utrede <b>demokrati</b> i arbeidslivet vil bli fort videre med særlig vekt på å styrke den enkeltes medbestemmelse... </td>\n",
       "    </tr>\n",
       "  </tbody>\n",
       "</table>\n"
      ],
      "text/plain": [
       "<pandas.io.formats.style.Styler at 0x7faa443565f0>"
      ]
     },
     "execution_count": 2,
     "metadata": {},
     "output_type": "execute_result"
    }
   ],
   "source": [
    "#Bygg aviskorpus med aviser som begynner med 'stavanger' utgitt fra 1960\n",
    "aviskorpus = dh.Corpus(doctype=\"digavis\", title=\"stavanger*\", from_year=1960, limit=10)\n",
    "\n",
    "# Finn konkordanser i korpus\n",
    "# Vis med .show()\n",
    "dh.Concordance(corpus=aviskorpus, query=\"demokrati\").show()"
   ]
  },
  {
   "cell_type": "markdown",
   "metadata": {},
   "source": [
    "### 1.2. Fri konkordans fra bøker"
   ]
  },
  {
   "cell_type": "code",
   "execution_count": 3,
   "metadata": {},
   "outputs": [
    {
     "data": {
      "text/html": [
       "<style type=\"text/css\">\n",
       "</style>\n",
       "<table id=\"T_44daa\">\n",
       "  <thead>\n",
       "    <tr>\n",
       "      <th class=\"blank level0\" >&nbsp;</th>\n",
       "      <th id=\"T_44daa_level0_col0\" class=\"col_heading level0 col0\" >link</th>\n",
       "      <th id=\"T_44daa_level0_col1\" class=\"col_heading level0 col1\" >concordance</th>\n",
       "    </tr>\n",
       "  </thead>\n",
       "  <tbody>\n",
       "    <tr>\n",
       "      <th id=\"T_44daa_level0_row0\" class=\"row_heading level0 row0\" >35</th>\n",
       "      <td id=\"T_44daa_row0_col0\" class=\"data row0 col0\" ><a target='_blank' href = 'https://urn.nb.no/URN:NBN:no-nb_digibok_2018062526008'>URN:NBN:no-nb_digibok_2018062526008</a></td>\n",
       "      <td id=\"T_44daa_row0_col1\" class=\"data row0 col1\" >... af hyr , passende , føielig , blid . <b>Vinskibelighed</b> . Vind og Skibe vilde her give et under ,... </td>\n",
       "    </tr>\n",
       "    <tr>\n",
       "      <th id=\"T_44daa_level0_row1\" class=\"row_heading level0 row1\" >30</th>\n",
       "      <td id=\"T_44daa_row1_col0\" class=\"data row1 col0\" ><a target='_blank' href = 'https://urn.nb.no/URN:NBN:no-nb_digibok_2017071426012'>URN:NBN:no-nb_digibok_2017071426012</a></td>\n",
       "      <td id=\"T_44daa_row1_col1\" class=\"data row1 col1\" >... Naturen er tillokkende nok , for at opmuntre til <b>Vinskibelighed</b> , ikke rig nok til at fremme Dovenskab ; Flid... </td>\n",
       "    </tr>\n",
       "  </tbody>\n",
       "</table>\n"
      ],
      "text/plain": [
       "<pandas.io.formats.style.Styler at 0x7fa9f0937010>"
      ]
     },
     "execution_count": 3,
     "metadata": {},
     "output_type": "execute_result"
    }
   ],
   "source": [
    "# Bygg korpus med bøker som nevner \"Vinskibelighed\" mellom 1600 og 1850\n",
    "bokkorpus = dh.Corpus(doctype=\"digibok\", fulltext=\"Vinskibelighed\", from_year=1600, to_year=1850, limit=20)\n",
    "\n",
    "# Finn konkordanser from 'Vinskibelighet'. Vis med '.show()'\n",
    "dh.Concordance(corpus=bokkorpus, query=\"Vinskibelighed\").show(2)"
   ]
  },
  {
   "cell_type": "markdown",
   "metadata": {},
   "source": [
    "### 1.3.. Konkordans med stort definert korpus\n",
    "\n",
    "Her bygger vi først et korpus. Se eksempelfil om [Korpusbygging](https://nbviewer.jupyter.org/github/DH-LAB-NB/DHLAB/blob/master/1_Bygg_korpus.ipynb) for ulike måter å definere korpus."
   ]
  },
  {
   "cell_type": "code",
   "execution_count": 4,
   "metadata": {},
   "outputs": [],
   "source": [
    "korpus = dh.Corpus(doctype=\"digibok\", fulltext='kvinner', ddk=\"33*\", from_year=1960, to_year=1970, limit=400)"
   ]
  },
  {
   "cell_type": "markdown",
   "metadata": {},
   "source": [
    "Undersøk lengden på korpuset med `.size`"
   ]
  },
  {
   "cell_type": "code",
   "execution_count": 5,
   "metadata": {},
   "outputs": [
    {
     "data": {
      "text/plain": [
       "331"
      ]
     },
     "execution_count": 5,
     "metadata": {},
     "output_type": "execute_result"
    }
   ],
   "source": [
    "korpus.size"
   ]
  },
  {
   "cell_type": "markdown",
   "metadata": {},
   "source": [
    "Vi kan dra ut et delkorpus for søkeformål med `.sample()`"
   ]
  },
  {
   "cell_type": "code",
   "execution_count": 6,
   "metadata": {},
   "outputs": [
    {
     "data": {
      "text/html": [
       "<div>\n",
       "<style scoped>\n",
       "    .dataframe tbody tr th:only-of-type {\n",
       "        vertical-align: middle;\n",
       "    }\n",
       "\n",
       "    .dataframe tbody tr th {\n",
       "        vertical-align: top;\n",
       "    }\n",
       "\n",
       "    .dataframe thead th {\n",
       "        text-align: right;\n",
       "    }\n",
       "</style>\n",
       "<table border=\"1\" class=\"dataframe\">\n",
       "  <thead>\n",
       "    <tr style=\"text-align: right;\">\n",
       "      <th></th>\n",
       "      <th>dhlabid</th>\n",
       "      <th>urn</th>\n",
       "      <th>title</th>\n",
       "      <th>authors</th>\n",
       "      <th>oaiid</th>\n",
       "      <th>sesamid</th>\n",
       "      <th>isbn10</th>\n",
       "      <th>city</th>\n",
       "      <th>timestamp</th>\n",
       "      <th>year</th>\n",
       "      <th>publisher</th>\n",
       "      <th>langs</th>\n",
       "      <th>subjects</th>\n",
       "      <th>ddc</th>\n",
       "      <th>genres</th>\n",
       "      <th>literaryform</th>\n",
       "      <th>doctype</th>\n",
       "    </tr>\n",
       "  </thead>\n",
       "  <tbody>\n",
       "    <tr>\n",
       "      <th>215</th>\n",
       "      <td>100313944</td>\n",
       "      <td>URN:NBN:no-nb_digibok_2016090708247</td>\n",
       "      <td>Om enslige mødres økonomi og arbeidsmuligheter</td>\n",
       "      <td></td>\n",
       "      <td>oai:nb.bibsys.no:999402368184702202</td>\n",
       "      <td>1405123e417d5742a40b750a3cc7def8</td>\n",
       "      <td></td>\n",
       "      <td>Oslo</td>\n",
       "      <td>19670101</td>\n",
       "      <td>1967</td>\n",
       "      <td>Likelønnsrådet</td>\n",
       "      <td>nob</td>\n",
       "      <td></td>\n",
       "      <td>331.4</td>\n",
       "      <td></td>\n",
       "      <td>Faglitteratur</td>\n",
       "      <td>digibok</td>\n",
       "    </tr>\n",
       "    <tr>\n",
       "      <th>244</th>\n",
       "      <td>100275643</td>\n",
       "      <td>URN:NBN:no-nb_digibok_2016011108069</td>\n",
       "      <td>Industrien i Norge : trekk ved utviklingen i e...</td>\n",
       "      <td>Hartmann , Jean</td>\n",
       "      <td>oai:nb.bibsys.no:997515001604702202</td>\n",
       "      <td>f60551b4ca5dd8e3f4fb3907f3972de7</td>\n",
       "      <td></td>\n",
       "      <td>Trondheim</td>\n",
       "      <td>19660101</td>\n",
       "      <td>1966</td>\n",
       "      <td>Institutt for Sosialøkonomi, Norges tekniske h...</td>\n",
       "      <td>nob</td>\n",
       "      <td>industri / norge / historie</td>\n",
       "      <td>338.4</td>\n",
       "      <td></td>\n",
       "      <td>Faglitteratur</td>\n",
       "      <td>digibok</td>\n",
       "    </tr>\n",
       "  </tbody>\n",
       "</table>\n",
       "</div>"
      ],
      "text/plain": [
       "       dhlabid                                  urn  \\\n",
       "215  100313944  URN:NBN:no-nb_digibok_2016090708247   \n",
       "244  100275643  URN:NBN:no-nb_digibok_2016011108069   \n",
       "\n",
       "                                                 title          authors  \\\n",
       "215     Om enslige mødres økonomi og arbeidsmuligheter                    \n",
       "244  Industrien i Norge : trekk ved utviklingen i e...  Hartmann , Jean   \n",
       "\n",
       "                                   oaiid                           sesamid  \\\n",
       "215  oai:nb.bibsys.no:999402368184702202  1405123e417d5742a40b750a3cc7def8   \n",
       "244  oai:nb.bibsys.no:997515001604702202  f60551b4ca5dd8e3f4fb3907f3972de7   \n",
       "\n",
       "    isbn10       city  timestamp  year  \\\n",
       "215              Oslo   19670101  1967   \n",
       "244         Trondheim   19660101  1966   \n",
       "\n",
       "                                             publisher langs  \\\n",
       "215                                     Likelønnsrådet   nob   \n",
       "244  Institutt for Sosialøkonomi, Norges tekniske h...   nob   \n",
       "\n",
       "                        subjects    ddc genres   literaryform  doctype  \n",
       "215                               331.4         Faglitteratur  digibok  \n",
       "244  industri / norge / historie  338.4         Faglitteratur  digibok  "
      ]
     },
     "execution_count": 6,
     "metadata": {},
     "output_type": "execute_result"
    }
   ],
   "source": [
    "korpus.corpus.sample(2)"
   ]
  },
  {
   "cell_type": "code",
   "execution_count": 7,
   "metadata": {},
   "outputs": [
    {
     "data": {
      "text/html": [
       "<style type=\"text/css\">\n",
       "</style>\n",
       "<table id=\"T_bf786\">\n",
       "  <thead>\n",
       "    <tr>\n",
       "      <th class=\"blank level0\" >&nbsp;</th>\n",
       "      <th id=\"T_bf786_level0_col0\" class=\"col_heading level0 col0\" >link</th>\n",
       "      <th id=\"T_bf786_level0_col1\" class=\"col_heading level0 col1\" >concordance</th>\n",
       "    </tr>\n",
       "  </thead>\n",
       "  <tbody>\n",
       "    <tr>\n",
       "      <th id=\"T_bf786_level0_row0\" class=\"row_heading level0 row0\" >110</th>\n",
       "      <td id=\"T_bf786_row0_col0\" class=\"data row0 col0\" ><a target='_blank' href = 'https://urn.nb.no/URN:NBN:no-nb_digibok_2014042906027'>URN:NBN:no-nb_digibok_2014042906027</a></td>\n",
       "      <td id=\"T_bf786_row0_col1\" class=\"data row0 col1\" >Enke , som har omsorg for <b>barn</b> under 18 år , som seiv har rett til barnepensjon , får rett... </td>\n",
       "    </tr>\n",
       "    <tr>\n",
       "      <th id=\"T_bf786_level0_row1\" class=\"row_heading level0 row1\" >118</th>\n",
       "      <td id=\"T_bf786_row1_col0\" class=\"data row1 col0\" ><a target='_blank' href = 'https://urn.nb.no/URN:NBN:no-nb_digibok_2014042906027'>URN:NBN:no-nb_digibok_2014042906027</a></td>\n",
       "      <td id=\"T_bf786_row1_col1\" class=\"data row1 col1\" >... Enke som ved mannens død ikke har omsorg for <b>barn</b> med rett til pensjon , får pensjon fra fylte 55... </td>\n",
       "    </tr>\n",
       "    <tr>\n",
       "      <th id=\"T_bf786_level0_row2\" class=\"row_heading level0 row2\" >89</th>\n",
       "      <td id=\"T_bf786_row2_col0\" class=\"data row2 col0\" ><a target='_blank' href = 'https://urn.nb.no/URN:NBN:no-nb_digibok_2014042906027'>URN:NBN:no-nb_digibok_2014042906027</a></td>\n",
       "      <td id=\"T_bf786_row2_col1\" class=\"data row2 col1\" >Familiemedlemmer som også gjennom hovedpersonens medlemskap er trygdet er ektefelle og <b>barn</b> under 18 år . Trygdet er de seiv... </td>\n",
       "    </tr>\n",
       "    <tr>\n",
       "      <th id=\"T_bf786_level0_row3\" class=\"row_heading level0 row3\" >101</th>\n",
       "      <td id=\"T_bf786_row3_col0\" class=\"data row3 col0\" ><a target='_blank' href = 'https://urn.nb.no/URN:NBN:no-nb_digibok_2014042906027'>URN:NBN:no-nb_digibok_2014042906027</a></td>\n",
       "      <td id=\"T_bf786_row3_col1\" class=\"data row3 col1\" >... kvinne som ikke var gift med avdøde , hvis hun har omsorg for avdødes <b>barn</b> og var underholdt av ham... </td>\n",
       "    </tr>\n",
       "    <tr>\n",
       "      <th id=\"T_bf786_level0_row4\" class=\"row_heading level0 row4\" >316</th>\n",
       "      <td id=\"T_bf786_row4_col0\" class=\"data row4 col0\" ><a target='_blank' href = 'https://urn.nb.no/URN:NBN:no-nb_digibok_2007073100060'>URN:NBN:no-nb_digibok_2007073100060</a></td>\n",
       "      <td id=\"T_bf786_row4_col1\" class=\"data row4 col1\" >... blant annet : « Der ute skal engang våre barnebarns <b>barn</b> hente sitt brød » . Allerede dengang så man for seg... </td>\n",
       "    </tr>\n",
       "    <tr>\n",
       "      <th id=\"T_bf786_level0_row5\" class=\"row_heading level0 row5\" >38</th>\n",
       "      <td id=\"T_bf786_row5_col0\" class=\"data row5 col0\" ><a target='_blank' href = 'https://urn.nb.no/URN:NBN:no-nb_digibok_2015082448027'>URN:NBN:no-nb_digibok_2015082448027</a></td>\n",
       "      <td id=\"T_bf786_row5_col1\" class=\"data row5 col1\" ><b>barn</b> under skolealderen ;</td>\n",
       "    </tr>\n",
       "    <tr>\n",
       "      <th id=\"T_bf786_level0_row6\" class=\"row_heading level0 row6\" >60</th>\n",
       "      <td id=\"T_bf786_row6_col0\" class=\"data row6 col0\" ><a target='_blank' href = 'https://urn.nb.no/URN:NBN:no-nb_digibok_2013050306062'>URN:NBN:no-nb_digibok_2013050306062</a></td>\n",
       "      <td id=\"T_bf786_row6_col1\" class=\"data row6 col1\" >... Videre er lovens forbud mot å sette <b>barn</b> og ungdom under 18 år</td>\n",
       "    </tr>\n",
       "    <tr>\n",
       "      <th id=\"T_bf786_level0_row7\" class=\"row_heading level0 row7\" >62</th>\n",
       "      <td id=\"T_bf786_row7_col0\" class=\"data row7 col0\" ><a target='_blank' href = 'https://urn.nb.no/URN:NBN:no-nb_digibok_2013050306062'>URN:NBN:no-nb_digibok_2013050306062</a></td>\n",
       "      <td id=\"T_bf786_row7_col1\" class=\"data row7 col1\" >... Forbudet gjelder generelt alle <b>barn</b> og all ungdom under 18 år . Det er således ikke begrenset til <b>barn</b> og... </td>\n",
       "    </tr>\n",
       "    <tr>\n",
       "      <th id=\"T_bf786_level0_row8\" class=\"row_heading level0 row8\" >95</th>\n",
       "      <td id=\"T_bf786_row8_col0\" class=\"data row8 col0\" ><a target='_blank' href = 'https://urn.nb.no/URN:NBN:no-nb_digibok_2014042906027'>URN:NBN:no-nb_digibok_2014042906027</a></td>\n",
       "      <td id=\"T_bf786_row8_col1\" class=\"data row8 col1\" >Til uførepensjon kan komme tillegg , hvis den skadede har <b>barn</b> under 18 år og forsørge . Tillegget utgjør kr... </td>\n",
       "    </tr>\n",
       "    <tr>\n",
       "      <th id=\"T_bf786_level0_row9\" class=\"row_heading level0 row9\" >294</th>\n",
       "      <td id=\"T_bf786_row9_col0\" class=\"data row9 col0\" ><a target='_blank' href = 'https://urn.nb.no/URN:NBN:no-nb_digibok_2007050400022'>URN:NBN:no-nb_digibok_2007050400022</a></td>\n",
       "      <td id=\"T_bf786_row9_col1\" class=\"data row9 col1\" >a ) de som bor på arbeidsstedet , hvor det er <b>barn</b> under 16 år</td>\n",
       "    </tr>\n",
       "  </tbody>\n",
       "</table>\n"
      ],
      "text/plain": [
       "<pandas.io.formats.style.Styler at 0x7fa9f0936b60>"
      ]
     },
     "execution_count": 7,
     "metadata": {},
     "output_type": "execute_result"
    }
   ],
   "source": [
    "# Konkordans fra sample\n",
    "dh.Concordance(corpus=korpus.corpus.sample(50), query=\"barn\").show()"
   ]
  },
  {
   "cell_type": "markdown",
   "metadata": {},
   "source": [
    "Flere ord eller ordformer kan søkes etter på en gang. Bruk 'OR' for å separerer ordene."
   ]
  },
  {
   "cell_type": "code",
   "execution_count": 8,
   "metadata": {},
   "outputs": [
    {
     "data": {
      "text/html": [
       "<style type=\"text/css\">\n",
       "</style>\n",
       "<table id=\"T_39eeb\">\n",
       "  <thead>\n",
       "    <tr>\n",
       "      <th class=\"blank level0\" >&nbsp;</th>\n",
       "      <th id=\"T_39eeb_level0_col0\" class=\"col_heading level0 col0\" >link</th>\n",
       "      <th id=\"T_39eeb_level0_col1\" class=\"col_heading level0 col1\" >concordance</th>\n",
       "    </tr>\n",
       "  </thead>\n",
       "  <tbody>\n",
       "    <tr>\n",
       "      <th id=\"T_39eeb_level0_row0\" class=\"row_heading level0 row0\" >34</th>\n",
       "      <td id=\"T_39eeb_row0_col0\" class=\"data row0 col0\" ><a target='_blank' href = 'https://urn.nb.no/URN:NBN:no-nb_digibok_2012080608011'>URN:NBN:no-nb_digibok_2012080608011</a></td>\n",
       "      <td id=\"T_39eeb_row0_col1\" class=\"data row0 col1\" >Bare 135 elever ved framhaldsskolene , eller 29 % av belegget , gikk på sine ben til og fra <b>skolen</b>... </td>\n",
       "    </tr>\n",
       "    <tr>\n",
       "      <th id=\"T_39eeb_level0_row1\" class=\"row_heading level0 row1\" >1763</th>\n",
       "      <td id=\"T_39eeb_row1_col0\" class=\"data row1 col0\" ><a target='_blank' href = 'https://urn.nb.no/URN:NBN:no-nb_digibok_2017021308142'>URN:NBN:no-nb_digibok_2017021308142</a></td>\n",
       "      <td id=\"T_39eeb_row1_col1\" class=\"data row1 col1\" >Stillingen som rektor ved Statens yrkeslære r <b>skole</b> ble i 1948 plasert i Ikl . 19. I 1956 ble stillingen... </td>\n",
       "    </tr>\n",
       "    <tr>\n",
       "      <th id=\"T_39eeb_level0_row2\" class=\"row_heading level0 row2\" >1082</th>\n",
       "      <td id=\"T_39eeb_row2_col0\" class=\"data row2 col0\" ><a target='_blank' href = 'https://urn.nb.no/URN:NBN:no-nb_digibok_2016060208041'>URN:NBN:no-nb_digibok_2016060208041</a></td>\n",
       "      <td id=\"T_39eeb_row2_col1\" class=\"data row2 col1\" >... Her var der <b>skole</b> til i 1871 da Pitlingen <b>skole</b> ble bygget . Det var Christen Olsens eldste datter Anne... </td>\n",
       "    </tr>\n",
       "    <tr>\n",
       "      <th id=\"T_39eeb_level0_row3\" class=\"row_heading level0 row3\" >52</th>\n",
       "      <td id=\"T_39eeb_row3_col0\" class=\"data row3 col0\" ><a target='_blank' href = 'https://urn.nb.no/URN:NBN:no-nb_digibok_2012080608011'>URN:NBN:no-nb_digibok_2012080608011</a></td>\n",
       "      <td id=\"T_39eeb_row3_col1\" class=\"data row3 col1\" ><b>skole</b> veie - \\ ålen . )</td>\n",
       "    </tr>\n",
       "    <tr>\n",
       "      <th id=\"T_39eeb_level0_row4\" class=\"row_heading level0 row4\" >1720</th>\n",
       "      <td id=\"T_39eeb_row4_col0\" class=\"data row4 col0\" ><a target='_blank' href = 'https://urn.nb.no/URN:NBN:no-nb_digibok_2017020948502'>URN:NBN:no-nb_digibok_2017020948502</a></td>\n",
       "      <td id=\"T_39eeb_row4_col1\" class=\"data row4 col1\" >Dessverre er det blitt en nokså alminnelig oppfatning blant dem som har gjennomgått denne <b>skolen</b> at de dermed er blitt... </td>\n",
       "    </tr>\n",
       "    <tr>\n",
       "      <th id=\"T_39eeb_level0_row5\" class=\"row_heading level0 row5\" >418</th>\n",
       "      <td id=\"T_39eeb_row5_col0\" class=\"data row5 col0\" ><a target='_blank' href = 'https://urn.nb.no/URN:NBN:no-nb_digibok_2021022548586'>URN:NBN:no-nb_digibok_2021022548586</a></td>\n",
       "      <td id=\"T_39eeb_row5_col1\" class=\"data row5 col1\" >... med damp og skrev tre nye som var falske og har skulka <b>skolen</b> i tre dager og — og — og ... »</td>\n",
       "    </tr>\n",
       "    <tr>\n",
       "      <th id=\"T_39eeb_level0_row6\" class=\"row_heading level0 row6\" >228</th>\n",
       "      <td id=\"T_39eeb_row6_col0\" class=\"data row6 col0\" ><a target='_blank' href = 'https://urn.nb.no/URN:NBN:no-nb_digibok_2013121108205'>URN:NBN:no-nb_digibok_2013121108205</a></td>\n",
       "      <td id=\"T_39eeb_row6_col1\" class=\"data row6 col1\" >... Dei vart førde fram til mellomskuleeksamen , helst med litt finpussing i tillegg på ein <b>skule</b> i byen . Lars... </td>\n",
       "    </tr>\n",
       "    <tr>\n",
       "      <th id=\"T_39eeb_level0_row7\" class=\"row_heading level0 row7\" >559</th>\n",
       "      <td id=\"T_39eeb_row7_col0\" class=\"data row7 col0\" ><a target='_blank' href = 'https://urn.nb.no/URN:NBN:no-nb_digibok_2008052304020'>URN:NBN:no-nb_digibok_2008052304020</a></td>\n",
       "      <td id=\"T_39eeb_row7_col1\" class=\"data row7 col1\" >... størrelse at det snarere kan komme på tale med opprettelse av en ny <b>skole</b> enn med ytterligere utvidelser der .</td>\n",
       "    </tr>\n",
       "    <tr>\n",
       "      <th id=\"T_39eeb_level0_row8\" class=\"row_heading level0 row8\" >1538</th>\n",
       "      <td id=\"T_39eeb_row8_col0\" class=\"data row8 col0\" ><a target='_blank' href = 'https://urn.nb.no/URN:NBN:no-nb_digibok_2011011406072'>URN:NBN:no-nb_digibok_2011011406072</a></td>\n",
       "      <td id=\"T_39eeb_row8_col1\" class=\"data row8 col1\" >— Nesten alle går på <b>skole</b> til 18 - årsalderen mot 24 prosent i dag , og hele 30 — 40 prosent... </td>\n",
       "    </tr>\n",
       "    <tr>\n",
       "      <th id=\"T_39eeb_level0_row9\" class=\"row_heading level0 row9\" >850</th>\n",
       "      <td id=\"T_39eeb_row9_col0\" class=\"data row9 col0\" ><a target='_blank' href = 'https://urn.nb.no/URN:NBN:no-nb_digibok_2010070106189'>URN:NBN:no-nb_digibok_2010070106189</a></td>\n",
       "      <td id=\"T_39eeb_row9_col1\" class=\"data row9 col1\" >... Han kunne begynne på <b>skolen</b> når i kurset han ville , og komme til å ta eksamen side om side... </td>\n",
       "    </tr>\n",
       "  </tbody>\n",
       "</table>\n"
      ],
      "text/plain": [
       "<pandas.io.formats.style.Styler at 0x7fa9f0936ef0>"
      ]
     },
     "execution_count": 8,
     "metadata": {},
     "output_type": "execute_result"
    }
   ],
   "source": [
    "dh.Concordance(corpus=korpus, query='skole OR skolen OR Skole OR skule').show()"
   ]
  },
  {
   "cell_type": "markdown",
   "metadata": {},
   "source": [
    "Tilbake til [DHLAB ved Nasjonalbiblioteket](https://nbviewer.jupyter.org/github/DH-LAB-NB/DHLAB/blob/master/DHLAB_ved_Nasjonalbiblioteket.ipynb)"
   ]
  }
 ],
 "metadata": {
  "kernelspec": {
   "display_name": "digital_tekstanalyse-d0erqq9h",
   "language": "python",
   "name": "python3"
  },
  "language_info": {
   "codemirror_mode": {
    "name": "ipython",
    "version": 3
   },
   "file_extension": ".py",
   "mimetype": "text/x-python",
   "name": "python",
   "nbconvert_exporter": "python",
   "pygments_lexer": "ipython3",
   "version": "3.10.9 (main, Dec  7 2022, 01:12:00) [GCC 9.4.0]"
  },
  "varInspector": {
   "cols": {
    "lenName": 16,
    "lenType": 16,
    "lenVar": 40
   },
   "kernels_config": {
    "python": {
     "delete_cmd_postfix": "",
     "delete_cmd_prefix": "del ",
     "library": "var_list.py",
     "varRefreshCmd": "print(var_dic_list())"
    },
    "r": {
     "delete_cmd_postfix": ") ",
     "delete_cmd_prefix": "rm(",
     "library": "var_list.r",
     "varRefreshCmd": "cat(var_dic_list()) "
    }
   },
   "types_to_exclude": [
    "module",
    "function",
    "builtin_function_or_method",
    "instance",
    "_Feature"
   ],
   "window_display": false
  },
  "vscode": {
   "interpreter": {
    "hash": "e10e75e2d1d44aa4f73b97f713564fcca5171703295513b7c9306c02f494ae2e"
   }
  }
 },
 "nbformat": 4,
 "nbformat_minor": 2
}
