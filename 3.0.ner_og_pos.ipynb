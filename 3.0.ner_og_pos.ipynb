{
 "cells": [
  {
   "attachments": {
    "DHlab_logo_web_no_red.png": {
     "image/png": "[encoded data removed]"
    }
   },
   "cell_type": "markdown",
   "metadata": {},
   "source": [
    "![DHlab_logo_web_no_red.png](attachment:DHlab_logo_web_no_red.png)"
   ]
  },
  {
   "attachments": {},
   "cell_type": "markdown",
   "metadata": {},
   "source": [
    "# NER og POS med Spacy\n",
    "\n",
    "Hent ut navn og steder fra en tekst i Nasjonalbibliotekets samling med `NER`.\n",
    "\n",
    "Finn ordklasser med `POS`."
   ]
  },
  {
   "cell_type": "code",
   "execution_count": 10,
   "metadata": {},
   "outputs": [],
   "source": [
    "import dhlab as dh\n",
    "from dhlab import Corpus\n",
    "from dhlab.text.parse import NER, POS, Models"
   ]
  },
  {
   "attachments": {},
   "cell_type": "markdown",
   "metadata": {},
   "source": [
    "Hent ut en urn"
   ]
  },
  {
   "cell_type": "code",
   "execution_count": 44,
   "metadata": {},
   "outputs": [],
   "source": [
    "# Bygg et korpus basert Agnar Mykle og hent ut urn-kolonnen som liste\n",
    "urns = Corpus(doctype=\"digibok\", author=\"mykle\", title=\"røde\").frame.urn\n",
    "# Hent ut en urn\n",
    "my_urn = urns[1]"
   ]
  },
  {
   "attachments": {},
   "cell_type": "markdown",
   "metadata": {},
   "source": [
    "Oversikt over modeller:  \n",
    "Dhlab støtter Per januar 2023 språkene norsk, dansk og engelsk. Tilgjengelige modeller finnes ved å bruke `Models`. Man kan lese mer om de enkelte modellene på [Spacys hjemmesider](https://spacy.io/).  \n",
    "\n",
    "`nb_core_news_sm` er et bra utgangspunkt for en norskspråklig bok eller avis."
   ]
  },
  {
   "cell_type": "code",
   "execution_count": 43,
   "metadata": {},
   "outputs": [
    {
     "data": {
      "text/plain": [
       "['nb_core_news_lg',\n",
       " 'da_core_news_lg',\n",
       " 'nb_core_news_sm',\n",
       " 'en_core_web_lg',\n",
       " 'en_core_web_md',\n",
       " 'da_core_news_trf']"
      ]
     },
     "execution_count": 43,
     "metadata": {},
     "output_type": "execute_result"
    }
   ],
   "source": [
    "l = Models()\n",
    "l.models"
   ]
  },
  {
   "attachments": {},
   "cell_type": "markdown",
   "metadata": {},
   "source": [
    "## NER\n",
    "\n",
    "NER (Named Entity Recognition) brukes for å finne navngitte entiteter, som personer, steder, osv. i teksten."
   ]
  },
  {
   "cell_type": "code",
   "execution_count": 45,
   "metadata": {},
   "outputs": [],
   "source": [
    "result = NER(urn=my_urn, model=\"nb_core_news_sm\", start_page=0, to_page=1000000)"
   ]
  },
  {
   "cell_type": "code",
   "execution_count": 47,
   "metadata": {},
   "outputs": [
    {
     "data": {
      "text/html": [
       "<div>\n",
       "<style scoped>\n",
       "    .dataframe tbody tr th:only-of-type {\n",
       "        vertical-align: middle;\n",
       "    }\n",
       "\n",
       "    .dataframe tbody tr th {\n",
       "        vertical-align: top;\n",
       "    }\n",
       "\n",
       "    .dataframe thead th {\n",
       "        text-align: right;\n",
       "    }\n",
       "</style>\n",
       "<table border=\"1\" class=\"dataframe\">\n",
       "  <thead>\n",
       "    <tr style=\"text-align: right;\">\n",
       "      <th></th>\n",
       "      <th>token</th>\n",
       "      <th>ner</th>\n",
       "      <th>frekv</th>\n",
       "    </tr>\n",
       "  </thead>\n",
       "  <tbody>\n",
       "    <tr>\n",
       "      <th>39</th>\n",
       "      <td>Ask</td>\n",
       "      <td>PER</td>\n",
       "      <td>812</td>\n",
       "    </tr>\n",
       "    <tr>\n",
       "      <th>140</th>\n",
       "      <td>Daniel</td>\n",
       "      <td>PER</td>\n",
       "      <td>115</td>\n",
       "    </tr>\n",
       "    <tr>\n",
       "      <th>281</th>\n",
       "      <td>Gud</td>\n",
       "      <td>PER</td>\n",
       "      <td>83</td>\n",
       "    </tr>\n",
       "    <tr>\n",
       "      <th>1360</th>\n",
       "      <td>mann</td>\n",
       "      <td>PER</td>\n",
       "      <td>83</td>\n",
       "    </tr>\n",
       "    <tr>\n",
       "      <th>1560</th>\n",
       "      <td>s</td>\n",
       "      <td>ORG</td>\n",
       "      <td>78</td>\n",
       "    </tr>\n",
       "    <tr>\n",
       "      <th>...</th>\n",
       "      <td>...</td>\n",
       "      <td>...</td>\n",
       "      <td>...</td>\n",
       "    </tr>\n",
       "    <tr>\n",
       "      <th>779</th>\n",
       "      <td>Uganda</td>\n",
       "      <td>LOC</td>\n",
       "      <td>1</td>\n",
       "    </tr>\n",
       "    <tr>\n",
       "      <th>776</th>\n",
       "      <td>Tyskeren</td>\n",
       "      <td>MISC</td>\n",
       "      <td>1</td>\n",
       "    </tr>\n",
       "    <tr>\n",
       "      <th>775</th>\n",
       "      <td>Tysk</td>\n",
       "      <td>MISC</td>\n",
       "      <td>1</td>\n",
       "    </tr>\n",
       "    <tr>\n",
       "      <th>774</th>\n",
       "      <td>Tusen</td>\n",
       "      <td>PER</td>\n",
       "      <td>1</td>\n",
       "    </tr>\n",
       "    <tr>\n",
       "      <th>2000</th>\n",
       "      <td>übestikkelighet</td>\n",
       "      <td>PER</td>\n",
       "      <td>1</td>\n",
       "    </tr>\n",
       "  </tbody>\n",
       "</table>\n",
       "<p>2001 rows × 3 columns</p>\n",
       "</div>"
      ],
      "text/plain": [
       "                token   ner  frekv\n",
       "39                Ask   PER    812\n",
       "140            Daniel   PER    115\n",
       "281               Gud   PER     83\n",
       "1360             mann   PER     83\n",
       "1560                s   ORG     78\n",
       "...               ...   ...    ...\n",
       "779            Uganda   LOC      1\n",
       "776          Tyskeren  MISC      1\n",
       "775              Tysk  MISC      1\n",
       "774             Tusen   PER      1\n",
       "2000  übestikkelighet   PER      1\n",
       "\n",
       "[2001 rows x 3 columns]"
      ]
     },
     "execution_count": 47,
     "metadata": {},
     "output_type": "execute_result"
    }
   ],
   "source": [
    "result.ner"
   ]
  },
  {
   "attachments": {},
   "cell_type": "markdown",
   "metadata": {},
   "source": [
    "## POS – Ordklassetagging\n",
    "\n",
    "Finn ordklasser og dependens for en tekst med `POS`"
   ]
  },
  {
   "cell_type": "code",
   "execution_count": 39,
   "metadata": {},
   "outputs": [],
   "source": [
    "res = POS(urn=urns[1], model=l.models[2], to_page=10000)"
   ]
  },
  {
   "cell_type": "code",
   "execution_count": 40,
   "metadata": {},
   "outputs": [
    {
     "data": {
      "text/html": [
       "<div>\n",
       "<style scoped>\n",
       "    .dataframe tbody tr th:only-of-type {\n",
       "        vertical-align: middle;\n",
       "    }\n",
       "\n",
       "    .dataframe tbody tr th {\n",
       "        vertical-align: top;\n",
       "    }\n",
       "\n",
       "    .dataframe thead th {\n",
       "        text-align: right;\n",
       "    }\n",
       "</style>\n",
       "<table border=\"1\" class=\"dataframe\">\n",
       "  <thead>\n",
       "    <tr style=\"text-align: right;\">\n",
       "      <th></th>\n",
       "      <th>token</th>\n",
       "      <th>lemma</th>\n",
       "      <th>pos</th>\n",
       "      <th>dep</th>\n",
       "      <th>frekv</th>\n",
       "    </tr>\n",
       "  </thead>\n",
       "  <tbody>\n",
       "    <tr>\n",
       "      <th>78</th>\n",
       "      <td>,</td>\n",
       "      <td>,</td>\n",
       "      <td>PUNCT</td>\n",
       "      <td>punct</td>\n",
       "      <td>11009</td>\n",
       "    </tr>\n",
       "    <tr>\n",
       "      <th>84</th>\n",
       "      <td>.</td>\n",
       "      <td>.</td>\n",
       "      <td>PUNCT</td>\n",
       "      <td>punct</td>\n",
       "      <td>5056</td>\n",
       "    </tr>\n",
       "    <tr>\n",
       "      <th>31044</th>\n",
       "      <td>og</td>\n",
       "      <td>og</td>\n",
       "      <td>CCONJ</td>\n",
       "      <td>cc</td>\n",
       "      <td>4329</td>\n",
       "    </tr>\n",
       "    <tr>\n",
       "      <th>17346</th>\n",
       "      <td>i</td>\n",
       "      <td>i</td>\n",
       "      <td>ADP</td>\n",
       "      <td>case</td>\n",
       "      <td>3079</td>\n",
       "    </tr>\n",
       "    <tr>\n",
       "      <th>11714</th>\n",
       "      <td>en</td>\n",
       "      <td>en</td>\n",
       "      <td>DET</td>\n",
       "      <td>det</td>\n",
       "      <td>2945</td>\n",
       "    </tr>\n",
       "    <tr>\n",
       "      <th>...</th>\n",
       "      <td>...</td>\n",
       "      <td>...</td>\n",
       "      <td>...</td>\n",
       "      <td>...</td>\n",
       "      <td>...</td>\n",
       "    </tr>\n",
       "    <tr>\n",
       "      <th>20594</th>\n",
       "      <td>knottene</td>\n",
       "      <td>knottene</td>\n",
       "      <td>VERB</td>\n",
       "      <td>obl:tmod</td>\n",
       "      <td>1</td>\n",
       "    </tr>\n",
       "    <tr>\n",
       "      <th>20595</th>\n",
       "      <td>knov</td>\n",
       "      <td>knov</td>\n",
       "      <td>PROPN</td>\n",
       "      <td>flat</td>\n",
       "      <td>1</td>\n",
       "    </tr>\n",
       "    <tr>\n",
       "      <th>20596</th>\n",
       "      <td>knu</td>\n",
       "      <td>knu</td>\n",
       "      <td>ADJ</td>\n",
       "      <td>amod</td>\n",
       "      <td>1</td>\n",
       "    </tr>\n",
       "    <tr>\n",
       "      <th>20597</th>\n",
       "      <td>knudret</td>\n",
       "      <td>knudret</td>\n",
       "      <td>VERB</td>\n",
       "      <td>conj</td>\n",
       "      <td>1</td>\n",
       "    </tr>\n",
       "    <tr>\n",
       "      <th>47358</th>\n",
       "      <td>€</td>\n",
       "      <td>€</td>\n",
       "      <td>PROPN</td>\n",
       "      <td>nmod:poss</td>\n",
       "      <td>1</td>\n",
       "    </tr>\n",
       "  </tbody>\n",
       "</table>\n",
       "<p>47359 rows × 5 columns</p>\n",
       "</div>"
      ],
      "text/plain": [
       "          token     lemma    pos        dep  frekv\n",
       "78            ,         ,  PUNCT      punct  11009\n",
       "84            .         .  PUNCT      punct   5056\n",
       "31044        og        og  CCONJ         cc   4329\n",
       "17346         i         i    ADP       case   3079\n",
       "11714        en        en    DET        det   2945\n",
       "...         ...       ...    ...        ...    ...\n",
       "20594  knottene  knottene   VERB   obl:tmod      1\n",
       "20595      knov      knov  PROPN       flat      1\n",
       "20596       knu       knu    ADJ       amod      1\n",
       "20597   knudret   knudret   VERB       conj      1\n",
       "47358         €         €  PROPN  nmod:poss      1\n",
       "\n",
       "[47359 rows x 5 columns]"
      ]
     },
     "execution_count": 40,
     "metadata": {},
     "output_type": "execute_result"
    }
   ],
   "source": [
    "res.pos"
   ]
  }
 ],
 "metadata": {
  "kernelspec": {
   "display_name": "digital_tekstanalyse-d0erqq9h",
   "language": "python",
   "name": "python3"
  },
  "language_info": {
   "codemirror_mode": {
    "name": "ipython",
    "version": 3
   },
   "file_extension": ".py",
   "mimetype": "text/x-python",
   "name": "python",
   "nbconvert_exporter": "python",
   "pygments_lexer": "ipython3",
   "version": "3.10.9 (main, Dec  7 2022, 01:12:00) [GCC 9.4.0]"
  },
  "orig_nbformat": 4,
  "vscode": {
   "interpreter": {
    "hash": "9d2feb1b19ad0b3ff64e928cca20630895d4b7a3e63fa8b7c2ceb66e49090d11"
   }
  }
 },
 "nbformat": 4,
 "nbformat_minor": 2
}
