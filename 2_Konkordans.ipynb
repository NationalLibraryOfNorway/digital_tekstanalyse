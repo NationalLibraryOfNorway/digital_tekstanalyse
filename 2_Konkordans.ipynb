{
 "cells": [
  {
   "attachments": {
    "DHlab_logo_web_no_red.png": {
     "image/png": "[encoded data removed]"
    }
   },
   "cell_type": "markdown",
   "metadata": {},
   "source": [
    "![DHlab_logo_web_no_red.png](attachment:DHlab_logo_web_no_red.png)"
   ]
  },
  {
   "cell_type": "code",
   "execution_count": 1,
   "metadata": {},
   "outputs": [
    {
     "name": "stdout",
     "output_type": "stream",
     "text": [
      "wordcloud er ikke installert, kan ikke lage ordskyer\n"
     ]
    }
   ],
   "source": [
    "import dhlab as dh"
   ]
  },
  {
   "cell_type": "markdown",
   "metadata": {
    "slideshow": {
     "slide_type": "slide"
    }
   },
   "source": [
    "# 2. Konkordans\n",
    "\n",
    "For å sjekke konkordanser i bøker og aviser benyttes klassen `Concordance`\n"
   ]
  },
  {
   "cell_type": "markdown",
   "metadata": {},
   "source": [
    "## 2.1. Konkordans fra aviser"
   ]
  },
  {
   "cell_type": "code",
   "execution_count": 2,
   "metadata": {},
   "outputs": [
    {
     "data": {
      "text/html": [
       "<style type=\"text/css\">\n",
       "</style>\n",
       "<table id=\"T_4fcbb\">\n",
       "  <thead>\n",
       "    <tr>\n",
       "      <th class=\"blank level0\" >&nbsp;</th>\n",
       "      <th id=\"T_4fcbb_level0_col0\" class=\"col_heading level0 col0\" >link</th>\n",
       "      <th id=\"T_4fcbb_level0_col1\" class=\"col_heading level0 col1\" >concordance</th>\n",
       "    </tr>\n",
       "  </thead>\n",
       "  <tbody>\n",
       "    <tr>\n",
       "      <th id=\"T_4fcbb_level0_row0\" class=\"row_heading level0 row0\" >2</th>\n",
       "      <td id=\"T_4fcbb_row0_col0\" class=\"data row0 col0\" ><a target='_blank' href = 'https://urn.nb.no/URN:NBN:no-nb_digavis_stavangeraftenblad_null_null_20171013_125_0_01'>URN:NBN:no-nb_digavis_stavangeraftenblad_null_null_20171013_125_0_01</a></td>\n",
       "      <td id=\"T_4fcbb_row0_col1\" class=\"data row0 col1\" >y 1994 FN vedtok økonomiske sanksjoner mot Haiti etter at landet brøt en avtale om å innføre <b>demokrati</b> .</td>\n",
       "    </tr>\n",
       "    <tr>\n",
       "      <th id=\"T_4fcbb_level0_row1\" class=\"row_heading level0 row1\" >0</th>\n",
       "      <td id=\"T_4fcbb_row1_col0\" class=\"data row1 col0\" ><a target='_blank' href = 'https://urn.nb.no/URN:NBN:no-nb_digavis_stavangeraftenblad_null_null_20151017_123_243_1'>URN:NBN:no-nb_digavis_stavangeraftenblad_null_null_20151017_123_243_1</a></td>\n",
       "      <td id=\"T_4fcbb_row1_col1\" class=\"data row1 col1\" >Kirken i dag er i en direkte konflikt med det moderne liberale <b>demokrati</b> . Bernt Oftestad , professor og katolikk... </td>\n",
       "    </tr>\n",
       "    <tr>\n",
       "      <th id=\"T_4fcbb_level0_row2\" class=\"row_heading level0 row2\" >9</th>\n",
       "      <td id=\"T_4fcbb_row2_col0\" class=\"data row2 col0\" ><a target='_blank' href = 'https://urn.nb.no/URN:NBN:no-nb_digavis_stavangeraftenblad_null_null_20050525_113_116_1'>URN:NBN:no-nb_digavis_stavangeraftenblad_null_null_20050525_113_116_1</a></td>\n",
       "      <td id=\"T_4fcbb_row2_col1\" class=\"data row2 col1\" >er det utenlandske elementer som ikke vil ha noe <b>demokrati</b> i Irak , heter det i Zebaris brev .</td>\n",
       "    </tr>\n",
       "    <tr>\n",
       "      <th id=\"T_4fcbb_level0_row3\" class=\"row_heading level0 row3\" >1</th>\n",
       "      <td id=\"T_4fcbb_row3_col0\" class=\"data row3 col0\" ><a target='_blank' href = 'https://urn.nb.no/URN:NBN:no-nb_digavis_stavangeraftenblad_null_null_20151017_123_243_1'>URN:NBN:no-nb_digavis_stavangeraftenblad_null_null_20151017_123_243_1</a></td>\n",
       "      <td id=\"T_4fcbb_row3_col1\" class=\"data row3 col1\" ><b>Demokrati</b> og religion</td>\n",
       "    </tr>\n",
       "    <tr>\n",
       "      <th id=\"T_4fcbb_level0_row4\" class=\"row_heading level0 row4\" >4</th>\n",
       "      <td id=\"T_4fcbb_row4_col0\" class=\"data row4 col0\" ><a target='_blank' href = 'https://urn.nb.no/URN:NBN:no-nb_digavis_stavangeraftenblad_null_null_19910709_99_154_1'>URN:NBN:no-nb_digavis_stavangeraftenblad_null_null_19910709_99_154_1</a></td>\n",
       "      <td id=\"T_4fcbb_row4_col1\" class=\"data row4 col1\" >... han , « Johannes Rau er sosialdemokrat og står for <b>demokrati</b> , bedre og mer rettferdig fordeling , større frihet for... </td>\n",
       "    </tr>\n",
       "    <tr>\n",
       "      <th id=\"T_4fcbb_level0_row5\" class=\"row_heading level0 row5\" >3</th>\n",
       "      <td id=\"T_4fcbb_row5_col0\" class=\"data row5 col0\" ><a target='_blank' href = 'https://urn.nb.no/URN:NBN:no-nb_digavis_stavangeraftenblad_null_null_19801227_88_300_1'>URN:NBN:no-nb_digavis_stavangeraftenblad_null_null_19801227_88_300_1</a></td>\n",
       "      <td id=\"T_4fcbb_row5_col1\" class=\"data row5 col1\" >... , dersom det skal forbli en rettsstat og et <b>demokrati</b> - et styre av folket . Det kommer et punkt... </td>\n",
       "    </tr>\n",
       "    <tr>\n",
       "      <th id=\"T_4fcbb_level0_row6\" class=\"row_heading level0 row6\" >8</th>\n",
       "      <td id=\"T_4fcbb_row6_col0\" class=\"data row6 col0\" ><a target='_blank' href = 'https://urn.nb.no/URN:NBN:no-nb_digavis_stavangeraftenblad_null_null_20050525_113_116_1'>URN:NBN:no-nb_digavis_stavangeraftenblad_null_null_20050525_113_116_1</a></td>\n",
       "      <td id=\"T_4fcbb_row6_col1\" class=\"data row6 col1\" >- Et liberalt <b>demokrati</b> er ikke</td>\n",
       "    </tr>\n",
       "    <tr>\n",
       "      <th id=\"T_4fcbb_level0_row7\" class=\"row_heading level0 row7\" >7</th>\n",
       "      <td id=\"T_4fcbb_row7_col0\" class=\"data row7 col0\" ><a target='_blank' href = 'https://urn.nb.no/URN:NBN:no-nb_digavis_stavangeraftenblad_null_null_19920330_100_76_1'>URN:NBN:no-nb_digavis_stavangeraftenblad_null_null_19920330_100_76_1</a></td>\n",
       "      <td id=\"T_4fcbb_row7_col1\" class=\"data row7 col1\" >... Folkelig engasjement , gjerne også i form av organiserte folkebegelser , er et gode og et sunnhetstegn for et <b>demokrati</b>... </td>\n",
       "    </tr>\n",
       "    <tr>\n",
       "      <th id=\"T_4fcbb_level0_row8\" class=\"row_heading level0 row8\" >6</th>\n",
       "      <td id=\"T_4fcbb_row8_col0\" class=\"data row8 col0\" ><a target='_blank' href = 'https://urn.nb.no/URN:NBN:no-nb_digavis_stavangeraftenblad_null_null_19910709_99_154_1'>URN:NBN:no-nb_digavis_stavangeraftenblad_null_null_19910709_99_154_1</a></td>\n",
       "      <td id=\"T_4fcbb_row8_col1\" class=\"data row8 col1\" >... Er dette en arbeidsform som fremmer <b>demokrati</b> og åpenhet sett fra Fremskrittspartiets side ?</td>\n",
       "    </tr>\n",
       "    <tr>\n",
       "      <th id=\"T_4fcbb_level0_row9\" class=\"row_heading level0 row9\" >5</th>\n",
       "      <td id=\"T_4fcbb_row9_col0\" class=\"data row9 col0\" ><a target='_blank' href = 'https://urn.nb.no/URN:NBN:no-nb_digavis_stavangeraftenblad_null_null_19910709_99_154_1'>URN:NBN:no-nb_digavis_stavangeraftenblad_null_null_19910709_99_154_1</a></td>\n",
       "      <td id=\"T_4fcbb_row9_col1\" class=\"data row9 col1\" >... administrasjonene som er avhengig av det politiske beslutningsapparatet . <b>Demokrati</b> forutsetter aktiv deltakelse og interesse . Kanskje hadde den tatt... </td>\n",
       "    </tr>\n",
       "  </tbody>\n",
       "</table>\n"
      ],
      "text/plain": [
       "<pandas.io.formats.style.Styler at 0x7f8bdd496bd0>"
      ]
     },
     "execution_count": 2,
     "metadata": {},
     "output_type": "execute_result"
    }
   ],
   "source": [
    "#Bygg aviskorpus med aviser som begynner med 'stavanger' utgitt fra 1960\n",
    "aviskorpus = dh.Corpus(doctype=\"digavis\", title=\"stavanger*\", from_year=1960, limit=10)\n",
    "\n",
    "# Finn konkordanser i korpus\n",
    "# Vis med .show()\n",
    "dh.Concordance(corpus=aviskorpus, query=\"demokrati\").show()"
   ]
  },
  {
   "cell_type": "markdown",
   "metadata": {},
   "source": [
    "## 2.2. Fri konkordans fra bøker"
   ]
  },
  {
   "cell_type": "code",
   "execution_count": 3,
   "metadata": {},
   "outputs": [
    {
     "data": {
      "text/html": [
       "<style type=\"text/css\">\n",
       "</style>\n",
       "<table id=\"T_d2965\">\n",
       "  <thead>\n",
       "    <tr>\n",
       "      <th class=\"blank level0\" >&nbsp;</th>\n",
       "      <th id=\"T_d2965_level0_col0\" class=\"col_heading level0 col0\" >link</th>\n",
       "      <th id=\"T_d2965_level0_col1\" class=\"col_heading level0 col1\" >concordance</th>\n",
       "    </tr>\n",
       "  </thead>\n",
       "  <tbody>\n",
       "    <tr>\n",
       "      <th id=\"T_d2965_level0_row0\" class=\"row_heading level0 row0\" >19</th>\n",
       "      <td id=\"T_d2965_row0_col0\" class=\"data row0 col0\" ><a target='_blank' href = 'https://urn.nb.no/URN:NBN:no-nb_digibok_2014022624026'>URN:NBN:no-nb_digibok_2014022624026</a></td>\n",
       "      <td id=\"T_d2965_row0_col1\" class=\"data row0 col1\" >... Such as Sans Souci , Friedenlyst ( the love of ' peace ; ) <b>Vinskibelighed</b> ( industry ; ) Sorgenfrey (... </td>\n",
       "    </tr>\n",
       "    <tr>\n",
       "      <th id=\"T_d2965_level0_row1\" class=\"row_heading level0 row1\" >9</th>\n",
       "      <td id=\"T_d2965_row1_col0\" class=\"data row1 col0\" ><a target='_blank' href = 'https://urn.nb.no/URN:NBN:no-nb_digibok_2020092526014'>URN:NBN:no-nb_digibok_2020092526014</a></td>\n",
       "      <td id=\"T_d2965_row1_col1\" class=\"data row1 col1\" >... Og en klog og almindelig udbredet <b>Vinskibelighed</b> i enhver Stat er , tilligemed sunde og stadige Love , med samme... </td>\n",
       "    </tr>\n",
       "  </tbody>\n",
       "</table>\n"
      ],
      "text/plain": [
       "<pandas.io.formats.style.Styler at 0x7f8bdc586dd0>"
      ]
     },
     "execution_count": 3,
     "metadata": {},
     "output_type": "execute_result"
    }
   ],
   "source": [
    "# Bygg korpus med bøker som nevner \"Vinskibelighed\" mellom 1600 og 1850\n",
    "bokkorpus = dh.Corpus(doctype=\"digibok\", fulltext=\"Vinskibelighed\", from_year=1600, to_year=1850, limit=20)\n",
    "\n",
    "# Finn konkordanser from 'Vinskibelighet'. Vis med '.show()'\n",
    "dh.Concordance(corpus=bokkorpus, query=\"Vinskibelighed\").show(2)"
   ]
  },
  {
   "cell_type": "markdown",
   "metadata": {},
   "source": [
    "## 2.3. Konkordans med et stort, definert korpus\n",
    "\n",
    "Her bygger vi først et korpus. Se eksempler i notebooken [Korpusbygging](https://nbviewer.org/github/NationalLibraryOfNorway/digital_tekstanalyse/blob/main/1_Bygg_korpus.ipynb) for ulike måter å definere korpus."
   ]
  },
  {
   "cell_type": "code",
   "execution_count": 4,
   "metadata": {},
   "outputs": [],
   "source": [
    "korpus = dh.Corpus(doctype=\"digibok\", fulltext='kvinner', ddk=\"33*\", from_year=1960, to_year=1970, limit=400)"
   ]
  },
  {
   "cell_type": "markdown",
   "metadata": {},
   "source": [
    "Undersøk lengden på korpuset med `.size`"
   ]
  },
  {
   "cell_type": "code",
   "execution_count": 5,
   "metadata": {},
   "outputs": [
    {
     "data": {
      "text/plain": [
       "331"
      ]
     },
     "execution_count": 5,
     "metadata": {},
     "output_type": "execute_result"
    }
   ],
   "source": [
    "korpus.size"
   ]
  },
  {
   "cell_type": "markdown",
   "metadata": {},
   "source": [
    "Vi kan dra ut et delkorpus for søkeformål med `.sample()`"
   ]
  },
  {
   "cell_type": "code",
   "execution_count": 6,
   "metadata": {},
   "outputs": [
    {
     "data": {
      "text/html": [
       "<div>\n",
       "<style scoped>\n",
       "    .dataframe tbody tr th:only-of-type {\n",
       "        vertical-align: middle;\n",
       "    }\n",
       "\n",
       "    .dataframe tbody tr th {\n",
       "        vertical-align: top;\n",
       "    }\n",
       "\n",
       "    .dataframe thead th {\n",
       "        text-align: right;\n",
       "    }\n",
       "</style>\n",
       "<table border=\"1\" class=\"dataframe\">\n",
       "  <thead>\n",
       "    <tr style=\"text-align: right;\">\n",
       "      <th></th>\n",
       "      <th>dhlabid</th>\n",
       "      <th>urn</th>\n",
       "      <th>title</th>\n",
       "      <th>authors</th>\n",
       "      <th>oaiid</th>\n",
       "      <th>sesamid</th>\n",
       "      <th>isbn10</th>\n",
       "      <th>city</th>\n",
       "      <th>timestamp</th>\n",
       "      <th>year</th>\n",
       "      <th>publisher</th>\n",
       "      <th>langs</th>\n",
       "      <th>subjects</th>\n",
       "      <th>ddc</th>\n",
       "      <th>genres</th>\n",
       "      <th>literaryform</th>\n",
       "      <th>doctype</th>\n",
       "    </tr>\n",
       "  </thead>\n",
       "  <tbody>\n",
       "    <tr>\n",
       "      <th>260</th>\n",
       "      <td>100335237</td>\n",
       "      <td>URN:NBN:no-nb_digibok_2017060148173</td>\n",
       "      <td>Murarbeidernes forening Oslo, 1892 - 8. april ...</td>\n",
       "      <td>Pedersen , Johan</td>\n",
       "      <td>oai:nb.bibsys.no:990012288894702202</td>\n",
       "      <td>8c6a098d959417a79ca7b89c8fdea50a</td>\n",
       "      <td></td>\n",
       "      <td></td>\n",
       "      <td>19670101</td>\n",
       "      <td>1967</td>\n",
       "      <td></td>\n",
       "      <td>nob</td>\n",
       "      <td></td>\n",
       "      <td>331.88</td>\n",
       "      <td></td>\n",
       "      <td>Faglitteratur</td>\n",
       "      <td>digibok</td>\n",
       "    </tr>\n",
       "    <tr>\n",
       "      <th>313</th>\n",
       "      <td>100530551</td>\n",
       "      <td>URN:NBN:no-nb_digibok_2007071304060</td>\n",
       "      <td>Mat for milliarder</td>\n",
       "      <td>Borgström , Georg / Hoff , Truls</td>\n",
       "      <td>oai:nb.bibsys.no:999106272664702202</td>\n",
       "      <td>599638988f14a72daffe9fb7c3f02b64</td>\n",
       "      <td></td>\n",
       "      <td>Oslo</td>\n",
       "      <td>19680101</td>\n",
       "      <td>1968</td>\n",
       "      <td>Gyldendal</td>\n",
       "      <td>nob / swe</td>\n",
       "      <td>Matforsyning / juss/økonomi / matforsyningspol...</td>\n",
       "      <td>338.1</td>\n",
       "      <td></td>\n",
       "      <td>Faglitteratur</td>\n",
       "      <td>digibok</td>\n",
       "    </tr>\n",
       "  </tbody>\n",
       "</table>\n",
       "</div>"
      ],
      "text/plain": [
       "       dhlabid                                  urn  \\\n",
       "260  100335237  URN:NBN:no-nb_digibok_2017060148173   \n",
       "313  100530551  URN:NBN:no-nb_digibok_2007071304060   \n",
       "\n",
       "                                                 title  \\\n",
       "260  Murarbeidernes forening Oslo, 1892 - 8. april ...   \n",
       "313                                 Mat for milliarder   \n",
       "\n",
       "                              authors                                oaiid  \\\n",
       "260                  Pedersen , Johan  oai:nb.bibsys.no:990012288894702202   \n",
       "313  Borgström , Georg / Hoff , Truls  oai:nb.bibsys.no:999106272664702202   \n",
       "\n",
       "                              sesamid isbn10  city  timestamp  year  \\\n",
       "260  8c6a098d959417a79ca7b89c8fdea50a                19670101  1967   \n",
       "313  599638988f14a72daffe9fb7c3f02b64         Oslo   19680101  1968   \n",
       "\n",
       "     publisher      langs                                           subjects  \\\n",
       "260                   nob                                                      \n",
       "313  Gyldendal  nob / swe  Matforsyning / juss/økonomi / matforsyningspol...   \n",
       "\n",
       "        ddc genres   literaryform  doctype  \n",
       "260  331.88         Faglitteratur  digibok  \n",
       "313   338.1         Faglitteratur  digibok  "
      ]
     },
     "execution_count": 6,
     "metadata": {},
     "output_type": "execute_result"
    }
   ],
   "source": [
    "korpus.corpus.sample(2)"
   ]
  },
  {
   "cell_type": "code",
   "execution_count": 7,
   "metadata": {},
   "outputs": [
    {
     "data": {
      "text/html": [
       "<style type=\"text/css\">\n",
       "</style>\n",
       "<table id=\"T_00d9e\">\n",
       "  <thead>\n",
       "    <tr>\n",
       "      <th class=\"blank level0\" >&nbsp;</th>\n",
       "      <th id=\"T_00d9e_level0_col0\" class=\"col_heading level0 col0\" >link</th>\n",
       "      <th id=\"T_00d9e_level0_col1\" class=\"col_heading level0 col1\" >concordance</th>\n",
       "    </tr>\n",
       "  </thead>\n",
       "  <tbody>\n",
       "    <tr>\n",
       "      <th id=\"T_00d9e_level0_row0\" class=\"row_heading level0 row0\" >115</th>\n",
       "      <td id=\"T_00d9e_row0_col0\" class=\"data row0 col0\" ><a target='_blank' href = 'https://urn.nb.no/URN:NBN:no-nb_digibok_2011011206122'>URN:NBN:no-nb_digibok_2011011206122</a></td>\n",
       "      <td id=\"T_00d9e_row0_col1\" class=\"data row0 col1\" >... reduksjonstabell , vil vi for en familie med to <b>barn</b> finne følgende tall for skatt i prosent av nettoinntekt (... </td>\n",
       "    </tr>\n",
       "    <tr>\n",
       "      <th id=\"T_00d9e_level0_row1\" class=\"row_heading level0 row1\" >6</th>\n",
       "      <td id=\"T_00d9e_row1_col0\" class=\"data row1 col0\" ><a target='_blank' href = 'https://urn.nb.no/URN:NBN:no-nb_digibok_2009061504017'>URN:NBN:no-nb_digibok_2009061504017</a></td>\n",
       "      <td id=\"T_00d9e_row1_col1\" class=\"data row1 col1\" >... som vil skje , barna skammer seg over faren eller moren og gruer for hva andre <b>barn</b> vil si .</td>\n",
       "    </tr>\n",
       "    <tr>\n",
       "      <th id=\"T_00d9e_level0_row2\" class=\"row_heading level0 row2\" >218</th>\n",
       "      <td id=\"T_00d9e_row2_col0\" class=\"data row2 col0\" ><a target='_blank' href = 'https://urn.nb.no/URN:NBN:no-nb_digibok_2017020248052'>URN:NBN:no-nb_digibok_2017020248052</a></td>\n",
       "      <td id=\"T_00d9e_row2_col1\" class=\"data row2 col1\" >... Loven må her trulig forståes slik at unnataket omfatter bare søsken av arbeidsgiveren eller hans ektefelle , derimot ikke <b>barn</b>... </td>\n",
       "    </tr>\n",
       "    <tr>\n",
       "      <th id=\"T_00d9e_level0_row3\" class=\"row_heading level0 row3\" >75</th>\n",
       "      <td id=\"T_00d9e_row3_col0\" class=\"data row3 col0\" ><a target='_blank' href = 'https://urn.nb.no/URN:NBN:no-nb_digibok_2013061808149'>URN:NBN:no-nb_digibok_2013061808149</a></td>\n",
       "      <td id=\"T_00d9e_row3_col1\" class=\"data row3 col1\" >... seiv tar anleggs- eller industriarbeid og lar kone og <b>barn</b> drive gården så godt de kan . I denne utviklingsfasen... </td>\n",
       "    </tr>\n",
       "    <tr>\n",
       "      <th id=\"T_00d9e_level0_row4\" class=\"row_heading level0 row4\" >189</th>\n",
       "      <td id=\"T_00d9e_row4_col0\" class=\"data row4 col0\" ><a target='_blank' href = 'https://urn.nb.no/URN:NBN:no-nb_digibok_2007051001055'>URN:NBN:no-nb_digibok_2007051001055</a></td>\n",
       "      <td id=\"T_00d9e_row4_col1\" class=\"data row4 col1\" >... At han har teke pengane , tyder at den økonomiske utviklinga blir sett tilbake , og at fleire <b>barn</b> døyr... </td>\n",
       "    </tr>\n",
       "    <tr>\n",
       "      <th id=\"T_00d9e_level0_row5\" class=\"row_heading level0 row5\" >101</th>\n",
       "      <td id=\"T_00d9e_row5_col0\" class=\"data row5 col0\" ><a target='_blank' href = 'https://urn.nb.no/URN:NBN:no-nb_digibok_2009012204041'>URN:NBN:no-nb_digibok_2009012204041</a></td>\n",
       "      <td id=\"T_00d9e_row5_col1\" class=\"data row5 col1\" >Som <b>barn</b> regner loven enhver som ikke har fylt 15 år eller er skolepliktig etter folkeskolelovene . Ungdom er ifølge... </td>\n",
       "    </tr>\n",
       "    <tr>\n",
       "      <th id=\"T_00d9e_level0_row6\" class=\"row_heading level0 row6\" >129</th>\n",
       "      <td id=\"T_00d9e_row6_col0\" class=\"data row6 col0\" ><a target='_blank' href = 'https://urn.nb.no/URN:NBN:no-nb_digibok_2011011206122'>URN:NBN:no-nb_digibok_2011011206122</a></td>\n",
       "      <td id=\"T_00d9e_row6_col1\" class=\"data row6 col1\" >... Ved lovendring i 1965 er det vedtatt at forsørgede <b>barn</b> over 15 år skal beskattes med en felles skattesats til... </td>\n",
       "    </tr>\n",
       "    <tr>\n",
       "      <th id=\"T_00d9e_level0_row7\" class=\"row_heading level0 row7\" >65</th>\n",
       "      <td id=\"T_00d9e_row7_col0\" class=\"data row7 col0\" ><a target='_blank' href = 'https://urn.nb.no/URN:NBN:no-nb_digibok_2011112505013'>URN:NBN:no-nb_digibok_2011112505013</a></td>\n",
       "      <td id=\"T_00d9e_row7_col1\" class=\"data row7 col1\" >... Grensen mellom dem er « fødestedkriteriet » , som gjør alle i Grønland fødte til « innfødte » , også <b>barn</b> av danske innflyttere... </td>\n",
       "    </tr>\n",
       "    <tr>\n",
       "      <th id=\"T_00d9e_level0_row8\" class=\"row_heading level0 row8\" >55</th>\n",
       "      <td id=\"T_00d9e_row8_col0\" class=\"data row8 col0\" ><a target='_blank' href = 'https://urn.nb.no/URN:NBN:no-nb_digibok_2014071706061'>URN:NBN:no-nb_digibok_2014071706061</a></td>\n",
       "      <td id=\"T_00d9e_row8_col1\" class=\"data row8 col1\" >... holde seg , og hvor vanskelig det er for <b>barn</b> av arbeidergruppen å finne veien til de høyere studier ,... </td>\n",
       "    </tr>\n",
       "    <tr>\n",
       "      <th id=\"T_00d9e_level0_row9\" class=\"row_heading level0 row9\" >14</th>\n",
       "      <td id=\"T_00d9e_row9_col0\" class=\"data row9 col0\" ><a target='_blank' href = 'https://urn.nb.no/URN:NBN:no-nb_digibok_2007032601071'>URN:NBN:no-nb_digibok_2007032601071</a></td>\n",
       "      <td id=\"T_00d9e_row9_col1\" class=\"data row9 col1\" >... aldersklasser og i et land som har forholdsvis mange <b>barn</b> og eldre mennesker . Også tilgang på mennesker fra andre... </td>\n",
       "    </tr>\n",
       "  </tbody>\n",
       "</table>\n"
      ],
      "text/plain": [
       "<pandas.io.formats.style.Styler at 0x7f8bdc3b8210>"
      ]
     },
     "execution_count": 7,
     "metadata": {},
     "output_type": "execute_result"
    }
   ],
   "source": [
    "# Konkordans fra sample\n",
    "dh.Concordance(corpus=korpus.corpus.sample(50), query=\"barn\").show()"
   ]
  },
  {
   "cell_type": "markdown",
   "metadata": {},
   "source": [
    "Flere ord eller ordformer kan søkes etter på en gang. Bruk 'OR' for å separerer ordene."
   ]
  },
  {
   "cell_type": "code",
   "execution_count": 8,
   "metadata": {},
   "outputs": [
    {
     "data": {
      "text/html": [
       "<style type=\"text/css\">\n",
       "</style>\n",
       "<table id=\"T_55643\">\n",
       "  <thead>\n",
       "    <tr>\n",
       "      <th class=\"blank level0\" >&nbsp;</th>\n",
       "      <th id=\"T_55643_level0_col0\" class=\"col_heading level0 col0\" >link</th>\n",
       "      <th id=\"T_55643_level0_col1\" class=\"col_heading level0 col1\" >concordance</th>\n",
       "    </tr>\n",
       "  </thead>\n",
       "  <tbody>\n",
       "    <tr>\n",
       "      <th id=\"T_55643_level0_row0\" class=\"row_heading level0 row0\" >1143</th>\n",
       "      <td id=\"T_55643_row0_col0\" class=\"data row0 col0\" ><a target='_blank' href = 'https://urn.nb.no/URN:NBN:no-nb_digibok_2017092548140'>URN:NBN:no-nb_digibok_2017092548140</a></td>\n",
       "      <td id=\"T_55643_row0_col1\" class=\"data row0 col1\" >... Sosialdemokratene tok ham i <b>skole</b> for hans uttalelser om dynamitt i borehullene for å skade streikebrytere . « Det er en... </td>\n",
       "    </tr>\n",
       "    <tr>\n",
       "      <th id=\"T_55643_level0_row1\" class=\"row_heading level0 row1\" >311</th>\n",
       "      <td id=\"T_55643_row1_col0\" class=\"data row1 col0\" ><a target='_blank' href = 'https://urn.nb.no/URN:NBN:no-nb_digibok_2013071908177'>URN:NBN:no-nb_digibok_2013071908177</a></td>\n",
       "      <td id=\"T_55643_row1_col1\" class=\"data row1 col1\" >... mars 1929 på Fuglset <b>skole</b> . Valet</td>\n",
       "    </tr>\n",
       "    <tr>\n",
       "      <th id=\"T_55643_level0_row2\" class=\"row_heading level0 row2\" >1212</th>\n",
       "      <td id=\"T_55643_row2_col0\" class=\"data row2 col0\" ><a target='_blank' href = 'https://urn.nb.no/URN:NBN:no-nb_digibok_2017112048006'>URN:NBN:no-nb_digibok_2017112048006</a></td>\n",
       "      <td id=\"T_55643_row2_col1\" class=\"data row2 col1\" >Ore-Nordbygda <b>skole</b></td>\n",
       "    </tr>\n",
       "    <tr>\n",
       "      <th id=\"T_55643_level0_row3\" class=\"row_heading level0 row3\" >1981</th>\n",
       "      <td id=\"T_55643_row3_col0\" class=\"data row3 col0\" ><a target='_blank' href = 'https://urn.nb.no/URN:NBN:no-nb_digibok_2017060148204'>URN:NBN:no-nb_digibok_2017060148204</a></td>\n",
       "      <td id=\"T_55643_row3_col1\" class=\"data row3 col1\" >... , ble Bergens Maskinistskole i 1890 opprettet som selvstendig <b>skole</b> . Nok en sak som Skipperforeningen hadde arbeidet for ,... </td>\n",
       "    </tr>\n",
       "    <tr>\n",
       "      <th id=\"T_55643_level0_row4\" class=\"row_heading level0 row4\" >1625</th>\n",
       "      <td id=\"T_55643_row4_col0\" class=\"data row4 col0\" ><a target='_blank' href = 'https://urn.nb.no/URN:NBN:no-nb_digibok_2007050804034'>URN:NBN:no-nb_digibok_2007050804034</a></td>\n",
       "      <td id=\"T_55643_row4_col1\" class=\"data row4 col1\" >... Man regnet med at <b>skolen</b> ville ta fast tilhold på Universitetet gratis og anslo årsutgiftene ved driften til ca. 10... </td>\n",
       "    </tr>\n",
       "    <tr>\n",
       "      <th id=\"T_55643_level0_row5\" class=\"row_heading level0 row5\" >1462</th>\n",
       "      <td id=\"T_55643_row5_col0\" class=\"data row5 col0\" ><a target='_blank' href = 'https://urn.nb.no/URN:NBN:no-nb_digibok_2007052201047'>URN:NBN:no-nb_digibok_2007052201047</a></td>\n",
       "      <td id=\"T_55643_row5_col1\" class=\"data row5 col1\" >... Under vårt opphold i Kampala ga nan oss verdifulle råd om hvordan vi <b>skule</b> gardere oss mot tropesykdommer . Når... </td>\n",
       "    </tr>\n",
       "    <tr>\n",
       "      <th id=\"T_55643_level0_row6\" class=\"row_heading level0 row6\" >1983</th>\n",
       "      <td id=\"T_55643_row6_col0\" class=\"data row6 col0\" ><a target='_blank' href = 'https://urn.nb.no/URN:NBN:no-nb_digibok_2017060148173'>URN:NBN:no-nb_digibok_2017060148173</a></td>\n",
       "      <td id=\"T_55643_row6_col1\" class=\"data row6 col1\" >... Jeg gikk jo på <b>skolen</b> , men den sluttet jo ved 13 - tiden , og jeg arbeidet da på... </td>\n",
       "    </tr>\n",
       "    <tr>\n",
       "      <th id=\"T_55643_level0_row7\" class=\"row_heading level0 row7\" >1835</th>\n",
       "      <td id=\"T_55643_row7_col0\" class=\"data row7 col0\" ><a target='_blank' href = 'https://urn.nb.no/URN:NBN:no-nb_digibok_2017021308142'>URN:NBN:no-nb_digibok_2017021308142</a></td>\n",
       "      <td id=\"T_55643_row7_col1\" class=\"data row7 col1\" >... juni 1953 ble lærerpersonalet i den høgre <b>skolen</b> og som var i ansiennitetsopptjenende stilling før . 1. juli 1950 tilstått... </td>\n",
       "    </tr>\n",
       "    <tr>\n",
       "      <th id=\"T_55643_level0_row8\" class=\"row_heading level0 row8\" >664</th>\n",
       "      <td id=\"T_55643_row8_col0\" class=\"data row8 col0\" ><a target='_blank' href = 'https://urn.nb.no/URN:NBN:no-nb_digibok_2012080608011'>URN:NBN:no-nb_digibok_2012080608011</a></td>\n",
       "      <td id=\"T_55643_row8_col1\" class=\"data row8 col1\" >... 28. — Nytt klientel til den videregående <b>skole</b> , s . 29. —</td>\n",
       "    </tr>\n",
       "    <tr>\n",
       "      <th id=\"T_55643_level0_row9\" class=\"row_heading level0 row9\" >326</th>\n",
       "      <td id=\"T_55643_row9_col0\" class=\"data row9 col0\" ><a target='_blank' href = 'https://urn.nb.no/URN:NBN:no-nb_digibok_2008052304020'>URN:NBN:no-nb_digibok_2008052304020</a></td>\n",
       "      <td id=\"T_55643_row9_col1\" class=\"data row9 col1\" >av de forskjellige aldersgruppene som går på <b>skole</b> eller studerer , forteller yrkesprosenten tilsvarende hvor mange som er ute i... </td>\n",
       "    </tr>\n",
       "  </tbody>\n",
       "</table>\n"
      ],
      "text/plain": [
       "<pandas.io.formats.style.Styler at 0x7f8bf3111990>"
      ]
     },
     "execution_count": 8,
     "metadata": {},
     "output_type": "execute_result"
    }
   ],
   "source": [
    "dh.Concordance(corpus=korpus, query='skole OR skolen OR Skole OR skule').show()"
   ]
  },
  {
   "cell_type": "markdown",
   "metadata": {},
   "source": [
    "Tilbake til [DHLAB ved Nasjonalbiblioteket](https://nbviewer.org/github/NationalLibraryOfNorway/digital_tekstanalyse/blob/main/DHLAB_ved_Nasjonalbiblioteket.ipynb)"
   ]
  }
 ],
 "metadata": {
  "kernelspec": {
   "display_name": "Python 3.11.0 64-bit ('dh_env')",
   "language": "python",
   "name": "python3"
  },
  "language_info": {
   "codemirror_mode": {
    "name": "ipython",
    "version": 3
   },
   "file_extension": ".py",
   "mimetype": "text/x-python",
   "name": "python",
   "nbconvert_exporter": "python",
   "pygments_lexer": "ipython3",
   "version": "3.11.0"
  },
  "varInspector": {
   "cols": {
    "lenName": 16,
    "lenType": 16,
    "lenVar": 40
   },
   "kernels_config": {
    "python": {
     "delete_cmd_postfix": "",
     "delete_cmd_prefix": "del ",
     "library": "var_list.py",
     "varRefreshCmd": "print(var_dic_list())"
    },
    "r": {
     "delete_cmd_postfix": ") ",
     "delete_cmd_prefix": "rm(",
     "library": "var_list.r",
     "varRefreshCmd": "cat(var_dic_list()) "
    }
   },
   "types_to_exclude": [
    "module",
    "function",
    "builtin_function_or_method",
    "instance",
    "_Feature"
   ],
   "window_display": false
  },
  "vscode": {
   "interpreter": {
    "hash": "f2755d8ce3ccdb267e1a10f38109441e1493c17b0c49ae1fd6e138edd029bf7b"
   }
  }
 },
 "nbformat": 4,
 "nbformat_minor": 4
}
