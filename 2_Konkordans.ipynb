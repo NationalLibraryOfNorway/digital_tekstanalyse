{
 "cells": [
  {
   "attachments": {
    "DHlab_logo_web_no_red.png": {
     "image/png": "[encoded data removed]"
    }
   },
   "cell_type": "markdown",
   "metadata": {},
   "source": [
    "![DHlab_logo_web_no_red.png](attachment:DHlab_logo_web_no_red.png)"
   ]
  },
  {
   "cell_type": "markdown",
   "metadata": {},
   "source": [
    "## Oppstartceller"
   ]
  },
  {
   "cell_type": "code",
   "execution_count": 1,
   "metadata": {},
   "outputs": [
    {
     "name": "stdout",
     "output_type": "stream",
     "text": [
      "wordcloud er ikke installert, kan ikke lage ordskyer\n"
     ]
    }
   ],
   "source": [
    "import dhlab as dh"
   ]
  },
  {
   "cell_type": "markdown",
   "metadata": {
    "slideshow": {
     "slide_type": "slide"
    }
   },
   "source": [
    "## 1. Konkordans med og uten korpus\n",
    "\n",
    "For å sjekke konkordanser i bøker og aviser benyttes kommandoen `concordance()`\n"
   ]
  },
  {
   "cell_type": "markdown",
   "metadata": {},
   "source": [
    "### 1.1. Konkordans fra aviser"
   ]
  },
  {
   "cell_type": "code",
   "execution_count": 2,
   "metadata": {},
   "outputs": [
    {
     "data": {
      "text/html": [
       "<style type=\"text/css\">\n",
       "</style>\n",
       "<table id=\"T_b2148\">\n",
       "  <thead>\n",
       "    <tr>\n",
       "      <th class=\"blank level0\" >&nbsp;</th>\n",
       "      <th id=\"T_b2148_level0_col0\" class=\"col_heading level0 col0\" >link</th>\n",
       "      <th id=\"T_b2148_level0_col1\" class=\"col_heading level0 col1\" >concordance</th>\n",
       "    </tr>\n",
       "  </thead>\n",
       "  <tbody>\n",
       "    <tr>\n",
       "      <th id=\"T_b2148_level0_row0\" class=\"row_heading level0 row0\" >10</th>\n",
       "      <td id=\"T_b2148_row0_col0\" class=\"data row0 col0\" ><a target='_blank' href = 'https://urn.nb.no/URN:NBN:no-nb_digavis_stavangeraftenblad_null_null_20021011_110_235_1'>URN:NBN:no-nb_digavis_stavangeraftenblad_null_null_20021011_110_235_1</a></td>\n",
       "      <td id=\"T_b2148_row0_col1\" class=\"data row0 col1\" >... Han har liten tro på det den nåværende presidenten kaller <b>demokrati</b> . Tidligere har valgdeltakelsen i gjennomsnitt ligget på 40... </td>\n",
       "    </tr>\n",
       "    <tr>\n",
       "      <th id=\"T_b2148_level0_row1\" class=\"row_heading level0 row1\" >3</th>\n",
       "      <td id=\"T_b2148_row1_col0\" class=\"data row1 col0\" ><a target='_blank' href = 'https://urn.nb.no/URN:NBN:no-nb_digavis_stavangeraftenblad_null_null_19951109_103_260_1'>URN:NBN:no-nb_digavis_stavangeraftenblad_null_null_19951109_103_260_1</a></td>\n",
       "      <td id=\"T_b2148_row1_col1\" class=\"data row1 col1\" >... På trass av sitt syn på teologi og <b>demokrati</b> , reknar ho med at saka kan koma til å verta... </td>\n",
       "    </tr>\n",
       "    <tr>\n",
       "      <th id=\"T_b2148_level0_row2\" class=\"row_heading level0 row2\" >9</th>\n",
       "      <td id=\"T_b2148_row2_col0\" class=\"data row2 col0\" ><a target='_blank' href = 'https://urn.nb.no/URN:NBN:no-nb_digavis_stavangeraftenblad_null_null_20021011_110_235_1'>URN:NBN:no-nb_digavis_stavangeraftenblad_null_null_20021011_110_235_1</a></td>\n",
       "      <td id=\"T_b2148_row2_col1\" class=\"data row2 col1\" >... Det er meget lavt , og et stort nederlag for Musharrafs <b>demokrati</b> , sier Ahsan til NTB .</td>\n",
       "    </tr>\n",
       "    <tr>\n",
       "      <th id=\"T_b2148_level0_row3\" class=\"row_heading level0 row3\" >15</th>\n",
       "      <td id=\"T_b2148_row3_col0\" class=\"data row3 col0\" ><a target='_blank' href = 'https://urn.nb.no/URN:NBN:no-nb_digavis_stavangeraftenblad_null_null_20030201_111_27_1'>URN:NBN:no-nb_digavis_stavangeraftenblad_null_null_20030201_111_27_1</a></td>\n",
       "      <td id=\"T_b2148_row3_col1\" class=\"data row3 col1\" >... Krig førte til at begge landene er på vei mot <b>demokrati</b> . - Så en krig mot Irak er helt... </td>\n",
       "    </tr>\n",
       "    <tr>\n",
       "      <th id=\"T_b2148_level0_row4\" class=\"row_heading level0 row4\" >0</th>\n",
       "      <td id=\"T_b2148_row4_col0\" class=\"data row4 col0\" ><a target='_blank' href = 'https://urn.nb.no/URN:NBN:no-nb_digavis_stavangeraftenblad_null_null_19721117_80_268_1'>URN:NBN:no-nb_digavis_stavangeraftenblad_null_null_19721117_80_268_1</a></td>\n",
       "      <td id=\"T_b2148_row4_col1\" class=\"data row4 col1\" >... Hva mente dronning Margrethe ? At man i et <b>demokrati</b> alltid må balansere , og at det alltid er truet... </td>\n",
       "    </tr>\n",
       "    <tr>\n",
       "      <th id=\"T_b2148_level0_row5\" class=\"row_heading level0 row5\" >11</th>\n",
       "      <td id=\"T_b2148_row5_col0\" class=\"data row5 col0\" ><a target='_blank' href = 'https://urn.nb.no/URN:NBN:no-nb_digavis_stavangeraftenblad_null_null_20021011_110_235_1'>URN:NBN:no-nb_digavis_stavangeraftenblad_null_null_20021011_110_235_1</a></td>\n",
       "      <td id=\"T_b2148_row5_col1\" class=\"data row5 col1\" >... Ap-politiker Aslam Ahsan mener at den svært lave valgdeltakelsen vitner om at det ikke finnes et reelt <b>demokrati</b> i Pakistan... </td>\n",
       "    </tr>\n",
       "    <tr>\n",
       "      <th id=\"T_b2148_level0_row6\" class=\"row_heading level0 row6\" >8</th>\n",
       "      <td id=\"T_b2148_row6_col0\" class=\"data row6 col0\" ><a target='_blank' href = 'https://urn.nb.no/URN:NBN:no-nb_digavis_stavangeraftenblad_null_null_20021011_110_235_1'>URN:NBN:no-nb_digavis_stavangeraftenblad_null_null_20021011_110_235_1</a></td>\n",
       "      <td id=\"T_b2148_row6_col1\" class=\"data row6 col1\" >... mener at den svært lave valgdeltakelsen vitner om at det ikke finnes et reelt <b>demokrati</b> i Pakistan .</td>\n",
       "    </tr>\n",
       "    <tr>\n",
       "      <th id=\"T_b2148_level0_row7\" class=\"row_heading level0 row7\" >5</th>\n",
       "      <td id=\"T_b2148_row7_col0\" class=\"data row7 col0\" ><a target='_blank' href = 'https://urn.nb.no/URN:NBN:no-nb_digavis_stavangeraftenblad_null_null_19951109_103_260_1'>URN:NBN:no-nb_digavis_stavangeraftenblad_null_null_19951109_103_260_1</a></td>\n",
       "      <td id=\"T_b2148_row7_col1\" class=\"data row7 col1\" >... Si aldri <b>demokrati</b> , perestrojka eUer Gorbatsjov tU en russisk gammelkommunist . Begrepene gåranterer en eksplosjon . Fn gang var... </td>\n",
       "    </tr>\n",
       "    <tr>\n",
       "      <th id=\"T_b2148_level0_row8\" class=\"row_heading level0 row8\" >4</th>\n",
       "      <td id=\"T_b2148_row8_col0\" class=\"data row8 col0\" ><a target='_blank' href = 'https://urn.nb.no/URN:NBN:no-nb_digavis_stavangeraftenblad_null_null_19951109_103_260_1'>URN:NBN:no-nb_digavis_stavangeraftenblad_null_null_19951109_103_260_1</a></td>\n",
       "      <td id=\"T_b2148_row8_col1\" class=\"data row8 col1\" >... Det er et nådeløst <b>demokrati</b> i verdens supermakt . CoUn PoweU er aUerede glemt , og vi kan vente oss... </td>\n",
       "    </tr>\n",
       "    <tr>\n",
       "      <th id=\"T_b2148_level0_row9\" class=\"row_heading level0 row9\" >1</th>\n",
       "      <td id=\"T_b2148_row9_col0\" class=\"data row9 col0\" ><a target='_blank' href = 'https://urn.nb.no/URN:NBN:no-nb_digavis_stavangeraftenblad_null_null_19760511_84_108_1'>URN:NBN:no-nb_digavis_stavangeraftenblad_null_null_19760511_84_108_1</a></td>\n",
       "      <td id=\"T_b2148_row9_col1\" class=\"data row9 col1\" >... vil fienden undergrave hele var moral , kultur og <b>demokrati</b> . . . Dii folket sov . kom fienden og... </td>\n",
       "    </tr>\n",
       "  </tbody>\n",
       "</table>\n"
      ],
      "text/plain": [
       "<pandas.io.formats.style.Styler at 0x7f1d77d3d2d0>"
      ]
     },
     "execution_count": 2,
     "metadata": {},
     "output_type": "execute_result"
    }
   ],
   "source": [
    "#Bygg aviskorpus med aviser som begynner med 'stavanger' utgitt fra 1960\n",
    "aviskorpus = dh.Corpus(doctype=\"digavis\", title=\"stavanger*\", from_year=1960, limit=10)\n",
    "\n",
    "# Finn konkordanser i korpus\n",
    "# Vis med .show()\n",
    "dh.Concordance(corpus=aviskorpus, query=\"demokrati\").show()"
   ]
  },
  {
   "cell_type": "markdown",
   "metadata": {},
   "source": [
    "### 1.2. Fri konkordans fra bøker"
   ]
  },
  {
   "cell_type": "code",
   "execution_count": 3,
   "metadata": {},
   "outputs": [
    {
     "data": {
      "text/html": [
       "<style type=\"text/css\">\n",
       "</style>\n",
       "<table id=\"T_b8638\">\n",
       "  <thead>\n",
       "    <tr>\n",
       "      <th class=\"blank level0\" >&nbsp;</th>\n",
       "      <th id=\"T_b8638_level0_col0\" class=\"col_heading level0 col0\" >link</th>\n",
       "      <th id=\"T_b8638_level0_col1\" class=\"col_heading level0 col1\" >concordance</th>\n",
       "    </tr>\n",
       "  </thead>\n",
       "  <tbody>\n",
       "    <tr>\n",
       "      <th id=\"T_b8638_level0_row0\" class=\"row_heading level0 row0\" >14</th>\n",
       "      <td id=\"T_b8638_row0_col0\" class=\"data row0 col0\" ><a target='_blank' href = 'https://urn.nb.no/URN:NBN:no-nb_digibok_2020092526014'>URN:NBN:no-nb_digibok_2020092526014</a></td>\n",
       "      <td id=\"T_b8638_row0_col1\" class=\"data row0 col1\" >8 ) For megen udviist <b>Vinskibelighed</b> i Landbruget , i sær i Kartuffel- og Bie-Avlingen , og desuden for Anlæg... </td>\n",
       "    </tr>\n",
       "    <tr>\n",
       "      <th id=\"T_b8638_level0_row1\" class=\"row_heading level0 row1\" >10</th>\n",
       "      <td id=\"T_b8638_row1_col0\" class=\"data row1 col0\" ><a target='_blank' href = 'https://urn.nb.no/URN:NBN:no-nb_digibok_2020092526014'>URN:NBN:no-nb_digibok_2020092526014</a></td>\n",
       "      <td id=\"T_b8638_row1_col1\" class=\"data row1 col1\" >Hvilke Udsigter for vores <b>Vinskibelighed</b> ! Hvilket Haab for vore Fiskerier ! vores Handel ! vores Skibsfart og vor hele... </td>\n",
       "    </tr>\n",
       "  </tbody>\n",
       "</table>\n"
      ],
      "text/plain": [
       "<pandas.io.formats.style.Styler at 0x7f1d77c7b8e0>"
      ]
     },
     "execution_count": 3,
     "metadata": {},
     "output_type": "execute_result"
    }
   ],
   "source": [
    "# Bygg korpus med bøker som nevner \"Vinskibelighed\" mellom 1600 og 1850\n",
    "bokkorpus = dh.Corpus(doctype=\"digibok\", fulltext=\"Vinskibelighed\", from_year=1600, to_year=1850, limit=20)\n",
    "\n",
    "# Finn konkordanser from 'Vinskibelighet'. Vis med '.show()'\n",
    "dh.Concordance(corpus=bokkorpus, query=\"Vinskibelighed\").show(2)"
   ]
  },
  {
   "cell_type": "markdown",
   "metadata": {},
   "source": [
    "### 1.3.. Konkordans med stort definert korpus\n",
    "\n",
    "Her bygger vi først et korpus. Se eksempelfil om [Korpusbygging](https://nbviewer.jupyter.org/github/DH-LAB-NB/DHLAB/blob/master/1_Bygg_korpus.ipynb) for ulike måter å definere korpus."
   ]
  },
  {
   "cell_type": "code",
   "execution_count": 11,
   "metadata": {},
   "outputs": [],
   "source": [
    "korpus = dh.Corpus(doctype=\"digibok\", fulltext='kvinner', ddk=\"33*\", from_year=1960, to_year=1970, limit=400)"
   ]
  },
  {
   "cell_type": "markdown",
   "metadata": {},
   "source": [
    "Undersøk lengden på korpuset med `.size`"
   ]
  },
  {
   "cell_type": "code",
   "execution_count": 12,
   "metadata": {},
   "outputs": [
    {
     "data": {
      "text/plain": [
       "331"
      ]
     },
     "execution_count": 12,
     "metadata": {},
     "output_type": "execute_result"
    }
   ],
   "source": [
    "korpus.size"
   ]
  },
  {
   "cell_type": "markdown",
   "metadata": {},
   "source": [
    "Vi kan dra ut et delkorpus for søkeformål med `.sample()`"
   ]
  },
  {
   "cell_type": "code",
   "execution_count": 6,
   "metadata": {},
   "outputs": [
    {
     "data": {
      "text/html": [
       "<div>\n",
       "<style scoped>\n",
       "    .dataframe tbody tr th:only-of-type {\n",
       "        vertical-align: middle;\n",
       "    }\n",
       "\n",
       "    .dataframe tbody tr th {\n",
       "        vertical-align: top;\n",
       "    }\n",
       "\n",
       "    .dataframe thead th {\n",
       "        text-align: right;\n",
       "    }\n",
       "</style>\n",
       "<table border=\"1\" class=\"dataframe\">\n",
       "  <thead>\n",
       "    <tr style=\"text-align: right;\">\n",
       "      <th></th>\n",
       "      <th>dhlabid</th>\n",
       "      <th>urn</th>\n",
       "      <th>title</th>\n",
       "      <th>authors</th>\n",
       "      <th>oaiid</th>\n",
       "      <th>sesamid</th>\n",
       "      <th>isbn10</th>\n",
       "      <th>city</th>\n",
       "      <th>timestamp</th>\n",
       "      <th>year</th>\n",
       "      <th>publisher</th>\n",
       "      <th>langs</th>\n",
       "      <th>subjects</th>\n",
       "      <th>ddc</th>\n",
       "      <th>genres</th>\n",
       "      <th>literaryform</th>\n",
       "      <th>doctype</th>\n",
       "    </tr>\n",
       "  </thead>\n",
       "  <tbody>\n",
       "    <tr>\n",
       "      <th>57</th>\n",
       "      <td>100263413</td>\n",
       "      <td>URN:NBN:no-nb_digibok_2015082448027</td>\n",
       "      <td>Innstilling om den videre utbygging av Norges ...</td>\n",
       "      <td></td>\n",
       "      <td>oai:nb.bibsys.no:990227261604702202</td>\n",
       "      <td>409aa83af0117cd2b3aa29629c5c5430</td>\n",
       "      <td></td>\n",
       "      <td>Oslo</td>\n",
       "      <td>19670101</td>\n",
       "      <td>1967</td>\n",
       "      <td></td>\n",
       "      <td>nob</td>\n",
       "      <td></td>\n",
       "      <td>338.91</td>\n",
       "      <td></td>\n",
       "      <td>Faglitteratur</td>\n",
       "      <td>digibok</td>\n",
       "    </tr>\n",
       "    <tr>\n",
       "      <th>236</th>\n",
       "      <td>100327697</td>\n",
       "      <td>URN:NBN:no-nb_digibok_2017021748004</td>\n",
       "      <td>Det 12. verneledermøte for ledere av vernearbe...</td>\n",
       "      <td></td>\n",
       "      <td>oai:nb.bibsys.no:990230406024702202</td>\n",
       "      <td>f5685f18c659b8d7651deca668b605cf</td>\n",
       "      <td></td>\n",
       "      <td>[Oslo</td>\n",
       "      <td>19610101</td>\n",
       "      <td>1961</td>\n",
       "      <td>Vern og velferd</td>\n",
       "      <td>nob</td>\n",
       "      <td></td>\n",
       "      <td>331.82</td>\n",
       "      <td></td>\n",
       "      <td>Faglitteratur</td>\n",
       "      <td>digibok</td>\n",
       "    </tr>\n",
       "  </tbody>\n",
       "</table>\n",
       "</div>"
      ],
      "text/plain": [
       "       dhlabid                                  urn  \\\n",
       "57   100263413  URN:NBN:no-nb_digibok_2015082448027   \n",
       "236  100327697  URN:NBN:no-nb_digibok_2017021748004   \n",
       "\n",
       "                                                 title authors  \\\n",
       "57   Innstilling om den videre utbygging av Norges ...           \n",
       "236  Det 12. verneledermøte for ledere av vernearbe...           \n",
       "\n",
       "                                   oaiid                           sesamid  \\\n",
       "57   oai:nb.bibsys.no:990227261604702202  409aa83af0117cd2b3aa29629c5c5430   \n",
       "236  oai:nb.bibsys.no:990230406024702202  f5685f18c659b8d7651deca668b605cf   \n",
       "\n",
       "    isbn10   city  timestamp  year        publisher langs subjects     ddc  \\\n",
       "57           Oslo   19670101  1967                    nob           338.91   \n",
       "236         [Oslo   19610101  1961  Vern og velferd   nob           331.82   \n",
       "\n",
       "    genres   literaryform  doctype  \n",
       "57          Faglitteratur  digibok  \n",
       "236         Faglitteratur  digibok  "
      ]
     },
     "execution_count": 6,
     "metadata": {},
     "output_type": "execute_result"
    }
   ],
   "source": [
    "korpus.corpus.sample(2)"
   ]
  },
  {
   "cell_type": "code",
   "execution_count": 7,
   "metadata": {},
   "outputs": [
    {
     "data": {
      "text/html": [
       "<style type=\"text/css\">\n",
       "</style>\n",
       "<table id=\"T_34f6d\">\n",
       "  <thead>\n",
       "    <tr>\n",
       "      <th class=\"blank level0\" >&nbsp;</th>\n",
       "      <th id=\"T_34f6d_level0_col0\" class=\"col_heading level0 col0\" >link</th>\n",
       "      <th id=\"T_34f6d_level0_col1\" class=\"col_heading level0 col1\" >concordance</th>\n",
       "    </tr>\n",
       "  </thead>\n",
       "  <tbody>\n",
       "    <tr>\n",
       "      <th id=\"T_34f6d_level0_row0\" class=\"row_heading level0 row0\" >246</th>\n",
       "      <td id=\"T_34f6d_row0_col0\" class=\"data row0 col0\" ><a target='_blank' href = 'https://urn.nb.no/URN:NBN:no-nb_digibok_2016090708247'>URN:NBN:no-nb_digibok_2016090708247</a></td>\n",
       "      <td id=\"T_34f6d_row0_col1\" class=\"data row0 col1\" >... opplysninger om underholdsbidrag til ektefeller og <b>barn</b> . I 1962 foretok imidlertid Sosialdepartementet en landsomfattende spesialundersøkelse blant annet gir opplysninger... </td>\n",
       "    </tr>\n",
       "    <tr>\n",
       "      <th id=\"T_34f6d_level0_row1\" class=\"row_heading level0 row1\" >218</th>\n",
       "      <td id=\"T_34f6d_row1_col0\" class=\"data row1 col0\" ><a target='_blank' href = 'https://urn.nb.no/URN:NBN:no-nb_digibok_2016090708247'>URN:NBN:no-nb_digibok_2016090708247</a></td>\n",
       "      <td id=\"T_34f6d_row1_col1\" class=\"data row1 col1\" >BEHOV FOR TILSYN MED <b>BARN</b> 22</td>\n",
       "    </tr>\n",
       "    <tr>\n",
       "      <th id=\"T_34f6d_level0_row2\" class=\"row_heading level0 row2\" >66</th>\n",
       "      <td id=\"T_34f6d_row2_col0\" class=\"data row2 col0\" ><a target='_blank' href = 'https://urn.nb.no/URN:NBN:no-nb_digibok_2014030707069'>URN:NBN:no-nb_digibok_2014030707069</a></td>\n",
       "      <td id=\"T_34f6d_row2_col1\" class=\"data row2 col1\" >... Det trenger å spise ; det produserer <b>barn</b> ; det føler smerte og frykt og glede . Men hva det... </td>\n",
       "    </tr>\n",
       "    <tr>\n",
       "      <th id=\"T_34f6d_level0_row3\" class=\"row_heading level0 row3\" >321</th>\n",
       "      <td id=\"T_34f6d_row3_col0\" class=\"data row3 col0\" ><a target='_blank' href = 'https://urn.nb.no/URN:NBN:no-nb_digibok_2017033148096'>URN:NBN:no-nb_digibok_2017033148096</a></td>\n",
       "      <td id=\"T_34f6d_row3_col1\" class=\"data row3 col1\" >Det er ønskelig at <b>barn</b> og ungdom på et tidlig tidspunkt gjøres kjent med hva forbrukerkooperasjonen står for . Samvirkebevegelsen... </td>\n",
       "    </tr>\n",
       "    <tr>\n",
       "      <th id=\"T_34f6d_level0_row4\" class=\"row_heading level0 row4\" >191</th>\n",
       "      <td id=\"T_34f6d_row4_col0\" class=\"data row4 col0\" ><a target='_blank' href = 'https://urn.nb.no/URN:NBN:no-nb_digibok_2015102708066'>URN:NBN:no-nb_digibok_2015102708066</a></td>\n",
       "      <td id=\"T_34f6d_row4_col1\" class=\"data row4 col1\" >... Pensjonsberettiget <b>barn</b> , hvis mor ved farens død levet skilt fra sin mann kan av formannskapet efter motivert forslag fra... </td>\n",
       "    </tr>\n",
       "    <tr>\n",
       "      <th id=\"T_34f6d_level0_row5\" class=\"row_heading level0 row5\" >72</th>\n",
       "      <td id=\"T_34f6d_row5_col0\" class=\"data row5 col0\" ><a target='_blank' href = 'https://urn.nb.no/URN:NBN:no-nb_digibok_2014041106087'>URN:NBN:no-nb_digibok_2014041106087</a></td>\n",
       "      <td id=\"T_34f6d_row5_col1\" class=\"data row5 col1\" >e ) som spilleobjekt for spillesyke <b>barn</b> ( jfr. pengelotterier , « premieobligasjonslotterier » , totalisatorveddemål , hasard ) .</td>\n",
       "    </tr>\n",
       "    <tr>\n",
       "      <th id=\"T_34f6d_level0_row6\" class=\"row_heading level0 row6\" >223</th>\n",
       "      <td id=\"T_34f6d_row6_col0\" class=\"data row6 col0\" ><a target='_blank' href = 'https://urn.nb.no/URN:NBN:no-nb_digibok_2016090708247'>URN:NBN:no-nb_digibok_2016090708247</a></td>\n",
       "      <td id=\"T_34f6d_row6_col1\" class=\"data row6 col1\" >... Tidligere hadde vanskeligstilte mødre kunnet få en viss økonomisk hjelp i tiden omkring fødselen etter lov om forsorg for <b>barn</b>... </td>\n",
       "    </tr>\n",
       "    <tr>\n",
       "      <th id=\"T_34f6d_level0_row7\" class=\"row_heading level0 row7\" >331</th>\n",
       "      <td id=\"T_34f6d_row7_col0\" class=\"data row7 col0\" ><a target='_blank' href = 'https://urn.nb.no/URN:NBN:no-nb_digibok_2017052607091'>URN:NBN:no-nb_digibok_2017052607091</a></td>\n",
       "      <td id=\"T_34f6d_row7_col1\" class=\"data row7 col1\" >I 1875 var det 656 <b>barn</b> under femten år som hadde arbeid i norske tobakkfabrikker , dvs. at omtrent annenhver... </td>\n",
       "    </tr>\n",
       "    <tr>\n",
       "      <th id=\"T_34f6d_level0_row8\" class=\"row_heading level0 row8\" >144</th>\n",
       "      <td id=\"T_34f6d_row8_col0\" class=\"data row8 col0\" ><a target='_blank' href = 'https://urn.nb.no/URN:NBN:no-nb_digibok_2021083148017'>URN:NBN:no-nb_digibok_2021083148017</a></td>\n",
       "      <td id=\"T_34f6d_row8_col1\" class=\"data row8 col1\" >X 7 Lavalder for sysselsetting av <b>barn</b> til</td>\n",
       "    </tr>\n",
       "    <tr>\n",
       "      <th id=\"T_34f6d_level0_row9\" class=\"row_heading level0 row9\" >269</th>\n",
       "      <td id=\"T_34f6d_row9_col0\" class=\"data row9 col0\" ><a target='_blank' href = 'https://urn.nb.no/URN:NBN:no-nb_digibok_2016090708247'>URN:NBN:no-nb_digibok_2016090708247</a></td>\n",
       "      <td id=\"T_34f6d_row9_col1\" class=\"data row9 col1\" >Når det gjelder de enslige foreldre som har <b>barn</b> 1 skolen er behovet for tilsyn med barna fremdeles stort dersom... </td>\n",
       "    </tr>\n",
       "  </tbody>\n",
       "</table>\n"
      ],
      "text/plain": [
       "<pandas.io.formats.style.Styler at 0x7f1d77c7bb50>"
      ]
     },
     "execution_count": 7,
     "metadata": {},
     "output_type": "execute_result"
    }
   ],
   "source": [
    "# Konkordans fra sample\n",
    "dh.Concordance(corpus=korpus.corpus.sample(50), query=\"barn\").show()"
   ]
  },
  {
   "cell_type": "markdown",
   "metadata": {},
   "source": [
    "Flere ord eller ordformer kan søkes etter på en gang. Bruk 'OR' for å separerer ordene."
   ]
  },
  {
   "cell_type": "code",
   "execution_count": 8,
   "metadata": {},
   "outputs": [
    {
     "data": {
      "text/html": [
       "<style type=\"text/css\">\n",
       "</style>\n",
       "<table id=\"T_1223c\">\n",
       "  <thead>\n",
       "    <tr>\n",
       "      <th class=\"blank level0\" >&nbsp;</th>\n",
       "      <th id=\"T_1223c_level0_col0\" class=\"col_heading level0 col0\" >link</th>\n",
       "      <th id=\"T_1223c_level0_col1\" class=\"col_heading level0 col1\" >concordance</th>\n",
       "    </tr>\n",
       "  </thead>\n",
       "  <tbody>\n",
       "    <tr>\n",
       "      <th id=\"T_1223c_level0_row0\" class=\"row_heading level0 row0\" >1557</th>\n",
       "      <td id=\"T_1223c_row0_col0\" class=\"data row0 col0\" ><a target='_blank' href = 'https://urn.nb.no/URN:NBN:no-nb_digibok_2016112908105'>URN:NBN:no-nb_digibok_2016112908105</a></td>\n",
       "      <td id=\"T_1223c_row0_col1\" class=\"data row0 col1\" >... Det var også en del lærerinnevask ved Strømsø og Fjellheim <b>skole</b> , men Brandengen og Bragernes var fri for slik... </td>\n",
       "    </tr>\n",
       "    <tr>\n",
       "      <th id=\"T_1223c_level0_row1\" class=\"row_heading level0 row1\" >473</th>\n",
       "      <td id=\"T_1223c_row1_col0\" class=\"data row1 col0\" ><a target='_blank' href = 'https://urn.nb.no/URN:NBN:no-nb_digibok_2008052304020'>URN:NBN:no-nb_digibok_2008052304020</a></td>\n",
       "      <td id=\"T_1223c_row1_col1\" class=\"data row1 col1\" >... Den nye <b>skolen</b> som er tatt i bruk , gir mulighet for uteksaminering av opptil 200 elever hvert år ,... </td>\n",
       "    </tr>\n",
       "    <tr>\n",
       "      <th id=\"T_1223c_level0_row2\" class=\"row_heading level0 row2\" >143</th>\n",
       "      <td id=\"T_1223c_row2_col0\" class=\"data row2 col0\" ><a target='_blank' href = 'https://urn.nb.no/URN:NBN:no-nb_digibok_2013112608011'>URN:NBN:no-nb_digibok_2013112608011</a></td>\n",
       "      <td id=\"T_1223c_row2_col1\" class=\"data row2 col1\" >Gudrekstads dødsdag var 21. april 1240 samme dag falt også <b>Skule</b> Bårdssøn .</td>\n",
       "    </tr>\n",
       "    <tr>\n",
       "      <th id=\"T_1223c_level0_row3\" class=\"row_heading level0 row3\" >590</th>\n",
       "      <td id=\"T_1223c_row3_col0\" class=\"data row3 col0\" ><a target='_blank' href = 'https://urn.nb.no/URN:NBN:no-nb_digibok_2021083148541'>URN:NBN:no-nb_digibok_2021083148541</a></td>\n",
       "      <td id=\"T_1223c_row3_col1\" class=\"data row3 col1\" >For ungdom over 16 år som går på <b>skole</b> , bør det etableres særskilte og tilfredsstillende stønadsordninger etter nærmere fastsatte... </td>\n",
       "    </tr>\n",
       "    <tr>\n",
       "      <th id=\"T_1223c_level0_row4\" class=\"row_heading level0 row4\" >513</th>\n",
       "      <td id=\"T_1223c_row4_col0\" class=\"data row4 col0\" ><a target='_blank' href = 'https://urn.nb.no/URN:NBN:no-nb_digibok_2008052304020'>URN:NBN:no-nb_digibok_2008052304020</a></td>\n",
       "      <td id=\"T_1223c_row4_col1\" class=\"data row4 col1\" >... Søkningen til <b>skolen</b> er god . Høsten 1962 hadde skolens 2 linjer tilsammen 110 søkere og høsten 1964 var søkertallet... </td>\n",
       "    </tr>\n",
       "    <tr>\n",
       "      <th id=\"T_1223c_level0_row5\" class=\"row_heading level0 row5\" >213</th>\n",
       "      <td id=\"T_1223c_row5_col0\" class=\"data row5 col0\" ><a target='_blank' href = 'https://urn.nb.no/URN:NBN:no-nb_digibok_2013112608011'>URN:NBN:no-nb_digibok_2013112608011</a></td>\n",
       "      <td id=\"T_1223c_row5_col1\" class=\"data row5 col1\" >... Etter noen års privat informasjon gikk han 7 år i Trondhjems <b>skole</b> og deretter studerte han i to år ved... </td>\n",
       "    </tr>\n",
       "    <tr>\n",
       "      <th id=\"T_1223c_level0_row6\" class=\"row_heading level0 row6\" >1639</th>\n",
       "      <td id=\"T_1223c_row6_col0\" class=\"data row6 col0\" ><a target='_blank' href = 'https://urn.nb.no/URN:NBN:no-nb_digibok_2010120705041'>URN:NBN:no-nb_digibok_2010120705041</a></td>\n",
       "      <td id=\"T_1223c_row6_col1\" class=\"data row6 col1\" >... av reise- og oppholdsomkostninger for utdannelse ved enhver offentlig <b>skole</b> som ikke kan tilby elevene eller studentene denne utdannelse på... </td>\n",
       "    </tr>\n",
       "    <tr>\n",
       "      <th id=\"T_1223c_level0_row7\" class=\"row_heading level0 row7\" >643</th>\n",
       "      <td id=\"T_1223c_row7_col0\" class=\"data row7 col0\" ><a target='_blank' href = 'https://urn.nb.no/URN:NBN:no-nb_digibok_2016031508017'>URN:NBN:no-nb_digibok_2016031508017</a></td>\n",
       "      <td id=\"T_1223c_row7_col1\" class=\"data row7 col1\" >... alt var knyttet vel 900 realkandidater til de forskjellige <b>skole</b> slag . I tillegg arbeider ca. 170 cand. mag. i... </td>\n",
       "    </tr>\n",
       "    <tr>\n",
       "      <th id=\"T_1223c_level0_row8\" class=\"row_heading level0 row8\" >806</th>\n",
       "      <td id=\"T_1223c_row8_col0\" class=\"data row8 col0\" ><a target='_blank' href = 'https://urn.nb.no/URN:NBN:no-nb_digibok_2007041701019'>URN:NBN:no-nb_digibok_2007041701019</a></td>\n",
       "      <td id=\"T_1223c_row8_col1\" class=\"data row8 col1\" >... tteller ikke pk <b>skolen</b> IZerte vi noe om 6 en BlagB ting .</td>\n",
       "    </tr>\n",
       "    <tr>\n",
       "      <th id=\"T_1223c_level0_row9\" class=\"row_heading level0 row9\" >1327</th>\n",
       "      <td id=\"T_1223c_row9_col0\" class=\"data row9 col0\" ><a target='_blank' href = 'https://urn.nb.no/URN:NBN:no-nb_digibok_2007051001055'>URN:NBN:no-nb_digibok_2007051001055</a></td>\n",
       "      <td id=\"T_1223c_row9_col1\" class=\"data row9 col1\" >... å protestere mot å få kroppsarbeid som fag i <b>skolen</b> . Dieng hevda under ordskiftet at « kroppsarbeid er berre demagogi... </td>\n",
       "    </tr>\n",
       "  </tbody>\n",
       "</table>\n"
      ],
      "text/plain": [
       "<pandas.io.formats.style.Styler at 0x7f1d77d3d960>"
      ]
     },
     "execution_count": 8,
     "metadata": {},
     "output_type": "execute_result"
    }
   ],
   "source": [
    "dh.Concordance(corpus=korpus, query='skole OR skolen OR Skole OR skule').show()"
   ]
  },
  {
   "cell_type": "markdown",
   "metadata": {},
   "source": [
    "Tilbake til [DHLAB ved Nasjonalbiblioteket](https://nbviewer.jupyter.org/github/DH-LAB-NB/DHLAB/blob/master/DHLAB_ved_Nasjonalbiblioteket.ipynb)"
   ]
  }
 ],
 "metadata": {
  "kernelspec": {
   "display_name": "Python 3.10.6 ('myconda10')",
   "language": "python",
   "name": "python3"
  },
  "language_info": {
   "codemirror_mode": {
    "name": "ipython",
    "version": 3
   },
   "file_extension": ".py",
   "mimetype": "text/x-python",
   "name": "python",
   "nbconvert_exporter": "python",
   "pygments_lexer": "ipython3",
   "version": "3.10.6"
  },
  "varInspector": {
   "cols": {
    "lenName": 16,
    "lenType": 16,
    "lenVar": 40
   },
   "kernels_config": {
    "python": {
     "delete_cmd_postfix": "",
     "delete_cmd_prefix": "del ",
     "library": "var_list.py",
     "varRefreshCmd": "print(var_dic_list())"
    },
    "r": {
     "delete_cmd_postfix": ") ",
     "delete_cmd_prefix": "rm(",
     "library": "var_list.r",
     "varRefreshCmd": "cat(var_dic_list()) "
    }
   },
   "types_to_exclude": [
    "module",
    "function",
    "builtin_function_or_method",
    "instance",
    "_Feature"
   ],
   "window_display": false
  },
  "vscode": {
   "interpreter": {
    "hash": "d79bcbd027285f9cca4a47c09d2b6390747dc432c6691bc01af8484699802a8c"
   }
  }
 },
 "nbformat": 4,
 "nbformat_minor": 2
}
