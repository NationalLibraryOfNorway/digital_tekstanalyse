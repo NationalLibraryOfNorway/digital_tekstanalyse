{
 "cells": [
  {
   "attachments": {
    "DHlab_logo_web_no_red.png": {
     "image/png": "[encoded data removed]"
    }
   },
   "cell_type": "markdown",
   "metadata": {},
   "source": [
    "![DHlab_logo_web_no_red.png](attachment:DHlab_logo_web_no_red.png)"
   ]
  },
  {
   "cell_type": "code",
   "execution_count": 1,
   "metadata": {},
   "outputs": [
    {
     "name": "stdout",
     "output_type": "stream",
     "text": [
      "wordcloud er ikke installert, kan ikke lage ordskyer\n"
     ]
    }
   ],
   "source": [
    "import dhlab as dh"
   ]
  },
  {
   "cell_type": "markdown",
   "metadata": {
    "slideshow": {
     "slide_type": "slide"
    }
   },
   "source": [
    "# 2. Konkordans\n",
    "\n",
    "For å sjekke konkordanser i bøker og aviser benyttes klassen `Concordance`.\n"
   ]
  },
  {
   "cell_type": "markdown",
   "metadata": {},
   "source": [
    "## 2.1. Konkordans fra aviser\n",
    "\n",
    "Først oppretter vi et aviskorpus med `Corpus`-klassen. "
   ]
  },
  {
   "cell_type": "code",
   "execution_count": 2,
   "metadata": {},
   "outputs": [
    {
     "data": {
      "text/html": [
       "<style type=\"text/css\">\n",
       "</style>\n",
       "<table id=\"T_5b64b\">\n",
       "  <thead>\n",
       "    <tr>\n",
       "      <th class=\"blank level0\" >&nbsp;</th>\n",
       "      <th id=\"T_5b64b_level0_col0\" class=\"col_heading level0 col0\" >link</th>\n",
       "      <th id=\"T_5b64b_level0_col1\" class=\"col_heading level0 col1\" >concordance</th>\n",
       "    </tr>\n",
       "  </thead>\n",
       "  <tbody>\n",
       "    <tr>\n",
       "      <th id=\"T_5b64b_level0_row0\" class=\"row_heading level0 row0\" >4</th>\n",
       "      <td id=\"T_5b64b_row0_col0\" class=\"data row0 col0\" ><a target='_blank' href = 'https://urn.nb.no/URN:NBN:no-nb_digavis_stavangeraftenblad_null_null_19750718_83_163_1'>URN:NBN:no-nb_digavis_stavangeraftenblad_null_null_19750718_83_163_1</a></td>\n",
       "      <td id=\"T_5b64b_row0_col1\" class=\"data row0 col1\" >... Man kan sitte og utarbeide politiske modeller på papiret , men 1 praksis viser det seg at et <b>demokrati</b> vanskelig... </td>\n",
       "    </tr>\n",
       "    <tr>\n",
       "      <th id=\"T_5b64b_level0_row1\" class=\"row_heading level0 row1\" >3</th>\n",
       "      <td id=\"T_5b64b_row1_col0\" class=\"data row1 col0\" ><a target='_blank' href = 'https://urn.nb.no/URN:NBN:no-nb_digavis_stavangeraftenblad_null_null_19750718_83_163_1'>URN:NBN:no-nb_digavis_stavangeraftenblad_null_null_19750718_83_163_1</a></td>\n",
       "      <td id=\"T_5b64b_row1_col1\" class=\"data row1 col1\" >... muligheter for samarbeid mellom regjering og opposisjon som tross alt bor bestå i et utviklet <b>demokrati</b> , poengterer Willoch .</td>\n",
       "    </tr>\n",
       "    <tr>\n",
       "      <th id=\"T_5b64b_level0_row2\" class=\"row_heading level0 row2\" >6</th>\n",
       "      <td id=\"T_5b64b_row2_col0\" class=\"data row2 col0\" ><a target='_blank' href = 'https://urn.nb.no/URN:NBN:no-nb_digavis_stavangeraftenblad_null_null_19901106_98_257_1'>URN:NBN:no-nb_digavis_stavangeraftenblad_null_null_19901106_98_257_1</a></td>\n",
       "      <td id=\"T_5b64b_row2_col1\" class=\"data row2 col1\" >... land som hadde greid a vise at islam og <b>demokrati</b> er forenlig . Han sa at det ikke var i... </td>\n",
       "    </tr>\n",
       "    <tr>\n",
       "      <th id=\"T_5b64b_level0_row3\" class=\"row_heading level0 row3\" >2</th>\n",
       "      <td id=\"T_5b64b_row3_col0\" class=\"data row3 col0\" ><a target='_blank' href = 'https://urn.nb.no/URN:NBN:no-nb_digavis_stavangeraftenblad_null_null_19610106_69_5_1'>URN:NBN:no-nb_digavis_stavangeraftenblad_null_null_19610106_69_5_1</a></td>\n",
       "      <td id=\"T_5b64b_row3_col1\" class=\"data row3 col1\" >Etter vår mening har vi her en stor mulighet for å gjennomføre økonomisk <b>demokrati</b> i denne voksende storindustri .</td>\n",
       "    </tr>\n",
       "    <tr>\n",
       "      <th id=\"T_5b64b_level0_row4\" class=\"row_heading level0 row4\" >5</th>\n",
       "      <td id=\"T_5b64b_row4_col0\" class=\"data row4 col0\" ><a target='_blank' href = 'https://urn.nb.no/URN:NBN:no-nb_digavis_stavangeraftenblad_null_null_19840323_92_71_1'>URN:NBN:no-nb_digavis_stavangeraftenblad_null_null_19840323_92_71_1</a></td>\n",
       "      <td id=\"T_5b64b_row4_col1\" class=\"data row4 col1\" >... Før det kan bli snakk om <b>demokrati</b> og frie valg i El Salvador , må maktstrukturen bli en helt annen... </td>\n",
       "    </tr>\n",
       "    <tr>\n",
       "      <th id=\"T_5b64b_level0_row5\" class=\"row_heading level0 row5\" >1</th>\n",
       "      <td id=\"T_5b64b_row5_col0\" class=\"data row5 col0\" ><a target='_blank' href = 'https://urn.nb.no/URN:NBN:no-nb_digavis_stavangeraftenblad_null_null_19610106_69_5_1'>URN:NBN:no-nb_digavis_stavangeraftenblad_null_null_19610106_69_5_1</a></td>\n",
       "      <td id=\"T_5b64b_row5_col1\" class=\"data row5 col1\" >... Nettopp under president Kekkonens regime er det parlamentariske <b>demokrati</b> i Finnland i praksis blitt mor og mer begrenset og erstattet... </td>\n",
       "    </tr>\n",
       "    <tr>\n",
       "      <th id=\"T_5b64b_level0_row6\" class=\"row_heading level0 row6\" >0</th>\n",
       "      <td id=\"T_5b64b_row6_col0\" class=\"data row6 col0\" ><a target='_blank' href = 'https://urn.nb.no/URN:NBN:no-nb_digavis_stavangeraftenblad_null_null_20131016_121_240_1'>URN:NBN:no-nb_digavis_stavangeraftenblad_null_null_20131016_121_240_1</a></td>\n",
       "      <td id=\"T_5b64b_row6_col1\" class=\"data row6 col1\" >... Den legendariske statsviteren Clinton Rossiter sa en gang : « Intet Amerika uten <b>demokrati</b> , intet <b>demokrati</b> uten politikk , ingen... </td>\n",
       "    </tr>\n",
       "  </tbody>\n",
       "</table>\n"
      ],
      "text/plain": [
       "<pandas.io.formats.style.Styler at 0x7f7310158750>"
      ]
     },
     "execution_count": 2,
     "metadata": {},
     "output_type": "execute_result"
    }
   ],
   "source": [
    "#Bygg aviskorpus med aviser som begynner med 'stavanger' utgitt fra 1960\n",
    "aviskorpus = dh.Corpus(doctype=\"digavis\", title=\"stavanger*\", from_year=1960, limit=10)\n",
    "\n",
    "# Finn konkordanser i korpus\n",
    "konkordanser = dh.Concordance(corpus=aviskorpus, query=\"demokrati\")\n",
    "\n",
    "# Vis med .show()\n",
    "konkordanser.show()"
   ]
  },
  {
   "cell_type": "markdown",
   "metadata": {},
   "source": [
    "## 2.2. Konkordans fra bøker"
   ]
  },
  {
   "cell_type": "code",
   "execution_count": 3,
   "metadata": {},
   "outputs": [
    {
     "data": {
      "text/html": [
       "<style type=\"text/css\">\n",
       "</style>\n",
       "<table id=\"T_40851\">\n",
       "  <thead>\n",
       "    <tr>\n",
       "      <th class=\"blank level0\" >&nbsp;</th>\n",
       "      <th id=\"T_40851_level0_col0\" class=\"col_heading level0 col0\" >link</th>\n",
       "      <th id=\"T_40851_level0_col1\" class=\"col_heading level0 col1\" >concordance</th>\n",
       "    </tr>\n",
       "  </thead>\n",
       "  <tbody>\n",
       "    <tr>\n",
       "      <th id=\"T_40851_level0_row0\" class=\"row_heading level0 row0\" >9</th>\n",
       "      <td id=\"T_40851_row0_col0\" class=\"data row0 col0\" ><a target='_blank' href = 'https://urn.nb.no/URN:NBN:no-nb_digibok_2020092526014'>URN:NBN:no-nb_digibok_2020092526014</a></td>\n",
       "      <td id=\"T_40851_row0_col1\" class=\"data row0 col1\" >... Og en klog og almindelig udbredet <b>Vinskibelighed</b> i enhver Stat er , tilligemed sunde og stadige Love , med samme... </td>\n",
       "    </tr>\n",
       "    <tr>\n",
       "      <th id=\"T_40851_level0_row1\" class=\"row_heading level0 row1\" >4</th>\n",
       "      <td id=\"T_40851_row1_col0\" class=\"data row1 col0\" ><a target='_blank' href = 'https://urn.nb.no/URN:NBN:no-nb_digibok_2021121628003'>URN:NBN:no-nb_digibok_2021121628003</a></td>\n",
       "      <td id=\"T_40851_row1_col1\" class=\"data row1 col1\" >... Det er fra Flid og <b>Vinskibelighed</b> i Husene , Statens skal begynde , og den vil og tage til og... </td>\n",
       "    </tr>\n",
       "  </tbody>\n",
       "</table>\n"
      ],
      "text/plain": [
       "<pandas.io.formats.style.Styler at 0x7f72f9d82bd0>"
      ]
     },
     "execution_count": 3,
     "metadata": {},
     "output_type": "execute_result"
    }
   ],
   "source": [
    "# Bygg korpus med bøker som nevner \"Vinskibelighed\" mellom 1600 og 1850\n",
    "bokkorpus = dh.Corpus(doctype=\"digibok\", fulltext=\"Vinskibelighed\", from_year=1600, to_year=1850, limit=20)\n",
    "\n",
    "# Finn konkordanser from 'Vinskibelighet'. Vis med '.show()'\n",
    "konkordanser = dh.Concordance(corpus=bokkorpus, query=\"Vinskibelighed\")\n",
    "\n",
    "konkordanser.show(2)"
   ]
  },
  {
   "cell_type": "markdown",
   "metadata": {},
   "source": [
    "## 2.3. Konkordans med et stort korpus\n",
    "\n",
    "Se eksempler i notebooken [Korpusbygging](https://nbviewer.org/github/NationalLibraryOfNorway/digital_tekstanalyse/blob/main/1_Bygg_korpus.ipynb) for ulike måter å definere korpus på."
   ]
  },
  {
   "cell_type": "code",
   "execution_count": 4,
   "metadata": {},
   "outputs": [],
   "source": [
    "korpus = dh.Corpus(doctype=\"digibok\", fulltext='kvinner', ddk=\"33*\", from_year=1960, to_year=1970, limit=400)"
   ]
  },
  {
   "cell_type": "markdown",
   "metadata": {},
   "source": [
    "Undersøk lengden på korpuset med `.size`"
   ]
  },
  {
   "cell_type": "code",
   "execution_count": 5,
   "metadata": {},
   "outputs": [
    {
     "data": {
      "text/plain": [
       "331"
      ]
     },
     "execution_count": 5,
     "metadata": {},
     "output_type": "execute_result"
    }
   ],
   "source": [
    "korpus.size"
   ]
  },
  {
   "cell_type": "markdown",
   "metadata": {},
   "source": [
    "Vi kan dra ut et delkorpus for søkeformål med `.sample()`"
   ]
  },
  {
   "cell_type": "code",
   "execution_count": 6,
   "metadata": {},
   "outputs": [
    {
     "data": {
      "text/html": [
       "<div>\n",
       "<style scoped>\n",
       "    .dataframe tbody tr th:only-of-type {\n",
       "        vertical-align: middle;\n",
       "    }\n",
       "\n",
       "    .dataframe tbody tr th {\n",
       "        vertical-align: top;\n",
       "    }\n",
       "\n",
       "    .dataframe thead th {\n",
       "        text-align: right;\n",
       "    }\n",
       "</style>\n",
       "<table border=\"1\" class=\"dataframe\">\n",
       "  <thead>\n",
       "    <tr style=\"text-align: right;\">\n",
       "      <th></th>\n",
       "      <th>dhlabid</th>\n",
       "      <th>urn</th>\n",
       "      <th>title</th>\n",
       "      <th>authors</th>\n",
       "      <th>oaiid</th>\n",
       "      <th>sesamid</th>\n",
       "      <th>isbn10</th>\n",
       "      <th>city</th>\n",
       "      <th>timestamp</th>\n",
       "      <th>year</th>\n",
       "      <th>publisher</th>\n",
       "      <th>langs</th>\n",
       "      <th>subjects</th>\n",
       "      <th>ddc</th>\n",
       "      <th>genres</th>\n",
       "      <th>literaryform</th>\n",
       "      <th>doctype</th>\n",
       "    </tr>\n",
       "  </thead>\n",
       "  <tbody>\n",
       "    <tr>\n",
       "      <th>59</th>\n",
       "      <td>100229841</td>\n",
       "      <td>URN:NBN:no-nb_digibok_2014101406034</td>\n",
       "      <td>Ytre Senja : en sosiologisk undersøkelse</td>\n",
       "      <td>Salomon , Robert</td>\n",
       "      <td>oai:nb.bibsys.no:998120787134702202</td>\n",
       "      <td>3f989caf4c4597a984edfccb0b62682a</td>\n",
       "      <td></td>\n",
       "      <td></td>\n",
       "      <td>19690101</td>\n",
       "      <td>1969</td>\n",
       "      <td>Norsk institutt for by- og regionforskning</td>\n",
       "      <td>nob</td>\n",
       "      <td>Rural sociology / Rural areas / Norway / Fishi...</td>\n",
       "      <td>330.94845</td>\n",
       "      <td></td>\n",
       "      <td>Faglitteratur</td>\n",
       "      <td>digibok</td>\n",
       "    </tr>\n",
       "    <tr>\n",
       "      <th>242</th>\n",
       "      <td>100328955</td>\n",
       "      <td>URN:NBN:no-nb_digibok_2017032148037</td>\n",
       "      <td>Den 1. Internasjonale og vår egen tid : artikl...</td>\n",
       "      <td></td>\n",
       "      <td>oai:nb.bibsys.no:990201277584702202</td>\n",
       "      <td>eb2baed1f62247a062ff2528cf66dfb0</td>\n",
       "      <td></td>\n",
       "      <td>Oslo</td>\n",
       "      <td>19640101</td>\n",
       "      <td>1964</td>\n",
       "      <td>(Ny dag)</td>\n",
       "      <td>nob</td>\n",
       "      <td></td>\n",
       "      <td>335</td>\n",
       "      <td></td>\n",
       "      <td>Faglitteratur</td>\n",
       "      <td>digibok</td>\n",
       "    </tr>\n",
       "  </tbody>\n",
       "</table>\n",
       "</div>"
      ],
      "text/plain": [
       "       dhlabid                                  urn  \\\n",
       "59   100229841  URN:NBN:no-nb_digibok_2014101406034   \n",
       "242  100328955  URN:NBN:no-nb_digibok_2017032148037   \n",
       "\n",
       "                                                 title           authors  \\\n",
       "59            Ytre Senja : en sosiologisk undersøkelse  Salomon , Robert   \n",
       "242  Den 1. Internasjonale og vår egen tid : artikl...                     \n",
       "\n",
       "                                   oaiid                           sesamid  \\\n",
       "59   oai:nb.bibsys.no:998120787134702202  3f989caf4c4597a984edfccb0b62682a   \n",
       "242  oai:nb.bibsys.no:990201277584702202  eb2baed1f62247a062ff2528cf66dfb0   \n",
       "\n",
       "    isbn10  city  timestamp  year                                   publisher  \\\n",
       "59                 19690101  1969  Norsk institutt for by- og regionforskning   \n",
       "242         Oslo   19640101  1964                                    (Ny dag)   \n",
       "\n",
       "    langs                                           subjects        ddc  \\\n",
       "59    nob  Rural sociology / Rural areas / Norway / Fishi...  330.94845   \n",
       "242   nob                                                           335   \n",
       "\n",
       "    genres   literaryform  doctype  \n",
       "59          Faglitteratur  digibok  \n",
       "242         Faglitteratur  digibok  "
      ]
     },
     "execution_count": 6,
     "metadata": {},
     "output_type": "execute_result"
    }
   ],
   "source": [
    "korpus.corpus.sample(2)"
   ]
  },
  {
   "cell_type": "code",
   "execution_count": 7,
   "metadata": {},
   "outputs": [
    {
     "data": {
      "text/html": [
       "<style type=\"text/css\">\n",
       "</style>\n",
       "<table id=\"T_5d55a\">\n",
       "  <thead>\n",
       "    <tr>\n",
       "      <th class=\"blank level0\" >&nbsp;</th>\n",
       "      <th id=\"T_5d55a_level0_col0\" class=\"col_heading level0 col0\" >link</th>\n",
       "      <th id=\"T_5d55a_level0_col1\" class=\"col_heading level0 col1\" >concordance</th>\n",
       "    </tr>\n",
       "  </thead>\n",
       "  <tbody>\n",
       "    <tr>\n",
       "      <th id=\"T_5d55a_level0_row0\" class=\"row_heading level0 row0\" >247</th>\n",
       "      <td id=\"T_5d55a_row0_col0\" class=\"data row0 col0\" ><a target='_blank' href = 'https://urn.nb.no/URN:NBN:no-nb_digibok_2017030808073'>URN:NBN:no-nb_digibok_2017030808073</a></td>\n",
       "      <td id=\"T_5d55a_row0_col1\" class=\"data row0 col1\" >... Er noen av dem ikke under hennes ( hans ) omsorg , beregnes pensjonen for disse <b>barn</b> som om begge... </td>\n",
       "    </tr>\n",
       "    <tr>\n",
       "      <th id=\"T_5d55a_level0_row1\" class=\"row_heading level0 row1\" >299</th>\n",
       "      <td id=\"T_5d55a_row1_col0\" class=\"data row1 col0\" ><a target='_blank' href = 'https://urn.nb.no/URN:NBN:no-nb_digibok_2007043004044'>URN:NBN:no-nb_digibok_2007043004044</a></td>\n",
       "      <td id=\"T_5d55a_row1_col1\" class=\"data row1 col1\" >barnepensjon — 20 \" / > av alderspensjonen for 1 <b>barn</b> under</td>\n",
       "    </tr>\n",
       "    <tr>\n",
       "      <th id=\"T_5d55a_level0_row2\" class=\"row_heading level0 row2\" >283</th>\n",
       "      <td id=\"T_5d55a_row2_col0\" class=\"data row2 col0\" ><a target='_blank' href = 'https://urn.nb.no/URN:NBN:no-nb_digibok_2007043004044'>URN:NBN:no-nb_digibok_2007043004044</a></td>\n",
       "      <td id=\"T_5d55a_row2_col1\" class=\"data row2 col1\" ><b>barn</b> : 121</td>\n",
       "    </tr>\n",
       "    <tr>\n",
       "      <th id=\"T_5d55a_level0_row3\" class=\"row_heading level0 row3\" >274</th>\n",
       "      <td id=\"T_5d55a_row3_col0\" class=\"data row3 col0\" ><a target='_blank' href = 'https://urn.nb.no/URN:NBN:no-nb_digibok_2007052201055'>URN:NBN:no-nb_digibok_2007052201055</a></td>\n",
       "      <td id=\"T_5d55a_row3_col1\" class=\"data row3 col1\" >... elvis pk grunn av 6 e bkn6 njern og <b>barn</b> legger ; 3 flytte fra en avis til en annen... </td>\n",
       "    </tr>\n",
       "    <tr>\n",
       "      <th id=\"T_5d55a_level0_row4\" class=\"row_heading level0 row4\" >14</th>\n",
       "      <td id=\"T_5d55a_row4_col0\" class=\"data row4 col0\" ><a target='_blank' href = 'https://urn.nb.no/URN:NBN:no-nb_digibok_2007041701053'>URN:NBN:no-nb_digibok_2007041701053</a></td>\n",
       "      <td id=\"T_5d55a_row4_col1\" class=\"data row4 col1\" >... 1841 kikk byen Bek 3 3 M2skoler kor kattige <b>barn</b> . I.2ereren 3 kulle I < 3 nne3 me 6... </td>\n",
       "    </tr>\n",
       "    <tr>\n",
       "      <th id=\"T_5d55a_level0_row5\" class=\"row_heading level0 row5\" >152</th>\n",
       "      <td id=\"T_5d55a_row5_col0\" class=\"data row5 col0\" ><a target='_blank' href = 'https://urn.nb.no/URN:NBN:no-nb_digibok_2012080608011'>URN:NBN:no-nb_digibok_2012080608011</a></td>\n",
       "      <td id=\"T_5d55a_row5_col1\" class=\"data row5 col1\" >Barnebelastningen ble dermed omtrent som i Sortland , med 893 <b>barn</b> pr. 1000 voksne kvinner , mot 871 for Indre... </td>\n",
       "    </tr>\n",
       "    <tr>\n",
       "      <th id=\"T_5d55a_level0_row6\" class=\"row_heading level0 row6\" >320</th>\n",
       "      <td id=\"T_5d55a_row6_col0\" class=\"data row6 col0\" ><a target='_blank' href = 'https://urn.nb.no/URN:NBN:no-nb_digibok_2007043004044'>URN:NBN:no-nb_digibok_2007043004044</a></td>\n",
       "      <td id=\"T_5d55a_row6_col1\" class=\"data row6 col1\" >Forsørgertrygd for <b>barn</b></td>\n",
       "    </tr>\n",
       "    <tr>\n",
       "      <th id=\"T_5d55a_level0_row7\" class=\"row_heading level0 row7\" >202</th>\n",
       "      <td id=\"T_5d55a_row7_col0\" class=\"data row7 col0\" ><a target='_blank' href = 'https://urn.nb.no/URN:NBN:no-nb_digibok_2011112505013'>URN:NBN:no-nb_digibok_2011112505013</a></td>\n",
       "      <td id=\"T_5d55a_row7_col1\" class=\"data row7 col1\" >... I Vadsø reagerte man mot denne ordning og ved å starte et parallellt gymnasium der , slik at akademikernes <b>barn</b>... </td>\n",
       "    </tr>\n",
       "    <tr>\n",
       "      <th id=\"T_5d55a_level0_row8\" class=\"row_heading level0 row8\" >258</th>\n",
       "      <td id=\"T_5d55a_row8_col0\" class=\"data row8 col0\" ><a target='_blank' href = 'https://urn.nb.no/URN:NBN:no-nb_digibok_2017030808073'>URN:NBN:no-nb_digibok_2017030808073</a></td>\n",
       "      <td id=\"T_5d55a_row8_col1\" class=\"data row8 col1\" >... Men yrkesskadetrygdloven fastsetter dessuten pensjonsrett for en rekke personer utenom enke og <b>barn</b> , under forutsetning av at avdøde var... </td>\n",
       "    </tr>\n",
       "    <tr>\n",
       "      <th id=\"T_5d55a_level0_row9\" class=\"row_heading level0 row9\" >275</th>\n",
       "      <td id=\"T_5d55a_row9_col0\" class=\"data row9 col0\" ><a target='_blank' href = 'https://urn.nb.no/URN:NBN:no-nb_digibok_2007043004044'>URN:NBN:no-nb_digibok_2007043004044</a></td>\n",
       "      <td id=\"T_5d55a_row9_col1\" class=\"data row9 col1\" >... for pensjonsøyemed , fortrinnsvis til pensjonering av enker og <b>barn</b> . Men heller ikke disse midler var tilstrekkelige . Ut... </td>\n",
       "    </tr>\n",
       "  </tbody>\n",
       "</table>\n"
      ],
      "text/plain": [
       "<pandas.io.formats.style.Styler at 0x7f7340104990>"
      ]
     },
     "execution_count": 7,
     "metadata": {},
     "output_type": "execute_result"
    }
   ],
   "source": [
    "# Konkordans fra delkorpuset\n",
    "dh.Concordance(corpus=korpus.corpus.sample(50), query=\"barn\").show()"
   ]
  },
  {
   "cell_type": "markdown",
   "metadata": {},
   "source": [
    "Flere ord eller ordformer kan søkes etter samtidig. Bruk '`OR`' for å treffe minst én av flere ord, eller '`AND`' for å treffe alle ordene i `query`-strengen. "
   ]
  },
  {
   "cell_type": "code",
   "execution_count": 8,
   "metadata": {},
   "outputs": [
    {
     "data": {
      "text/html": [
       "<style type=\"text/css\">\n",
       "</style>\n",
       "<table id=\"T_f5b9e\">\n",
       "  <thead>\n",
       "    <tr>\n",
       "      <th class=\"blank level0\" >&nbsp;</th>\n",
       "      <th id=\"T_f5b9e_level0_col0\" class=\"col_heading level0 col0\" >link</th>\n",
       "      <th id=\"T_f5b9e_level0_col1\" class=\"col_heading level0 col1\" >concordance</th>\n",
       "    </tr>\n",
       "  </thead>\n",
       "  <tbody>\n",
       "    <tr>\n",
       "      <th id=\"T_f5b9e_level0_row0\" class=\"row_heading level0 row0\" >226</th>\n",
       "      <td id=\"T_f5b9e_row0_col0\" class=\"data row0 col0\" ><a target='_blank' href = 'https://urn.nb.no/URN:NBN:no-nb_digibok_2013121108205'>URN:NBN:no-nb_digibok_2013121108205</a></td>\n",
       "      <td id=\"T_f5b9e_row0_col1\" class=\"data row0 col1\" >... ei stove til <b>skule</b> , slik at det vart fast skulestad for krinsen , « fast <b>skole</b> i leiet locale » ,... </td>\n",
       "    </tr>\n",
       "    <tr>\n",
       "      <th id=\"T_f5b9e_level0_row1\" class=\"row_heading level0 row1\" >956</th>\n",
       "      <td id=\"T_f5b9e_row1_col0\" class=\"data row1 col0\" ><a target='_blank' href = 'https://urn.nb.no/URN:NBN:no-nb_digibok_2010092106043'>URN:NBN:no-nb_digibok_2010092106043</a></td>\n",
       "      <td id=\"T_f5b9e_row1_col1\" class=\"data row1 col1\" >... Det avertertes etter anbud på overtagelse av <b>skolen</b> ved privat eiendom med det resultat at <b>skolen</b> ble lagt til Rise... </td>\n",
       "    </tr>\n",
       "    <tr>\n",
       "      <th id=\"T_f5b9e_level0_row2\" class=\"row_heading level0 row2\" >948</th>\n",
       "      <td id=\"T_f5b9e_row2_col0\" class=\"data row2 col0\" ><a target='_blank' href = 'https://urn.nb.no/URN:NBN:no-nb_digibok_2010070106189'>URN:NBN:no-nb_digibok_2010070106189</a></td>\n",
       "      <td id=\"T_f5b9e_row2_col1\" class=\"data row2 col1\" >... samme som for et ordinært 10 måneders kurs . <b>Skolen</b> ble åpnet som internatskole utenfor London med vernepliktig kaptein Ottar... </td>\n",
       "    </tr>\n",
       "    <tr>\n",
       "      <th id=\"T_f5b9e_level0_row3\" class=\"row_heading level0 row3\" >566</th>\n",
       "      <td id=\"T_f5b9e_row3_col0\" class=\"data row3 col0\" ><a target='_blank' href = 'https://urn.nb.no/URN:NBN:no-nb_digibok_2008052304020'>URN:NBN:no-nb_digibok_2008052304020</a></td>\n",
       "      <td id=\"T_f5b9e_row3_col1\" class=\"data row3 col1\" >... Trolig vil en større del av kandidatene også ta arbeid utenom <b>skolen</b> .</td>\n",
       "    </tr>\n",
       "    <tr>\n",
       "      <th id=\"T_f5b9e_level0_row4\" class=\"row_heading level0 row4\" >847</th>\n",
       "      <td id=\"T_f5b9e_row4_col0\" class=\"data row4 col0\" ><a target='_blank' href = 'https://urn.nb.no/URN:NBN:no-nb_digibok_2007041701053'>URN:NBN:no-nb_digibok_2007041701053</a></td>\n",
       "      <td id=\"T_f5b9e_row4_col1\" class=\"data row4 col1\" >Et godt navn hadde også Elisabeth Lytkens <b>skole</b> — som blant sine elever kunne regne Karoline Reimers , den senere fru... </td>\n",
       "    </tr>\n",
       "    <tr>\n",
       "      <th id=\"T_f5b9e_level0_row5\" class=\"row_heading level0 row5\" >1617</th>\n",
       "      <td id=\"T_f5b9e_row5_col0\" class=\"data row5 col0\" ><a target='_blank' href = 'https://urn.nb.no/URN:NBN:no-nb_digibok_2007050804034'>URN:NBN:no-nb_digibok_2007050804034</a></td>\n",
       "      <td id=\"T_f5b9e_row5_col1\" class=\"data row5 col1\" >... påskynde sitt arbeid kor na var også gymnastikksalen pa <b>skolen</b> sprengt . Tn basar i Losjen ga 2000 daler brutto... </td>\n",
       "    </tr>\n",
       "    <tr>\n",
       "      <th id=\"T_f5b9e_level0_row6\" class=\"row_heading level0 row6\" >1587</th>\n",
       "      <td id=\"T_f5b9e_row6_col0\" class=\"data row6 col0\" ><a target='_blank' href = 'https://urn.nb.no/URN:NBN:no-nb_digibok_2007052104024'>URN:NBN:no-nb_digibok_2007052104024</a></td>\n",
       "      <td id=\"T_f5b9e_row6_col1\" class=\"data row6 col1\" >« Hvor ypperlig må ikke serien bli for alle på en eller annen <b>skole</b> , læreren medregnet ? » Ragnar Kvam i... </td>\n",
       "    </tr>\n",
       "    <tr>\n",
       "      <th id=\"T_f5b9e_level0_row7\" class=\"row_heading level0 row7\" >920</th>\n",
       "      <td id=\"T_f5b9e_row7_col0\" class=\"data row7 col0\" ><a target='_blank' href = 'https://urn.nb.no/URN:NBN:no-nb_digibok_2007041701053'>URN:NBN:no-nb_digibok_2007041701053</a></td>\n",
       "      <td id=\"T_f5b9e_row7_col1\" class=\"data row7 col1\" >... Disiplinene i <b>skolen</b> var strammere den gangen enn nå , « frøken » var kanskje alvorligere og strengere , men kjærligheten til... </td>\n",
       "    </tr>\n",
       "    <tr>\n",
       "      <th id=\"T_f5b9e_level0_row8\" class=\"row_heading level0 row8\" >1796</th>\n",
       "      <td id=\"T_f5b9e_row8_col0\" class=\"data row8 col0\" ><a target='_blank' href = 'https://urn.nb.no/URN:NBN:no-nb_digibok_2017030248024'>URN:NBN:no-nb_digibok_2017030248024</a></td>\n",
       "      <td id=\"T_f5b9e_row8_col1\" class=\"data row8 col1\" >... Lærlinger som går på <b>skole</b> i læretiden , må stå 4 år i lære uten fradrag . Når dette skrives... </td>\n",
       "    </tr>\n",
       "    <tr>\n",
       "      <th id=\"T_f5b9e_level0_row9\" class=\"row_heading level0 row9\" >466</th>\n",
       "      <td id=\"T_f5b9e_row9_col0\" class=\"data row9 col0\" ><a target='_blank' href = 'https://urn.nb.no/URN:NBN:no-nb_digibok_2008052304020'>URN:NBN:no-nb_digibok_2008052304020</a></td>\n",
       "      <td id=\"T_f5b9e_row9_col1\" class=\"data row9 col1\" >... Den kapasitet landbruksskolene vil få når <b>skolen</b> i Vefsn er kommet i drift , vil trolig vise seg å være... </td>\n",
       "    </tr>\n",
       "  </tbody>\n",
       "</table>\n"
      ],
      "text/plain": [
       "<pandas.io.formats.style.Styler at 0x7f72fa38a850>"
      ]
     },
     "execution_count": 8,
     "metadata": {},
     "output_type": "execute_result"
    }
   ],
   "source": [
    "dh.Concordance(corpus=korpus, query='skole OR skolen OR Skole OR skule').show()"
   ]
  },
  {
   "cell_type": "markdown",
   "metadata": {},
   "source": [
    "Tilbake til [DHLAB ved Nasjonalbiblioteket](https://nbviewer.org/github/NationalLibraryOfNorway/digital_tekstanalyse/blob/main/DHLAB_ved_Nasjonalbiblioteket.ipynb)"
   ]
  }
 ],
 "metadata": {
  "kernelspec": {
   "display_name": "Python 3.11.0 64-bit ('dh_env')",
   "language": "python",
   "name": "python3"
  },
  "language_info": {
   "codemirror_mode": {
    "name": "ipython",
    "version": 3
   },
   "file_extension": ".py",
   "mimetype": "text/x-python",
   "name": "python",
   "nbconvert_exporter": "python",
   "pygments_lexer": "ipython3",
   "version": "3.11.0"
  },
  "varInspector": {
   "cols": {
    "lenName": 16,
    "lenType": 16,
    "lenVar": 40
   },
   "kernels_config": {
    "python": {
     "delete_cmd_postfix": "",
     "delete_cmd_prefix": "del ",
     "library": "var_list.py",
     "varRefreshCmd": "print(var_dic_list())"
    },
    "r": {
     "delete_cmd_postfix": ") ",
     "delete_cmd_prefix": "rm(",
     "library": "var_list.r",
     "varRefreshCmd": "cat(var_dic_list()) "
    }
   },
   "types_to_exclude": [
    "module",
    "function",
    "builtin_function_or_method",
    "instance",
    "_Feature"
   ],
   "window_display": false
  },
  "vscode": {
   "interpreter": {
    "hash": "f2755d8ce3ccdb267e1a10f38109441e1493c17b0c49ae1fd6e138edd029bf7b"
   }
  }
 },
 "nbformat": 4,
 "nbformat_minor": 4
}
