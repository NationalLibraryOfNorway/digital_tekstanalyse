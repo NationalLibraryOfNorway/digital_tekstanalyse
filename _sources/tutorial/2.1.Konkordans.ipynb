{
 "cells": [
  {
   "attachments": {},
   "cell_type": "markdown",
   "metadata": {},
   "source": [
    "![resources/images/dhlab-logo-nb.png](../resources/images/dhlab-logo-nb.png)"
   ]
  },
  {
   "attachments": {},
   "cell_type": "markdown",
   "metadata": {},
   "source": [
    "# Konkordanser"
   ]
  },
  {
   "cell_type": "code",
   "execution_count": 1,
   "metadata": {},
   "outputs": [],
   "source": [
    "import dhlab as dh"
   ]
  },
  {
   "attachments": {},
   "cell_type": "markdown",
   "metadata": {
    "slideshow": {
     "slide_type": "slide"
    }
   },
   "source": [
    "## Konkordans med og uten korpus\n",
    "\n",
    "For å sjekke konkordanser i bøker og aviser benyttes kommandoen `concordance()`\n"
   ]
  },
  {
   "attachments": {},
   "cell_type": "markdown",
   "metadata": {},
   "source": [
    "### Konkordans fra aviser"
   ]
  },
  {
   "cell_type": "code",
   "execution_count": 2,
   "metadata": {},
   "outputs": [
    {
     "data": {
      "text/html": [
       "<style type=\"text/css\">\n",
       "</style>\n",
       "<table id=\"T_497eb\">\n",
       "  <thead>\n",
       "    <tr>\n",
       "      <th class=\"blank level0\" >&nbsp;</th>\n",
       "      <th id=\"T_497eb_level0_col0\" class=\"col_heading level0 col0\" >link</th>\n",
       "      <th id=\"T_497eb_level0_col1\" class=\"col_heading level0 col1\" >concordance</th>\n",
       "    </tr>\n",
       "  </thead>\n",
       "  <tbody>\n",
       "    <tr>\n",
       "      <th id=\"T_497eb_level0_row0\" class=\"row_heading level0 row0\" >5</th>\n",
       "      <td id=\"T_497eb_row0_col0\" class=\"data row0 col0\" ><a target='_blank' href = 'https://urn.nb.no/URN:NBN:no-nb_digavis_stavangeraftenblad_null_null_19650408_73_83_1'>URN:NBN:no-nb_digavis_stavangeraftenblad_null_null_19650408_73_83_1</a></td>\n",
       "      <td id=\"T_497eb_row0_col1\" class=\"data row0 col1\" >... vite at dette sft langt fra er tilfelle . <b>Demokrati</b> er retten til ft kunne velge selv , til fl... </td>\n",
       "    </tr>\n",
       "    <tr>\n",
       "      <th id=\"T_497eb_level0_row1\" class=\"row_heading level0 row1\" >15</th>\n",
       "      <td id=\"T_497eb_row1_col0\" class=\"data row1 col0\" ><a target='_blank' href = 'https://urn.nb.no/URN:NBN:no-nb_digavis_stavangeraftenblad_null_null_20080801_116_176_1'>URN:NBN:no-nb_digavis_stavangeraftenblad_null_null_20080801_116_176_1</a></td>\n",
       "      <td id=\"T_497eb_row1_col1\" class=\"data row1 col1\" >... Estetisk er begrepet forbundet med funksjonalitet og enkelhet , politisk med likhet og <b>demokrati</b> . Det er interessant at det... </td>\n",
       "    </tr>\n",
       "    <tr>\n",
       "      <th id=\"T_497eb_level0_row2\" class=\"row_heading level0 row2\" >11</th>\n",
       "      <td id=\"T_497eb_row2_col0\" class=\"data row2 col0\" ><a target='_blank' href = 'https://urn.nb.no/URN:NBN:no-nb_digavis_stavangeraftenblad_null_null_19650408_73_83_1'>URN:NBN:no-nb_digavis_stavangeraftenblad_null_null_19650408_73_83_1</a></td>\n",
       "      <td id=\"T_497eb_row2_col1\" class=\"data row2 col1\" >... Men bruker et <b>demokrati</b> makt , har det etter min oppfatning ingen rett til å kalle seg for et <b>demokrati</b>... </td>\n",
       "    </tr>\n",
       "    <tr>\n",
       "      <th id=\"T_497eb_level0_row3\" class=\"row_heading level0 row3\" >3</th>\n",
       "      <td id=\"T_497eb_row3_col0\" class=\"data row3 col0\" ><a target='_blank' href = 'https://urn.nb.no/URN:NBN:no-nb_digavis_stavangeraftenblad_null_null_20080801_116_176_1'>URN:NBN:no-nb_digavis_stavangeraftenblad_null_null_20080801_116_176_1</a></td>\n",
       "      <td id=\"T_497eb_row3_col1\" class=\"data row3 col1\" >■ Bompenger og <b>demokrati</b></td>\n",
       "    </tr>\n",
       "    <tr>\n",
       "      <th id=\"T_497eb_level0_row4\" class=\"row_heading level0 row4\" >13</th>\n",
       "      <td id=\"T_497eb_row4_col0\" class=\"data row4 col0\" ><a target='_blank' href = 'https://urn.nb.no/URN:NBN:no-nb_digavis_stavangeraftenblad_null_null_19650408_73_83_1'>URN:NBN:no-nb_digavis_stavangeraftenblad_null_null_19650408_73_83_1</a></td>\n",
       "      <td id=\"T_497eb_row4_col1\" class=\"data row4 col1\" >... Det gir oss eit <b>demokrati</b> som er levande og gjer at folk handlar under ansvar . Dei avvikande meiningane er... </td>\n",
       "    </tr>\n",
       "    <tr>\n",
       "      <th id=\"T_497eb_level0_row5\" class=\"row_heading level0 row5\" >6</th>\n",
       "      <td id=\"T_497eb_row5_col0\" class=\"data row5 col0\" ><a target='_blank' href = 'https://urn.nb.no/URN:NBN:no-nb_digavis_stavangeraftenblad_null_null_19891007_97_231_1'>URN:NBN:no-nb_digavis_stavangeraftenblad_null_null_19891007_97_231_1</a></td>\n",
       "      <td id=\"T_497eb_row5_col1\" class=\"data row5 col1\" >... Men folks vilje til frihet og <b>demokrati</b> kan ingen stoppe selv om det kan se stygt ut . Jeg lar... </td>\n",
       "    </tr>\n",
       "    <tr>\n",
       "      <th id=\"T_497eb_level0_row6\" class=\"row_heading level0 row6\" >10</th>\n",
       "      <td id=\"T_497eb_row6_col0\" class=\"data row6 col0\" ><a target='_blank' href = 'https://urn.nb.no/URN:NBN:no-nb_digavis_stavangeraftenblad_null_null_19610228_69_50_1'>URN:NBN:no-nb_digavis_stavangeraftenblad_null_null_19610228_69_50_1</a></td>\n",
       "      <td id=\"T_497eb_row6_col1\" class=\"data row6 col1\" >... Det er det vi pleier kalle <b>demokrati</b> . Det får ikke hjelpe om Per Thomsen nevner navn som Gerhardsen ,... </td>\n",
       "    </tr>\n",
       "    <tr>\n",
       "      <th id=\"T_497eb_level0_row7\" class=\"row_heading level0 row7\" >1</th>\n",
       "      <td id=\"T_497eb_row7_col0\" class=\"data row7 col0\" ><a target='_blank' href = 'https://urn.nb.no/URN:NBN:no-nb_digavis_stavangeraftenblad_null_null_19650515_73_111_1'>URN:NBN:no-nb_digavis_stavangeraftenblad_null_null_19650515_73_111_1</a></td>\n",
       "      <td id=\"T_497eb_row7_col1\" class=\"data row7 col1\" >... 20 05 Industrielt <b>demokrati</b> . Den personlige medvirkning i bedriften . Foredrag av dosent Einar Thorsrud . 20 25 Ludwig... </td>\n",
       "    </tr>\n",
       "    <tr>\n",
       "      <th id=\"T_497eb_level0_row8\" class=\"row_heading level0 row8\" >4</th>\n",
       "      <td id=\"T_497eb_row8_col0\" class=\"data row8 col0\" ><a target='_blank' href = 'https://urn.nb.no/URN:NBN:no-nb_digavis_stavangeraftenblad_null_null_20061205_114_283_1'>URN:NBN:no-nb_digavis_stavangeraftenblad_null_null_20061205_114_283_1</a></td>\n",
       "      <td id=\"T_497eb_row8_col1\" class=\"data row8 col1\" >... Uten forbedringer på russisk side når det gjelder respekt for menneskerettigheter , rettssikkerhet og <b>demokrati</b> , vil nordområdepolitikken ikke kunne... </td>\n",
       "    </tr>\n",
       "    <tr>\n",
       "      <th id=\"T_497eb_level0_row9\" class=\"row_heading level0 row9\" >9</th>\n",
       "      <td id=\"T_497eb_row9_col0\" class=\"data row9 col0\" ><a target='_blank' href = 'https://urn.nb.no/URN:NBN:no-nb_digavis_stavangeraftenblad_null_null_19650515_73_111_1'>URN:NBN:no-nb_digavis_stavangeraftenblad_null_null_19650515_73_111_1</a></td>\n",
       "      <td id=\"T_497eb_row9_col1\" class=\"data row9 col1\" >... - • Thorsrud i forbin- KraTl deise med temaet Industrielt <b>demokrati</b> om den personlige medvirkning i bedriften . Dosent Einar Thorsrud... </td>\n",
       "    </tr>\n",
       "  </tbody>\n",
       "</table>\n"
      ],
      "text/plain": [
       "<pandas.io.formats.style.Styler at 0x7f764527b190>"
      ]
     },
     "execution_count": 2,
     "metadata": {},
     "output_type": "execute_result"
    }
   ],
   "source": [
    "#Bygg aviskorpus med aviser som begynner med 'stavanger' utgitt fra 1960\n",
    "aviskorpus = dh.Corpus(doctype=\"digavis\", title=\"stavanger*\", from_year=1960, limit=10)\n",
    "\n",
    "# Finn konkordanser i korpus\n",
    "# Vis med .show()\n",
    "dh.Concordance(corpus=aviskorpus, query=\"demokrati\").show()"
   ]
  },
  {
   "cell_type": "code",
   "execution_count": 3,
   "metadata": {},
   "outputs": [
    {
     "data": {
      "text/html": [
       "<style type=\"text/css\">\n",
       "</style>\n",
       "<table id=\"T_64d49\">\n",
       "  <thead>\n",
       "    <tr>\n",
       "      <th class=\"blank level0\" >&nbsp;</th>\n",
       "      <th id=\"T_64d49_level0_col0\" class=\"col_heading level0 col0\" >link</th>\n",
       "      <th id=\"T_64d49_level0_col1\" class=\"col_heading level0 col1\" >concordance</th>\n",
       "    </tr>\n",
       "  </thead>\n",
       "  <tbody>\n",
       "    <tr>\n",
       "      <th id=\"T_64d49_level0_row0\" class=\"row_heading level0 row0\" >2</th>\n",
       "      <td id=\"T_64d49_row0_col0\" class=\"data row0 col0\" ><a target='_blank' href = 'https://urn.nb.no/URN:NBN:no-nb_digavis_stavangeraftenblad_null_null_20081122_116_273_1'>URN:NBN:no-nb_digavis_stavangeraftenblad_null_null_20081122_116_273_1</a></td>\n",
       "      <td id=\"T_64d49_row0_col1\" class=\"data row0 col1\" >... Rådmannen ville avgrense utredningen til å ta for seg økonomi og <b>demokrati</b> ved en sammenslåing , men formannskapet ga sterke... </td>\n",
       "    </tr>\n",
       "    <tr>\n",
       "      <th id=\"T_64d49_level0_row1\" class=\"row_heading level0 row1\" >14</th>\n",
       "      <td id=\"T_64d49_row1_col0\" class=\"data row1 col0\" ><a target='_blank' href = 'https://urn.nb.no/URN:NBN:no-nb_digavis_stavangeraftenblad_null_null_19940514_102_109_1'>URN:NBN:no-nb_digavis_stavangeraftenblad_null_null_19940514_102_109_1</a></td>\n",
       "      <td id=\"T_64d49_row1_col1\" class=\"data row1 col1\" >... Dersom vi aksepterer at mediebedrifter også har en viktig , vitaliserende funksjon i et liberalt <b>demokrati</b> , er det da... </td>\n",
       "    </tr>\n",
       "    <tr>\n",
       "      <th id=\"T_64d49_level0_row2\" class=\"row_heading level0 row2\" >1</th>\n",
       "      <td id=\"T_64d49_row2_col0\" class=\"data row2 col0\" ><a target='_blank' href = 'https://urn.nb.no/URN:NBN:no-nb_digavis_stavangeraftenblad_null_null_19711004_79_229_1'>URN:NBN:no-nb_digavis_stavangeraftenblad_null_null_19711004_79_229_1</a></td>\n",
       "      <td id=\"T_64d49_row2_col1\" class=\"data row2 col1\" >... det praktiske for <b>demokrati</b> pft arbeidsplassen . » Revolusjonerende NYHET Til motet innbyr vi : _ , 0 • 1 . • I... </td>\n",
       "    </tr>\n",
       "    <tr>\n",
       "      <th id=\"T_64d49_level0_row3\" class=\"row_heading level0 row3\" >6</th>\n",
       "      <td id=\"T_64d49_row3_col0\" class=\"data row3 col0\" ><a target='_blank' href = 'https://urn.nb.no/URN:NBN:no-nb_digavis_stavangeraftenblad_null_null_19970919_105_216_1'>URN:NBN:no-nb_digavis_stavangeraftenblad_null_null_19970919_105_216_1</a></td>\n",
       "      <td id=\"T_64d49_row3_col1\" class=\"data row3 col1\" >... Det er en illeluktende uting i vårt <b>demokrati</b> at pengesterke private sammenslutninger av typen LO og NHO skal kjøpe seg... </td>\n",
       "    </tr>\n",
       "    <tr>\n",
       "      <th id=\"T_64d49_level0_row4\" class=\"row_heading level0 row4\" >5</th>\n",
       "      <td id=\"T_64d49_row4_col0\" class=\"data row4 col0\" ><a target='_blank' href = 'https://urn.nb.no/URN:NBN:no-nb_digavis_stavangeraftenblad_null_null_20081122_116_273_1'>URN:NBN:no-nb_digavis_stavangeraftenblad_null_null_20081122_116_273_1</a></td>\n",
       "      <td id=\"T_64d49_row4_col1\" class=\"data row4 col1\" >... Méns kanonene drønnet og Europa ble lagt i ruiner , ga han ut boken « Kapitalisme , sosialisme og <b>demokrati</b> » .... </td>\n",
       "    </tr>\n",
       "    <tr>\n",
       "      <th id=\"T_64d49_level0_row5\" class=\"row_heading level0 row5\" >0</th>\n",
       "      <td id=\"T_64d49_row5_col0\" class=\"data row5 col0\" ><a target='_blank' href = 'https://urn.nb.no/URN:NBN:no-nb_digavis_stavangeraftenblad_null_null_19940514_102_109_1'>URN:NBN:no-nb_digavis_stavangeraftenblad_null_null_19940514_102_109_1</a></td>\n",
       "      <td id=\"T_64d49_row5_col1\" class=\"data row5 col1\" >... Slik fungerer et <b>demokrati</b> , og det er bortkastet å ikke stemme .</td>\n",
       "    </tr>\n",
       "    <tr>\n",
       "      <th id=\"T_64d49_level0_row6\" class=\"row_heading level0 row6\" >3</th>\n",
       "      <td id=\"T_64d49_row6_col0\" class=\"data row6 col0\" ><a target='_blank' href = 'https://urn.nb.no/URN:NBN:no-nb_digavis_stavangeraftenblad_null_null_19981107_106_259_1'>URN:NBN:no-nb_digavis_stavangeraftenblad_null_null_19981107_106_259_1</a></td>\n",
       "      <td id=\"T_64d49_row6_col1\" class=\"data row6 col1\" >... I dag lever vi i et åpent <b>demokrati</b> med mange institusjoner som barnevern , sosialkontor og så videre , som... </td>\n",
       "    </tr>\n",
       "    <tr>\n",
       "      <th id=\"T_64d49_level0_row7\" class=\"row_heading level0 row7\" >4</th>\n",
       "      <td id=\"T_64d49_row7_col0\" class=\"data row7 col0\" ><a target='_blank' href = 'https://urn.nb.no/URN:NBN:no-nb_digavis_stavangeraftenblad_null_null_19711004_79_229_1'>URN:NBN:no-nb_digavis_stavangeraftenblad_null_null_19711004_79_229_1</a></td>\n",
       "      <td id=\"T_64d49_row7_col1\" class=\"data row7 col1\" >... Under sine studier ble han imidlertid overbevist om at sosialisering og <b>demokrati</b> vanskelig kunne forenes . Han tok konsekvensen av... </td>\n",
       "    </tr>\n",
       "    <tr>\n",
       "      <th id=\"T_64d49_level0_row8\" class=\"row_heading level0 row8\" >7</th>\n",
       "      <td id=\"T_64d49_row8_col0\" class=\"data row8 col0\" ><a target='_blank' href = 'https://urn.nb.no/URN:NBN:no-nb_digavis_stavangeraftenblad_null_null_19981107_106_259_1'>URN:NBN:no-nb_digavis_stavangeraftenblad_null_null_19981107_106_259_1</a></td>\n",
       "      <td id=\"T_64d49_row8_col1\" class=\"data row8 col1\" >... Uten åpenhet får vi ikke <b>demokrati</b> , sier Eikesdal til Aftenbladet . Hun kritiserer både Utenriksdepartementet , Samferdselsdepartementet og Miljøverndepartementet... </td>\n",
       "    </tr>\n",
       "    <tr>\n",
       "      <th id=\"T_64d49_level0_row9\" class=\"row_heading level0 row9\" >8</th>\n",
       "      <td id=\"T_64d49_row9_col0\" class=\"data row9 col0\" ><a target='_blank' href = 'https://urn.nb.no/URN:NBN:no-nb_digavis_stavangeraftenblad_null_null_19981107_106_259_1'>URN:NBN:no-nb_digavis_stavangeraftenblad_null_null_19981107_106_259_1</a></td>\n",
       "      <td id=\"T_64d49_row9_col1\" class=\"data row9 col1\" >- Uten åpenhet får vi ikke <b>demokrati</b></td>\n",
       "    </tr>\n",
       "  </tbody>\n",
       "</table>\n"
      ],
      "text/plain": [
       "<pandas.io.formats.style.Styler at 0x7f773e1b7af0>"
      ]
     },
     "execution_count": 3,
     "metadata": {},
     "output_type": "execute_result"
    }
   ],
   "source": [
    "# Alternavtivt kan man finne konkordanser direkte fra et Corpus objekt via `.conc` \n",
    "\n",
    "dh.Corpus(doctype=\"digavis\", title=\"stavanger*\", from_year=1960, limit=10).conc(\"demokrati\").show()"
   ]
  },
  {
   "attachments": {},
   "cell_type": "markdown",
   "metadata": {},
   "source": [
    "### Fri konkordans fra bøker"
   ]
  },
  {
   "cell_type": "code",
   "execution_count": 4,
   "metadata": {},
   "outputs": [
    {
     "data": {
      "text/html": [
       "<style type=\"text/css\">\n",
       "</style>\n",
       "<table id=\"T_dfa40\">\n",
       "  <thead>\n",
       "    <tr>\n",
       "      <th class=\"blank level0\" >&nbsp;</th>\n",
       "      <th id=\"T_dfa40_level0_col0\" class=\"col_heading level0 col0\" >link</th>\n",
       "      <th id=\"T_dfa40_level0_col1\" class=\"col_heading level0 col1\" >concordance</th>\n",
       "    </tr>\n",
       "  </thead>\n",
       "  <tbody>\n",
       "    <tr>\n",
       "      <th id=\"T_dfa40_level0_row0\" class=\"row_heading level0 row0\" >13</th>\n",
       "      <td id=\"T_dfa40_row0_col0\" class=\"data row0 col0\" ><a target='_blank' href = 'https://urn.nb.no/URN:NBN:no-nb_digibok_2009062204035'>URN:NBN:no-nb_digibok_2009062204035</a></td>\n",
       "      <td id=\"T_dfa40_row0_col1\" class=\"data row0 col1\" >... , ville de blive et mægtigt Middel til at udbrede og befordre Handel , <b>Vinskibelighed</b> , Dannelse og Velvære .</td>\n",
       "    </tr>\n",
       "    <tr>\n",
       "      <th id=\"T_dfa40_level0_row1\" class=\"row_heading level0 row1\" >10</th>\n",
       "      <td id=\"T_dfa40_row1_col0\" class=\"data row1 col0\" ><a target='_blank' href = 'https://urn.nb.no/URN:NBN:no-nb_digibok_2010031003056'>URN:NBN:no-nb_digibok_2010031003056</a></td>\n",
       "      <td id=\"T_dfa40_row1_col1\" class=\"data row1 col1\" >... , Fabrik- og Manufakturfliden , samt ved at udbrede <b>Vinskibelighed</b> i dens forskjellige Grene . For at udbrede nyttig Kundskab... </td>\n",
       "    </tr>\n",
       "  </tbody>\n",
       "</table>\n"
      ],
      "text/plain": [
       "<pandas.io.formats.style.Styler at 0x7f7644b0df00>"
      ]
     },
     "execution_count": 4,
     "metadata": {},
     "output_type": "execute_result"
    }
   ],
   "source": [
    "# Bygg korpus med bøker som nevner \"Vinskibelighed\" mellom 1600 og 1850\n",
    "bokkorpus = dh.Corpus(doctype=\"digibok\", fulltext=\"Vinskibelighed\", from_year=1600, to_year=1850, limit=20)\n",
    "\n",
    "# Finn konkordanser from 'Vinskibelighet'. Vis med '.show()'\n",
    "dh.Concordance(corpus=bokkorpus, query=\"Vinskibelighed\").show(2)"
   ]
  },
  {
   "attachments": {},
   "cell_type": "markdown",
   "metadata": {},
   "source": [
    "### Konkordans med stort definert korpus\n",
    "\n",
    "Her bygger vi først et korpus. Se eksempelfil om [Korpusbygging](https://nbviewer.jupyter.org/github/DH-LAB-NB/DHLAB/blob/master/1_Bygg_korpus.ipynb) for ulike måter å definere korpus."
   ]
  },
  {
   "cell_type": "code",
   "execution_count": 5,
   "metadata": {},
   "outputs": [],
   "source": [
    "korpus = dh.Corpus(doctype=\"digibok\", fulltext='kvinner', ddk=\"33*\", from_year=1960, to_year=1970, limit=400)"
   ]
  },
  {
   "cell_type": "markdown",
   "metadata": {},
   "source": [
    "Undersøk lengden på korpuset med `.size`"
   ]
  },
  {
   "cell_type": "code",
   "execution_count": 6,
   "metadata": {},
   "outputs": [
    {
     "data": {
      "text/plain": [
       "330"
      ]
     },
     "execution_count": 6,
     "metadata": {},
     "output_type": "execute_result"
    }
   ],
   "source": [
    "korpus.size"
   ]
  },
  {
   "cell_type": "markdown",
   "metadata": {},
   "source": [
    "Vi kan dra ut et delkorpus for søkeformål med `.sample()`"
   ]
  },
  {
   "cell_type": "code",
   "execution_count": 7,
   "metadata": {},
   "outputs": [
    {
     "data": {
      "text/html": [
       "<div>\n",
       "<style scoped>\n",
       "    .dataframe tbody tr th:only-of-type {\n",
       "        vertical-align: middle;\n",
       "    }\n",
       "\n",
       "    .dataframe tbody tr th {\n",
       "        vertical-align: top;\n",
       "    }\n",
       "\n",
       "    .dataframe thead th {\n",
       "        text-align: right;\n",
       "    }\n",
       "</style>\n",
       "<table border=\"1\" class=\"dataframe\">\n",
       "  <thead>\n",
       "    <tr style=\"text-align: right;\">\n",
       "      <th></th>\n",
       "      <th>dhlabid</th>\n",
       "      <th>urn</th>\n",
       "      <th>title</th>\n",
       "      <th>authors</th>\n",
       "      <th>oaiid</th>\n",
       "      <th>sesamid</th>\n",
       "      <th>isbn10</th>\n",
       "      <th>city</th>\n",
       "      <th>timestamp</th>\n",
       "      <th>year</th>\n",
       "      <th>publisher</th>\n",
       "      <th>langs</th>\n",
       "      <th>subjects</th>\n",
       "      <th>ddc</th>\n",
       "      <th>genres</th>\n",
       "      <th>literaryform</th>\n",
       "      <th>doctype</th>\n",
       "    </tr>\n",
       "  </thead>\n",
       "  <tbody>\n",
       "    <tr>\n",
       "      <th>60</th>\n",
       "      <td>100042390</td>\n",
       "      <td>URN:NBN:no-nb_digibok_2011022106011</td>\n",
       "      <td>Hva er sosialisme? : et opplegg til studier og...</td>\n",
       "      <td>Zachariassen , Aksel</td>\n",
       "      <td>oai:nb.bibsys.no:990308860314702202</td>\n",
       "      <td>4d0e0ebd386de1f2ba8ef73681260752</td>\n",
       "      <td></td>\n",
       "      <td>&lt;Oslo&gt;</td>\n",
       "      <td>19650101</td>\n",
       "      <td>1965</td>\n",
       "      <td>Arbeidernes opplysningsforbund</td>\n",
       "      <td>nob</td>\n",
       "      <td></td>\n",
       "      <td>335</td>\n",
       "      <td></td>\n",
       "      <td>Faglitteratur</td>\n",
       "      <td>digibok</td>\n",
       "    </tr>\n",
       "    <tr>\n",
       "      <th>152</th>\n",
       "      <td>100277440</td>\n",
       "      <td>URN:NBN:no-nb_digibok_2016011848034</td>\n",
       "      <td>Lyngdals sparebank : 1864 - 1964 : bygd og ban...</td>\n",
       "      <td>Salen , Odd / Fahlstrøm , Kristian</td>\n",
       "      <td>oai:nb.bibsys.no:999705880464702202</td>\n",
       "      <td>e3c9259dcd1b288b4c24c4ea268ea3dc</td>\n",
       "      <td></td>\n",
       "      <td></td>\n",
       "      <td>19640101</td>\n",
       "      <td>1964</td>\n",
       "      <td>Banken</td>\n",
       "      <td>nob</td>\n",
       "      <td>Bygdebøker / Sparebanker / Historisk framstill...</td>\n",
       "      <td>332.2</td>\n",
       "      <td></td>\n",
       "      <td>Faglitteratur</td>\n",
       "      <td>digibok</td>\n",
       "    </tr>\n",
       "  </tbody>\n",
       "</table>\n",
       "</div>"
      ],
      "text/plain": [
       "       dhlabid                                  urn  \\\n",
       "60   100042390  URN:NBN:no-nb_digibok_2011022106011   \n",
       "152  100277440  URN:NBN:no-nb_digibok_2016011848034   \n",
       "\n",
       "                                                 title  \\\n",
       "60   Hva er sosialisme? : et opplegg til studier og...   \n",
       "152  Lyngdals sparebank : 1864 - 1964 : bygd og ban...   \n",
       "\n",
       "                                authors                                oaiid  \\\n",
       "60                 Zachariassen , Aksel  oai:nb.bibsys.no:990308860314702202   \n",
       "152  Salen , Odd / Fahlstrøm , Kristian  oai:nb.bibsys.no:999705880464702202   \n",
       "\n",
       "                              sesamid isbn10    city  timestamp  year  \\\n",
       "60   4d0e0ebd386de1f2ba8ef73681260752         <Oslo>   19650101  1965   \n",
       "152  e3c9259dcd1b288b4c24c4ea268ea3dc                  19640101  1964   \n",
       "\n",
       "                          publisher langs  \\\n",
       "60   Arbeidernes opplysningsforbund   nob   \n",
       "152                          Banken   nob   \n",
       "\n",
       "                                              subjects    ddc genres  \\\n",
       "60                                                        335          \n",
       "152  Bygdebøker / Sparebanker / Historisk framstill...  332.2          \n",
       "\n",
       "      literaryform  doctype  \n",
       "60   Faglitteratur  digibok  \n",
       "152  Faglitteratur  digibok  "
      ]
     },
     "execution_count": 7,
     "metadata": {},
     "output_type": "execute_result"
    }
   ],
   "source": [
    "korpus.corpus.sample(2)"
   ]
  },
  {
   "cell_type": "code",
   "execution_count": 8,
   "metadata": {},
   "outputs": [
    {
     "data": {
      "text/html": [
       "<style type=\"text/css\">\n",
       "</style>\n",
       "<table id=\"T_aae16\">\n",
       "  <thead>\n",
       "    <tr>\n",
       "      <th class=\"blank level0\" >&nbsp;</th>\n",
       "      <th id=\"T_aae16_level0_col0\" class=\"col_heading level0 col0\" >link</th>\n",
       "      <th id=\"T_aae16_level0_col1\" class=\"col_heading level0 col1\" >concordance</th>\n",
       "    </tr>\n",
       "  </thead>\n",
       "  <tbody>\n",
       "    <tr>\n",
       "      <th id=\"T_aae16_level0_row0\" class=\"row_heading level0 row0\" >212</th>\n",
       "      <td id=\"T_aae16_row0_col0\" class=\"data row0 col0\" ><a target='_blank' href = 'https://urn.nb.no/URN:NBN:no-nb_digibok_2012080909523'>URN:NBN:no-nb_digibok_2012080909523</a></td>\n",
       "      <td id=\"T_aae16_row0_col1\" class=\"data row0 col1\" >... Aldersgrupperingen for <b>barn</b> 0 - 10 år er om regnet til to 5 - års grupper , istedenfor tre j-års... </td>\n",
       "    </tr>\n",
       "    <tr>\n",
       "      <th id=\"T_aae16_level0_row1\" class=\"row_heading level0 row1\" >62</th>\n",
       "      <td id=\"T_aae16_row1_col0\" class=\"data row1 col0\" ><a target='_blank' href = 'https://urn.nb.no/URN:NBN:no-nb_digibok_2007072401037'>URN:NBN:no-nb_digibok_2007072401037</a></td>\n",
       "      <td id=\"T_aae16_row1_col1\" class=\"data row1 col1\" >... For det første er det i dag langt flere <b>barn</b> som lever opp og når forplantningsdyktig alder . Den gjennomsnittlige... </td>\n",
       "    </tr>\n",
       "    <tr>\n",
       "      <th id=\"T_aae16_level0_row2\" class=\"row_heading level0 row2\" >43</th>\n",
       "      <td id=\"T_aae16_row2_col0\" class=\"data row2 col0\" ><a target='_blank' href = 'https://urn.nb.no/URN:NBN:no-nb_digibok_2013040408064'>URN:NBN:no-nb_digibok_2013040408064</a></td>\n",
       "      <td id=\"T_aae16_row2_col1\" class=\"data row2 col1\" >... Denne sanking var for størstedelen overlatt til kvinner og <b>barn</b> da mennene nettopp i sankingstiden søkte ut på sommerfisket ,... </td>\n",
       "    </tr>\n",
       "    <tr>\n",
       "      <th id=\"T_aae16_level0_row3\" class=\"row_heading level0 row3\" >76</th>\n",
       "      <td id=\"T_aae16_row3_col0\" class=\"data row3 col0\" ><a target='_blank' href = 'https://urn.nb.no/URN:NBN:no-nb_digibok_2016081208144'>URN:NBN:no-nb_digibok_2016081208144</a></td>\n",
       "      <td id=\"T_aae16_row3_col1\" class=\"data row3 col1\" >... Utleie av sports- og turutstyr , båtutleie , fjellførere , skilærere , fiskelærere , sommerskoler for <b>barn</b> og voksne o... </td>\n",
       "    </tr>\n",
       "    <tr>\n",
       "      <th id=\"T_aae16_level0_row4\" class=\"row_heading level0 row4\" >195</th>\n",
       "      <td id=\"T_aae16_row4_col0\" class=\"data row4 col0\" ><a target='_blank' href = 'https://urn.nb.no/URN:NBN:no-nb_digibok_2015021006004'>URN:NBN:no-nb_digibok_2015021006004</a></td>\n",
       "      <td id=\"T_aae16_row4_col1\" class=\"data row4 col1\" >for mann og kvinne må realiseres . Ungdom og <b>barn</b> må få en nyttig utdannelse</td>\n",
       "    </tr>\n",
       "    <tr>\n",
       "      <th id=\"T_aae16_level0_row5\" class=\"row_heading level0 row5\" >75</th>\n",
       "      <td id=\"T_aae16_row5_col0\" class=\"data row5 col0\" ><a target='_blank' href = 'https://urn.nb.no/URN:NBN:no-nb_digibok_2007052201042'>URN:NBN:no-nb_digibok_2007052201042</a></td>\n",
       "      <td id=\"T_aae16_row5_col1\" class=\"data row5 col1\" >... Barnetrygd og forsørgertrygd for <b>barn</b> . Family allowances and survivors benefitjor children . . . Syketrygd . Health Insurance ....... </td>\n",
       "    </tr>\n",
       "    <tr>\n",
       "      <th id=\"T_aae16_level0_row6\" class=\"row_heading level0 row6\" >38</th>\n",
       "      <td id=\"T_aae16_row6_col0\" class=\"data row6 col0\" ><a target='_blank' href = 'https://urn.nb.no/URN:NBN:no-nb_digibok_2017010648120'>URN:NBN:no-nb_digibok_2017010648120</a></td>\n",
       "      <td id=\"T_aae16_row6_col1\" class=\"data row6 col1\" >... Det var samtidig fastsatt i loven at feriegodtgjøringen skulle tilfalle ektefelle eller <b>barn</b> som arbeidstakeren forsørger . Hadde han ingen... </td>\n",
       "    </tr>\n",
       "    <tr>\n",
       "      <th id=\"T_aae16_level0_row7\" class=\"row_heading level0 row7\" >46</th>\n",
       "      <td id=\"T_aae16_row7_col0\" class=\"data row7 col0\" ><a target='_blank' href = 'https://urn.nb.no/URN:NBN:no-nb_digibok_2010111606071'>URN:NBN:no-nb_digibok_2010111606071</a></td>\n",
       "      <td id=\"T_aae16_row7_col1\" class=\"data row7 col1\" >... Det samme når vi får <b>barn</b> , eller når vi dør . Samfunnet er omfattende og griper inn i alle... </td>\n",
       "    </tr>\n",
       "    <tr>\n",
       "      <th id=\"T_aae16_level0_row8\" class=\"row_heading level0 row8\" >193</th>\n",
       "      <td id=\"T_aae16_row8_col0\" class=\"data row8 col0\" ><a target='_blank' href = 'https://urn.nb.no/URN:NBN:no-nb_digibok_2018020248276'>URN:NBN:no-nb_digibok_2018020248276</a></td>\n",
       "      <td id=\"T_aae16_row8_col1\" class=\"data row8 col1\" >Som tilfellet oftest er med embedsmanns <b>barn</b> , kom Wolff under sin oppvekst til å flytte med foreldrene rundt omkring... </td>\n",
       "    </tr>\n",
       "    <tr>\n",
       "      <th id=\"T_aae16_level0_row9\" class=\"row_heading level0 row9\" >110</th>\n",
       "      <td id=\"T_aae16_row9_col0\" class=\"data row9 col0\" ><a target='_blank' href = 'https://urn.nb.no/URN:NBN:no-nb_digibok_2006081100018'>URN:NBN:no-nb_digibok_2006081100018</a></td>\n",
       "      <td id=\"T_aae16_row9_col1\" class=\"data row9 col1\" >... i Ispet av mel ! omkligBtilia die ett og to <b>barn</b> pr. tamilie nelt normalt i arbsicler- KI2BBSN . og... </td>\n",
       "    </tr>\n",
       "  </tbody>\n",
       "</table>\n"
      ],
      "text/plain": [
       "<pandas.io.formats.style.Styler at 0x7f764527b550>"
      ]
     },
     "execution_count": 8,
     "metadata": {},
     "output_type": "execute_result"
    }
   ],
   "source": [
    "# Konkordans fra sample\n",
    "dh.Concordance(corpus=korpus.corpus.sample(50), query=\"barn\").show()"
   ]
  },
  {
   "cell_type": "markdown",
   "metadata": {},
   "source": [
    "Flere ord eller ordformer kan søkes etter på en gang. Bruk 'OR' for å separerer ordene."
   ]
  },
  {
   "cell_type": "code",
   "execution_count": 9,
   "metadata": {},
   "outputs": [
    {
     "data": {
      "text/html": [
       "<style type=\"text/css\">\n",
       "</style>\n",
       "<table id=\"T_3c39c\">\n",
       "  <thead>\n",
       "    <tr>\n",
       "      <th class=\"blank level0\" >&nbsp;</th>\n",
       "      <th id=\"T_3c39c_level0_col0\" class=\"col_heading level0 col0\" >link</th>\n",
       "      <th id=\"T_3c39c_level0_col1\" class=\"col_heading level0 col1\" >concordance</th>\n",
       "    </tr>\n",
       "  </thead>\n",
       "  <tbody>\n",
       "    <tr>\n",
       "      <th id=\"T_3c39c_level0_row0\" class=\"row_heading level0 row0\" >263</th>\n",
       "      <td id=\"T_3c39c_row0_col0\" class=\"data row0 col0\" ><a target='_blank' href = 'https://urn.nb.no/URN:NBN:no-nb_digibok_2015030906010'>URN:NBN:no-nb_digibok_2015030906010</a></td>\n",
       "      <td id=\"T_3c39c_row0_col1\" class=\"data row0 col1\" >... 53 000 nye elever ved <b>skolen</b> og rettet ca. 320 000 oppgåvesvar .</td>\n",
       "    </tr>\n",
       "    <tr>\n",
       "      <th id=\"T_3c39c_level0_row1\" class=\"row_heading level0 row1\" >272</th>\n",
       "      <td id=\"T_3c39c_row1_col0\" class=\"data row1 col0\" ><a target='_blank' href = 'https://urn.nb.no/URN:NBN:no-nb_digibok_2008052304020'>URN:NBN:no-nb_digibok_2008052304020</a></td>\n",
       "      <td id=\"T_3c39c_row1_col1\" class=\"data row1 col1\" >forholdsvis flest menn som tok utdannelse , mens det i Finnmark var flest kvinner som gikk på <b>skole</b> . Helt... </td>\n",
       "    </tr>\n",
       "    <tr>\n",
       "      <th id=\"T_3c39c_level0_row2\" class=\"row_heading level0 row2\" >488</th>\n",
       "      <td id=\"T_3c39c_row2_col0\" class=\"data row2 col0\" ><a target='_blank' href = 'https://urn.nb.no/URN:NBN:no-nb_digibok_2014101406034'>URN:NBN:no-nb_digibok_2014101406034</a></td>\n",
       "      <td id=\"T_3c39c_row2_col1\" class=\"data row2 col1\" >I Steinf.jord er <b>skolen</b> udelt og betjenes av en student . I 1966 var det 12 elever . Tallet vil... </td>\n",
       "    </tr>\n",
       "    <tr>\n",
       "      <th id=\"T_3c39c_level0_row3\" class=\"row_heading level0 row3\" >195</th>\n",
       "      <td id=\"T_3c39c_row3_col0\" class=\"data row3 col0\" ><a target='_blank' href = 'https://urn.nb.no/URN:NBN:no-nb_digibok_2017112048006'>URN:NBN:no-nb_digibok_2017112048006</a></td>\n",
       "      <td id=\"T_3c39c_row3_col1\" class=\"data row3 col1\" >1 1948 ble Luftforsvarets våpentekniske <b>skole</b> etablert på Lista . 1 årene som fulgte måtte <b>skolen</b> utvides flere ganger for... </td>\n",
       "    </tr>\n",
       "    <tr>\n",
       "      <th id=\"T_3c39c_level0_row4\" class=\"row_heading level0 row4\" >23</th>\n",
       "      <td id=\"T_3c39c_row4_col0\" class=\"data row4 col0\" ><a target='_blank' href = 'https://urn.nb.no/URN:NBN:no-nb_digibok_2017030248024'>URN:NBN:no-nb_digibok_2017030248024</a></td>\n",
       "      <td id=\"T_3c39c_row4_col1\" class=\"data row4 col1\" ><b>skole</b></td>\n",
       "    </tr>\n",
       "    <tr>\n",
       "      <th id=\"T_3c39c_level0_row5\" class=\"row_heading level0 row5\" >433</th>\n",
       "      <td id=\"T_3c39c_row5_col0\" class=\"data row5 col0\" ><a target='_blank' href = 'https://urn.nb.no/URN:NBN:no-nb_digibok_2017120548038'>URN:NBN:no-nb_digibok_2017120548038</a></td>\n",
       "      <td id=\"T_3c39c_row5_col1\" class=\"data row5 col1\" >... at Folk enten det nu sker for at gavne <b>Skolen</b> eller skade Læreren , skal foretage Omreguleringer , hvorved Ugetallet... </td>\n",
       "    </tr>\n",
       "    <tr>\n",
       "      <th id=\"T_3c39c_level0_row6\" class=\"row_heading level0 row6\" >123</th>\n",
       "      <td id=\"T_3c39c_row6_col0\" class=\"data row6 col0\" ><a target='_blank' href = 'https://urn.nb.no/URN:NBN:no-nb_digibok_2016112448007'>URN:NBN:no-nb_digibok_2016112448007</a></td>\n",
       "      <td id=\"T_3c39c_row6_col1\" class=\"data row6 col1\" >... I 1878 vart banken flytt til Enge <b>skule</b> der Fosse nå vat blitt lærar , og der heldt den til... </td>\n",
       "    </tr>\n",
       "    <tr>\n",
       "      <th id=\"T_3c39c_level0_row7\" class=\"row_heading level0 row7\" >316</th>\n",
       "      <td id=\"T_3c39c_row7_col0\" class=\"data row7 col0\" ><a target='_blank' href = 'https://urn.nb.no/URN:NBN:no-nb_digibok_2007050804034'>URN:NBN:no-nb_digibok_2007050804034</a></td>\n",
       "      <td id=\"T_3c39c_row7_col1\" class=\"data row7 col1\" >... nan en kort tid virket som la3rer ved verketB <b>skole</b> . ? ler var det ogB2 at nan mottok meldingen... </td>\n",
       "    </tr>\n",
       "    <tr>\n",
       "      <th id=\"T_3c39c_level0_row8\" class=\"row_heading level0 row8\" >31</th>\n",
       "      <td id=\"T_3c39c_row8_col0\" class=\"data row8 col0\" ><a target='_blank' href = 'https://urn.nb.no/URN:NBN:no-nb_digibok_2017120548038'>URN:NBN:no-nb_digibok_2017120548038</a></td>\n",
       "      <td id=\"T_3c39c_row8_col1\" class=\"data row8 col1\" >... Men pliktig medlemskap i Norges Lærersamband var framleis eit vilkår for å kunne halde <b>skule</b> , og det gjekk ikkje... </td>\n",
       "    </tr>\n",
       "    <tr>\n",
       "      <th id=\"T_3c39c_level0_row9\" class=\"row_heading level0 row9\" >293</th>\n",
       "      <td id=\"T_3c39c_row9_col0\" class=\"data row9 col0\" ><a target='_blank' href = 'https://urn.nb.no/URN:NBN:no-nb_digibok_2012091308000'>URN:NBN:no-nb_digibok_2012091308000</a></td>\n",
       "      <td id=\"T_3c39c_row9_col1\" class=\"data row9 col1\" >... lære , og i 1835 startet han en litografisk <b>skole</b> i Stockholm . En annen litograf dro samtidig til Frankrike... </td>\n",
       "    </tr>\n",
       "  </tbody>\n",
       "</table>\n"
      ],
      "text/plain": [
       "<pandas.io.formats.style.Styler at 0x7f764527bac0>"
      ]
     },
     "execution_count": 9,
     "metadata": {},
     "output_type": "execute_result"
    }
   ],
   "source": [
    "dh.Concordance(corpus=korpus, query='skole OR skolen OR Skole OR skule').show()"
   ]
  },
  {
   "cell_type": "markdown",
   "metadata": {},
   "source": [
    "Tilbake til [DHLAB ved Nasjonalbiblioteket](https://nbviewer.jupyter.org/github/DH-LAB-NB/DHLAB/blob/master/DHLAB_ved_Nasjonalbiblioteket.ipynb)"
   ]
  }
 ],
 "metadata": {
  "kernelspec": {
   "display_name": "dhlab",
   "language": "python",
   "name": "python3"
  },
  "language_info": {
   "codemirror_mode": {
    "name": "ipython",
    "version": 3
   },
   "file_extension": ".py",
   "mimetype": "text/x-python",
   "name": "python",
   "nbconvert_exporter": "python",
   "pygments_lexer": "ipython3",
   "version": "3.10.12"
  },
  "varInspector": {
   "cols": {
    "lenName": 16,
    "lenType": 16,
    "lenVar": 40
   },
   "kernels_config": {
    "python": {
     "delete_cmd_postfix": "",
     "delete_cmd_prefix": "del ",
     "library": "var_list.py",
     "varRefreshCmd": "print(var_dic_list())"
    },
    "r": {
     "delete_cmd_postfix": ") ",
     "delete_cmd_prefix": "rm(",
     "library": "var_list.r",
     "varRefreshCmd": "cat(var_dic_list()) "
    }
   },
   "types_to_exclude": [
    "module",
    "function",
    "builtin_function_or_method",
    "instance",
    "_Feature"
   ],
   "window_display": false
  },
  "vscode": {
   "interpreter": {
    "hash": "1d1df0d064732dbd8ae09ceab87be2790d7eed279040ea9405054873f855fb6c"
   }
  }
 },
 "nbformat": 4,
 "nbformat_minor": 2
}
