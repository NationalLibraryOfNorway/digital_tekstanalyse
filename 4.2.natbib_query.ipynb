{
 "cells": [
  {
   "attachments": {},
   "cell_type": "markdown",
   "metadata": {},
   "source": [
    "# Søk Nasjonalbibliografiens metadata med dhlab\n"
   ]
  },
  {
   "cell_type": "code",
   "execution_count": 2,
   "metadata": {},
   "outputs": [],
   "source": [
    "from dhlab.metadata.natbib import metadata_query, metadata_from_urn, pretty_print_marc21json"
   ]
  },
  {
   "attachments": {},
   "cell_type": "markdown",
   "metadata": {},
   "source": [
    "`metadata_query` tar en liste med tupler, der hver tuppel en MARC 21 delfelt"
   ]
  },
  {
   "cell_type": "code",
   "execution_count": 4,
   "metadata": {},
   "outputs": [
    {
     "data": {
      "text/plain": [
       "['URN:NBN:no-nb_digibok_2012030706001', 'URN:NBN:no-nb_digibok_2010011312011']"
      ]
     },
     "execution_count": 4,
     "metadata": {},
     "output_type": "execute_result"
    }
   ],
   "source": [
    "urns = metadata_query(\n",
    "    [\n",
    "        (\"100\", \"a\", \"Ibsen\"),\n",
    "        (\"100\", \"d\", \"1828\"),\n",
    "        (\"008\", \"\", \"nob\")\n",
    "        ],\n",
    "    limit=2\n",
    "                    )\n",
    "urns"
   ]
  },
  {
   "attachments": {},
   "cell_type": "markdown",
   "metadata": {},
   "source": [
    "`metadata_from_urn` tar en liste med URNer, og returnerer MARC 21 metadata i json-format"
   ]
  },
  {
   "cell_type": "code",
   "execution_count": 5,
   "metadata": {},
   "outputs": [
    {
     "data": {
      "text/plain": [
       "[{'fields': [{'008': '150804s2005    no ||||| |||||000|1|nob| '},\n",
       "   {'100': {'ind1': '1',\n",
       "     'ind2': ' ',\n",
       "     'subfields': [{'a': 'Ibsen, Henrik'},\n",
       "      {'d': '1828-1906'},\n",
       "      {'0': '(NO-TrBIB)90061718'}]}},\n",
       "   {'245': {'ind1': '1',\n",
       "     'ind2': '0',\n",
       "     'subfields': [{'a': 'Henrik Ibsens skrifter'},\n",
       "      {'n': '1'},\n",
       "      {'p': 'Catilina (1850) ; Catilina (1875) ; Kjæmpehøien (1850) ; Kjæmpehøien (1854) ; Norma ; Sancthansnatten'},\n",
       "      {'n': '1K'},\n",
       "      {'p': 'Innledninger og kommentarer'},\n",
       "      {'c': '[det redaksjonelle arbeidet er utført av: Vigdis Ystad, Asbjørn Aarseth]'}]}}]},\n",
       " {'fields': [{'008': '150605s1856    xx#||||| |||||000|u|nob| '},\n",
       "   {'100': {'ind1': '1',\n",
       "     'ind2': ' ',\n",
       "     'subfields': [{'a': 'Ibsen, Henrik'},\n",
       "      {'d': '1828-1906'},\n",
       "      {'0': '(NO-TrBIB)90061718'}]}},\n",
       "   {'245': {'ind1': '1',\n",
       "     'ind2': '0',\n",
       "     'subfields': [{'a': 'Sang ianledning Hr. Skibsfører Jan Andersens og Jomfru M.B. Campbells Bryllupsfest den 25de September 1856'},\n",
       "      {'c': 'forfattet til Brylluppet af Henrik Ibsen'}]}}]}]"
      ]
     },
     "execution_count": 5,
     "metadata": {},
     "output_type": "execute_result"
    }
   ],
   "source": [
    "metadata = metadata_from_urn(urns, fields=[\"245\", \"100\", \"008\"])\n",
    "metadata"
   ]
  },
  {
   "cell_type": "code",
   "execution_count": 6,
   "metadata": {},
   "outputs": [
    {
     "name": "stdout",
     "output_type": "stream",
     "text": [
      "Record:\n",
      "008: 150804s2005    no ||||| |||||000|1|nob| \n",
      "100:\n",
      "\ta: Ibsen, Henrik\n",
      "\td: 1828-1906\n",
      "\t0: (NO-TrBIB)90061718\n",
      "245:\n",
      "\ta: Henrik Ibsens skrifter\n",
      "\tn: 1\n",
      "\tp: Catilina (1850) ; Catilina (1875) ; Kjæmpehøien (1850) ; Kjæmpehøien (1854) ; Norma ; Sancthansnatten\n",
      "\tn: 1K\n",
      "\tp: Innledninger og kommentarer\n",
      "\tc: [det redaksjonelle arbeidet er utført av: Vigdis Ystad, Asbjørn Aarseth]\n",
      "\n",
      "Record:\n",
      "008: 150605s1856    xx#||||| |||||000|u|nob| \n",
      "100:\n",
      "\ta: Ibsen, Henrik\n",
      "\td: 1828-1906\n",
      "\t0: (NO-TrBIB)90061718\n",
      "245:\n",
      "\ta: Sang ianledning Hr. Skibsfører Jan Andersens og Jomfru M.B. Campbells Bryllupsfest den 25de September 1856\n",
      "\tc: forfattet til Brylluppet af Henrik Ibsen\n",
      "\n"
     ]
    }
   ],
   "source": [
    "for x in metadata:\n",
    "    pretty_print_marc21json(x)"
   ]
  },
  {
   "cell_type": "code",
   "execution_count": null,
   "metadata": {},
   "outputs": [],
   "source": []
  }
 ],
 "metadata": {
  "kernelspec": {
   "display_name": "dhlab",
   "language": "python",
   "name": "python3"
  },
  "language_info": {
   "codemirror_mode": {
    "name": "ipython",
    "version": 3
   },
   "file_extension": ".py",
   "mimetype": "text/x-python",
   "name": "python",
   "nbconvert_exporter": "python",
   "pygments_lexer": "ipython3",
   "version": "3.10.8"
  },
  "orig_nbformat": 4,
  "vscode": {
   "interpreter": {
    "hash": "1d1df0d064732dbd8ae09ceab87be2790d7eed279040ea9405054873f855fb6c"
   }
  }
 },
 "nbformat": 4,
 "nbformat_minor": 2
}
