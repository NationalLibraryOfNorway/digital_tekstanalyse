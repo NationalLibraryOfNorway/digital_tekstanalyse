{
 "cells": [
  {
   "attachments": {},
   "cell_type": "markdown",
   "metadata": {},
   "source": [
    "![resources/images/dhlab-logo-nb.png](../resources/images/dhlab-logo-nb.png)"
   ]
  },
  {
   "attachments": {},
   "cell_type": "markdown",
   "metadata": {},
   "source": [
    "# Konkordanser"
   ]
  },
  {
   "cell_type": "code",
   "execution_count": 1,
   "metadata": {},
   "outputs": [],
   "source": [
    "import dhlab as dh"
   ]
  },
  {
   "attachments": {},
   "cell_type": "markdown",
   "metadata": {
    "slideshow": {
     "slide_type": "slide"
    }
   },
   "source": [
    "## Konkordans med og uten korpus\n",
    "\n",
    "For å sjekke konkordanser i bøker og aviser benyttes kommandoen `concordance()`\n"
   ]
  },
  {
   "attachments": {},
   "cell_type": "markdown",
   "metadata": {},
   "source": [
    "### Konkordans fra aviser"
   ]
  },
  {
   "cell_type": "code",
   "execution_count": 2,
   "metadata": {},
   "outputs": [
    {
     "data": {
      "text/html": [
       "<style type=\"text/css\">\n",
       "</style>\n",
       "<table id=\"T_ec51e\">\n",
       "  <thead>\n",
       "    <tr>\n",
       "      <th class=\"blank level0\" >&nbsp;</th>\n",
       "      <th id=\"T_ec51e_level0_col0\" class=\"col_heading level0 col0\" >link</th>\n",
       "      <th id=\"T_ec51e_level0_col1\" class=\"col_heading level0 col1\" >concordance</th>\n",
       "    </tr>\n",
       "  </thead>\n",
       "  <tbody>\n",
       "    <tr>\n",
       "      <th id=\"T_ec51e_level0_row0\" class=\"row_heading level0 row0\" >3</th>\n",
       "      <td id=\"T_ec51e_row0_col0\" class=\"data row0 col0\" ><a target='_blank' href = 'https://urn.nb.no/URN:NBN:no-nb_digavis_stavangeraftenblad_null_null_19831214_91_290_1'>URN:NBN:no-nb_digavis_stavangeraftenblad_null_null_19831214_91_290_1</a></td>\n",
       "      <td id=\"T_ec51e_row0_col1\" class=\"data row0 col1\" >... I begynnelsen av 1880 - årene turte oftedal an i kampen mot embetsmannsstaten for et modeme <b>demokrati</b> Det spørs om... </td>\n",
       "    </tr>\n",
       "    <tr>\n",
       "      <th id=\"T_ec51e_level0_row1\" class=\"row_heading level0 row1\" >19</th>\n",
       "      <td id=\"T_ec51e_row1_col0\" class=\"data row1 col0\" ><a target='_blank' href = 'https://urn.nb.no/URN:NBN:no-nb_digavis_stavangeraftenblad_null_null_20071012_115_237_1'>URN:NBN:no-nb_digavis_stavangeraftenblad_null_null_20071012_115_237_1</a></td>\n",
       "      <td id=\"T_ec51e_row1_col1\" class=\"data row1 col1\" >... Lilla sportspegeln 19.30 Rapport 20.00 Andra Avenyn 20.30 Gynekologen i Askim 21.30 Kobra 22.00 Varfor <b>demokrati</b> : I Candhis fotsplr... </td>\n",
       "    </tr>\n",
       "    <tr>\n",
       "      <th id=\"T_ec51e_level0_row2\" class=\"row_heading level0 row2\" >9</th>\n",
       "      <td id=\"T_ec51e_row2_col0\" class=\"data row2 col0\" ><a target='_blank' href = 'https://urn.nb.no/URN:NBN:no-nb_digavis_stavangeraftenblad_null_null_20071012_115_237_1'>URN:NBN:no-nb_digavis_stavangeraftenblad_null_null_20071012_115_237_1</a></td>\n",
       "      <td id=\"T_ec51e_row2_col1\" class=\"data row2 col1\" >I SYNET PA <b>demokrati</b> er Russland verkeleg « et annet sted » , for å bruka Peter Normann Waages klassiske formulering .... </td>\n",
       "    </tr>\n",
       "    <tr>\n",
       "      <th id=\"T_ec51e_level0_row3\" class=\"row_heading level0 row3\" >16</th>\n",
       "      <td id=\"T_ec51e_row3_col0\" class=\"data row3 col0\" ><a target='_blank' href = 'https://urn.nb.no/URN:NBN:no-nb_digavis_stavangeraftenblad_null_null_20071012_115_237_1'>URN:NBN:no-nb_digavis_stavangeraftenblad_null_null_20071012_115_237_1</a></td>\n",
       "      <td id=\"T_ec51e_row3_col1\" class=\"data row3 col1\" >... 5213541 H ' l ' l ' l NRK nyheter 4594034 20.10 Middag med presidenten Dokumentarfilmserie om vårt <b>demokrati</b> . 67358183 21.00 Migrapolis... </td>\n",
       "    </tr>\n",
       "    <tr>\n",
       "      <th id=\"T_ec51e_level0_row4\" class=\"row_heading level0 row4\" >22</th>\n",
       "      <td id=\"T_ec51e_row4_col0\" class=\"data row4 col0\" ><a target='_blank' href = 'https://urn.nb.no/URN:NBN:no-nb_digavis_stavangeraftenblad_null_null_20071012_115_237_1'>URN:NBN:no-nb_digavis_stavangeraftenblad_null_null_20071012_115_237_1</a></td>\n",
       "      <td id=\"T_ec51e_row4_col1\" class=\"data row4 col1\" >SYT QQ 09.30 24 Direkt 15.10 Sverige , ( r ) 15.55 Varfor <b>demokrati</b> : All , , presidentens kvinnor... </td>\n",
       "    </tr>\n",
       "    <tr>\n",
       "      <th id=\"T_ec51e_level0_row5\" class=\"row_heading level0 row5\" >6</th>\n",
       "      <td id=\"T_ec51e_row5_col0\" class=\"data row5 col0\" ><a target='_blank' href = 'https://urn.nb.no/URN:NBN:no-nb_digavis_stavangeraftenblad_null_null_19961007_104_232_1'>URN:NBN:no-nb_digavis_stavangeraftenblad_null_null_19961007_104_232_1</a></td>\n",
       "      <td id=\"T_ec51e_row5_col1\" class=\"data row5 col1\" >... Det er ikke en slik avmakt som skal kjennetegne et <b>demokrati</b> . Studie-flnansieringen er bare én innfallsvinkel til det \" generasjonsregnskapet... </td>\n",
       "    </tr>\n",
       "    <tr>\n",
       "      <th id=\"T_ec51e_level0_row6\" class=\"row_heading level0 row6\" >10</th>\n",
       "      <td id=\"T_ec51e_row6_col0\" class=\"data row6 col0\" ><a target='_blank' href = 'https://urn.nb.no/URN:NBN:no-nb_digavis_stavangeraftenblad_null_null_20071012_115_237_1'>URN:NBN:no-nb_digavis_stavangeraftenblad_null_null_20071012_115_237_1</a></td>\n",
       "      <td id=\"T_ec51e_row6_col1\" class=\"data row6 col1\" >Men i Russland er det bare 62 prosent som meiner at <b>demokrati</b> er ein god ting . Avstanden er over... </td>\n",
       "    </tr>\n",
       "    <tr>\n",
       "      <th id=\"T_ec51e_level0_row7\" class=\"row_heading level0 row7\" >14</th>\n",
       "      <td id=\"T_ec51e_row7_col0\" class=\"data row7 col0\" ><a target='_blank' href = 'https://urn.nb.no/URN:NBN:no-nb_digavis_stavangeraftenblad_null_null_20071012_115_237_1'>URN:NBN:no-nb_digavis_stavangeraftenblad_null_null_20071012_115_237_1</a></td>\n",
       "      <td id=\"T_ec51e_row7_col1\" class=\"data row7 col1\" >... Gjennom ti internasjonale dokumentarfilmer og en rekke kortfilmer skal vi fortelle interessante og viktige historier om vårt <b>demokrati</b> . 21.00... </td>\n",
       "    </tr>\n",
       "    <tr>\n",
       "      <th id=\"T_ec51e_level0_row8\" class=\"row_heading level0 row8\" >7</th>\n",
       "      <td id=\"T_ec51e_row8_col0\" class=\"data row8 col0\" ><a target='_blank' href = 'https://urn.nb.no/URN:NBN:no-nb_digavis_stavangeraftenblad_null_null_19970402_105_74_1'>URN:NBN:no-nb_digavis_stavangeraftenblad_null_null_19970402_105_74_1</a></td>\n",
       "      <td id=\"T_ec51e_row8_col1\" class=\"data row8 col1\" >... støtter et parti som har sine røtter i antisemittisme , rasisme og forakt for et <b>demokrati</b> franskmenn ellers så gjerne</td>\n",
       "    </tr>\n",
       "    <tr>\n",
       "      <th id=\"T_ec51e_level0_row9\" class=\"row_heading level0 row9\" >13</th>\n",
       "      <td id=\"T_ec51e_row9_col0\" class=\"data row9 col0\" ><a target='_blank' href = 'https://urn.nb.no/URN:NBN:no-nb_digavis_stavangeraftenblad_null_null_20071012_115_237_1'>URN:NBN:no-nb_digavis_stavangeraftenblad_null_null_20071012_115_237_1</a></td>\n",
       "      <td id=\"T_ec51e_row9_col1\" class=\"data row9 col1\" >21.25 A-ekonomi 21.30 Muslkbyrån live 22.00 Sportnytt 22.15 Regionala nyheter 22.25 The Wire 23.25 Varfor <b>demokrati</b> : Coming of age... </td>\n",
       "    </tr>\n",
       "  </tbody>\n",
       "</table>\n"
      ],
      "text/plain": [
       "<pandas.io.formats.style.Styler at 0x7f0b9af88df0>"
      ]
     },
     "execution_count": 2,
     "metadata": {},
     "output_type": "execute_result"
    }
   ],
   "source": [
    "#Bygg aviskorpus med aviser som begynner med 'stavanger' utgitt fra 1960\n",
    "aviskorpus = dh.Corpus(doctype=\"digavis\", title=\"stavanger*\", from_year=1960, limit=10)\n",
    "\n",
    "# Finn konkordanser i korpus\n",
    "# Vis med .show()\n",
    "dh.Concordance(corpus=aviskorpus, query=\"demokrati\").show()"
   ]
  },
  {
   "cell_type": "code",
   "execution_count": 3,
   "metadata": {},
   "outputs": [
    {
     "data": {
      "text/html": [
       "<style type=\"text/css\">\n",
       "</style>\n",
       "<table id=\"T_5d375\">\n",
       "  <thead>\n",
       "    <tr>\n",
       "      <th class=\"blank level0\" >&nbsp;</th>\n",
       "      <th id=\"T_5d375_level0_col0\" class=\"col_heading level0 col0\" >link</th>\n",
       "      <th id=\"T_5d375_level0_col1\" class=\"col_heading level0 col1\" >concordance</th>\n",
       "    </tr>\n",
       "  </thead>\n",
       "  <tbody>\n",
       "    <tr>\n",
       "      <th id=\"T_5d375_level0_row0\" class=\"row_heading level0 row0\" >9</th>\n",
       "      <td id=\"T_5d375_row0_col0\" class=\"data row0 col0\" ><a target='_blank' href = 'https://urn.nb.no/URN:NBN:no-nb_digavis_stavangeraftenblad_null_null_20110205_119_30_1'>URN:NBN:no-nb_digavis_stavangeraftenblad_null_null_20110205_119_30_1</a></td>\n",
       "      <td id=\"T_5d375_row0_col1\" class=\"data row0 col1\" >... Klargjørende resonnementer og etterprøvbare konklusjoner vårt <b>demokrati</b> og styring må basere seg på .</td>\n",
       "    </tr>\n",
       "    <tr>\n",
       "      <th id=\"T_5d375_level0_row1\" class=\"row_heading level0 row1\" >17</th>\n",
       "      <td id=\"T_5d375_row1_col0\" class=\"data row1 col0\" ><a target='_blank' href = 'https://urn.nb.no/URN:NBN:no-nb_digavis_stavangeraftenblad_null_null_19910905_99_204_1'>URN:NBN:no-nb_digavis_stavangeraftenblad_null_null_19910905_99_204_1</a></td>\n",
       "      <td id=\"T_5d375_row1_col1\" class=\"data row1 col1\" >... At innvandrere har stemmerett gir det norske <b>demokrati</b> en ny verdi der innvandrerne selv kan bi dra med sine ressurser... </td>\n",
       "    </tr>\n",
       "    <tr>\n",
       "      <th id=\"T_5d375_level0_row2\" class=\"row_heading level0 row2\" >5</th>\n",
       "      <td id=\"T_5d375_row2_col0\" class=\"data row2 col0\" ><a target='_blank' href = 'https://urn.nb.no/URN:NBN:no-nb_digavis_stavangeraftenblad_null_null_20110205_119_30_1'>URN:NBN:no-nb_digavis_stavangeraftenblad_null_null_20110205_119_30_1</a></td>\n",
       "      <td id=\"T_5d375_row2_col1\" class=\"data row2 col1\" >– Her er det ingen problemer , vi har <b>demokrati</b> . Bashar al-Assad lytter til folket sitt , sier barberkunden... </td>\n",
       "    </tr>\n",
       "    <tr>\n",
       "      <th id=\"T_5d375_level0_row3\" class=\"row_heading level0 row3\" >18</th>\n",
       "      <td id=\"T_5d375_row3_col0\" class=\"data row3 col0\" ><a target='_blank' href = 'https://urn.nb.no/URN:NBN:no-nb_digavis_stavangeraftenblad_null_null_19910905_99_204_1'>URN:NBN:no-nb_digavis_stavangeraftenblad_null_null_19910905_99_204_1</a></td>\n",
       "      <td id=\"T_5d375_row3_col1\" class=\"data row3 col1\" >For det tredje er det viktig for det norske <b>demokrati</b> at innvandrere er selvhjulpne . Dette er også en forutsetning... </td>\n",
       "    </tr>\n",
       "    <tr>\n",
       "      <th id=\"T_5d375_level0_row4\" class=\"row_heading level0 row4\" >16</th>\n",
       "      <td id=\"T_5d375_row4_col0\" class=\"data row4 col0\" ><a target='_blank' href = 'https://urn.nb.no/URN:NBN:no-nb_digavis_stavangeraftenblad_null_null_19910905_99_204_1'>URN:NBN:no-nb_digavis_stavangeraftenblad_null_null_19910905_99_204_1</a></td>\n",
       "      <td id=\"T_5d375_row4_col1\" class=\"data row4 col1\" >... I et <b>demokrati</b> må alle landsmenn ha samme mulighet til å uttrykke seg om og ha politisk innflytelse på utviklingen... </td>\n",
       "    </tr>\n",
       "    <tr>\n",
       "      <th id=\"T_5d375_level0_row5\" class=\"row_heading level0 row5\" >6</th>\n",
       "      <td id=\"T_5d375_row5_col0\" class=\"data row5 col0\" ><a target='_blank' href = 'https://urn.nb.no/URN:NBN:no-nb_digavis_stavangeraftenblad_null_null_20110205_119_30_1'>URN:NBN:no-nb_digavis_stavangeraftenblad_null_null_20110205_119_30_1</a></td>\n",
       "      <td id=\"T_5d375_row5_col1\" class=\"data row5 col1\" >OM EGYPT SKAL BLI et <b>demokrati</b> , trenger landet en ny grunnlov . Det vil ta tid og må foregå... </td>\n",
       "    </tr>\n",
       "    <tr>\n",
       "      <th id=\"T_5d375_level0_row6\" class=\"row_heading level0 row6\" >1</th>\n",
       "      <td id=\"T_5d375_row6_col0\" class=\"data row6 col0\" ><a target='_blank' href = 'https://urn.nb.no/URN:NBN:no-nb_digavis_stavangeraftenblad_null_null_20110205_119_30_1'>URN:NBN:no-nb_digavis_stavangeraftenblad_null_null_20110205_119_30_1</a></td>\n",
       "      <td id=\"T_5d375_row6_col1\" class=\"data row6 col1\" >en . Men veien til <b>demokrati</b> trenger mer solid fundament enn et trådløst bredbånd .</td>\n",
       "    </tr>\n",
       "    <tr>\n",
       "      <th id=\"T_5d375_level0_row7\" class=\"row_heading level0 row7\" >0</th>\n",
       "      <td id=\"T_5d375_row7_col0\" class=\"data row7 col0\" ><a target='_blank' href = 'https://urn.nb.no/URN:NBN:no-nb_digavis_stavangeraftenblad_null_null_20110205_119_30_1'>URN:NBN:no-nb_digavis_stavangeraftenblad_null_null_20110205_119_30_1</a></td>\n",
       "      <td id=\"T_5d375_row7_col1\" class=\"data row7 col1\" >Når alt kommer til alt , er det klart å foretrekke at Egypts undertrykkende militærregime forandres til et <b>demokrati</b> .... </td>\n",
       "    </tr>\n",
       "    <tr>\n",
       "      <th id=\"T_5d375_level0_row8\" class=\"row_heading level0 row8\" >2</th>\n",
       "      <td id=\"T_5d375_row8_col0\" class=\"data row8 col0\" ><a target='_blank' href = 'https://urn.nb.no/URN:NBN:no-nb_digavis_stavangeraftenblad_null_null_20110205_119_30_1'>URN:NBN:no-nb_digavis_stavangeraftenblad_null_null_20110205_119_30_1</a></td>\n",
       "      <td id=\"T_5d375_row8_col1\" class=\"data row8 col1\" >... Hvis Facebook er så effektivt , hvorfor må USA invadere land som Irak for å skape <b>demokrati</b> ? Kan vi... </td>\n",
       "    </tr>\n",
       "    <tr>\n",
       "      <th id=\"T_5d375_level0_row9\" class=\"row_heading level0 row9\" >11</th>\n",
       "      <td id=\"T_5d375_row9_col0\" class=\"data row9 col0\" ><a target='_blank' href = 'https://urn.nb.no/URN:NBN:no-nb_digavis_stavangeraftenblad_null_null_19680516_76_113_1'>URN:NBN:no-nb_digavis_stavangeraftenblad_null_null_19680516_76_113_1</a></td>\n",
       "      <td id=\"T_5d375_row9_col1\" class=\"data row9 col1\" >... Sekretariatet tar til etterretning vedtaket i Den norske komite for <b>demokrati</b> i Hellas om å oppløse komiteen i sin nåværende... </td>\n",
       "    </tr>\n",
       "  </tbody>\n",
       "</table>\n"
      ],
      "text/plain": [
       "<pandas.io.formats.style.Styler at 0x7f0bf75dec50>"
      ]
     },
     "execution_count": 3,
     "metadata": {},
     "output_type": "execute_result"
    }
   ],
   "source": [
    "# Alternavtivt kan man finne konkordanser direkte fra et Corpus objekt via `.conc` \n",
    "\n",
    "dh.Corpus(doctype=\"digavis\", title=\"stavanger*\", from_year=1960, limit=10).conc(\"demokrati\").show()"
   ]
  },
  {
   "attachments": {},
   "cell_type": "markdown",
   "metadata": {},
   "source": [
    "### Fri konkordans fra bøker"
   ]
  },
  {
   "cell_type": "code",
   "execution_count": 4,
   "metadata": {},
   "outputs": [
    {
     "data": {
      "text/html": [
       "<style type=\"text/css\">\n",
       "</style>\n",
       "<table id=\"T_2e652\">\n",
       "  <thead>\n",
       "    <tr>\n",
       "      <th class=\"blank level0\" >&nbsp;</th>\n",
       "      <th id=\"T_2e652_level0_col0\" class=\"col_heading level0 col0\" >link</th>\n",
       "      <th id=\"T_2e652_level0_col1\" class=\"col_heading level0 col1\" >concordance</th>\n",
       "    </tr>\n",
       "  </thead>\n",
       "  <tbody>\n",
       "    <tr>\n",
       "      <th id=\"T_2e652_level0_row0\" class=\"row_heading level0 row0\" >19</th>\n",
       "      <td id=\"T_2e652_row0_col0\" class=\"data row0 col0\" ><a target='_blank' href = 'https://urn.nb.no/URN:NBN:no-nb_digibok_2012020824004'>URN:NBN:no-nb_digibok_2012020824004</a></td>\n",
       "      <td id=\"T_2e652_row0_col1\" class=\"data row0 col1\" ><b>Vinskibelighed</b> . Vind og Skibe vilde her give et under , ligt Begreb . Ordet kommer af vinna , arbdeide-</td>\n",
       "    </tr>\n",
       "    <tr>\n",
       "      <th id=\"T_2e652_level0_row1\" class=\"row_heading level0 row1\" >7</th>\n",
       "      <td id=\"T_2e652_row1_col0\" class=\"data row1 col0\" ><a target='_blank' href = 'https://urn.nb.no/URN:NBN:no-nb_digibok_2020010626007'>URN:NBN:no-nb_digibok_2020010626007</a></td>\n",
       "      <td id=\"T_2e652_row1_col1\" class=\"data row1 col1\" >Idkesam , adi . vinskitelig Idog , adi . pinkibelig ka r. <b>Vinskibelighed</b></td>\n",
       "    </tr>\n",
       "  </tbody>\n",
       "</table>\n"
      ],
      "text/plain": [
       "<pandas.io.formats.style.Styler at 0x7f0bb9295f90>"
      ]
     },
     "execution_count": 4,
     "metadata": {},
     "output_type": "execute_result"
    }
   ],
   "source": [
    "# Bygg korpus med bøker som nevner \"Vinskibelighed\" mellom 1600 og 1850\n",
    "bokkorpus = dh.Corpus(doctype=\"digibok\", fulltext=\"Vinskibelighed\", from_year=1600, to_year=1850, limit=20)\n",
    "\n",
    "# Finn konkordanser from 'Vinskibelighet'. Vis med '.show()'\n",
    "dh.Concordance(corpus=bokkorpus, query=\"Vinskibelighed\").show(2)"
   ]
  },
  {
   "attachments": {},
   "cell_type": "markdown",
   "metadata": {},
   "source": [
    "### Konkordans med stort definert korpus\n",
    "\n",
    "Her bygger vi først et korpus. Se eksempelfil om [Korpusbygging](https://nbviewer.jupyter.org/github/DH-LAB-NB/DHLAB/blob/master/1_Bygg_korpus.ipynb) for ulike måter å definere korpus."
   ]
  },
  {
   "cell_type": "code",
   "execution_count": 5,
   "metadata": {},
   "outputs": [],
   "source": [
    "korpus = dh.Corpus(doctype=\"digibok\", fulltext='kvinner', ddk=\"33*\", from_year=1960, to_year=1970, limit=400)"
   ]
  },
  {
   "cell_type": "markdown",
   "metadata": {},
   "source": [
    "Undersøk lengden på korpuset med `.size`"
   ]
  },
  {
   "cell_type": "code",
   "execution_count": 6,
   "metadata": {},
   "outputs": [
    {
     "data": {
      "text/plain": [
       "331"
      ]
     },
     "execution_count": 6,
     "metadata": {},
     "output_type": "execute_result"
    }
   ],
   "source": [
    "korpus.size"
   ]
  },
  {
   "cell_type": "markdown",
   "metadata": {},
   "source": [
    "Vi kan dra ut et delkorpus for søkeformål med `.sample()`"
   ]
  },
  {
   "cell_type": "code",
   "execution_count": 7,
   "metadata": {},
   "outputs": [
    {
     "data": {
      "text/html": [
       "<div>\n",
       "<style scoped>\n",
       "    .dataframe tbody tr th:only-of-type {\n",
       "        vertical-align: middle;\n",
       "    }\n",
       "\n",
       "    .dataframe tbody tr th {\n",
       "        vertical-align: top;\n",
       "    }\n",
       "\n",
       "    .dataframe thead th {\n",
       "        text-align: right;\n",
       "    }\n",
       "</style>\n",
       "<table border=\"1\" class=\"dataframe\">\n",
       "  <thead>\n",
       "    <tr style=\"text-align: right;\">\n",
       "      <th></th>\n",
       "      <th>dhlabid</th>\n",
       "      <th>urn</th>\n",
       "      <th>title</th>\n",
       "      <th>authors</th>\n",
       "      <th>oaiid</th>\n",
       "      <th>sesamid</th>\n",
       "      <th>isbn10</th>\n",
       "      <th>city</th>\n",
       "      <th>timestamp</th>\n",
       "      <th>year</th>\n",
       "      <th>publisher</th>\n",
       "      <th>langs</th>\n",
       "      <th>subjects</th>\n",
       "      <th>ddc</th>\n",
       "      <th>genres</th>\n",
       "      <th>literaryform</th>\n",
       "      <th>doctype</th>\n",
       "    </tr>\n",
       "  </thead>\n",
       "  <tbody>\n",
       "    <tr>\n",
       "      <th>278</th>\n",
       "      <td>100519460</td>\n",
       "      <td>URN:NBN:no-nb_digibok_2007060101016</td>\n",
       "      <td>Verdshungeren - og norsk jordbruk</td>\n",
       "      <td>Skartveit , Andreas</td>\n",
       "      <td>oai:nb.bibsys.no:999101600824702202</td>\n",
       "      <td>8403b18ecc9c7adf0402d162a2037597</td>\n",
       "      <td></td>\n",
       "      <td></td>\n",
       "      <td>19680101</td>\n",
       "      <td>1968</td>\n",
       "      <td>Samlaget</td>\n",
       "      <td>mul / nob / nno</td>\n",
       "      <td>Matforsyning / Næringsmiddelforsyning / Landbr...</td>\n",
       "      <td>338.1</td>\n",
       "      <td></td>\n",
       "      <td>Faglitteratur</td>\n",
       "      <td>digibok</td>\n",
       "    </tr>\n",
       "    <tr>\n",
       "      <th>220</th>\n",
       "      <td>100576025</td>\n",
       "      <td>URN:NBN:no-nb_digibok_2008052104020</td>\n",
       "      <td>Sosialøkonomi</td>\n",
       "      <td>Holte , Fritz C.</td>\n",
       "      <td>oai:nb.bibsys.no:998111257694702202</td>\n",
       "      <td>c307becebb0e6a73d9f305be9994352e</td>\n",
       "      <td></td>\n",
       "      <td>Oslo</td>\n",
       "      <td>19650101</td>\n",
       "      <td>1965</td>\n",
       "      <td>Universitetsforlaget</td>\n",
       "      <td>nob</td>\n",
       "      <td>Sosialøkonomi</td>\n",
       "      <td>330.2</td>\n",
       "      <td></td>\n",
       "      <td>Faglitteratur</td>\n",
       "      <td>digibok</td>\n",
       "    </tr>\n",
       "  </tbody>\n",
       "</table>\n",
       "</div>"
      ],
      "text/plain": [
       "       dhlabid                                  urn  \\\n",
       "278  100519460  URN:NBN:no-nb_digibok_2007060101016   \n",
       "220  100576025  URN:NBN:no-nb_digibok_2008052104020   \n",
       "\n",
       "                                 title              authors  \\\n",
       "278  Verdshungeren - og norsk jordbruk  Skartveit , Andreas   \n",
       "220                      Sosialøkonomi     Holte , Fritz C.   \n",
       "\n",
       "                                   oaiid                           sesamid  \\\n",
       "278  oai:nb.bibsys.no:999101600824702202  8403b18ecc9c7adf0402d162a2037597   \n",
       "220  oai:nb.bibsys.no:998111257694702202  c307becebb0e6a73d9f305be9994352e   \n",
       "\n",
       "    isbn10  city  timestamp  year             publisher            langs  \\\n",
       "278                19680101  1968              Samlaget  mul / nob / nno   \n",
       "220         Oslo   19650101  1965  Universitetsforlaget              nob   \n",
       "\n",
       "                                              subjects    ddc genres  \\\n",
       "278  Matforsyning / Næringsmiddelforsyning / Landbr...  338.1          \n",
       "220                                      Sosialøkonomi  330.2          \n",
       "\n",
       "      literaryform  doctype  \n",
       "278  Faglitteratur  digibok  \n",
       "220  Faglitteratur  digibok  "
      ]
     },
     "execution_count": 7,
     "metadata": {},
     "output_type": "execute_result"
    }
   ],
   "source": [
    "korpus.corpus.sample(2)"
   ]
  },
  {
   "cell_type": "code",
   "execution_count": 8,
   "metadata": {},
   "outputs": [
    {
     "data": {
      "text/html": [
       "<style type=\"text/css\">\n",
       "</style>\n",
       "<table id=\"T_fb306\">\n",
       "  <thead>\n",
       "    <tr>\n",
       "      <th class=\"blank level0\" >&nbsp;</th>\n",
       "      <th id=\"T_fb306_level0_col0\" class=\"col_heading level0 col0\" >link</th>\n",
       "      <th id=\"T_fb306_level0_col1\" class=\"col_heading level0 col1\" >concordance</th>\n",
       "    </tr>\n",
       "  </thead>\n",
       "  <tbody>\n",
       "    <tr>\n",
       "      <th id=\"T_fb306_level0_row0\" class=\"row_heading level0 row0\" >454</th>\n",
       "      <td id=\"T_fb306_row0_col0\" class=\"data row0 col0\" ><a target='_blank' href = 'https://urn.nb.no/URN:NBN:no-nb_digibok_2016112148554'>URN:NBN:no-nb_digibok_2016112148554</a></td>\n",
       "      <td id=\"T_fb306_row0_col1\" class=\"data row0 col1\" >dokumentet , for å gjøre det til et samarbeidet omfattende program for tiltak til beste for <b>barn</b> og ungdom .... </td>\n",
       "    </tr>\n",
       "    <tr>\n",
       "      <th id=\"T_fb306_level0_row1\" class=\"row_heading level0 row1\" >358</th>\n",
       "      <td id=\"T_fb306_row1_col0\" class=\"data row1 col0\" ><a target='_blank' href = 'https://urn.nb.no/URN:NBN:no-nb_digibok_2016110148065'>URN:NBN:no-nb_digibok_2016110148065</a></td>\n",
       "      <td id=\"T_fb306_row1_col1\" class=\"data row1 col1\" >... Såfremt eieren overdrar sitt krav på salgs- eller erstatningsbeløpet til sine <b>barn</b> , kan disse ikke benytte seg av reglene... </td>\n",
       "    </tr>\n",
       "    <tr>\n",
       "      <th id=\"T_fb306_level0_row2\" class=\"row_heading level0 row2\" >113</th>\n",
       "      <td id=\"T_fb306_row2_col0\" class=\"data row2 col0\" ><a target='_blank' href = 'https://urn.nb.no/URN:NBN:no-nb_digibok_2021083148541'>URN:NBN:no-nb_digibok_2021083148541</a></td>\n",
       "      <td id=\"T_fb306_row2_col1\" class=\"data row2 col1\" >a ) Forsørgede <b>barn</b> ( jfr. s . 275 ) .</td>\n",
       "    </tr>\n",
       "    <tr>\n",
       "      <th id=\"T_fb306_level0_row3\" class=\"row_heading level0 row3\" >284</th>\n",
       "      <td id=\"T_fb306_row3_col0\" class=\"data row3 col0\" ><a target='_blank' href = 'https://urn.nb.no/URN:NBN:no-nb_digibok_2011041108105'>URN:NBN:no-nb_digibok_2011041108105</a></td>\n",
       "      <td id=\"T_fb306_row3_col1\" class=\"data row3 col1\" >sørger gis også rett til barnetrygd for ett <b>barn</b> mer enn vedkommende faktisk forsørger .</td>\n",
       "    </tr>\n",
       "    <tr>\n",
       "      <th id=\"T_fb306_level0_row4\" class=\"row_heading level0 row4\" >233</th>\n",
       "      <td id=\"T_fb306_row4_col0\" class=\"data row4 col0\" ><a target='_blank' href = 'https://urn.nb.no/URN:NBN:no-nb_digibok_2007043004066'>URN:NBN:no-nb_digibok_2007043004066</a></td>\n",
       "      <td id=\"T_fb306_row4_col1\" class=\"data row4 col1\" >... Utpanting med hjemmel i lovens § 35 hos foreldre for deres ansvar for skatt ilagt hjemmeværende <b>barn</b> , jfr. F.deptets skr... </td>\n",
       "    </tr>\n",
       "    <tr>\n",
       "      <th id=\"T_fb306_level0_row5\" class=\"row_heading level0 row5\" >598</th>\n",
       "      <td id=\"T_fb306_row5_col0\" class=\"data row5 col0\" ><a target='_blank' href = 'https://urn.nb.no/URN:NBN:no-nb_digibok_2016062748138'>URN:NBN:no-nb_digibok_2016062748138</a></td>\n",
       "      <td id=\"T_fb306_row5_col1\" class=\"data row5 col1\" >Arbeid , <b>barn</b> 132 — 136 , 147 ,</td>\n",
       "    </tr>\n",
       "    <tr>\n",
       "      <th id=\"T_fb306_level0_row6\" class=\"row_heading level0 row6\" >554</th>\n",
       "      <td id=\"T_fb306_row6_col0\" class=\"data row6 col0\" ><a target='_blank' href = 'https://urn.nb.no/URN:NBN:no-nb_digibok_2016062748138'>URN:NBN:no-nb_digibok_2016062748138</a></td>\n",
       "      <td id=\"T_fb306_row6_col1\" class=\"data row6 col1\" >I arbeid som går inn under bestemmelsene i kapitel 3 , 1 a må <b>barn</b> 2 og ungdoms alminnelige arbeidstid... </td>\n",
       "    </tr>\n",
       "    <tr>\n",
       "      <th id=\"T_fb306_level0_row7\" class=\"row_heading level0 row7\" >66</th>\n",
       "      <td id=\"T_fb306_row7_col0\" class=\"data row7 col0\" ><a target='_blank' href = 'https://urn.nb.no/URN:NBN:no-nb_digibok_2014091708117'>URN:NBN:no-nb_digibok_2014091708117</a></td>\n",
       "      <td id=\"T_fb306_row7_col1\" class=\"data row7 col1\" >... Dersom lønningene temporært steg over dette nivået , så ville flere <b>barn</b> leve opp . Disse ville i sin tur... </td>\n",
       "    </tr>\n",
       "    <tr>\n",
       "      <th id=\"T_fb306_level0_row8\" class=\"row_heading level0 row8\" >183</th>\n",
       "      <td id=\"T_fb306_row8_col0\" class=\"data row8 col0\" ><a target='_blank' href = 'https://urn.nb.no/URN:NBN:no-nb_digibok_2015102708066'>URN:NBN:no-nb_digibok_2015102708066</a></td>\n",
       "      <td id=\"T_fb306_row8_col1\" class=\"data row8 col1\" >... bestemmelsene om barnepensjon gis tilsvarende anvendelse for hennes etterlatte <b>barn</b> . Retten til forhøyet barnepensjon gjelder hvis faren er død... </td>\n",
       "    </tr>\n",
       "    <tr>\n",
       "      <th id=\"T_fb306_level0_row9\" class=\"row_heading level0 row9\" >119</th>\n",
       "      <td id=\"T_fb306_row9_col0\" class=\"data row9 col0\" ><a target='_blank' href = 'https://urn.nb.no/URN:NBN:no-nb_digibok_2021083148541'>URN:NBN:no-nb_digibok_2021083148541</a></td>\n",
       "      <td id=\"T_fb306_row9_col1\" class=\"data row9 col1\" >... Av den grunn kan de trenge hjelp til pass av <b>barn</b> osv. Det synes ikke rimelig at familien skal belastes... </td>\n",
       "    </tr>\n",
       "  </tbody>\n",
       "</table>\n"
      ],
      "text/plain": [
       "<pandas.io.formats.style.Styler at 0x7f0bf75df010>"
      ]
     },
     "execution_count": 8,
     "metadata": {},
     "output_type": "execute_result"
    }
   ],
   "source": [
    "# Konkordans fra sample\n",
    "dh.Concordance(corpus=korpus.corpus.sample(50), query=\"barn\").show()"
   ]
  },
  {
   "cell_type": "markdown",
   "metadata": {},
   "source": [
    "Flere ord eller ordformer kan søkes etter på en gang. Bruk 'OR' for å separerer ordene."
   ]
  },
  {
   "cell_type": "code",
   "execution_count": 9,
   "metadata": {},
   "outputs": [
    {
     "data": {
      "text/html": [
       "<style type=\"text/css\">\n",
       "</style>\n",
       "<table id=\"T_efabd\">\n",
       "  <thead>\n",
       "    <tr>\n",
       "      <th class=\"blank level0\" >&nbsp;</th>\n",
       "      <th id=\"T_efabd_level0_col0\" class=\"col_heading level0 col0\" >link</th>\n",
       "      <th id=\"T_efabd_level0_col1\" class=\"col_heading level0 col1\" >concordance</th>\n",
       "    </tr>\n",
       "  </thead>\n",
       "  <tbody>\n",
       "    <tr>\n",
       "      <th id=\"T_efabd_level0_row0\" class=\"row_heading level0 row0\" >1645</th>\n",
       "      <td id=\"T_efabd_row0_col0\" class=\"data row0 col0\" ><a target='_blank' href = 'https://urn.nb.no/URN:NBN:no-nb_digibok_2007073001129'>URN:NBN:no-nb_digibok_2007073001129</a></td>\n",
       "      <td id=\"T_efabd_row0_col1\" class=\"data row0 col1\" >Siden <b>skolen</b> begynte sin virksomhet har den arrangert ialt 39 forskjellige kurs rundt om i landet , med ialt ca.... </td>\n",
       "    </tr>\n",
       "    <tr>\n",
       "      <th id=\"T_efabd_level0_row1\" class=\"row_heading level0 row1\" >392</th>\n",
       "      <td id=\"T_efabd_row1_col0\" class=\"data row1 col0\" ><a target='_blank' href = 'https://urn.nb.no/URN:NBN:no-nb_digibok_2014042906027'>URN:NBN:no-nb_digibok_2014042906027</a></td>\n",
       "      <td id=\"T_efabd_row1_col1\" class=\"data row1 col1\" >elever og studenter ved stats- , kommunal- eller fylkeskommunal <b>skole</b></td>\n",
       "    </tr>\n",
       "    <tr>\n",
       "      <th id=\"T_efabd_level0_row2\" class=\"row_heading level0 row2\" >1450</th>\n",
       "      <td id=\"T_efabd_row2_col0\" class=\"data row2 col0\" ><a target='_blank' href = 'https://urn.nb.no/URN:NBN:no-nb_digibok_2007060404018'>URN:NBN:no-nb_digibok_2007060404018</a></td>\n",
       "      <td id=\"T_efabd_row2_col1\" class=\"data row2 col1\" >Film og TV i <b>skolen</b> 29</td>\n",
       "    </tr>\n",
       "    <tr>\n",
       "      <th id=\"T_efabd_level0_row3\" class=\"row_heading level0 row3\" >1209</th>\n",
       "      <td id=\"T_efabd_row3_col0\" class=\"data row3 col0\" ><a target='_blank' href = 'https://urn.nb.no/URN:NBN:no-nb_digibok_2017120548038'>URN:NBN:no-nb_digibok_2017120548038</a></td>\n",
       "      <td id=\"T_efabd_row3_col1\" class=\"data row3 col1\" >Medlemsmøtene ble til å begynne med holdt privat hos medlemmene , senere ble de holdt på Kirkelandets <b>skole</b> . Nå... </td>\n",
       "    </tr>\n",
       "    <tr>\n",
       "      <th id=\"T_efabd_level0_row4\" class=\"row_heading level0 row4\" >673</th>\n",
       "      <td id=\"T_efabd_row4_col0\" class=\"data row4 col0\" ><a target='_blank' href = 'https://urn.nb.no/URN:NBN:no-nb_digibok_2014101406034'>URN:NBN:no-nb_digibok_2014101406034</a></td>\n",
       "      <td id=\"T_efabd_row4_col1\" class=\"data row4 col1\" >Når et sted mister sin <b>skole</b> kan det få konsekvensen for stedet som går langt ut over det utdannelsesmessige .</td>\n",
       "    </tr>\n",
       "    <tr>\n",
       "      <th id=\"T_efabd_level0_row5\" class=\"row_heading level0 row5\" >1807</th>\n",
       "      <td id=\"T_efabd_row5_col0\" class=\"data row5 col0\" ><a target='_blank' href = 'https://urn.nb.no/URN:NBN:no-nb_digibok_2017021308142'>URN:NBN:no-nb_digibok_2017021308142</a></td>\n",
       "      <td id=\"T_efabd_row5_col1\" class=\"data row5 col1\" >... ved Norges Landbrukshøy * <b>skole</b> eller skogskolene . Det pekes videre på at rektor for <b>skolen</b> også er skogforvalter i... </td>\n",
       "    </tr>\n",
       "    <tr>\n",
       "      <th id=\"T_efabd_level0_row6\" class=\"row_heading level0 row6\" >1249</th>\n",
       "      <td id=\"T_efabd_row6_col0\" class=\"data row6 col0\" ><a target='_blank' href = 'https://urn.nb.no/URN:NBN:no-nb_digibok_2007052201042'>URN:NBN:no-nb_digibok_2007052201042</a></td>\n",
       "      <td id=\"T_efabd_row6_col1\" class=\"data row6 col1\" >... oventor viser imidlertid at den skte <b>skole</b> ^ an ^ dåre er en dlant inan ^ e taktorer som nar... </td>\n",
       "    </tr>\n",
       "    <tr>\n",
       "      <th id=\"T_efabd_level0_row7\" class=\"row_heading level0 row7\" >1494</th>\n",
       "      <td id=\"T_efabd_row7_col0\" class=\"data row7 col0\" ><a target='_blank' href = 'https://urn.nb.no/URN:NBN:no-nb_digibok_2016102748509'>URN:NBN:no-nb_digibok_2016102748509</a></td>\n",
       "      <td id=\"T_efabd_row7_col1\" class=\"data row7 col1\" >Korrespondanse Akademiets kurs i Yrkeslære for pølsemakere har fått stor tilslutning , og <b>skolen</b> har elever praktisk talt over hele... </td>\n",
       "    </tr>\n",
       "    <tr>\n",
       "      <th id=\"T_efabd_level0_row8\" class=\"row_heading level0 row8\" >339</th>\n",
       "      <td id=\"T_efabd_row8_col0\" class=\"data row8 col0\" ><a target='_blank' href = 'https://urn.nb.no/URN:NBN:no-nb_digibok_2012080608011'>URN:NBN:no-nb_digibok_2012080608011</a></td>\n",
       "      <td id=\"T_efabd_row8_col1\" class=\"data row8 col1\" >... 3000 innenbys kandidater fra den høgre <b>skole</b> . Det betyr at det trengs 35 uteksaminerte kull av denne størrelse for... </td>\n",
       "    </tr>\n",
       "    <tr>\n",
       "      <th id=\"T_efabd_level0_row9\" class=\"row_heading level0 row9\" >348</th>\n",
       "      <td id=\"T_efabd_row9_col0\" class=\"data row9 col0\" ><a target='_blank' href = 'https://urn.nb.no/URN:NBN:no-nb_digibok_2012080608011'>URN:NBN:no-nb_digibok_2012080608011</a></td>\n",
       "      <td id=\"T_efabd_row9_col1\" class=\"data row9 col1\" >... % 100 ' { ' { av elever i den høgre <b>skole</b> . 45 % 21 $ 19 ' { 15 ' { 100... </td>\n",
       "    </tr>\n",
       "  </tbody>\n",
       "</table>\n"
      ],
      "text/plain": [
       "<pandas.io.formats.style.Styler at 0x7f0b9af880d0>"
      ]
     },
     "execution_count": 9,
     "metadata": {},
     "output_type": "execute_result"
    }
   ],
   "source": [
    "dh.Concordance(corpus=korpus, query='skole OR skolen OR Skole OR skule').show()"
   ]
  },
  {
   "cell_type": "markdown",
   "metadata": {},
   "source": [
    "Tilbake til [DHLAB ved Nasjonalbiblioteket](https://nbviewer.jupyter.org/github/DH-LAB-NB/DHLAB/blob/master/DHLAB_ved_Nasjonalbiblioteket.ipynb)"
   ]
  }
 ],
 "metadata": {
  "kernelspec": {
   "display_name": "dhlab",
   "language": "python",
   "name": "python3"
  },
  "language_info": {
   "codemirror_mode": {
    "name": "ipython",
    "version": 3
   },
   "file_extension": ".py",
   "mimetype": "text/x-python",
   "name": "python",
   "nbconvert_exporter": "python",
   "pygments_lexer": "ipython3",
   "version": "3.10.8"
  },
  "varInspector": {
   "cols": {
    "lenName": 16,
    "lenType": 16,
    "lenVar": 40
   },
   "kernels_config": {
    "python": {
     "delete_cmd_postfix": "",
     "delete_cmd_prefix": "del ",
     "library": "var_list.py",
     "varRefreshCmd": "print(var_dic_list())"
    },
    "r": {
     "delete_cmd_postfix": ") ",
     "delete_cmd_prefix": "rm(",
     "library": "var_list.r",
     "varRefreshCmd": "cat(var_dic_list()) "
    }
   },
   "types_to_exclude": [
    "module",
    "function",
    "builtin_function_or_method",
    "instance",
    "_Feature"
   ],
   "window_display": false
  },
  "vscode": {
   "interpreter": {
    "hash": "1d1df0d064732dbd8ae09ceab87be2790d7eed279040ea9405054873f855fb6c"
   }
  }
 },
 "nbformat": 4,
 "nbformat_minor": 2
}
